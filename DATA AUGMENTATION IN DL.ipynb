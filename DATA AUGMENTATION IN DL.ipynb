{
 "cells": [
  {
   "cell_type": "code",
   "execution_count": 24,
   "id": "707d4498",
   "metadata": {},
   "outputs": [],
   "source": [
    "import tensorflow as tf\n",
    "from tensorflow import keras\n",
    "\n",
    "from keras.preprocessing.image import ImageDataGenerator\n",
    "from keras.preprocessing import image\n",
    "from tensorflow.keras.preprocessing.image import load_img, img_to_array"
   ]
  },
  {
   "cell_type": "code",
   "execution_count": 25,
   "id": "08386500",
   "metadata": {},
   "outputs": [],
   "source": [
    "datagen=ImageDataGenerator(\n",
    "rotation_range=40,\n",
    "width_shift_range=0.2,\n",
    "height_shift_range=0.2,\n",
    "shear_range=0.2,\n",
    "zoom_range=0.2,\n",
    "horizontal_flip=True,\n",
    "fill_mode ='nearest')"
   ]
  },
  {
   "cell_type": "code",
   "execution_count": 26,
   "id": "e295cb27",
   "metadata": {},
   "outputs": [],
   "source": [
    "img= load_img(\"C:\\\\Users\\\\jyoti\\\\OneDrive\\\\Desktop\\\\Datasets\\\\Birds.jpg\")"
   ]
  },
  {
   "cell_type": "code",
   "execution_count": 27,
   "id": "8e63ce7a",
   "metadata": {},
   "outputs": [],
   "source": [
    "x=img_to_array(img)"
   ]
  },
  {
   "cell_type": "code",
   "execution_count": 28,
   "id": "b3424a91",
   "metadata": {},
   "outputs": [],
   "source": [
    "x=x.reshape((1,) +x.shape)"
   ]
  },
  {
   "cell_type": "code",
   "execution_count": 29,
   "id": "326078e5",
   "metadata": {},
   "outputs": [],
   "source": [
    "i=0\n",
    "for batch in datagen.flow(x, batch_size=1 ,\n",
    "                         save_to_dir =\"C:\\\\Users\\\\jyoti\\\\OneDrive\\\\Pictures\\\\Screenshots\",\n",
    "                         save_prefix = 'bird' , save_format ='jpeg'):\n",
    "    i+= 1\n",
    "    if i>10:\n",
    "        break"
   ]
  },
  {
   "cell_type": "code",
   "execution_count": 30,
   "id": "e0e37a0f",
   "metadata": {},
   "outputs": [],
   "source": [
    "\n",
    "# image=2"
   ]
  },
  {
   "cell_type": "code",
   "execution_count": 31,
   "id": "26b6c4b2",
   "metadata": {},
   "outputs": [],
   "source": [
    "import tensorflow as tf\n",
    "from tensorflow import keras\n",
    "\n",
    "from keras.preprocessing.image import ImageDataGenerator\n",
    "from keras.preprocessing import image\n",
    "from tensorflow.keras.preprocessing.image import load_img , img_to_array"
   ]
  },
  {
   "cell_type": "code",
   "execution_count": 32,
   "id": "215981c6",
   "metadata": {},
   "outputs": [],
   "source": [
    "datagen = ImageDataGenerator(\n",
    "rotation_range=40,\n",
    "width_shift_range=0.2,\n",
    "height_shift_range=0.2,\n",
    "shear_range=0.2,\n",
    "zoom_range=0.2,\n",
    "horizontal_flip=True,\n",
    "fill_mode='nearest')"
   ]
  },
  {
   "cell_type": "code",
   "execution_count": 33,
   "id": "36169d22",
   "metadata": {
    "scrolled": true
   },
   "outputs": [],
   "source": [
    "img= load_img(\"C:\\\\Users\\\\jyoti\\\\OneDrive\\\\Desktop\\\\Datasets\\\\heart.jpeg\")"
   ]
  },
  {
   "cell_type": "code",
   "execution_count": 34,
   "id": "19563f9b",
   "metadata": {},
   "outputs": [],
   "source": [
    "x=img_to_array(img)"
   ]
  },
  {
   "cell_type": "code",
   "execution_count": 35,
   "id": "2fbff2a3",
   "metadata": {},
   "outputs": [],
   "source": [
    "x=x.reshape((1,)+x.shape)"
   ]
  },
  {
   "cell_type": "code",
   "execution_count": 36,
   "id": "5cf5471b",
   "metadata": {},
   "outputs": [],
   "source": [
    "i=0\n",
    "for batch in datagen.flow(x,batch_size=1,\n",
    "                         save_to_dir=\"C:\\\\Users\\\\jyoti\\\\OneDrive\\\\Pictures\\\\Screenshots\",\n",
    "                         save_prefix ='heart', save_format='jpeg'):\n",
    "    i+=1\n",
    "    if i>10:\n",
    "        break"
   ]
  },
  {
   "cell_type": "code",
   "execution_count": null,
   "id": "83a9a971",
   "metadata": {},
   "outputs": [],
   "source": []
  }
 ],
 "metadata": {
  "kernelspec": {
   "display_name": "Python 3 (ipykernel)",
   "language": "python",
   "name": "python3"
  },
  "language_info": {
   "codemirror_mode": {
    "name": "ipython",
    "version": 3
   },
   "file_extension": ".py",
   "mimetype": "text/x-python",
   "name": "python",
   "nbconvert_exporter": "python",
   "pygments_lexer": "ipython3",
   "version": "3.11.5"
  }
 },
 "nbformat": 4,
 "nbformat_minor": 5
}
