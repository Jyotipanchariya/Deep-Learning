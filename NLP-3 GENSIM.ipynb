{
 "cells": [
  {
   "cell_type": "markdown",
   "id": "93f57e9b",
   "metadata": {},
   "source": [
    "# NLP-3 (Gensim)"
   ]
  },
  {
   "cell_type": "markdown",
   "id": "97844978",
   "metadata": {},
   "source": [
    "# It is an open source library in pyhton written by Radim Rehurek which is used in unsupervised topic modelling and nlp . It is designed to extrract semantic topics from documents. It can handle large text collections"
   ]
  },
  {
   "cell_type": "code",
   "execution_count": 12,
   "id": "2f99b1ce",
   "metadata": {},
   "outputs": [],
   "source": [
    "from nltk import sent_tokenize\n",
    "from gensim.utils import simple_preprocess\n",
    "import os\n",
    "import gensim\n",
    "story=[]\n",
    "for filename in os.listdir('C:\\\\Users\\\\jyoti\\\\OneDrive\\\\Desktop\\\\Game Of Thrones'):\n",
    "    f = open(os.path.join(\"C:\\\\Users\\\\jyoti\\\\OneDrive\\\\Desktop\\\\Game Of Thrones\", filename))\n",
    "    corpus = f.read()\n",
    "    raw_sent = sent_tokenize(corpus)\n",
    "    for sent in raw_sent:\n",
    "        story.append(simple_preprocess(sent))"
   ]
  },
  {
   "cell_type": "code",
   "execution_count": 13,
   "id": "0ac5340b",
   "metadata": {},
   "outputs": [
    {
     "data": {
      "text/plain": [
       "124290"
      ]
     },
     "execution_count": 13,
     "metadata": {},
     "output_type": "execute_result"
    }
   ],
   "source": [
    "len(story)"
   ]
  },
  {
   "cell_type": "code",
   "execution_count": 14,
   "id": "47065403",
   "metadata": {},
   "outputs": [],
   "source": [
    "# story"
   ]
  },
  {
   "cell_type": "code",
   "execution_count": 15,
   "id": "b075b1d5",
   "metadata": {},
   "outputs": [],
   "source": [
    "model = gensim.models.Word2Vec(\n",
    "       window=10,\n",
    "       min_count=2)"
   ]
  },
  {
   "cell_type": "code",
   "execution_count": 16,
   "id": "e7997660",
   "metadata": {},
   "outputs": [],
   "source": [
    "model.build_vocab(story)"
   ]
  },
  {
   "cell_type": "code",
   "execution_count": 19,
   "id": "ed270762",
   "metadata": {},
   "outputs": [
    {
     "data": {
      "text/plain": [
       "(5412854, 7111755)"
      ]
     },
     "execution_count": 19,
     "metadata": {},
     "output_type": "execute_result"
    }
   ],
   "source": [
    "model.train(story, total_examples = model.corpus_count,epochs=model.epochs)"
   ]
  },
  {
   "cell_type": "code",
   "execution_count": 20,
   "id": "e48c6256",
   "metadata": {},
   "outputs": [
    {
     "data": {
      "text/plain": [
       "[('stormborn', 0.7349426746368408),\n",
       " ('targaryen', 0.7130013704299927),\n",
       " ('dragons', 0.60581374168396),\n",
       " ('dragon', 0.584142804145813),\n",
       " ('viserys', 0.5769443511962891),\n",
       " ('unburnt', 0.5518646240234375),\n",
       " ('dorne', 0.5509487390518188),\n",
       " ('myrcella', 0.5469875931739807),\n",
       " ('daario', 0.5433526635169983),\n",
       " ('cersei', 0.5406916737556458)]"
      ]
     },
     "execution_count": 20,
     "metadata": {},
     "output_type": "execute_result"
    }
   ],
   "source": [
    "model.wv.most_similar('daenerys')"
   ]
  },
  {
   "cell_type": "code",
   "execution_count": 21,
   "id": "c6f1dedb",
   "metadata": {},
   "outputs": [
    {
     "data": {
      "text/plain": [
       "[('stormborn', 0.7349426746368408),\n",
       " ('targaryen', 0.7130013704299927),\n",
       " ('dragons', 0.60581374168396),\n",
       " ('dragon', 0.584142804145813),\n",
       " ('viserys', 0.5769443511962891),\n",
       " ('unburnt', 0.5518646240234375),\n",
       " ('dorne', 0.5509487390518188),\n",
       " ('myrcella', 0.5469875931739807),\n",
       " ('daario', 0.5433526635169983),\n",
       " ('cersei', 0.5406916737556458)]"
      ]
     },
     "execution_count": 21,
     "metadata": {},
     "output_type": "execute_result"
    }
   ],
   "source": [
    "model.wv.most_similar('daenerys')"
   ]
  },
  {
   "cell_type": "code",
   "execution_count": 22,
   "id": "bdabae24",
   "metadata": {},
   "outputs": [
    {
     "data": {
      "text/plain": [
       "'brain'"
      ]
     },
     "execution_count": 22,
     "metadata": {},
     "output_type": "execute_result"
    }
   ],
   "source": [
    "model.wv.doesnt_match(['jon','rikon','arya','sansa','brain'])"
   ]
  },
  {
   "cell_type": "code",
   "execution_count": 23,
   "id": "00a045b8",
   "metadata": {},
   "outputs": [
    {
     "data": {
      "text/plain": [
       "'bronn'"
      ]
     },
     "execution_count": 23,
     "metadata": {},
     "output_type": "execute_result"
    }
   ],
   "source": [
    "model.wv.doesnt_match(['cersei','jaime','bronn','tyrion'])"
   ]
  },
  {
   "cell_type": "code",
   "execution_count": 24,
   "id": "846069ce",
   "metadata": {},
   "outputs": [
    {
     "data": {
      "text/plain": [
       "array([-0.9543573 , -1.9193314 ,  0.6801725 ,  0.70819837,  0.21922985,\n",
       "        0.80524796,  0.05849008,  1.4120048 , -0.75865257,  1.7824202 ,\n",
       "       -0.6546619 , -0.10021731, -0.6944645 ,  1.4896177 , -2.3469553 ,\n",
       "        1.5819625 , -4.5119424 ,  1.0472642 ,  0.5132995 , -2.7690337 ,\n",
       "       -0.22029246,  0.21089424,  0.5083473 ,  3.2119513 , -1.8747534 ,\n",
       "        1.8081294 ,  2.9867427 , -0.05794984, -2.0684817 ,  0.608736  ,\n",
       "       -1.7588375 , -1.4302393 ,  0.12084036, -0.30725563,  1.1981094 ,\n",
       "        1.1083838 , -0.06755691,  0.14371663, -0.19112214,  0.02229275,\n",
       "        1.367818  , -1.0016512 ,  0.93135935,  1.0170444 ,  0.03598344,\n",
       "       -0.5519507 , -0.555453  ,  0.9494671 ,  0.56726146, -4.536676  ,\n",
       "        1.6033126 , -0.0222654 , -2.2218695 , -1.4460585 ,  2.698382  ,\n",
       "        0.47198394, -0.25854442, -3.4607024 ,  0.01542787,  2.2581553 ,\n",
       "        0.15226384, -1.3299451 ,  0.86775416, -0.3686815 ,  0.27215946,\n",
       "        3.0843353 , -0.48656338,  3.6111574 , -1.7049575 , -1.5753562 ,\n",
       "        0.8855431 ,  0.55826956, -1.906904  , -0.29327312,  1.7862034 ,\n",
       "        0.61649764,  0.37471482,  1.0090885 ,  1.7151352 , -1.3517607 ,\n",
       "        0.72897816,  1.5113485 , -1.0287817 ,  1.0375711 ,  1.3035225 ,\n",
       "        2.0479343 ,  0.4960806 ,  2.322255  ,  0.4409483 , -3.9288268 ,\n",
       "        1.4544077 ,  0.27725214, -0.33699653,  4.046618  , -0.68586123,\n",
       "        1.2930105 , -3.7229877 ,  3.0166152 , -2.987715  ,  1.7199738 ],\n",
       "      dtype=float32)"
      ]
     },
     "execution_count": 24,
     "metadata": {},
     "output_type": "execute_result"
    }
   ],
   "source": [
    "model.wv['jon']"
   ]
  },
  {
   "cell_type": "code",
   "execution_count": 26,
   "id": "83d55514",
   "metadata": {},
   "outputs": [
    {
     "data": {
      "text/plain": [
       "(100,)"
      ]
     },
     "execution_count": 26,
     "metadata": {},
     "output_type": "execute_result"
    }
   ],
   "source": [
    "model.wv['king'].shape"
   ]
  },
  {
   "cell_type": "code",
   "execution_count": 27,
   "id": "1f21e4fc",
   "metadata": {},
   "outputs": [
    {
     "data": {
      "text/plain": [
       "0.7740066"
      ]
     },
     "execution_count": 27,
     "metadata": {},
     "output_type": "execute_result"
    }
   ],
   "source": [
    "model.wv.similarity('arya','sansa')"
   ]
  },
  {
   "cell_type": "code",
   "execution_count": 28,
   "id": "c0caa045",
   "metadata": {},
   "outputs": [
    {
     "data": {
      "text/plain": [
       "0.19952223"
      ]
     },
     "execution_count": 28,
     "metadata": {},
     "output_type": "execute_result"
    }
   ],
   "source": [
    "model.wv.similarity('tywin','sansa')"
   ]
  },
  {
   "cell_type": "code",
   "execution_count": 29,
   "id": "38ae6e37",
   "metadata": {},
   "outputs": [
    {
     "data": {
      "text/plain": [
       "(16136, 100)"
      ]
     },
     "execution_count": 29,
     "metadata": {},
     "output_type": "execute_result"
    }
   ],
   "source": [
    "model.wv.get_normed_vectors().shape"
   ]
  },
  {
   "cell_type": "code",
   "execution_count": 33,
   "id": "015e2b42",
   "metadata": {},
   "outputs": [],
   "source": [
    "y=model.wv.index_to_key"
   ]
  },
  {
   "cell_type": "code",
   "execution_count": 35,
   "id": "613d5169",
   "metadata": {},
   "outputs": [],
   "source": [
    "from sklearn.decomposition import PCA\n"
   ]
  },
  {
   "cell_type": "code",
   "execution_count": 42,
   "id": "25622b32",
   "metadata": {},
   "outputs": [],
   "source": [
    "pca = PCA(n_components=3)"
   ]
  },
  {
   "cell_type": "code",
   "execution_count": 43,
   "id": "429015e4",
   "metadata": {},
   "outputs": [],
   "source": [
    "x=pca.fit_transform(model.wv.get_normed_vectors())"
   ]
  },
  {
   "cell_type": "code",
   "execution_count": 44,
   "id": "e694edc5",
   "metadata": {},
   "outputs": [
    {
     "data": {
      "text/plain": [
       "array([[ 0.21520199,  0.402755  , -0.00741319],\n",
       "       [ 0.17283104,  0.22372247,  0.05059327],\n",
       "       [-0.18475495,  0.48917967,  0.19904089],\n",
       "       [ 0.02146424,  0.2572146 , -0.01939764],\n",
       "       [-0.00725602,  0.45167616,  0.18287513]], dtype=float32)"
      ]
     },
     "execution_count": 44,
     "metadata": {},
     "output_type": "execute_result"
    }
   ],
   "source": [
    "x[:5]"
   ]
  },
  {
   "cell_type": "code",
   "execution_count": 46,
   "id": "b2a334c5",
   "metadata": {},
   "outputs": [
    {
     "data": {
      "application/vnd.plotly.v1+json": {
       "config": {
        "plotlyServerURL": "https://plot.ly"
       },
       "data": [
        {
         "hovertemplate": "color=the<br>0=%{x}<br>1=%{y}<br>2=%{z}<extra></extra>",
         "legendgroup": "the",
         "marker": {
          "color": "#636efa",
          "symbol": "circle"
         },
         "mode": "markers",
         "name": "the",
         "scene": "scene",
         "showlegend": true,
         "type": "scatter3d",
         "x": [
          0.2152019888162613
         ],
         "y": [
          0.4027549922466278
         ],
         "z": [
          -0.007413191720843315
         ]
        },
        {
         "hovertemplate": "color=and<br>0=%{x}<br>1=%{y}<br>2=%{z}<extra></extra>",
         "legendgroup": "and",
         "marker": {
          "color": "#EF553B",
          "symbol": "circle"
         },
         "mode": "markers",
         "name": "and",
         "scene": "scene",
         "showlegend": true,
         "type": "scatter3d",
         "x": [
          0.17283104360103607
         ],
         "y": [
          0.22372247278690338
         ],
         "z": [
          0.05059326812624931
         ]
        },
        {
         "hovertemplate": "color=to<br>0=%{x}<br>1=%{y}<br>2=%{z}<extra></extra>",
         "legendgroup": "to",
         "marker": {
          "color": "#00cc96",
          "symbol": "circle"
         },
         "mode": "markers",
         "name": "to",
         "scene": "scene",
         "showlegend": true,
         "type": "scatter3d",
         "x": [
          -0.18475495278835297
         ],
         "y": [
          0.48917967081069946
         ],
         "z": [
          0.19904088973999023
         ]
        },
        {
         "hovertemplate": "color=of<br>0=%{x}<br>1=%{y}<br>2=%{z}<extra></extra>",
         "legendgroup": "of",
         "marker": {
          "color": "#ab63fa",
          "symbol": "circle"
         },
         "mode": "markers",
         "name": "of",
         "scene": "scene",
         "showlegend": true,
         "type": "scatter3d",
         "x": [
          0.021464237943291664
         ],
         "y": [
          0.25721460580825806
         ],
         "z": [
          -0.019397635012865067
         ]
        },
        {
         "hovertemplate": "color=he<br>0=%{x}<br>1=%{y}<br>2=%{z}<extra></extra>",
         "legendgroup": "he",
         "marker": {
          "color": "#FFA15A",
          "symbol": "circle"
         },
         "mode": "markers",
         "name": "he",
         "scene": "scene",
         "showlegend": true,
         "type": "scatter3d",
         "x": [
          -0.007256016135215759
         ],
         "y": [
          0.4516761600971222
         ],
         "z": [
          0.1828751266002655
         ]
        },
        {
         "hovertemplate": "color=his<br>0=%{x}<br>1=%{y}<br>2=%{z}<extra></extra>",
         "legendgroup": "his",
         "marker": {
          "color": "#19d3f3",
          "symbol": "circle"
         },
         "mode": "markers",
         "name": "his",
         "scene": "scene",
         "showlegend": true,
         "type": "scatter3d",
         "x": [
          0.06842602789402008
         ],
         "y": [
          0.1879769265651703
         ],
         "z": [
          0.3137114346027374
         ]
        },
        {
         "hovertemplate": "color=was<br>0=%{x}<br>1=%{y}<br>2=%{z}<extra></extra>",
         "legendgroup": "was",
         "marker": {
          "color": "#FF6692",
          "symbol": "circle"
         },
         "mode": "markers",
         "name": "was",
         "scene": "scene",
         "showlegend": true,
         "type": "scatter3d",
         "x": [
          -0.015028323978185654
         ],
         "y": [
          0.28404131531715393
         ],
         "z": [
          0.2885087728500366
         ]
        },
        {
         "hovertemplate": "color=you<br>0=%{x}<br>1=%{y}<br>2=%{z}<extra></extra>",
         "legendgroup": "you",
         "marker": {
          "color": "#B6E880",
          "symbol": "circle"
         },
         "mode": "markers",
         "name": "you",
         "scene": "scene",
         "showlegend": true,
         "type": "scatter3d",
         "x": [
          -0.4142322838306427
         ],
         "y": [
          0.611903965473175
         ],
         "z": [
          0.08542740345001221
         ]
        },
        {
         "hovertemplate": "color=in<br>0=%{x}<br>1=%{y}<br>2=%{z}<extra></extra>",
         "legendgroup": "in",
         "marker": {
          "color": "#FF97FF",
          "symbol": "circle"
         },
         "mode": "markers",
         "name": "in",
         "scene": "scene",
         "showlegend": true,
         "type": "scatter3d",
         "x": [
          0.05742872506380081
         ],
         "y": [
          0.2775973081588745
         ],
         "z": [
          0.10274489223957062
         ]
        },
        {
         "hovertemplate": "color=her<br>0=%{x}<br>1=%{y}<br>2=%{z}<extra></extra>",
         "legendgroup": "her",
         "marker": {
          "color": "#FECB52",
          "symbol": "circle"
         },
         "mode": "markers",
         "name": "her",
         "scene": "scene",
         "showlegend": true,
         "type": "scatter3d",
         "x": [
          0.07252393662929535
         ],
         "y": [
          0.30863139033317566
         ],
         "z": [
          0.2573006749153137
         ]
        },
        {
         "hovertemplate": "color=it<br>0=%{x}<br>1=%{y}<br>2=%{z}<extra></extra>",
         "legendgroup": "it",
         "marker": {
          "color": "#636efa",
          "symbol": "circle"
         },
         "mode": "markers",
         "name": "it",
         "scene": "scene",
         "showlegend": true,
         "type": "scatter3d",
         "x": [
          0.020679736509919167
         ],
         "y": [
          0.5614680647850037
         ],
         "z": [
          0.11864019185304642
         ]
        },
        {
         "hovertemplate": "color=had<br>0=%{x}<br>1=%{y}<br>2=%{z}<extra></extra>",
         "legendgroup": "had",
         "marker": {
          "color": "#EF553B",
          "symbol": "circle"
         },
         "mode": "markers",
         "name": "had",
         "scene": "scene",
         "showlegend": true,
         "type": "scatter3d",
         "x": [
          -0.07005424797534943
         ],
         "y": [
          0.38546022772789
         ],
         "z": [
          0.14492280781269073
         ]
        },
        {
         "hovertemplate": "color=that<br>0=%{x}<br>1=%{y}<br>2=%{z}<extra></extra>",
         "legendgroup": "that",
         "marker": {
          "color": "#00cc96",
          "symbol": "circle"
         },
         "mode": "markers",
         "name": "that",
         "scene": "scene",
         "showlegend": true,
         "type": "scatter3d",
         "x": [
          -0.20944151282310486
         ],
         "y": [
          0.5440168380737305
         ],
         "z": [
          0.010862735100090504
         ]
        },
        {
         "hovertemplate": "color=as<br>0=%{x}<br>1=%{y}<br>2=%{z}<extra></extra>",
         "legendgroup": "as",
         "marker": {
          "color": "#ab63fa",
          "symbol": "circle"
         },
         "mode": "markers",
         "name": "as",
         "scene": "scene",
         "showlegend": true,
         "type": "scatter3d",
         "x": [
          0.035522520542144775
         ],
         "y": [
          0.3522595465183258
         ],
         "z": [
          0.19660787284374237
         ]
        },
        {
         "hovertemplate": "color=she<br>0=%{x}<br>1=%{y}<br>2=%{z}<extra></extra>",
         "legendgroup": "she",
         "marker": {
          "color": "#FFA15A",
          "symbol": "circle"
         },
         "mode": "markers",
         "name": "she",
         "scene": "scene",
         "showlegend": true,
         "type": "scatter3d",
         "x": [
          0.027732400223612785
         ],
         "y": [
          0.42643189430236816
         ],
         "z": [
          0.17895637452602386
         ]
        },
        {
         "hovertemplate": "color=with<br>0=%{x}<br>1=%{y}<br>2=%{z}<extra></extra>",
         "legendgroup": "with",
         "marker": {
          "color": "#19d3f3",
          "symbol": "circle"
         },
         "mode": "markers",
         "name": "with",
         "scene": "scene",
         "showlegend": true,
         "type": "scatter3d",
         "x": [
          0.06334017217159271
         ],
         "y": [
          0.15805204212665558
         ],
         "z": [
          0.22122564911842346
         ]
        },
        {
         "hovertemplate": "color=him<br>0=%{x}<br>1=%{y}<br>2=%{z}<extra></extra>",
         "legendgroup": "him",
         "marker": {
          "color": "#FF6692",
          "symbol": "circle"
         },
         "mode": "markers",
         "name": "him",
         "scene": "scene",
         "showlegend": true,
         "type": "scatter3d",
         "x": [
          0.001692320336587727
         ],
         "y": [
          0.4333200752735138
         ],
         "z": [
          0.23338201642036438
         ]
        },
        {
         "hovertemplate": "color=not<br>0=%{x}<br>1=%{y}<br>2=%{z}<extra></extra>",
         "legendgroup": "not",
         "marker": {
          "color": "#B6E880",
          "symbol": "circle"
         },
         "mode": "markers",
         "name": "not",
         "scene": "scene",
         "showlegend": true,
         "type": "scatter3d",
         "x": [
          -0.36200639605522156
         ],
         "y": [
          0.5368468761444092
         ],
         "z": [
          0.16467586159706116
         ]
        },
        {
         "hovertemplate": "color=but<br>0=%{x}<br>1=%{y}<br>2=%{z}<extra></extra>",
         "legendgroup": "but",
         "marker": {
          "color": "#FF97FF",
          "symbol": "circle"
         },
         "mode": "markers",
         "name": "but",
         "scene": "scene",
         "showlegend": true,
         "type": "scatter3d",
         "x": [
          -0.14986929297447205
         ],
         "y": [
          0.49145203828811646
         ],
         "z": [
          0.16383086144924164
         ]
        },
        {
         "hovertemplate": "color=for<br>0=%{x}<br>1=%{y}<br>2=%{z}<extra></extra>",
         "legendgroup": "for",
         "marker": {
          "color": "#FECB52",
          "symbol": "circle"
         },
         "mode": "markers",
         "name": "for",
         "scene": "scene",
         "showlegend": true,
         "type": "scatter3d",
         "x": [
          -0.31415218114852905
         ],
         "y": [
          0.41887912154197693
         ],
         "z": [
          0.19696366786956787
         ]
        },
        {
         "hovertemplate": "color=they<br>0=%{x}<br>1=%{y}<br>2=%{z}<extra></extra>",
         "legendgroup": "they",
         "marker": {
          "color": "#636efa",
          "symbol": "circle"
         },
         "mode": "markers",
         "name": "they",
         "scene": "scene",
         "showlegend": true,
         "type": "scatter3d",
         "x": [
          0.0951445922255516
         ],
         "y": [
          0.6061046123504639
         ],
         "z": [
          -0.09333591163158417
         ]
        },
        {
         "hovertemplate": "color=at<br>0=%{x}<br>1=%{y}<br>2=%{z}<extra></extra>",
         "legendgroup": "at",
         "marker": {
          "color": "#EF553B",
          "symbol": "circle"
         },
         "mode": "markers",
         "name": "at",
         "scene": "scene",
         "showlegend": true,
         "type": "scatter3d",
         "x": [
          -0.034589044749736786
         ],
         "y": [
          0.2792581021785736
         ],
         "z": [
          0.2830868363380432
         ]
        },
        {
         "hovertemplate": "color=on<br>0=%{x}<br>1=%{y}<br>2=%{z}<extra></extra>",
         "legendgroup": "on",
         "marker": {
          "color": "#00cc96",
          "symbol": "circle"
         },
         "mode": "markers",
         "name": "on",
         "scene": "scene",
         "showlegend": true,
         "type": "scatter3d",
         "x": [
          0.1133112758398056
         ],
         "y": [
          0.2841711640357971
         ],
         "z": [
          0.23814848065376282
         ]
        },
        {
         "hovertemplate": "color=said<br>0=%{x}<br>1=%{y}<br>2=%{z}<extra></extra>",
         "legendgroup": "said",
         "marker": {
          "color": "#ab63fa",
          "symbol": "circle"
         },
         "mode": "markers",
         "name": "said",
         "scene": "scene",
         "showlegend": true,
         "type": "scatter3d",
         "x": [
          -0.43218299746513367
         ],
         "y": [
          0.403439998626709
         ],
         "z": [
          0.4825651943683624
         ]
        },
        {
         "hovertemplate": "color=is<br>0=%{x}<br>1=%{y}<br>2=%{z}<extra></extra>",
         "legendgroup": "is",
         "marker": {
          "color": "#FFA15A",
          "symbol": "circle"
         },
         "mode": "markers",
         "name": "is",
         "scene": "scene",
         "showlegend": true,
         "type": "scatter3d",
         "x": [
          -0.4834744334220886
         ],
         "y": [
          0.4618605673313141
         ],
         "z": [
          0.18177205324172974
         ]
        },
        {
         "hovertemplate": "color=my<br>0=%{x}<br>1=%{y}<br>2=%{z}<extra></extra>",
         "legendgroup": "my",
         "marker": {
          "color": "#19d3f3",
          "symbol": "circle"
         },
         "mode": "markers",
         "name": "my",
         "scene": "scene",
         "showlegend": true,
         "type": "scatter3d",
         "x": [
          -0.3989983797073364
         ],
         "y": [
          0.4729430377483368
         ],
         "z": [
          0.15459688007831573
         ]
        },
        {
         "hovertemplate": "color=have<br>0=%{x}<br>1=%{y}<br>2=%{z}<extra></extra>",
         "legendgroup": "have",
         "marker": {
          "color": "#FF6692",
          "symbol": "circle"
         },
         "mode": "markers",
         "name": "have",
         "scene": "scene",
         "showlegend": true,
         "type": "scatter3d",
         "x": [
          -0.3037899136543274
         ],
         "y": [
          0.5620170831680298
         ],
         "z": [
          0.09036710858345032
         ]
        },
        {
         "hovertemplate": "color=be<br>0=%{x}<br>1=%{y}<br>2=%{z}<extra></extra>",
         "legendgroup": "be",
         "marker": {
          "color": "#B6E880",
          "symbol": "circle"
         },
         "mode": "markers",
         "name": "be",
         "scene": "scene",
         "showlegend": true,
         "type": "scatter3d",
         "x": [
          -0.2685805559158325
         ],
         "y": [
          0.5939663648605347
         ],
         "z": [
          0.1174175813794136
         ]
        },
        {
         "hovertemplate": "color=them<br>0=%{x}<br>1=%{y}<br>2=%{z}<extra></extra>",
         "legendgroup": "them",
         "marker": {
          "color": "#FF97FF",
          "symbol": "circle"
         },
         "mode": "markers",
         "name": "them",
         "scene": "scene",
         "showlegend": true,
         "type": "scatter3d",
         "x": [
          0.09223424643278122
         ],
         "y": [
          0.5860376954078674
         ],
         "z": [
          -0.03680926188826561
         ]
        },
        {
         "hovertemplate": "color=lord<br>0=%{x}<br>1=%{y}<br>2=%{z}<extra></extra>",
         "legendgroup": "lord",
         "marker": {
          "color": "#FECB52",
          "symbol": "circle"
         },
         "mode": "markers",
         "name": "lord",
         "scene": "scene",
         "showlegend": true,
         "type": "scatter3d",
         "x": [
          -0.3841736316680908
         ],
         "y": [
          0.44748732447624207
         ],
         "z": [
          0.16124212741851807
         ]
        },
        {
         "hovertemplate": "color=no<br>0=%{x}<br>1=%{y}<br>2=%{z}<extra></extra>",
         "legendgroup": "no",
         "marker": {
          "color": "#636efa",
          "symbol": "circle"
         },
         "mode": "markers",
         "name": "no",
         "scene": "scene",
         "showlegend": true,
         "type": "scatter3d",
         "x": [
          -0.27432456612586975
         ],
         "y": [
          0.48703619837760925
         ],
         "z": [
          0.08512193709611893
         ]
        },
        {
         "hovertemplate": "color=from<br>0=%{x}<br>1=%{y}<br>2=%{z}<extra></extra>",
         "legendgroup": "from",
         "marker": {
          "color": "#EF553B",
          "symbol": "circle"
         },
         "mode": "markers",
         "name": "from",
         "scene": "scene",
         "showlegend": true,
         "type": "scatter3d",
         "x": [
          0.15255489945411682
         ],
         "y": [
          0.24896718561649323
         ],
         "z": [
          0.15820370614528656
         ]
        },
        {
         "hovertemplate": "color=were<br>0=%{x}<br>1=%{y}<br>2=%{z}<extra></extra>",
         "legendgroup": "were",
         "marker": {
          "color": "#00cc96",
          "symbol": "circle"
         },
         "mode": "markers",
         "name": "were",
         "scene": "scene",
         "showlegend": true,
         "type": "scatter3d",
         "x": [
          0.07126163691282272
         ],
         "y": [
          0.357066810131073
         ],
         "z": [
          0.0666971355676651
         ]
        },
        {
         "hovertemplate": "color=would<br>0=%{x}<br>1=%{y}<br>2=%{z}<extra></extra>",
         "legendgroup": "would",
         "marker": {
          "color": "#ab63fa",
          "symbol": "circle"
         },
         "mode": "markers",
         "name": "would",
         "scene": "scene",
         "showlegend": true,
         "type": "scatter3d",
         "x": [
          -0.3002280294895172
         ],
         "y": [
          0.4749722480773926
         ],
         "z": [
          0.2365548461675644
         ]
        },
        {
         "hovertemplate": "color=me<br>0=%{x}<br>1=%{y}<br>2=%{z}<extra></extra>",
         "legendgroup": "me",
         "marker": {
          "color": "#FFA15A",
          "symbol": "circle"
         },
         "mode": "markers",
         "name": "me",
         "scene": "scene",
         "showlegend": true,
         "type": "scatter3d",
         "x": [
          -0.36316484212875366
         ],
         "y": [
          0.5723638534545898
         ],
         "z": [
          0.1404094099998474
         ]
        },
        {
         "hovertemplate": "color=your<br>0=%{x}<br>1=%{y}<br>2=%{z}<extra></extra>",
         "legendgroup": "your",
         "marker": {
          "color": "#19d3f3",
          "symbol": "circle"
         },
         "mode": "markers",
         "name": "your",
         "scene": "scene",
         "showlegend": true,
         "type": "scatter3d",
         "x": [
          -0.3814394474029541
         ],
         "y": [
          0.46176835894584656
         ],
         "z": [
          0.16122227907180786
         ]
        },
        {
         "hovertemplate": "color=all<br>0=%{x}<br>1=%{y}<br>2=%{z}<extra></extra>",
         "legendgroup": "all",
         "marker": {
          "color": "#FF6692",
          "symbol": "circle"
         },
         "mode": "markers",
         "name": "all",
         "scene": "scene",
         "showlegend": true,
         "type": "scatter3d",
         "x": [
          -0.10149344056844711
         ],
         "y": [
          0.5650496482849121
         ],
         "z": [
          0.010846728459000587
         ]
        },
        {
         "hovertemplate": "color=one<br>0=%{x}<br>1=%{y}<br>2=%{z}<extra></extra>",
         "legendgroup": "one",
         "marker": {
          "color": "#B6E880",
          "symbol": "circle"
         },
         "mode": "markers",
         "name": "one",
         "scene": "scene",
         "showlegend": true,
         "type": "scatter3d",
         "x": [
          0.02758224494755268
         ],
         "y": [
          0.4921172559261322
         ],
         "z": [
          0.11644530296325684
         ]
        },
        {
         "hovertemplate": "color=when<br>0=%{x}<br>1=%{y}<br>2=%{z}<extra></extra>",
         "legendgroup": "when",
         "marker": {
          "color": "#FF97FF",
          "symbol": "circle"
         },
         "mode": "markers",
         "name": "when",
         "scene": "scene",
         "showlegend": true,
         "type": "scatter3d",
         "x": [
          -0.031197771430015564
         ],
         "y": [
          0.45771852135658264
         ],
         "z": [
          0.23261518776416779
         ]
        },
        {
         "hovertemplate": "color=will<br>0=%{x}<br>1=%{y}<br>2=%{z}<extra></extra>",
         "legendgroup": "will",
         "marker": {
          "color": "#FECB52",
          "symbol": "circle"
         },
         "mode": "markers",
         "name": "will",
         "scene": "scene",
         "showlegend": true,
         "type": "scatter3d",
         "x": [
          -0.38651028275489807
         ],
         "y": [
          0.4889528751373291
         ],
         "z": [
          0.20671066641807556
         ]
        },
        {
         "hovertemplate": "color=if<br>0=%{x}<br>1=%{y}<br>2=%{z}<extra></extra>",
         "legendgroup": "if",
         "marker": {
          "color": "#636efa",
          "symbol": "circle"
         },
         "mode": "markers",
         "name": "if",
         "scene": "scene",
         "showlegend": true,
         "type": "scatter3d",
         "x": [
          -0.2577388286590576
         ],
         "y": [
          0.5798013210296631
         ],
         "z": [
          0.2290484458208084
         ]
        },
        {
         "hovertemplate": "color=so<br>0=%{x}<br>1=%{y}<br>2=%{z}<extra></extra>",
         "legendgroup": "so",
         "marker": {
          "color": "#EF553B",
          "symbol": "circle"
         },
         "mode": "markers",
         "name": "so",
         "scene": "scene",
         "showlegend": true,
         "type": "scatter3d",
         "x": [
          -0.09426651149988174
         ],
         "y": [
          0.48329079151153564
         ],
         "z": [
          0.1737731248140335
         ]
        },
        {
         "hovertemplate": "color=ser<br>0=%{x}<br>1=%{y}<br>2=%{z}<extra></extra>",
         "legendgroup": "ser",
         "marker": {
          "color": "#00cc96",
          "symbol": "circle"
         },
         "mode": "markers",
         "name": "ser",
         "scene": "scene",
         "showlegend": true,
         "type": "scatter3d",
         "x": [
          -0.31376367807388306
         ],
         "y": [
          0.32495835423469543
         ],
         "z": [
          0.20948411524295807
         ]
        },
        {
         "hovertemplate": "color=their<br>0=%{x}<br>1=%{y}<br>2=%{z}<extra></extra>",
         "legendgroup": "their",
         "marker": {
          "color": "#ab63fa",
          "symbol": "circle"
         },
         "mode": "markers",
         "name": "their",
         "scene": "scene",
         "showlegend": true,
         "type": "scatter3d",
         "x": [
          0.09544520825147629
         ],
         "y": [
          0.41549038887023926
         ],
         "z": [
          -0.11128770560026169
         ]
        },
        {
         "hovertemplate": "color=we<br>0=%{x}<br>1=%{y}<br>2=%{z}<extra></extra>",
         "legendgroup": "we",
         "marker": {
          "color": "#FFA15A",
          "symbol": "circle"
         },
         "mode": "markers",
         "name": "we",
         "scene": "scene",
         "showlegend": true,
         "type": "scatter3d",
         "x": [
          -0.2077535092830658
         ],
         "y": [
          0.6715853214263916
         ],
         "z": [
          -0.03440387174487114
         ]
        },
        {
         "hovertemplate": "color=could<br>0=%{x}<br>1=%{y}<br>2=%{z}<extra></extra>",
         "legendgroup": "could",
         "marker": {
          "color": "#19d3f3",
          "symbol": "circle"
         },
         "mode": "markers",
         "name": "could",
         "scene": "scene",
         "showlegend": true,
         "type": "scatter3d",
         "x": [
          -0.004728191532194614
         ],
         "y": [
          0.3871269226074219
         ],
         "z": [
          0.23290656507015228
         ]
        },
        {
         "hovertemplate": "color=are<br>0=%{x}<br>1=%{y}<br>2=%{z}<extra></extra>",
         "legendgroup": "are",
         "marker": {
          "color": "#FF6692",
          "symbol": "circle"
         },
         "mode": "markers",
         "name": "are",
         "scene": "scene",
         "showlegend": true,
         "type": "scatter3d",
         "x": [
          -0.3391287624835968
         ],
         "y": [
          0.4461784064769745
         ],
         "z": [
          0.04797764867544174
         ]
        },
        {
         "hovertemplate": "color=man<br>0=%{x}<br>1=%{y}<br>2=%{z}<extra></extra>",
         "legendgroup": "man",
         "marker": {
          "color": "#B6E880",
          "symbol": "circle"
         },
         "mode": "markers",
         "name": "man",
         "scene": "scene",
         "showlegend": true,
         "type": "scatter3d",
         "x": [
          -0.03561714291572571
         ],
         "y": [
          0.43537890911102295
         ],
         "z": [
          0.11701744049787521
         ]
        },
        {
         "hovertemplate": "color=there<br>0=%{x}<br>1=%{y}<br>2=%{z}<extra></extra>",
         "legendgroup": "there",
         "marker": {
          "color": "#FF97FF",
          "symbol": "circle"
         },
         "mode": "markers",
         "name": "there",
         "scene": "scene",
         "showlegend": true,
         "type": "scatter3d",
         "x": [
          0.004478974733501673
         ],
         "y": [
          0.5081396698951721
         ],
         "z": [
          0.0265301875770092
         ]
        },
        {
         "hovertemplate": "color=this<br>0=%{x}<br>1=%{y}<br>2=%{z}<extra></extra>",
         "legendgroup": "this",
         "marker": {
          "color": "#FECB52",
          "symbol": "circle"
         },
         "mode": "markers",
         "name": "this",
         "scene": "scene",
         "showlegend": true,
         "type": "scatter3d",
         "x": [
          -0.3140319287776947
         ],
         "y": [
          0.5509675741195679
         ],
         "z": [
          0.093150794506073
         ]
        },
        {
         "hovertemplate": "color=up<br>0=%{x}<br>1=%{y}<br>2=%{z}<extra></extra>",
         "legendgroup": "up",
         "marker": {
          "color": "#636efa",
          "symbol": "circle"
         },
         "mode": "markers",
         "name": "up",
         "scene": "scene",
         "showlegend": true,
         "type": "scatter3d",
         "x": [
          0.33538779616355896
         ],
         "y": [
          0.3564983904361725
         ],
         "z": [
          0.2097429484128952
         ]
        },
        {
         "hovertemplate": "color=what<br>0=%{x}<br>1=%{y}<br>2=%{z}<extra></extra>",
         "legendgroup": "what",
         "marker": {
          "color": "#EF553B",
          "symbol": "circle"
         },
         "mode": "markers",
         "name": "what",
         "scene": "scene",
         "showlegend": true,
         "type": "scatter3d",
         "x": [
          -0.2416505366563797
         ],
         "y": [
          0.5394948124885559
         ],
         "z": [
          0.0663454607129097
         ]
        },
        {
         "hovertemplate": "color=king<br>0=%{x}<br>1=%{y}<br>2=%{z}<extra></extra>",
         "legendgroup": "king",
         "marker": {
          "color": "#00cc96",
          "symbol": "circle"
         },
         "mode": "markers",
         "name": "king",
         "scene": "scene",
         "showlegend": true,
         "type": "scatter3d",
         "x": [
          -0.25126591324806213
         ],
         "y": [
          0.594871997833252
         ],
         "z": [
          0.08696768432855606
         ]
        },
        {
         "hovertemplate": "color=by<br>0=%{x}<br>1=%{y}<br>2=%{z}<extra></extra>",
         "legendgroup": "by",
         "marker": {
          "color": "#ab63fa",
          "symbol": "circle"
         },
         "mode": "markers",
         "name": "by",
         "scene": "scene",
         "showlegend": true,
         "type": "scatter3d",
         "x": [
          0.00063893391052261
         ],
         "y": [
          0.33910229802131653
         ],
         "z": [
          0.08970990031957626
         ]
        },
        {
         "hovertemplate": "color=been<br>0=%{x}<br>1=%{y}<br>2=%{z}<extra></extra>",
         "legendgroup": "been",
         "marker": {
          "color": "#FFA15A",
          "symbol": "circle"
         },
         "mode": "markers",
         "name": "been",
         "scene": "scene",
         "showlegend": true,
         "type": "scatter3d",
         "x": [
          -0.10058969259262085
         ],
         "y": [
          0.45622026920318604
         ],
         "z": [
          0.18299244344234467
         ]
        },
        {
         "hovertemplate": "color=did<br>0=%{x}<br>1=%{y}<br>2=%{z}<extra></extra>",
         "legendgroup": "did",
         "marker": {
          "color": "#19d3f3",
          "symbol": "circle"
         },
         "mode": "markers",
         "name": "did",
         "scene": "scene",
         "showlegend": true,
         "type": "scatter3d",
         "x": [
          -0.2678852379322052
         ],
         "y": [
          0.37131616473197937
         ],
         "z": [
          0.3247542679309845
         ]
        },
        {
         "hovertemplate": "color=men<br>0=%{x}<br>1=%{y}<br>2=%{z}<extra></extra>",
         "legendgroup": "men",
         "marker": {
          "color": "#FF6692",
          "symbol": "circle"
         },
         "mode": "markers",
         "name": "men",
         "scene": "scene",
         "showlegend": true,
         "type": "scatter3d",
         "x": [
          -0.006549878045916557
         ],
         "y": [
          0.6019056439399719
         ],
         "z": [
          -0.16609174013137817
         ]
        },
        {
         "hovertemplate": "color=back<br>0=%{x}<br>1=%{y}<br>2=%{z}<extra></extra>",
         "legendgroup": "back",
         "marker": {
          "color": "#B6E880",
          "symbol": "circle"
         },
         "mode": "markers",
         "name": "back",
         "scene": "scene",
         "showlegend": true,
         "type": "scatter3d",
         "x": [
          0.1895189732313156
         ],
         "y": [
          0.43538281321525574
         ],
         "z": [
          0.34071969985961914
         ]
        },
        {
         "hovertemplate": "color=do<br>0=%{x}<br>1=%{y}<br>2=%{z}<extra></extra>",
         "legendgroup": "do",
         "marker": {
          "color": "#FF97FF",
          "symbol": "circle"
         },
         "mode": "markers",
         "name": "do",
         "scene": "scene",
         "showlegend": true,
         "type": "scatter3d",
         "x": [
          -0.40451690554618835
         ],
         "y": [
          0.487875372171402
         ],
         "z": [
          0.24741262197494507
         ]
        },
        {
         "hovertemplate": "color=out<br>0=%{x}<br>1=%{y}<br>2=%{z}<extra></extra>",
         "legendgroup": "out",
         "marker": {
          "color": "#FECB52",
          "symbol": "circle"
         },
         "mode": "markers",
         "name": "out",
         "scene": "scene",
         "showlegend": true,
         "type": "scatter3d",
         "x": [
          0.21681015193462372
         ],
         "y": [
          0.3827294707298279
         ],
         "z": [
          0.18706952035427094
         ]
        },
        {
         "hovertemplate": "color=jon<br>0=%{x}<br>1=%{y}<br>2=%{z}<extra></extra>",
         "legendgroup": "jon",
         "marker": {
          "color": "#636efa",
          "symbol": "circle"
         },
         "mode": "markers",
         "name": "jon",
         "scene": "scene",
         "showlegend": true,
         "type": "scatter3d",
         "x": [
          -0.010013643652200699
         ],
         "y": [
          0.3610553443431854
         ],
         "z": [
          0.1648336946964264
         ]
        },
        {
         "hovertemplate": "color=or<br>0=%{x}<br>1=%{y}<br>2=%{z}<extra></extra>",
         "legendgroup": "or",
         "marker": {
          "color": "#EF553B",
          "symbol": "circle"
         },
         "mode": "markers",
         "name": "or",
         "scene": "scene",
         "showlegend": true,
         "type": "scatter3d",
         "x": [
          -0.20820604264736176
         ],
         "y": [
          0.5120013952255249
         ],
         "z": [
          0.11048254370689392
         ]
        },
        {
         "hovertemplate": "color=more<br>0=%{x}<br>1=%{y}<br>2=%{z}<extra></extra>",
         "legendgroup": "more",
         "marker": {
          "color": "#00cc96",
          "symbol": "circle"
         },
         "mode": "markers",
         "name": "more",
         "scene": "scene",
         "showlegend": true,
         "type": "scatter3d",
         "x": [
          -0.14560769498348236
         ],
         "y": [
          0.4969422519207001
         ],
         "z": [
          0.026558557525277138
         ]
        },
        {
         "hovertemplate": "color=who<br>0=%{x}<br>1=%{y}<br>2=%{z}<extra></extra>",
         "legendgroup": "who",
         "marker": {
          "color": "#ab63fa",
          "symbol": "circle"
         },
         "mode": "markers",
         "name": "who",
         "scene": "scene",
         "showlegend": true,
         "type": "scatter3d",
         "x": [
          -0.2909465432167053
         ],
         "y": [
          0.5296475291252136
         ],
         "z": [
          -0.02070871740579605
         ]
        },
        {
         "hovertemplate": "color=down<br>0=%{x}<br>1=%{y}<br>2=%{z}<extra></extra>",
         "legendgroup": "down",
         "marker": {
          "color": "#FFA15A",
          "symbol": "circle"
         },
         "mode": "markers",
         "name": "down",
         "scene": "scene",
         "showlegend": true,
         "type": "scatter3d",
         "x": [
          0.36965763568878174
         ],
         "y": [
          0.37719815969467163
         ],
         "z": [
          0.23235861957073212
         ]
        },
        {
         "hovertemplate": "color=well<br>0=%{x}<br>1=%{y}<br>2=%{z}<extra></extra>",
         "legendgroup": "well",
         "marker": {
          "color": "#19d3f3",
          "symbol": "circle"
         },
         "mode": "markers",
         "name": "well",
         "scene": "scene",
         "showlegend": true,
         "type": "scatter3d",
         "x": [
          -0.1955922394990921
         ],
         "y": [
          0.5143985748291016
         ],
         "z": [
          0.09713941812515259
         ]
        },
        {
         "hovertemplate": "color=than<br>0=%{x}<br>1=%{y}<br>2=%{z}<extra></extra>",
         "legendgroup": "than",
         "marker": {
          "color": "#FF6692",
          "symbol": "circle"
         },
         "mode": "markers",
         "name": "than",
         "scene": "scene",
         "showlegend": true,
         "type": "scatter3d",
         "x": [
          -0.1232563853263855
         ],
         "y": [
          0.39690884947776794
         ],
         "z": [
          0.15312230587005615
         ]
        },
        {
         "hovertemplate": "color=like<br>0=%{x}<br>1=%{y}<br>2=%{z}<extra></extra>",
         "legendgroup": "like",
         "marker": {
          "color": "#B6E880",
          "symbol": "circle"
         },
         "mode": "markers",
         "name": "like",
         "scene": "scene",
         "showlegend": true,
         "type": "scatter3d",
         "x": [
          0.0663464292883873
         ],
         "y": [
          0.26834356784820557
         ],
         "z": [
          0.1887916773557663
         ]
        },
        {
         "hovertemplate": "color=only<br>0=%{x}<br>1=%{y}<br>2=%{z}<extra></extra>",
         "legendgroup": "only",
         "marker": {
          "color": "#FF97FF",
          "symbol": "circle"
         },
         "mode": "markers",
         "name": "only",
         "scene": "scene",
         "showlegend": true,
         "type": "scatter3d",
         "x": [
          -0.1784849911928177
         ],
         "y": [
          0.5072157979011536
         ],
         "z": [
          0.09875895828008652
         ]
        },
        {
         "hovertemplate": "color=tyrion<br>0=%{x}<br>1=%{y}<br>2=%{z}<extra></extra>",
         "legendgroup": "tyrion",
         "marker": {
          "color": "#FECB52",
          "symbol": "circle"
         },
         "mode": "markers",
         "name": "tyrion",
         "scene": "scene",
         "showlegend": true,
         "type": "scatter3d",
         "x": [
          -0.07714375108480453
         ],
         "y": [
          0.2955781817436218
         ],
         "z": [
          0.18656569719314575
         ]
        },
        {
         "hovertemplate": "color=even<br>0=%{x}<br>1=%{y}<br>2=%{z}<extra></extra>",
         "legendgroup": "even",
         "marker": {
          "color": "#636efa",
          "symbol": "circle"
         },
         "mode": "markers",
         "name": "even",
         "scene": "scene",
         "showlegend": true,
         "type": "scatter3d",
         "x": [
          -0.11415067315101624
         ],
         "y": [
          0.4328392446041107
         ],
         "z": [
          0.0521637387573719
         ]
        },
        {
         "hovertemplate": "color=hand<br>0=%{x}<br>1=%{y}<br>2=%{z}<extra></extra>",
         "legendgroup": "hand",
         "marker": {
          "color": "#EF553B",
          "symbol": "circle"
         },
         "mode": "markers",
         "name": "hand",
         "scene": "scene",
         "showlegend": true,
         "type": "scatter3d",
         "x": [
          0.09922390431165695
         ],
         "y": [
          0.4352388381958008
         ],
         "z": [
          0.37534719705581665
         ]
        },
        {
         "hovertemplate": "color=before<br>0=%{x}<br>1=%{y}<br>2=%{z}<extra></extra>",
         "legendgroup": "before",
         "marker": {
          "color": "#00cc96",
          "symbol": "circle"
         },
         "mode": "markers",
         "name": "before",
         "scene": "scene",
         "showlegend": true,
         "type": "scatter3d",
         "x": [
          -0.07191943377256393
         ],
         "y": [
          0.4734066128730774
         ],
         "z": [
          0.23468735814094543
         ]
        },
        {
         "hovertemplate": "color=off<br>0=%{x}<br>1=%{y}<br>2=%{z}<extra></extra>",
         "legendgroup": "off",
         "marker": {
          "color": "#ab63fa",
          "symbol": "circle"
         },
         "mode": "markers",
         "name": "off",
         "scene": "scene",
         "showlegend": true,
         "type": "scatter3d",
         "x": [
          0.2075413167476654
         ],
         "y": [
          0.30835485458374023
         ],
         "z": [
          0.2964034080505371
         ]
        },
        {
         "hovertemplate": "color=old<br>0=%{x}<br>1=%{y}<br>2=%{z}<extra></extra>",
         "legendgroup": "old",
         "marker": {
          "color": "#FFA15A",
          "symbol": "circle"
         },
         "mode": "markers",
         "name": "old",
         "scene": "scene",
         "showlegend": true,
         "type": "scatter3d",
         "x": [
          -0.08254186064004898
         ],
         "y": [
          0.3758063316345215
         ],
         "z": [
          0.05247991904616356
         ]
        },
        {
         "hovertemplate": "color=see<br>0=%{x}<br>1=%{y}<br>2=%{z}<extra></extra>",
         "legendgroup": "see",
         "marker": {
          "color": "#19d3f3",
          "symbol": "circle"
         },
         "mode": "markers",
         "name": "see",
         "scene": "scene",
         "showlegend": true,
         "type": "scatter3d",
         "x": [
          -0.09732528030872345
         ],
         "y": [
          0.530609130859375
         ],
         "z": [
          0.32248640060424805
         ]
        },
        {
         "hovertemplate": "color=father<br>0=%{x}<br>1=%{y}<br>2=%{z}<extra></extra>",
         "legendgroup": "father",
         "marker": {
          "color": "#FF6692",
          "symbol": "circle"
         },
         "mode": "markers",
         "name": "father",
         "scene": "scene",
         "showlegend": true,
         "type": "scatter3d",
         "x": [
          -0.35070911049842834
         ],
         "y": [
          0.6106985807418823
         ],
         "z": [
          0.1961207240819931
         ]
        },
        {
         "hovertemplate": "color=into<br>0=%{x}<br>1=%{y}<br>2=%{z}<extra></extra>",
         "legendgroup": "into",
         "marker": {
          "color": "#B6E880",
          "symbol": "circle"
         },
         "mode": "markers",
         "name": "into",
         "scene": "scene",
         "showlegend": true,
         "type": "scatter3d",
         "x": [
          0.2578043043613434
         ],
         "y": [
          0.24699212610721588
         ],
         "z": [
          0.2820219099521637
         ]
        },
        {
         "hovertemplate": "color=now<br>0=%{x}<br>1=%{y}<br>2=%{z}<extra></extra>",
         "legendgroup": "now",
         "marker": {
          "color": "#FF97FF",
          "symbol": "circle"
         },
         "mode": "markers",
         "name": "now",
         "scene": "scene",
         "showlegend": true,
         "type": "scatter3d",
         "x": [
          -0.20589832961559296
         ],
         "y": [
          0.6028803586959839
         ],
         "z": [
          0.17000287771224976
         ]
        },
        {
         "hovertemplate": "color=never<br>0=%{x}<br>1=%{y}<br>2=%{z}<extra></extra>",
         "legendgroup": "never",
         "marker": {
          "color": "#FECB52",
          "symbol": "circle"
         },
         "mode": "markers",
         "name": "never",
         "scene": "scene",
         "showlegend": true,
         "type": "scatter3d",
         "x": [
          -0.3149186372756958
         ],
         "y": [
          0.5026569962501526
         ],
         "z": [
          0.15490326285362244
         ]
        },
        {
         "hovertemplate": "color=some<br>0=%{x}<br>1=%{y}<br>2=%{z}<extra></extra>",
         "legendgroup": "some",
         "marker": {
          "color": "#636efa",
          "symbol": "circle"
         },
         "mode": "markers",
         "name": "some",
         "scene": "scene",
         "showlegend": true,
         "type": "scatter3d",
         "x": [
          -0.06472338736057281
         ],
         "y": [
          0.4575341045856476
         ],
         "z": [
          -0.06648650020360947
         ]
        },
        {
         "hovertemplate": "color=an<br>0=%{x}<br>1=%{y}<br>2=%{z}<extra></extra>",
         "legendgroup": "an",
         "marker": {
          "color": "#EF553B",
          "symbol": "circle"
         },
         "mode": "markers",
         "name": "an",
         "scene": "scene",
         "showlegend": true,
         "type": "scatter3d",
         "x": [
          -0.04774434119462967
         ],
         "y": [
          0.3158566951751709
         ],
         "z": [
          0.1416563242673874
         ]
        },
        {
         "hovertemplate": "color=too<br>0=%{x}<br>1=%{y}<br>2=%{z}<extra></extra>",
         "legendgroup": "too",
         "marker": {
          "color": "#00cc96",
          "symbol": "circle"
         },
         "mode": "markers",
         "name": "too",
         "scene": "scene",
         "showlegend": true,
         "type": "scatter3d",
         "x": [
          -0.16376742720603943
         ],
         "y": [
          0.4120716154575348
         ],
         "z": [
          0.15315128862857819
         ]
        },
        {
         "hovertemplate": "color=know<br>0=%{x}<br>1=%{y}<br>2=%{z}<extra></extra>",
         "legendgroup": "know",
         "marker": {
          "color": "#ab63fa",
          "symbol": "circle"
         },
         "mode": "markers",
         "name": "know",
         "scene": "scene",
         "showlegend": true,
         "type": "scatter3d",
         "x": [
          -0.43071940541267395
         ],
         "y": [
          0.5393630862236023
         ],
         "z": [
          0.206280916929245
         ]
        },
        {
         "hovertemplate": "color=eyes<br>0=%{x}<br>1=%{y}<br>2=%{z}<extra></extra>",
         "legendgroup": "eyes",
         "marker": {
          "color": "#FFA15A",
          "symbol": "circle"
         },
         "mode": "markers",
         "name": "eyes",
         "scene": "scene",
         "showlegend": true,
         "type": "scatter3d",
         "x": [
          0.17740656435489655
         ],
         "y": [
          0.40064916014671326
         ],
         "z": [
          0.2768954634666443
         ]
        },
        {
         "hovertemplate": "color=black<br>0=%{x}<br>1=%{y}<br>2=%{z}<extra></extra>",
         "legendgroup": "black",
         "marker": {
          "color": "#19d3f3",
          "symbol": "circle"
         },
         "mode": "markers",
         "name": "black",
         "scene": "scene",
         "showlegend": true,
         "type": "scatter3d",
         "x": [
          0.3057413399219513
         ],
         "y": [
          0.27958011627197266
         ],
         "z": [
          0.04927336797118187
         ]
        },
        {
         "hovertemplate": "color=made<br>0=%{x}<br>1=%{y}<br>2=%{z}<extra></extra>",
         "legendgroup": "made",
         "marker": {
          "color": "#FF6692",
          "symbol": "circle"
         },
         "mode": "markers",
         "name": "made",
         "scene": "scene",
         "showlegend": true,
         "type": "scatter3d",
         "x": [
          -0.013489906676113605
         ],
         "y": [
          0.26941171288490295
         ],
         "z": [
          0.3542115092277527
         ]
        },
        {
         "hovertemplate": "color=then<br>0=%{x}<br>1=%{y}<br>2=%{z}<extra></extra>",
         "legendgroup": "then",
         "marker": {
          "color": "#B6E880",
          "symbol": "circle"
         },
         "mode": "markers",
         "name": "then",
         "scene": "scene",
         "showlegend": true,
         "type": "scatter3d",
         "x": [
          0.15707498788833618
         ],
         "y": [
          0.39779147505760193
         ],
         "z": [
          0.3568421006202698
         ]
        },
        {
         "hovertemplate": "color=told<br>0=%{x}<br>1=%{y}<br>2=%{z}<extra></extra>",
         "legendgroup": "told",
         "marker": {
          "color": "#FF97FF",
          "symbol": "circle"
         },
         "mode": "markers",
         "name": "told",
         "scene": "scene",
         "showlegend": true,
         "type": "scatter3d",
         "x": [
          -0.3622908592224121
         ],
         "y": [
          0.47476038336753845
         ],
         "z": [
          0.4850575923919678
         ]
        },
        {
         "hovertemplate": "color=page<br>0=%{x}<br>1=%{y}<br>2=%{z}<extra></extra>",
         "legendgroup": "page",
         "marker": {
          "color": "#FECB52",
          "symbol": "circle"
         },
         "mode": "markers",
         "name": "page",
         "scene": "scene",
         "showlegend": true,
         "type": "scatter3d",
         "x": [
          -0.21126464009284973
         ],
         "y": [
          0.34499943256378174
         ],
         "z": [
          0.26984599232673645
         ]
        },
        {
         "hovertemplate": "color=thought<br>0=%{x}<br>1=%{y}<br>2=%{z}<extra></extra>",
         "legendgroup": "thought",
         "marker": {
          "color": "#636efa",
          "symbol": "circle"
         },
         "mode": "markers",
         "name": "thought",
         "scene": "scene",
         "showlegend": true,
         "type": "scatter3d",
         "x": [
          -0.24718551337718964
         ],
         "y": [
          0.46399328112602234
         ],
         "z": [
          0.456449031829834
         ]
        },
        {
         "hovertemplate": "color=long<br>0=%{x}<br>1=%{y}<br>2=%{z}<extra></extra>",
         "legendgroup": "long",
         "marker": {
          "color": "#EF553B",
          "symbol": "circle"
         },
         "mode": "markers",
         "name": "long",
         "scene": "scene",
         "showlegend": true,
         "type": "scatter3d",
         "x": [
          0.18448883295059204
         ],
         "y": [
          0.4089714288711548
         ],
         "z": [
          0.09558361023664474
         ]
        },
        {
         "hovertemplate": "color=time<br>0=%{x}<br>1=%{y}<br>2=%{z}<extra></extra>",
         "legendgroup": "time",
         "marker": {
          "color": "#00cc96",
          "symbol": "circle"
         },
         "mode": "markers",
         "name": "time",
         "scene": "scene",
         "showlegend": true,
         "type": "scatter3d",
         "x": [
          0.032279182225465775
         ],
         "y": [
          0.5799298882484436
         ],
         "z": [
          0.243626207113266
         ]
        },
        {
         "hovertemplate": "color=how<br>0=%{x}<br>1=%{y}<br>2=%{z}<extra></extra>",
         "legendgroup": "how",
         "marker": {
          "color": "#ab63fa",
          "symbol": "circle"
         },
         "mode": "markers",
         "name": "how",
         "scene": "scene",
         "showlegend": true,
         "type": "scatter3d",
         "x": [
          -0.24289844930171967
         ],
         "y": [
          0.4986327886581421
         ],
         "z": [
          0.11847507953643799
         ]
        },
        {
         "hovertemplate": "color=through<br>0=%{x}<br>1=%{y}<br>2=%{z}<extra></extra>",
         "legendgroup": "through",
         "marker": {
          "color": "#FFA15A",
          "symbol": "circle"
         },
         "mode": "markers",
         "name": "through",
         "scene": "scene",
         "showlegend": true,
         "type": "scatter3d",
         "x": [
          0.3793324828147888
         ],
         "y": [
          0.2146475464105606
         ],
         "z": [
          0.18066099286079407
         ]
        },
        {
         "hovertemplate": "color=come<br>0=%{x}<br>1=%{y}<br>2=%{z}<extra></extra>",
         "legendgroup": "come",
         "marker": {
          "color": "#19d3f3",
          "symbol": "circle"
         },
         "mode": "markers",
         "name": "come",
         "scene": "scene",
         "showlegend": true,
         "type": "scatter3d",
         "x": [
          -0.18192176520824432
         ],
         "y": [
          0.682094156742096
         ],
         "z": [
          0.2676660418510437
         ]
        },
        {
         "hovertemplate": "color=might<br>0=%{x}<br>1=%{y}<br>2=%{z}<extra></extra>",
         "legendgroup": "might",
         "marker": {
          "color": "#FF6692",
          "symbol": "circle"
         },
         "mode": "markers",
         "name": "might",
         "scene": "scene",
         "showlegend": true,
         "type": "scatter3d",
         "x": [
          -0.29236817359924316
         ],
         "y": [
          0.41092023253440857
         ],
         "z": [
          0.18231052160263062
         ]
        },
        {
         "hovertemplate": "color=can<br>0=%{x}<br>1=%{y}<br>2=%{z}<extra></extra>",
         "legendgroup": "can",
         "marker": {
          "color": "#B6E880",
          "symbol": "circle"
         },
         "mode": "markers",
         "name": "can",
         "scene": "scene",
         "showlegend": true,
         "type": "scatter3d",
         "x": [
          -0.2935270369052887
         ],
         "y": [
          0.4196928143501282
         ],
         "z": [
          0.1646394580602646
         ]
        },
        {
         "hovertemplate": "color=us<br>0=%{x}<br>1=%{y}<br>2=%{z}<extra></extra>",
         "legendgroup": "us",
         "marker": {
          "color": "#FF97FF",
          "symbol": "circle"
         },
         "mode": "markers",
         "name": "us",
         "scene": "scene",
         "showlegend": true,
         "type": "scatter3d",
         "x": [
          -0.28817909955978394
         ],
         "y": [
          0.6752101182937622
         ],
         "z": [
          -0.03184495121240616
         ]
        },
        {
         "hovertemplate": "color=here<br>0=%{x}<br>1=%{y}<br>2=%{z}<extra></extra>",
         "legendgroup": "here",
         "marker": {
          "color": "#FECB52",
          "symbol": "circle"
         },
         "mode": "markers",
         "name": "here",
         "scene": "scene",
         "showlegend": true,
         "type": "scatter3d",
         "x": [
          -0.17313164472579956
         ],
         "y": [
          0.6558432579040527
         ],
         "z": [
          0.030888494104146957
         ]
        },
        {
         "hovertemplate": "color=where<br>0=%{x}<br>1=%{y}<br>2=%{z}<extra></extra>",
         "legendgroup": "where",
         "marker": {
          "color": "#636efa",
          "symbol": "circle"
         },
         "mode": "markers",
         "name": "where",
         "scene": "scene",
         "showlegend": true,
         "type": "scatter3d",
         "x": [
          0.15167658030986786
         ],
         "y": [
          0.45170658826828003
         ],
         "z": [
          0.051329538226127625
         ]
        },
        {
         "hovertemplate": "color=ll<br>0=%{x}<br>1=%{y}<br>2=%{z}<extra></extra>",
         "legendgroup": "ll",
         "marker": {
          "color": "#EF553B",
          "symbol": "circle"
         },
         "mode": "markers",
         "name": "ll",
         "scene": "scene",
         "showlegend": true,
         "type": "scatter3d",
         "x": [
          -0.22617961466312408
         ],
         "y": [
          0.3984663784503937
         ],
         "z": [
          0.28435707092285156
         ]
        },
        {
         "hovertemplate": "color=lady<br>0=%{x}<br>1=%{y}<br>2=%{z}<extra></extra>",
         "legendgroup": "lady",
         "marker": {
          "color": "#00cc96",
          "symbol": "circle"
         },
         "mode": "markers",
         "name": "lady",
         "scene": "scene",
         "showlegend": true,
         "type": "scatter3d",
         "x": [
          -0.415244460105896
         ],
         "y": [
          0.4166446924209595
         ],
         "z": [
          0.20639853179454803
         ]
        },
        {
         "hovertemplate": "color=face<br>0=%{x}<br>1=%{y}<br>2=%{z}<extra></extra>",
         "legendgroup": "face",
         "marker": {
          "color": "#ab63fa",
          "symbol": "circle"
         },
         "mode": "markers",
         "name": "face",
         "scene": "scene",
         "showlegend": true,
         "type": "scatter3d",
         "x": [
          0.20931805670261383
         ],
         "y": [
          0.3169305920600891
         ],
         "z": [
          0.367045521736145
         ]
        },
        {
         "hovertemplate": "color=head<br>0=%{x}<br>1=%{y}<br>2=%{z}<extra></extra>",
         "legendgroup": "head",
         "marker": {
          "color": "#FFA15A",
          "symbol": "circle"
         },
         "mode": "markers",
         "name": "head",
         "scene": "scene",
         "showlegend": true,
         "type": "scatter3d",
         "x": [
          0.2109842598438263
         ],
         "y": [
          0.34980764985084534
         ],
         "z": [
          0.43298211693763733
         ]
        },
        {
         "hovertemplate": "color=still<br>0=%{x}<br>1=%{y}<br>2=%{z}<extra></extra>",
         "legendgroup": "still",
         "marker": {
          "color": "#19d3f3",
          "symbol": "circle"
         },
         "mode": "markers",
         "name": "still",
         "scene": "scene",
         "showlegend": true,
         "type": "scatter3d",
         "x": [
          0.052527423948049545
         ],
         "y": [
          0.4486537277698517
         ],
         "z": [
          0.11029478162527084
         ]
        },
        {
         "hovertemplate": "color=has<br>0=%{x}<br>1=%{y}<br>2=%{z}<extra></extra>",
         "legendgroup": "has",
         "marker": {
          "color": "#FF6692",
          "symbol": "circle"
         },
         "mode": "markers",
         "name": "has",
         "scene": "scene",
         "showlegend": true,
         "type": "scatter3d",
         "x": [
          -0.40063267946243286
         ],
         "y": [
          0.43618345260620117
         ],
         "z": [
          0.08737245202064514
         ]
        },
        {
         "hovertemplate": "color=way<br>0=%{x}<br>1=%{y}<br>2=%{z}<extra></extra>",
         "legendgroup": "way",
         "marker": {
          "color": "#B6E880",
          "symbol": "circle"
         },
         "mode": "markers",
         "name": "way",
         "scene": "scene",
         "showlegend": true,
         "type": "scatter3d",
         "x": [
          0.11003558337688446
         ],
         "y": [
          0.5811300873756409
         ],
         "z": [
          0.1705656796693802
         ]
        },
        {
         "hovertemplate": "color=red<br>0=%{x}<br>1=%{y}<br>2=%{z}<extra></extra>",
         "legendgroup": "red",
         "marker": {
          "color": "#FF97FF",
          "symbol": "circle"
         },
         "mode": "markers",
         "name": "red",
         "scene": "scene",
         "showlegend": true,
         "type": "scatter3d",
         "x": [
          0.20485344529151917
         ],
         "y": [
          0.2833372950553894
         ],
         "z": [
          0.05242301896214485
         ]
        },
        {
         "hovertemplate": "color=over<br>0=%{x}<br>1=%{y}<br>2=%{z}<extra></extra>",
         "legendgroup": "over",
         "marker": {
          "color": "#FECB52",
          "symbol": "circle"
         },
         "mode": "markers",
         "name": "over",
         "scene": "scene",
         "showlegend": true,
         "type": "scatter3d",
         "x": [
          0.3451923727989197
         ],
         "y": [
          0.15768751502037048
         ],
         "z": [
          0.2872249484062195
         ]
        },
        {
         "hovertemplate": "color=boy<br>0=%{x}<br>1=%{y}<br>2=%{z}<extra></extra>",
         "legendgroup": "boy",
         "marker": {
          "color": "#636efa",
          "symbol": "circle"
         },
         "mode": "markers",
         "name": "boy",
         "scene": "scene",
         "showlegend": true,
         "type": "scatter3d",
         "x": [
          -0.212502583861351
         ],
         "y": [
          0.36829498410224915
         ],
         "z": [
          0.1971890926361084
         ]
        },
        {
         "hovertemplate": "color=two<br>0=%{x}<br>1=%{y}<br>2=%{z}<extra></extra>",
         "legendgroup": "two",
         "marker": {
          "color": "#EF553B",
          "symbol": "circle"
         },
         "mode": "markers",
         "name": "two",
         "scene": "scene",
         "showlegend": true,
         "type": "scatter3d",
         "x": [
          0.1749061942100525
         ],
         "y": [
          0.46126294136047363
         ],
         "z": [
          -0.03766390308737755
         ]
        },
        {
         "hovertemplate": "color=once<br>0=%{x}<br>1=%{y}<br>2=%{z}<extra></extra>",
         "legendgroup": "once",
         "marker": {
          "color": "#00cc96",
          "symbol": "circle"
         },
         "mode": "markers",
         "name": "once",
         "scene": "scene",
         "showlegend": true,
         "type": "scatter3d",
         "x": [
          -0.08050061017274857
         ],
         "y": [
          0.5102313160896301
         ],
         "z": [
          0.16560783982276917
         ]
        },
        {
         "hovertemplate": "color=night<br>0=%{x}<br>1=%{y}<br>2=%{z}<extra></extra>",
         "legendgroup": "night",
         "marker": {
          "color": "#ab63fa",
          "symbol": "circle"
         },
         "mode": "markers",
         "name": "night",
         "scene": "scene",
         "showlegend": true,
         "type": "scatter3d",
         "x": [
          0.06754012405872345
         ],
         "y": [
          0.595749020576477
         ],
         "z": [
          0.11928750574588776
         ]
        },
        {
         "hovertemplate": "color=must<br>0=%{x}<br>1=%{y}<br>2=%{z}<extra></extra>",
         "legendgroup": "must",
         "marker": {
          "color": "#FFA15A",
          "symbol": "circle"
         },
         "mode": "markers",
         "name": "must",
         "scene": "scene",
         "showlegend": true,
         "type": "scatter3d",
         "x": [
          -0.3793940246105194
         ],
         "y": [
          0.454471617937088
         ],
         "z": [
          0.17849834263324738
         ]
        },
        {
         "hovertemplate": "color=good<br>0=%{x}<br>1=%{y}<br>2=%{z}<extra></extra>",
         "legendgroup": "good",
         "marker": {
          "color": "#19d3f3",
          "symbol": "circle"
         },
         "mode": "markers",
         "name": "good",
         "scene": "scene",
         "showlegend": true,
         "type": "scatter3d",
         "x": [
          -0.40258315205574036
         ],
         "y": [
          0.4916571080684662
         ],
         "z": [
          0.1396588832139969
         ]
        },
        {
         "hovertemplate": "color=brother<br>0=%{x}<br>1=%{y}<br>2=%{z}<extra></extra>",
         "legendgroup": "brother",
         "marker": {
          "color": "#FF6692",
          "symbol": "circle"
         },
         "mode": "markers",
         "name": "brother",
         "scene": "scene",
         "showlegend": true,
         "type": "scatter3d",
         "x": [
          -0.3761661648750305
         ],
         "y": [
          0.5776817798614502
         ],
         "z": [
          0.24122004210948944
         ]
        },
        {
         "hovertemplate": "color=other<br>0=%{x}<br>1=%{y}<br>2=%{z}<extra></extra>",
         "legendgroup": "other",
         "marker": {
          "color": "#B6E880",
          "symbol": "circle"
         },
         "mode": "markers",
         "name": "other",
         "scene": "scene",
         "showlegend": true,
         "type": "scatter3d",
         "x": [
          0.04425082355737686
         ],
         "y": [
          0.4581758379936218
         ],
         "z": [
          -0.01269074808806181
         ]
        },
        {
         "hovertemplate": "color=took<br>0=%{x}<br>1=%{y}<br>2=%{z}<extra></extra>",
         "legendgroup": "took",
         "marker": {
          "color": "#FF97FF",
          "symbol": "circle"
         },
         "mode": "markers",
         "name": "took",
         "scene": "scene",
         "showlegend": true,
         "type": "scatter3d",
         "x": [
          -0.04243408143520355
         ],
         "y": [
          0.3088626563549042
         ],
         "z": [
          0.539318323135376
         ]
        },
        {
         "hovertemplate": "color=came<br>0=%{x}<br>1=%{y}<br>2=%{z}<extra></extra>",
         "legendgroup": "came",
         "marker": {
          "color": "#FECB52",
          "symbol": "circle"
         },
         "mode": "markers",
         "name": "came",
         "scene": "scene",
         "showlegend": true,
         "type": "scatter3d",
         "x": [
          0.13906769454479218
         ],
         "y": [
          0.38331708312034607
         ],
         "z": [
          0.388490229845047
         ]
        },
        {
         "hovertemplate": "color=again<br>0=%{x}<br>1=%{y}<br>2=%{z}<extra></extra>",
         "legendgroup": "again",
         "marker": {
          "color": "#636efa",
          "symbol": "circle"
         },
         "mode": "markers",
         "name": "again",
         "scene": "scene",
         "showlegend": true,
         "type": "scatter3d",
         "x": [
          0.12164994329214096
         ],
         "y": [
          0.4038406014442444
         ],
         "z": [
          0.3912358582019806
         ]
        },
        {
         "hovertemplate": "color=arya<br>0=%{x}<br>1=%{y}<br>2=%{z}<extra></extra>",
         "legendgroup": "arya",
         "marker": {
          "color": "#EF553B",
          "symbol": "circle"
         },
         "mode": "markers",
         "name": "arya",
         "scene": "scene",
         "showlegend": true,
         "type": "scatter3d",
         "x": [
          0.13546143472194672
         ],
         "y": [
          0.31933698058128357
         ],
         "z": [
          0.248197540640831
         ]
        },
        {
         "hovertemplate": "color=away<br>0=%{x}<br>1=%{y}<br>2=%{z}<extra></extra>",
         "legendgroup": "away",
         "marker": {
          "color": "#00cc96",
          "symbol": "circle"
         },
         "mode": "markers",
         "name": "away",
         "scene": "scene",
         "showlegend": true,
         "type": "scatter3d",
         "x": [
          0.16418291628360748
         ],
         "y": [
          0.4045918583869934
         ],
         "z": [
          0.3049606382846832
         ]
        },
        {
         "hovertemplate": "color=about<br>0=%{x}<br>1=%{y}<br>2=%{z}<extra></extra>",
         "legendgroup": "about",
         "marker": {
          "color": "#ab63fa",
          "symbol": "circle"
         },
         "mode": "markers",
         "name": "about",
         "scene": "scene",
         "showlegend": true,
         "type": "scatter3d",
         "x": [
          -0.19160327315330505
         ],
         "y": [
          0.21638883650302887
         ],
         "z": [
          0.2221500277519226
         ]
        },
        {
         "hovertemplate": "color=queen<br>0=%{x}<br>1=%{y}<br>2=%{z}<extra></extra>",
         "legendgroup": "queen",
         "marker": {
          "color": "#FFA15A",
          "symbol": "circle"
         },
         "mode": "markers",
         "name": "queen",
         "scene": "scene",
         "showlegend": true,
         "type": "scatter3d",
         "x": [
          -0.34750884771347046
         ],
         "y": [
          0.5374994874000549
         ],
         "z": [
          0.08789891749620438
         ]
        },
        {
         "hovertemplate": "color=dead<br>0=%{x}<br>1=%{y}<br>2=%{z}<extra></extra>",
         "legendgroup": "dead",
         "marker": {
          "color": "#19d3f3",
          "symbol": "circle"
         },
         "mode": "markers",
         "name": "dead",
         "scene": "scene",
         "showlegend": true,
         "type": "scatter3d",
         "x": [
          0.013138202019035816
         ],
         "y": [
          0.5048733353614807
         ],
         "z": [
          0.18021395802497864
         ]
        },
        {
         "hovertemplate": "color=blood<br>0=%{x}<br>1=%{y}<br>2=%{z}<extra></extra>",
         "legendgroup": "blood",
         "marker": {
          "color": "#FF6692",
          "symbol": "circle"
         },
         "mode": "markers",
         "name": "blood",
         "scene": "scene",
         "showlegend": true,
         "type": "scatter3d",
         "x": [
          0.1450187861919403
         ],
         "y": [
          0.4490162134170532
         ],
         "z": [
          0.15602713823318481
         ]
        },
        {
         "hovertemplate": "color=say<br>0=%{x}<br>1=%{y}<br>2=%{z}<extra></extra>",
         "legendgroup": "say",
         "marker": {
          "color": "#B6E880",
          "symbol": "circle"
         },
         "mode": "markers",
         "name": "say",
         "scene": "scene",
         "showlegend": true,
         "type": "scatter3d",
         "x": [
          -0.42518487572669983
         ],
         "y": [
          0.5002243518829346
         ],
         "z": [
          0.33331745862960815
         ]
        },
        {
         "hovertemplate": "color=bran<br>0=%{x}<br>1=%{y}<br>2=%{z}<extra></extra>",
         "legendgroup": "bran",
         "marker": {
          "color": "#FF97FF",
          "symbol": "circle"
         },
         "mode": "markers",
         "name": "bran",
         "scene": "scene",
         "showlegend": true,
         "type": "scatter3d",
         "x": [
          0.0782371386885643
         ],
         "y": [
          0.3627606928348541
         ],
         "z": [
          0.22889886796474457
         ]
        },
        {
         "hovertemplate": "color=little<br>0=%{x}<br>1=%{y}<br>2=%{z}<extra></extra>",
         "legendgroup": "little",
         "marker": {
          "color": "#FECB52",
          "symbol": "circle"
         },
         "mode": "markers",
         "name": "little",
         "scene": "scene",
         "showlegend": true,
         "type": "scatter3d",
         "x": [
          -0.10234338045120239
         ],
         "y": [
          0.301225870847702
         ],
         "z": [
          0.17135317623615265
         ]
        },
        {
         "hovertemplate": "color=three<br>0=%{x}<br>1=%{y}<br>2=%{z}<extra></extra>",
         "legendgroup": "three",
         "marker": {
          "color": "#636efa",
          "symbol": "circle"
         },
         "mode": "markers",
         "name": "three",
         "scene": "scene",
         "showlegend": true,
         "type": "scatter3d",
         "x": [
          0.0670439749956131
         ],
         "y": [
          0.46445104479789734
         ],
         "z": [
          -0.10949668288230896
         ]
        },
        {
         "hovertemplate": "color=go<br>0=%{x}<br>1=%{y}<br>2=%{z}<extra></extra>",
         "legendgroup": "go",
         "marker": {
          "color": "#EF553B",
          "symbol": "circle"
         },
         "mode": "markers",
         "name": "go",
         "scene": "scene",
         "showlegend": true,
         "type": "scatter3d",
         "x": [
          -0.10808201879262924
         ],
         "y": [
          0.600930392742157
         ],
         "z": [
          0.36877113580703735
         ]
        },
        {
         "hovertemplate": "color=should<br>0=%{x}<br>1=%{y}<br>2=%{z}<extra></extra>",
         "legendgroup": "should",
         "marker": {
          "color": "#00cc96",
          "symbol": "circle"
         },
         "mode": "markers",
         "name": "should",
         "scene": "scene",
         "showlegend": true,
         "type": "scatter3d",
         "x": [
          -0.42188990116119385
         ],
         "y": [
          0.4557229280471802
         ],
         "z": [
          0.21706867218017578
         ]
        },
        {
         "hovertemplate": "color=take<br>0=%{x}<br>1=%{y}<br>2=%{z}<extra></extra>",
         "legendgroup": "take",
         "marker": {
          "color": "#ab63fa",
          "symbol": "circle"
         },
         "mode": "markers",
         "name": "take",
         "scene": "scene",
         "showlegend": true,
         "type": "scatter3d",
         "x": [
          -0.3316881060600281
         ],
         "y": [
          0.578380286693573
         ],
         "z": [
          0.3949695825576782
         ]
        },
        {
         "hovertemplate": "color=own<br>0=%{x}<br>1=%{y}<br>2=%{z}<extra></extra>",
         "legendgroup": "own",
         "marker": {
          "color": "#FFA15A",
          "symbol": "circle"
         },
         "mode": "markers",
         "name": "own",
         "scene": "scene",
         "showlegend": true,
         "type": "scatter3d",
         "x": [
          -0.18982695043087006
         ],
         "y": [
          0.5539442300796509
         ],
         "z": [
          0.1585978865623474
         ]
        },
        {
         "hovertemplate": "color=though<br>0=%{x}<br>1=%{y}<br>2=%{z}<extra></extra>",
         "legendgroup": "though",
         "marker": {
          "color": "#19d3f3",
          "symbol": "circle"
         },
         "mode": "markers",
         "name": "though",
         "scene": "scene",
         "showlegend": true,
         "type": "scatter3d",
         "x": [
          -0.13160452246665955
         ],
         "y": [
          0.44330766797065735
         ],
         "z": [
          0.08755408227443695
         ]
        },
        {
         "hovertemplate": "color=saw<br>0=%{x}<br>1=%{y}<br>2=%{z}<extra></extra>",
         "legendgroup": "saw",
         "marker": {
          "color": "#FF6692",
          "symbol": "circle"
         },
         "mode": "markers",
         "name": "saw",
         "scene": "scene",
         "showlegend": true,
         "type": "scatter3d",
         "x": [
          0.12126610428094864
         ],
         "y": [
          0.28942903876304626
         ],
         "z": [
          0.45176008343696594
         ]
        },
        {
         "hovertemplate": "color=make<br>0=%{x}<br>1=%{y}<br>2=%{z}<extra></extra>",
         "legendgroup": "make",
         "marker": {
          "color": "#B6E880",
          "symbol": "circle"
         },
         "mode": "markers",
         "name": "make",
         "scene": "scene",
         "showlegend": true,
         "type": "scatter3d",
         "x": [
          -0.3168773651123047
         ],
         "y": [
          0.4750196635723114
         ],
         "z": [
          0.3331184685230255
         ]
        },
        {
         "hovertemplate": "color=am<br>0=%{x}<br>1=%{y}<br>2=%{z}<extra></extra>",
         "legendgroup": "am",
         "marker": {
          "color": "#FF97FF",
          "symbol": "circle"
         },
         "mode": "markers",
         "name": "am",
         "scene": "scene",
         "showlegend": true,
         "type": "scatter3d",
         "x": [
          -0.486408531665802
         ],
         "y": [
          0.4278711974620819
         ],
         "z": [
          0.1517712026834488
         ]
        },
        {
         "hovertemplate": "color=half<br>0=%{x}<br>1=%{y}<br>2=%{z}<extra></extra>",
         "legendgroup": "half",
         "marker": {
          "color": "#FECB52",
          "symbol": "circle"
         },
         "mode": "markers",
         "name": "half",
         "scene": "scene",
         "showlegend": true,
         "type": "scatter3d",
         "x": [
          0.16932474076747894
         ],
         "y": [
          0.39480260014533997
         ],
         "z": [
          0.08970554918050766
         ]
        },
        {
         "hovertemplate": "color=himself<br>0=%{x}<br>1=%{y}<br>2=%{z}<extra></extra>",
         "legendgroup": "himself",
         "marker": {
          "color": "#636efa",
          "symbol": "circle"
         },
         "mode": "markers",
         "name": "himself",
         "scene": "scene",
         "showlegend": true,
         "type": "scatter3d",
         "x": [
          -0.04934349283576012
         ],
         "y": [
          0.3759429454803467
         ],
         "z": [
          0.23014388978481293
         ]
        },
        {
         "hovertemplate": "color=son<br>0=%{x}<br>1=%{y}<br>2=%{z}<extra></extra>",
         "legendgroup": "son",
         "marker": {
          "color": "#EF553B",
          "symbol": "circle"
         },
         "mode": "markers",
         "name": "son",
         "scene": "scene",
         "showlegend": true,
         "type": "scatter3d",
         "x": [
          -0.44993770122528076
         ],
         "y": [
          0.47162172198295593
         ],
         "z": [
          0.21042226254940033
         ]
        },
        {
         "hovertemplate": "color=dany<br>0=%{x}<br>1=%{y}<br>2=%{z}<extra></extra>",
         "legendgroup": "dany",
         "marker": {
          "color": "#00cc96",
          "symbol": "circle"
         },
         "mode": "markers",
         "name": "dany",
         "scene": "scene",
         "showlegend": true,
         "type": "scatter3d",
         "x": [
          0.06927406787872314
         ],
         "y": [
          0.35352271795272827
         ],
         "z": [
          -0.013978390954434872
         ]
        },
        {
         "hovertemplate": "color=white<br>0=%{x}<br>1=%{y}<br>2=%{z}<extra></extra>",
         "legendgroup": "white",
         "marker": {
          "color": "#ab63fa",
          "symbol": "circle"
         },
         "mode": "markers",
         "name": "white",
         "scene": "scene",
         "showlegend": true,
         "type": "scatter3d",
         "x": [
          0.27601358294487
         ],
         "y": [
          0.24227796494960785
         ],
         "z": [
          0.04596986994147301
         ]
        },
        {
         "hovertemplate": "color=look<br>0=%{x}<br>1=%{y}<br>2=%{z}<extra></extra>",
         "legendgroup": "look",
         "marker": {
          "color": "#FFA15A",
          "symbol": "circle"
         },
         "mode": "markers",
         "name": "look",
         "scene": "scene",
         "showlegend": true,
         "type": "scatter3d",
         "x": [
          -0.026677586138248444
         ],
         "y": [
          0.46829360723495483
         ],
         "z": [
          0.34132832288742065
         ]
        },
        {
         "hovertemplate": "color=wall<br>0=%{x}<br>1=%{y}<br>2=%{z}<extra></extra>",
         "legendgroup": "wall",
         "marker": {
          "color": "#19d3f3",
          "symbol": "circle"
         },
         "mode": "markers",
         "name": "wall",
         "scene": "scene",
         "showlegend": true,
         "type": "scatter3d",
         "x": [
          0.2691914737224579
         ],
         "y": [
          0.7041884660720825
         ],
         "z": [
          0.0015580434119328856
         ]
        },
        {
         "hovertemplate": "color=day<br>0=%{x}<br>1=%{y}<br>2=%{z}<extra></extra>",
         "legendgroup": "day",
         "marker": {
          "color": "#FF6692",
          "symbol": "circle"
         },
         "mode": "markers",
         "name": "day",
         "scene": "scene",
         "showlegend": true,
         "type": "scatter3d",
         "x": [
          -0.030963925644755363
         ],
         "y": [
          0.631505012512207
         ],
         "z": [
          0.05520423501729965
         ]
        },
        {
         "hovertemplate": "color=first<br>0=%{x}<br>1=%{y}<br>2=%{z}<extra></extra>",
         "legendgroup": "first",
         "marker": {
          "color": "#B6E880",
          "symbol": "circle"
         },
         "mode": "markers",
         "name": "first",
         "scene": "scene",
         "showlegend": true,
         "type": "scatter3d",
         "x": [
          -0.1065388172864914
         ],
         "y": [
          0.5505059361457825
         ],
         "z": [
          0.1735469102859497
         ]
        },
        {
         "hovertemplate": "color=looked<br>0=%{x}<br>1=%{y}<br>2=%{z}<extra></extra>",
         "legendgroup": "looked",
         "marker": {
          "color": "#FF97FF",
          "symbol": "circle"
         },
         "mode": "markers",
         "name": "looked",
         "scene": "scene",
         "showlegend": true,
         "type": "scatter3d",
         "x": [
          0.06818024069070816
         ],
         "y": [
          0.23410697281360626
         ],
         "z": [
          0.44865521788597107
         ]
        },
        {
         "hovertemplate": "color=great<br>0=%{x}<br>1=%{y}<br>2=%{z}<extra></extra>",
         "legendgroup": "great",
         "marker": {
          "color": "#FECB52",
          "symbol": "circle"
         },
         "mode": "markers",
         "name": "great",
         "scene": "scene",
         "showlegend": true,
         "type": "scatter3d",
         "x": [
          0.09080539643764496
         ],
         "y": [
          0.3970969617366791
         ],
         "z": [
          -0.2145775556564331
         ]
        },
        {
         "hovertemplate": "color=enough<br>0=%{x}<br>1=%{y}<br>2=%{z}<extra></extra>",
         "legendgroup": "enough",
         "marker": {
          "color": "#636efa",
          "symbol": "circle"
         },
         "mode": "markers",
         "name": "enough",
         "scene": "scene",
         "showlegend": true,
         "type": "scatter3d",
         "x": [
          -0.11261015385389328
         ],
         "y": [
          0.48300233483314514
         ],
         "z": [
          0.13312266767024994
         ]
        },
        {
         "hovertemplate": "color=sword<br>0=%{x}<br>1=%{y}<br>2=%{z}<extra></extra>",
         "legendgroup": "sword",
         "marker": {
          "color": "#EF553B",
          "symbol": "circle"
         },
         "mode": "markers",
         "name": "sword",
         "scene": "scene",
         "showlegend": true,
         "type": "scatter3d",
         "x": [
          0.1195301041007042
         ],
         "y": [
          0.48123443126678467
         ],
         "z": [
          0.2958790063858032
         ]
        },
        {
         "hovertemplate": "color=sansa<br>0=%{x}<br>1=%{y}<br>2=%{z}<extra></extra>",
         "legendgroup": "sansa",
         "marker": {
          "color": "#00cc96",
          "symbol": "circle"
         },
         "mode": "markers",
         "name": "sansa",
         "scene": "scene",
         "showlegend": true,
         "type": "scatter3d",
         "x": [
          -0.12673310935497284
         ],
         "y": [
          0.31129613518714905
         ],
         "z": [
          0.2585650682449341
         ]
        },
        {
         "hovertemplate": "color=want<br>0=%{x}<br>1=%{y}<br>2=%{z}<extra></extra>",
         "legendgroup": "want",
         "marker": {
          "color": "#ab63fa",
          "symbol": "circle"
         },
         "mode": "markers",
         "name": "want",
         "scene": "scene",
         "showlegend": true,
         "type": "scatter3d",
         "x": [
          -0.3239804804325104
         ],
         "y": [
          0.48718905448913574
         ],
         "z": [
          0.3190397024154663
         ]
        },
        {
         "hovertemplate": "color=much<br>0=%{x}<br>1=%{y}<br>2=%{z}<extra></extra>",
         "legendgroup": "much",
         "marker": {
          "color": "#FFA15A",
          "symbol": "circle"
         },
         "mode": "markers",
         "name": "much",
         "scene": "scene",
         "showlegend": true,
         "type": "scatter3d",
         "x": [
          -0.2173032909631729
         ],
         "y": [
          0.4877575635910034
         ],
         "z": [
          0.13561570644378662
         ]
        },
        {
         "hovertemplate": "color=after<br>0=%{x}<br>1=%{y}<br>2=%{z}<extra></extra>",
         "legendgroup": "after",
         "marker": {
          "color": "#19d3f3",
          "symbol": "circle"
         },
         "mode": "markers",
         "name": "after",
         "scene": "scene",
         "showlegend": true,
         "type": "scatter3d",
         "x": [
          -0.12994083762168884
         ],
         "y": [
          0.4132530987262726
         ],
         "z": [
          0.27271074056625366
         ]
        },
        {
         "hovertemplate": "color=tell<br>0=%{x}<br>1=%{y}<br>2=%{z}<extra></extra>",
         "legendgroup": "tell",
         "marker": {
          "color": "#FF6692",
          "symbol": "circle"
         },
         "mode": "markers",
         "name": "tell",
         "scene": "scene",
         "showlegend": true,
         "type": "scatter3d",
         "x": [
          -0.4212966561317444
         ],
         "y": [
          0.5357798337936401
         ],
         "z": [
          0.3875470757484436
         ]
        },
        {
         "hovertemplate": "color=knew<br>0=%{x}<br>1=%{y}<br>2=%{z}<extra></extra>",
         "legendgroup": "knew",
         "marker": {
          "color": "#B6E880",
          "symbol": "circle"
         },
         "mode": "markers",
         "name": "knew",
         "scene": "scene",
         "showlegend": true,
         "type": "scatter3d",
         "x": [
          -0.21270541846752167
         ],
         "y": [
          0.4754568934440613
         ],
         "z": [
          0.29343321919441223
         ]
        },
        {
         "hovertemplate": "color=its<br>0=%{x}<br>1=%{y}<br>2=%{z}<extra></extra>",
         "legendgroup": "its",
         "marker": {
          "color": "#FF97FF",
          "symbol": "circle"
         },
         "mode": "markers",
         "name": "its",
         "scene": "scene",
         "showlegend": true,
         "type": "scatter3d",
         "x": [
          0.4389350712299347
         ],
         "y": [
          0.26301702857017517
         ],
         "z": [
          -0.05574529990553856
         ]
        },
        {
         "hovertemplate": "color=our<br>0=%{x}<br>1=%{y}<br>2=%{z}<extra></extra>",
         "legendgroup": "our",
         "marker": {
          "color": "#FECB52",
          "symbol": "circle"
         },
         "mode": "markers",
         "name": "our",
         "scene": "scene",
         "showlegend": true,
         "type": "scatter3d",
         "x": [
          -0.3472912311553955
         ],
         "y": [
          0.5212330222129822
         ],
         "z": [
          -0.04208979383111
         ]
        },
        {
         "hovertemplate": "color=left<br>0=%{x}<br>1=%{y}<br>2=%{z}<extra></extra>",
         "legendgroup": "left",
         "marker": {
          "color": "#636efa",
          "symbol": "circle"
         },
         "mode": "markers",
         "name": "left",
         "scene": "scene",
         "showlegend": true,
         "type": "scatter3d",
         "x": [
          0.15290458500385284
         ],
         "y": [
          0.3771086037158966
         ],
         "z": [
          0.3660562336444855
         ]
        },
        {
         "hovertemplate": "color=yet<br>0=%{x}<br>1=%{y}<br>2=%{z}<extra></extra>",
         "legendgroup": "yet",
         "marker": {
          "color": "#EF553B",
          "symbol": "circle"
         },
         "mode": "markers",
         "name": "yet",
         "scene": "scene",
         "showlegend": true,
         "type": "scatter3d",
         "x": [
          -0.17892959713935852
         ],
         "y": [
          0.492249459028244
         ],
         "z": [
          0.044306572526693344
         ]
        },
        {
         "hovertemplate": "color=snow<br>0=%{x}<br>1=%{y}<br>2=%{z}<extra></extra>",
         "legendgroup": "snow",
         "marker": {
          "color": "#00cc96",
          "symbol": "circle"
         },
         "mode": "markers",
         "name": "snow",
         "scene": "scene",
         "showlegend": true,
         "type": "scatter3d",
         "x": [
          0.2389368861913681
         ],
         "y": [
          0.4235895574092865
         ],
         "z": [
          0.13887201249599457
         ]
        },
        {
         "hovertemplate": "color=gave<br>0=%{x}<br>1=%{y}<br>2=%{z}<extra></extra>",
         "legendgroup": "gave",
         "marker": {
          "color": "#ab63fa",
          "symbol": "circle"
         },
         "mode": "markers",
         "name": "gave",
         "scene": "scene",
         "showlegend": true,
         "type": "scatter3d",
         "x": [
          -0.19121132791042328
         ],
         "y": [
          0.07578808814287186
         ],
         "z": [
          0.6117910742759705
         ]
        },
        {
         "hovertemplate": "color=around<br>0=%{x}<br>1=%{y}<br>2=%{z}<extra></extra>",
         "legendgroup": "around",
         "marker": {
          "color": "#FFA15A",
          "symbol": "circle"
         },
         "mode": "markers",
         "name": "around",
         "scene": "scene",
         "showlegend": true,
         "type": "scatter3d",
         "x": [
          0.43846648931503296
         ],
         "y": [
          0.19353188574314117
         ],
         "z": [
          0.26513949036598206
         ]
        },
        {
         "hovertemplate": "color=every<br>0=%{x}<br>1=%{y}<br>2=%{z}<extra></extra>",
         "legendgroup": "every",
         "marker": {
          "color": "#19d3f3",
          "symbol": "circle"
         },
         "mode": "markers",
         "name": "every",
         "scene": "scene",
         "showlegend": true,
         "type": "scatter3d",
         "x": [
          0.0498439185321331
         ],
         "y": [
          0.41877317428588867
         ],
         "z": [
          0.09134387969970703
         ]
        },
        {
         "hovertemplate": "color=asked<br>0=%{x}<br>1=%{y}<br>2=%{z}<extra></extra>",
         "legendgroup": "asked",
         "marker": {
          "color": "#FF6692",
          "symbol": "circle"
         },
         "mode": "markers",
         "name": "asked",
         "scene": "scene",
         "showlegend": true,
         "type": "scatter3d",
         "x": [
          -0.3896292746067047
         ],
         "y": [
          0.2778984010219574
         ],
         "z": [
          0.589834988117218
         ]
        },
        {
         "hovertemplate": "color=heard<br>0=%{x}<br>1=%{y}<br>2=%{z}<extra></extra>",
         "legendgroup": "heard",
         "marker": {
          "color": "#B6E880",
          "symbol": "circle"
         },
         "mode": "markers",
         "name": "heard",
         "scene": "scene",
         "showlegend": true,
         "type": "scatter3d",
         "x": [
          -0.0768565982580185
         ],
         "y": [
          0.3535121977329254
         ],
         "z": [
          0.37582507729530334
         ]
        },
        {
         "hovertemplate": "color=turned<br>0=%{x}<br>1=%{y}<br>2=%{z}<extra></extra>",
         "legendgroup": "turned",
         "marker": {
          "color": "#FF97FF",
          "symbol": "circle"
         },
         "mode": "markers",
         "name": "turned",
         "scene": "scene",
         "showlegend": true,
         "type": "scatter3d",
         "x": [
          0.17405425012111664
         ],
         "y": [
          0.24858911335468292
         ],
         "z": [
          0.5506436824798584
         ]
        },
        {
         "hovertemplate": "color=behind<br>0=%{x}<br>1=%{y}<br>2=%{z}<extra></extra>",
         "legendgroup": "behind",
         "marker": {
          "color": "#FECB52",
          "symbol": "circle"
         },
         "mode": "markers",
         "name": "behind",
         "scene": "scene",
         "showlegend": true,
         "type": "scatter3d",
         "x": [
          0.29369422793388367
         ],
         "y": [
          0.26973411440849304
         ],
         "z": [
          0.21095719933509827
         ]
        },
        {
         "hovertemplate": "color=girl<br>0=%{x}<br>1=%{y}<br>2=%{z}<extra></extra>",
         "legendgroup": "girl",
         "marker": {
          "color": "#636efa",
          "symbol": "circle"
         },
         "mode": "markers",
         "name": "girl",
         "scene": "scene",
         "showlegend": true,
         "type": "scatter3d",
         "x": [
          -0.1869068294763565
         ],
         "y": [
          0.3683510720729828
         ],
         "z": [
          0.17740359902381897
         ]
        },
        {
         "hovertemplate": "color=let<br>0=%{x}<br>1=%{y}<br>2=%{z}<extra></extra>",
         "legendgroup": "let",
         "marker": {
          "color": "#EF553B",
          "symbol": "circle"
         },
         "mode": "markers",
         "name": "let",
         "scene": "scene",
         "showlegend": true,
         "type": "scatter3d",
         "x": [
          -0.1947309374809265
         ],
         "y": [
          0.36661794781684875
         ],
         "z": [
          0.439203679561615
         ]
        },
        {
         "hovertemplate": "color=why<br>0=%{x}<br>1=%{y}<br>2=%{z}<extra></extra>",
         "legendgroup": "why",
         "marker": {
          "color": "#00cc96",
          "symbol": "circle"
         },
         "mode": "markers",
         "name": "why",
         "scene": "scene",
         "showlegend": true,
         "type": "scatter3d",
         "x": [
          -0.4577523469924927
         ],
         "y": [
          0.5275688767433167
         ],
         "z": [
          0.16251865029335022
         ]
        },
        {
         "hovertemplate": "color=went<br>0=%{x}<br>1=%{y}<br>2=%{z}<extra></extra>",
         "legendgroup": "went",
         "marker": {
          "color": "#ab63fa",
          "symbol": "circle"
         },
         "mode": "markers",
         "name": "went",
         "scene": "scene",
         "showlegend": true,
         "type": "scatter3d",
         "x": [
          0.24382448196411133
         ],
         "y": [
          0.32245969772338867
         ],
         "z": [
          0.5319965481758118
         ]
        },
        {
         "hovertemplate": "color=maester<br>0=%{x}<br>1=%{y}<br>2=%{z}<extra></extra>",
         "legendgroup": "maester",
         "marker": {
          "color": "#FFA15A",
          "symbol": "circle"
         },
         "mode": "markers",
         "name": "maester",
         "scene": "scene",
         "showlegend": true,
         "type": "scatter3d",
         "x": [
          -0.19999870657920837
         ],
         "y": [
          0.3339836001396179
         ],
         "z": [
          0.21641115844249725
         ]
        },
        {
         "hovertemplate": "color=called<br>0=%{x}<br>1=%{y}<br>2=%{z}<extra></extra>",
         "legendgroup": "called",
         "marker": {
          "color": "#19d3f3",
          "symbol": "circle"
         },
         "mode": "markers",
         "name": "called",
         "scene": "scene",
         "showlegend": true,
         "type": "scatter3d",
         "x": [
          -0.3316785991191864
         ],
         "y": [
          0.2407071590423584
         ],
         "z": [
          0.3641144931316376
         ]
        },
        {
         "hovertemplate": "color=catelyn<br>0=%{x}<br>1=%{y}<br>2=%{z}<extra></extra>",
         "legendgroup": "catelyn",
         "marker": {
          "color": "#FF6692",
          "symbol": "circle"
         },
         "mode": "markers",
         "name": "catelyn",
         "scene": "scene",
         "showlegend": true,
         "type": "scatter3d",
         "x": [
          -0.13610215485095978
         ],
         "y": [
          0.3469638228416443
         ],
         "z": [
          0.10845053941011429
         ]
        },
        {
         "hovertemplate": "color=stark<br>0=%{x}<br>1=%{y}<br>2=%{z}<extra></extra>",
         "legendgroup": "stark",
         "marker": {
          "color": "#B6E880",
          "symbol": "circle"
         },
         "mode": "markers",
         "name": "stark",
         "scene": "scene",
         "showlegend": true,
         "type": "scatter3d",
         "x": [
          -0.2820555567741394
         ],
         "y": [
          0.5023375749588013
         ],
         "z": [
          0.2672417163848877
         ]
        },
        {
         "hovertemplate": "color=just<br>0=%{x}<br>1=%{y}<br>2=%{z}<extra></extra>",
         "legendgroup": "just",
         "marker": {
          "color": "#FF97FF",
          "symbol": "circle"
         },
         "mode": "markers",
         "name": "just",
         "scene": "scene",
         "showlegend": true,
         "type": "scatter3d",
         "x": [
          -0.09461767971515656
         ],
         "y": [
          0.4929523169994354
         ],
         "z": [
          0.26595258712768555
         ]
        },
        {
         "hovertemplate": "color=need<br>0=%{x}<br>1=%{y}<br>2=%{z}<extra></extra>",
         "legendgroup": "need",
         "marker": {
          "color": "#FECB52",
          "symbol": "circle"
         },
         "mode": "markers",
         "name": "need",
         "scene": "scene",
         "showlegend": true,
         "type": "scatter3d",
         "x": [
          -0.2983545660972595
         ],
         "y": [
          0.5333628058433533
         ],
         "z": [
          0.20888817310333252
         ]
        },
        {
         "hovertemplate": "color=robb<br>0=%{x}<br>1=%{y}<br>2=%{z}<extra></extra>",
         "legendgroup": "robb",
         "marker": {
          "color": "#636efa",
          "symbol": "circle"
         },
         "mode": "markers",
         "name": "robb",
         "scene": "scene",
         "showlegend": true,
         "type": "scatter3d",
         "x": [
          -0.24102722108364105
         ],
         "y": [
          0.4672585129737854
         ],
         "z": [
          0.19208045303821564
         ]
        },
        {
         "hovertemplate": "color=stannis<br>0=%{x}<br>1=%{y}<br>2=%{z}<extra></extra>",
         "legendgroup": "stannis",
         "marker": {
          "color": "#EF553B",
          "symbol": "circle"
         },
         "mode": "markers",
         "name": "stannis",
         "scene": "scene",
         "showlegend": true,
         "type": "scatter3d",
         "x": [
          -0.23951482772827148
         ],
         "y": [
          0.625543475151062
         ],
         "z": [
          0.00041251452057622373
         ]
        },
        {
         "hovertemplate": "color=gods<br>0=%{x}<br>1=%{y}<br>2=%{z}<extra></extra>",
         "legendgroup": "gods",
         "marker": {
          "color": "#00cc96",
          "symbol": "circle"
         },
         "mode": "markers",
         "name": "gods",
         "scene": "scene",
         "showlegend": true,
         "type": "scatter3d",
         "x": [
          -0.2751762866973877
         ],
         "y": [
          0.6181480288505554
         ],
         "z": [
          -0.04433504864573479
         ]
        },
        {
         "hovertemplate": "color=across<br>0=%{x}<br>1=%{y}<br>2=%{z}<extra></extra>",
         "legendgroup": "across",
         "marker": {
          "color": "#ab63fa",
          "symbol": "circle"
         },
         "mode": "markers",
         "name": "across",
         "scene": "scene",
         "showlegend": true,
         "type": "scatter3d",
         "x": [
          0.38007912039756775
         ],
         "y": [
          0.17782355844974518
         ],
         "z": [
          0.209080308675766
         ]
        },
        {
         "hovertemplate": "color=keep<br>0=%{x}<br>1=%{y}<br>2=%{z}<extra></extra>",
         "legendgroup": "keep",
         "marker": {
          "color": "#FFA15A",
          "symbol": "circle"
         },
         "mode": "markers",
         "name": "keep",
         "scene": "scene",
         "showlegend": true,
         "type": "scatter3d",
         "x": [
          -0.05293714627623558
         ],
         "y": [
          0.58011794090271
         ],
         "z": [
          0.27051031589508057
         ]
        },
        {
         "hovertemplate": "color=woman<br>0=%{x}<br>1=%{y}<br>2=%{z}<extra></extra>",
         "legendgroup": "woman",
         "marker": {
          "color": "#19d3f3",
          "symbol": "circle"
         },
         "mode": "markers",
         "name": "woman",
         "scene": "scene",
         "showlegend": true,
         "type": "scatter3d",
         "x": [
          -0.05799076706171036
         ],
         "y": [
          0.37971290946006775
         ],
         "z": [
          0.15201394259929657
         ]
        },
        {
         "hovertemplate": "color=those<br>0=%{x}<br>1=%{y}<br>2=%{z}<extra></extra>",
         "legendgroup": "those",
         "marker": {
          "color": "#FF6692",
          "symbol": "circle"
         },
         "mode": "markers",
         "name": "those",
         "scene": "scene",
         "showlegend": true,
         "type": "scatter3d",
         "x": [
          -0.047174081206321716
         ],
         "y": [
          0.5269904136657715
         ],
         "z": [
          -0.20886851847171783
         ]
        },
        {
         "hovertemplate": "color=last<br>0=%{x}<br>1=%{y}<br>2=%{z}<extra></extra>",
         "legendgroup": "last",
         "marker": {
          "color": "#B6E880",
          "symbol": "circle"
         },
         "mode": "markers",
         "name": "last",
         "scene": "scene",
         "showlegend": true,
         "type": "scatter3d",
         "x": [
          -0.05405215919017792
         ],
         "y": [
          0.49467235803604126
         ],
         "z": [
          0.1889781504869461
         ]
        },
        {
         "hovertemplate": "color=another<br>0=%{x}<br>1=%{y}<br>2=%{z}<extra></extra>",
         "legendgroup": "another",
         "marker": {
          "color": "#FF97FF",
          "symbol": "circle"
         },
         "mode": "markers",
         "name": "another",
         "scene": "scene",
         "showlegend": true,
         "type": "scatter3d",
         "x": [
          0.03637167066335678
         ],
         "y": [
          0.4120210111141205
         ],
         "z": [
          0.19070689380168915
         ]
        },
        {
         "hovertemplate": "color=any<br>0=%{x}<br>1=%{y}<br>2=%{z}<extra></extra>",
         "legendgroup": "any",
         "marker": {
          "color": "#FECB52",
          "symbol": "circle"
         },
         "mode": "markers",
         "name": "any",
         "scene": "scene",
         "showlegend": true,
         "type": "scatter3d",
         "x": [
          -0.29173389077186584
         ],
         "y": [
          0.5243397355079651
         ],
         "z": [
          0.020253311842679977
         ]
        },
        {
         "hovertemplate": "color=think<br>0=%{x}<br>1=%{y}<br>2=%{z}<extra></extra>",
         "legendgroup": "think",
         "marker": {
          "color": "#636efa",
          "symbol": "circle"
         },
         "mode": "markers",
         "name": "think",
         "scene": "scene",
         "showlegend": true,
         "type": "scatter3d",
         "x": [
          -0.3412567675113678
         ],
         "y": [
          0.5817443132400513
         ],
         "z": [
          0.27117809653282166
         ]
        },
        {
         "hovertemplate": "color=feet<br>0=%{x}<br>1=%{y}<br>2=%{z}<extra></extra>",
         "legendgroup": "feet",
         "marker": {
          "color": "#EF553B",
          "symbol": "circle"
         },
         "mode": "markers",
         "name": "feet",
         "scene": "scene",
         "showlegend": true,
         "type": "scatter3d",
         "x": [
          0.4149181842803955
         ],
         "y": [
          0.3870549499988556
         ],
         "z": [
          0.3182530403137207
         ]
        },
        {
         "hovertemplate": "color=found<br>0=%{x}<br>1=%{y}<br>2=%{z}<extra></extra>",
         "legendgroup": "found",
         "marker": {
          "color": "#00cc96",
          "symbol": "circle"
         },
         "mode": "markers",
         "name": "found",
         "scene": "scene",
         "showlegend": true,
         "type": "scatter3d",
         "x": [
          0.08475512266159058
         ],
         "y": [
          0.3200826942920685
         ],
         "z": [
          0.4339310824871063
         ]
        },
        {
         "hovertemplate": "color=beneath<br>0=%{x}<br>1=%{y}<br>2=%{z}<extra></extra>",
         "legendgroup": "beneath",
         "marker": {
          "color": "#ab63fa",
          "symbol": "circle"
         },
         "mode": "markers",
         "name": "beneath",
         "scene": "scene",
         "showlegend": true,
         "type": "scatter3d",
         "x": [
          0.43747463822364807
         ],
         "y": [
          0.20162877440452576
         ],
         "z": [
          0.18750905990600586
         ]
        },
        {
         "hovertemplate": "color=against<br>0=%{x}<br>1=%{y}<br>2=%{z}<extra></extra>",
         "legendgroup": "against",
         "marker": {
          "color": "#FFA15A",
          "symbol": "circle"
         },
         "mode": "markers",
         "name": "against",
         "scene": "scene",
         "showlegend": true,
         "type": "scatter3d",
         "x": [
          0.131898894906044
         ],
         "y": [
          0.2661605179309845
         ],
         "z": [
          0.2822208106517792
         ]
        },
        {
         "hovertemplate": "color=hands<br>0=%{x}<br>1=%{y}<br>2=%{z}<extra></extra>",
         "legendgroup": "hands",
         "marker": {
          "color": "#19d3f3",
          "symbol": "circle"
         },
         "mode": "markers",
         "name": "hands",
         "scene": "scene",
         "showlegend": true,
         "type": "scatter3d",
         "x": [
          0.29683104157447815
         ],
         "y": [
          0.40782761573791504
         ],
         "z": [
          0.3343004286289215
         ]
        },
        {
         "hovertemplate": "color=castle<br>0=%{x}<br>1=%{y}<br>2=%{z}<extra></extra>",
         "legendgroup": "castle",
         "marker": {
          "color": "#FF6692",
          "symbol": "circle"
         },
         "mode": "markers",
         "name": "castle",
         "scene": "scene",
         "showlegend": true,
         "type": "scatter3d",
         "x": [
          0.005189151037484407
         ],
         "y": [
          0.7320679426193237
         ],
         "z": [
          -0.11637328565120697
         ]
        },
        {
         "hovertemplate": "color=knight<br>0=%{x}<br>1=%{y}<br>2=%{z}<extra></extra>",
         "legendgroup": "knight",
         "marker": {
          "color": "#B6E880",
          "symbol": "circle"
         },
         "mode": "markers",
         "name": "knight",
         "scene": "scene",
         "showlegend": true,
         "type": "scatter3d",
         "x": [
          -0.19931767880916595
         ],
         "y": [
          0.38841530680656433
         ],
         "z": [
          0.1406475305557251
         ]
        },
        {
         "hovertemplate": "color=gold<br>0=%{x}<br>1=%{y}<br>2=%{z}<extra></extra>",
         "legendgroup": "gold",
         "marker": {
          "color": "#FF97FF",
          "symbol": "circle"
         },
         "mode": "markers",
         "name": "gold",
         "scene": "scene",
         "showlegend": true,
         "type": "scatter3d",
         "x": [
          0.034408293664455414
         ],
         "y": [
          0.4524691104888916
         ],
         "z": [
          -0.11224977672100067
         ]
        },
        {
         "hovertemplate": "color=ned<br>0=%{x}<br>1=%{y}<br>2=%{z}<extra></extra>",
         "legendgroup": "ned",
         "marker": {
          "color": "#FECB52",
          "symbol": "circle"
         },
         "mode": "markers",
         "name": "ned",
         "scene": "scene",
         "showlegend": true,
         "type": "scatter3d",
         "x": [
          -0.15090270340442657
         ],
         "y": [
          0.37443238496780396
         ],
         "z": [
          0.18145933747291565
         ]
        },
        {
         "hovertemplate": "color=many<br>0=%{x}<br>1=%{y}<br>2=%{z}<extra></extra>",
         "legendgroup": "many",
         "marker": {
          "color": "#636efa",
          "symbol": "circle"
         },
         "mode": "markers",
         "name": "many",
         "scene": "scene",
         "showlegend": true,
         "type": "scatter3d",
         "x": [
          -0.14200051128864288
         ],
         "y": [
          0.5135923624038696
         ],
         "z": [
          -0.15603022277355194
         ]
        },
        {
         "hovertemplate": "color=re<br>0=%{x}<br>1=%{y}<br>2=%{z}<extra></extra>",
         "legendgroup": "re",
         "marker": {
          "color": "#EF553B",
          "symbol": "circle"
         },
         "mode": "markers",
         "name": "re",
         "scene": "scene",
         "showlegend": true,
         "type": "scatter3d",
         "x": [
          -0.22580218315124512
         ],
         "y": [
          0.36860203742980957
         ],
         "z": [
          0.2674197852611542
         ]
        },
        {
         "hovertemplate": "color=jaime<br>0=%{x}<br>1=%{y}<br>2=%{z}<extra></extra>",
         "legendgroup": "jaime",
         "marker": {
          "color": "#00cc96",
          "symbol": "circle"
         },
         "mode": "markers",
         "name": "jaime",
         "scene": "scene",
         "showlegend": true,
         "type": "scatter3d",
         "x": [
          -0.1460382044315338
         ],
         "y": [
          0.37443965673446655
         ],
         "z": [
          0.20379315316677094
         ]
        },
        {
         "hovertemplate": "color=seemed<br>0=%{x}<br>1=%{y}<br>2=%{z}<extra></extra>",
         "legendgroup": "seemed",
         "marker": {
          "color": "#ab63fa",
          "symbol": "circle"
         },
         "mode": "markers",
         "name": "seemed",
         "scene": "scene",
         "showlegend": true,
         "type": "scatter3d",
         "x": [
          0.004644365981221199
         ],
         "y": [
          0.31188398599624634
         ],
         "z": [
          0.2597186863422394
         ]
        },
        {
         "hovertemplate": "color=horse<br>0=%{x}<br>1=%{y}<br>2=%{z}<extra></extra>",
         "legendgroup": "horse",
         "marker": {
          "color": "#FFA15A",
          "symbol": "circle"
         },
         "mode": "markers",
         "name": "horse",
         "scene": "scene",
         "showlegend": true,
         "type": "scatter3d",
         "x": [
          0.28147315979003906
         ],
         "y": [
          0.3932228684425354
         ],
         "z": [
          0.3030454218387604
         ]
        },
        {
         "hovertemplate": "color=lannister<br>0=%{x}<br>1=%{y}<br>2=%{z}<extra></extra>",
         "legendgroup": "lannister",
         "marker": {
          "color": "#19d3f3",
          "symbol": "circle"
         },
         "mode": "markers",
         "name": "lannister",
         "scene": "scene",
         "showlegend": true,
         "type": "scatter3d",
         "x": [
          -0.27228111028671265
         ],
         "y": [
          0.47238996624946594
         ],
         "z": [
          0.18583735823631287
         ]
        },
        {
         "hovertemplate": "color=fire<br>0=%{x}<br>1=%{y}<br>2=%{z}<extra></extra>",
         "legendgroup": "fire",
         "marker": {
          "color": "#FF6692",
          "symbol": "circle"
         },
         "mode": "markers",
         "name": "fire",
         "scene": "scene",
         "showlegend": true,
         "type": "scatter3d",
         "x": [
          0.4247300922870636
         ],
         "y": [
          0.5352500677108765
         ],
         "z": [
          -0.008587020449340343
         ]
        },
        {
         "hovertemplate": "color=grace<br>0=%{x}<br>1=%{y}<br>2=%{z}<extra></extra>",
         "legendgroup": "grace",
         "marker": {
          "color": "#B6E880",
          "symbol": "circle"
         },
         "mode": "markers",
         "name": "grace",
         "scene": "scene",
         "showlegend": true,
         "type": "scatter3d",
         "x": [
          -0.4079187214374542
         ],
         "y": [
          0.5792402625083923
         ],
         "z": [
          0.0752602070569992
         ]
        },
        {
         "hovertemplate": "color=don<br>0=%{x}<br>1=%{y}<br>2=%{z}<extra></extra>",
         "legendgroup": "don",
         "marker": {
          "color": "#FF97FF",
          "symbol": "circle"
         },
         "mode": "markers",
         "name": "don",
         "scene": "scene",
         "showlegend": true,
         "type": "scatter3d",
         "x": [
          -0.3394516408443451
         ],
         "y": [
          0.3095555305480957
         ],
         "z": [
          0.2525496482849121
         ]
        },
        {
         "hovertemplate": "color=hair<br>0=%{x}<br>1=%{y}<br>2=%{z}<extra></extra>",
         "legendgroup": "hair",
         "marker": {
          "color": "#FECB52",
          "symbol": "circle"
         },
         "mode": "markers",
         "name": "hair",
         "scene": "scene",
         "showlegend": true,
         "type": "scatter3d",
         "x": [
          0.26390695571899414
         ],
         "y": [
          0.22026744484901428
         ],
         "z": [
          0.25977709889411926
         ]
        },
        {
         "hovertemplate": "color=done<br>0=%{x}<br>1=%{y}<br>2=%{z}<extra></extra>",
         "legendgroup": "done",
         "marker": {
          "color": "#636efa",
          "symbol": "circle"
         },
         "mode": "markers",
         "name": "done",
         "scene": "scene",
         "showlegend": true,
         "type": "scatter3d",
         "x": [
          -0.31552940607070923
         ],
         "y": [
          0.5474700331687927
         ],
         "z": [
          0.29457545280456543
         ]
        },
        {
         "hovertemplate": "color=ever<br>0=%{x}<br>1=%{y}<br>2=%{z}<extra></extra>",
         "legendgroup": "ever",
         "marker": {
          "color": "#EF553B",
          "symbol": "circle"
         },
         "mode": "markers",
         "name": "ever",
         "scene": "scene",
         "showlegend": true,
         "type": "scatter3d",
         "x": [
          -0.2827089726924896
         ],
         "y": [
          0.4527041018009186
         ],
         "z": [
          0.061046112328767776
         ]
        },
        {
         "hovertemplate": "color=robert<br>0=%{x}<br>1=%{y}<br>2=%{z}<extra></extra>",
         "legendgroup": "robert",
         "marker": {
          "color": "#00cc96",
          "symbol": "circle"
         },
         "mode": "markers",
         "name": "robert",
         "scene": "scene",
         "showlegend": true,
         "type": "scatter3d",
         "x": [
          -0.38758283853530884
         ],
         "y": [
          0.507034420967102
         ],
         "z": [
          0.08915381878614426
         ]
        },
        {
         "hovertemplate": "color=mother<br>0=%{x}<br>1=%{y}<br>2=%{z}<extra></extra>",
         "legendgroup": "mother",
         "marker": {
          "color": "#ab63fa",
          "symbol": "circle"
         },
         "mode": "markers",
         "name": "mother",
         "scene": "scene",
         "showlegend": true,
         "type": "scatter3d",
         "x": [
          -0.323012113571167
         ],
         "y": [
          0.5125593543052673
         ],
         "z": [
          0.12515611946582794
         ]
        },
        {
         "hovertemplate": "color=prince<br>0=%{x}<br>1=%{y}<br>2=%{z}<extra></extra>",
         "legendgroup": "prince",
         "marker": {
          "color": "#FFA15A",
          "symbol": "circle"
         },
         "mode": "markers",
         "name": "prince",
         "scene": "scene",
         "showlegend": true,
         "type": "scatter3d",
         "x": [
          -0.40474992990493774
         ],
         "y": [
          0.444865345954895
         ],
         "z": [
          0.17069081962108612
         ]
        },
        {
         "hovertemplate": "color=hear<br>0=%{x}<br>1=%{y}<br>2=%{z}<extra></extra>",
         "legendgroup": "hear",
         "marker": {
          "color": "#19d3f3",
          "symbol": "circle"
         },
         "mode": "markers",
         "name": "hear",
         "scene": "scene",
         "showlegend": true,
         "type": "scatter3d",
         "x": [
          -0.11165425181388855
         ],
         "y": [
          0.4377562999725342
         ],
         "z": [
          0.3404163718223572
         ]
        },
        {
         "hovertemplate": "color=hard<br>0=%{x}<br>1=%{y}<br>2=%{z}<extra></extra>",
         "legendgroup": "hard",
         "marker": {
          "color": "#FF6692",
          "symbol": "circle"
         },
         "mode": "markers",
         "name": "hard",
         "scene": "scene",
         "showlegend": true,
         "type": "scatter3d",
         "x": [
          0.27894845604896545
         ],
         "y": [
          0.30304065346717834
         ],
         "z": [
          0.22537901997566223
         ]
        },
        {
         "hovertemplate": "color=winterfell<br>0=%{x}<br>1=%{y}<br>2=%{z}<extra></extra>",
         "legendgroup": "winterfell",
         "marker": {
          "color": "#B6E880",
          "symbol": "circle"
         },
         "mode": "markers",
         "name": "winterfell",
         "scene": "scene",
         "showlegend": true,
         "type": "scatter3d",
         "x": [
          -0.14956213533878326
         ],
         "y": [
          0.6834938526153564
         ],
         "z": [
          0.050786953419446945
         ]
        },
        {
         "hovertemplate": "color=stone<br>0=%{x}<br>1=%{y}<br>2=%{z}<extra></extra>",
         "legendgroup": "stone",
         "marker": {
          "color": "#FF97FF",
          "symbol": "circle"
         },
         "mode": "markers",
         "name": "stone",
         "scene": "scene",
         "showlegend": true,
         "type": "scatter3d",
         "x": [
          0.5583940148353577
         ],
         "y": [
          0.35358479619026184
         ],
         "z": [
          -0.09459162503480911
         ]
        },
        {
         "hovertemplate": "color=grey<br>0=%{x}<br>1=%{y}<br>2=%{z}<extra></extra>",
         "legendgroup": "grey",
         "marker": {
          "color": "#FECB52",
          "symbol": "circle"
         },
         "mode": "markers",
         "name": "grey",
         "scene": "scene",
         "showlegend": true,
         "type": "scatter3d",
         "x": [
          0.3344528377056122
         ],
         "y": [
          0.19186580181121826
         ],
         "z": [
          0.06165765970945358
         ]
        },
        {
         "hovertemplate": "color=may<br>0=%{x}<br>1=%{y}<br>2=%{z}<extra></extra>",
         "legendgroup": "may",
         "marker": {
          "color": "#636efa",
          "symbol": "circle"
         },
         "mode": "markers",
         "name": "may",
         "scene": "scene",
         "showlegend": true,
         "type": "scatter3d",
         "x": [
          -0.4089012145996094
         ],
         "y": [
          0.43205559253692627
         ],
         "z": [
          0.1537688970565796
         ]
        },
        {
         "hovertemplate": "color=water<br>0=%{x}<br>1=%{y}<br>2=%{z}<extra></extra>",
         "legendgroup": "water",
         "marker": {
          "color": "#EF553B",
          "symbol": "circle"
         },
         "mode": "markers",
         "name": "water",
         "scene": "scene",
         "showlegend": true,
         "type": "scatter3d",
         "x": [
          0.5245571136474609
         ],
         "y": [
          0.4013723134994507
         ],
         "z": [
          0.06011584401130676
         ]
        },
        {
         "hovertemplate": "color=find<br>0=%{x}<br>1=%{y}<br>2=%{z}<extra></extra>",
         "legendgroup": "find",
         "marker": {
          "color": "#00cc96",
          "symbol": "circle"
         },
         "mode": "markers",
         "name": "find",
         "scene": "scene",
         "showlegend": true,
         "type": "scatter3d",
         "x": [
          -0.23823517560958862
         ],
         "y": [
          0.5497706532478333
         ],
         "z": [
          0.3518100082874298
         ]
        },
        {
         "hovertemplate": "color=wine<br>0=%{x}<br>1=%{y}<br>2=%{z}<extra></extra>",
         "legendgroup": "wine",
         "marker": {
          "color": "#ab63fa",
          "symbol": "circle"
         },
         "mode": "markers",
         "name": "wine",
         "scene": "scene",
         "showlegend": true,
         "type": "scatter3d",
         "x": [
          0.07221910357475281
         ],
         "y": [
          0.3192363381385803
         ],
         "z": [
          0.2037159651517868
         ]
        },
        {
         "hovertemplate": "color=until<br>0=%{x}<br>1=%{y}<br>2=%{z}<extra></extra>",
         "legendgroup": "until",
         "marker": {
          "color": "#FFA15A",
          "symbol": "circle"
         },
         "mode": "markers",
         "name": "until",
         "scene": "scene",
         "showlegend": true,
         "type": "scatter3d",
         "x": [
          0.16419745981693268
         ],
         "y": [
          0.4211636781692505
         ],
         "z": [
          0.2676440179347992
         ]
        },
        {
         "hovertemplate": "color=high<br>0=%{x}<br>1=%{y}<br>2=%{z}<extra></extra>",
         "legendgroup": "high",
         "marker": {
          "color": "#19d3f3",
          "symbol": "circle"
         },
         "mode": "markers",
         "name": "high",
         "scene": "scene",
         "showlegend": true,
         "type": "scatter3d",
         "x": [
          0.11527371406555176
         ],
         "y": [
          0.36352649331092834
         ],
         "z": [
          -0.058684464544057846
         ]
        },
        {
         "hovertemplate": "color=name<br>0=%{x}<br>1=%{y}<br>2=%{z}<extra></extra>",
         "legendgroup": "name",
         "marker": {
          "color": "#FF6692",
          "symbol": "circle"
         },
         "mode": "markers",
         "name": "name",
         "scene": "scene",
         "showlegend": true,
         "type": "scatter3d",
         "x": [
          -0.3782230019569397
         ],
         "y": [
          0.5519433617591858
         ],
         "z": [
          0.24321551620960236
         ]
        },
        {
         "hovertemplate": "color=gone<br>0=%{x}<br>1=%{y}<br>2=%{z}<extra></extra>",
         "legendgroup": "gone",
         "marker": {
          "color": "#B6E880",
          "symbol": "circle"
         },
         "mode": "markers",
         "name": "gone",
         "scene": "scene",
         "showlegend": true,
         "type": "scatter3d",
         "x": [
          0.0476546473801136
         ],
         "y": [
          0.46732378005981445
         ],
         "z": [
          0.3000774383544922
         ]
        },
        {
         "hovertemplate": "color=voice<br>0=%{x}<br>1=%{y}<br>2=%{z}<extra></extra>",
         "legendgroup": "voice",
         "marker": {
          "color": "#FF97FF",
          "symbol": "circle"
         },
         "mode": "markers",
         "name": "voice",
         "scene": "scene",
         "showlegend": true,
         "type": "scatter3d",
         "x": [
          0.01233647856861353
         ],
         "y": [
          0.2708628475666046
         ],
         "z": [
          0.27004092931747437
         ]
        },
        {
         "hovertemplate": "color=between<br>0=%{x}<br>1=%{y}<br>2=%{z}<extra></extra>",
         "legendgroup": "between",
         "marker": {
          "color": "#FECB52",
          "symbol": "circle"
         },
         "mode": "markers",
         "name": "between",
         "scene": "scene",
         "showlegend": true,
         "type": "scatter3d",
         "x": [
          0.24874916672706604
         ],
         "y": [
          0.18938355147838593
         ],
         "z": [
          0.21500077843666077
         ]
        },
        {
         "hovertemplate": "color=dark<br>0=%{x}<br>1=%{y}<br>2=%{z}<extra></extra>",
         "legendgroup": "dark",
         "marker": {
          "color": "#636efa",
          "symbol": "circle"
         },
         "mode": "markers",
         "name": "dark",
         "scene": "scene",
         "showlegend": true,
         "type": "scatter3d",
         "x": [
          0.45892855525016785
         ],
         "y": [
          0.3055136501789093
         ],
         "z": [
          0.002107498934492469
         ]
        },
        {
         "hovertemplate": "color=put<br>0=%{x}<br>1=%{y}<br>2=%{z}<extra></extra>",
         "legendgroup": "put",
         "marker": {
          "color": "#EF553B",
          "symbol": "circle"
         },
         "mode": "markers",
         "name": "put",
         "scene": "scene",
         "showlegend": true,
         "type": "scatter3d",
         "x": [
          -0.212217777967453
         ],
         "y": [
          0.4373326897621155
         ],
         "z": [
          0.560769259929657
         ]
        },
        {
         "hovertemplate": "color=give<br>0=%{x}<br>1=%{y}<br>2=%{z}<extra></extra>",
         "legendgroup": "give",
         "marker": {
          "color": "#00cc96",
          "symbol": "circle"
         },
         "mode": "markers",
         "name": "give",
         "scene": "scene",
         "showlegend": true,
         "type": "scatter3d",
         "x": [
          -0.4203242063522339
         ],
         "y": [
          0.4173242449760437
         ],
         "z": [
          0.44533592462539673
         ]
        },
        {
         "hovertemplate": "color=these<br>0=%{x}<br>1=%{y}<br>2=%{z}<extra></extra>",
         "legendgroup": "these",
         "marker": {
          "color": "#ab63fa",
          "symbol": "circle"
         },
         "mode": "markers",
         "name": "these",
         "scene": "scene",
         "showlegend": true,
         "type": "scatter3d",
         "x": [
          -0.29751884937286377
         ],
         "y": [
          0.5932430028915405
         ],
         "z": [
          -0.2455797791481018
         ]
        },
        {
         "hovertemplate": "color=seen<br>0=%{x}<br>1=%{y}<br>2=%{z}<extra></extra>",
         "legendgroup": "seen",
         "marker": {
          "color": "#FFA15A",
          "symbol": "circle"
         },
         "mode": "markers",
         "name": "seen",
         "scene": "scene",
         "showlegend": true,
         "type": "scatter3d",
         "x": [
          -0.05339639261364937
         ],
         "y": [
          0.4637269973754883
         ],
         "z": [
          0.23342396318912506
         ]
        },
        {
         "hovertemplate": "color=iron<br>0=%{x}<br>1=%{y}<br>2=%{z}<extra></extra>",
         "legendgroup": "iron",
         "marker": {
          "color": "#19d3f3",
          "symbol": "circle"
         },
         "mode": "markers",
         "name": "iron",
         "scene": "scene",
         "showlegend": true,
         "type": "scatter3d",
         "x": [
          0.15522924065589905
         ],
         "y": [
          0.4324842691421509
         ],
         "z": [
          -0.012080051004886627
         ]
        },
        {
         "hovertemplate": "color=nothing<br>0=%{x}<br>1=%{y}<br>2=%{z}<extra></extra>",
         "legendgroup": "nothing",
         "marker": {
          "color": "#FF6692",
          "symbol": "circle"
         },
         "mode": "markers",
         "name": "nothing",
         "scene": "scene",
         "showlegend": true,
         "type": "scatter3d",
         "x": [
          -0.11264409124851227
         ],
         "y": [
          0.4844961166381836
         ],
         "z": [
          0.0461634024977684
         ]
        },
        {
         "hovertemplate": "color=cold<br>0=%{x}<br>1=%{y}<br>2=%{z}<extra></extra>",
         "legendgroup": "cold",
         "marker": {
          "color": "#B6E880",
          "symbol": "circle"
         },
         "mode": "markers",
         "name": "cold",
         "scene": "scene",
         "showlegend": true,
         "type": "scatter3d",
         "x": [
          0.3081064224243164
         ],
         "y": [
          0.36909446120262146
         ],
         "z": [
          0.133355975151062
         ]
        },
        {
         "hovertemplate": "color=better<br>0=%{x}<br>1=%{y}<br>2=%{z}<extra></extra>",
         "legendgroup": "better",
         "marker": {
          "color": "#FF97FF",
          "symbol": "circle"
         },
         "mode": "markers",
         "name": "better",
         "scene": "scene",
         "showlegend": true,
         "type": "scatter3d",
         "x": [
          -0.3265598714351654
         ],
         "y": [
          0.44789621233940125
         ],
         "z": [
          0.10442376881837845
         ]
        },
        {
         "hovertemplate": "color=small<br>0=%{x}<br>1=%{y}<br>2=%{z}<extra></extra>",
         "legendgroup": "small",
         "marker": {
          "color": "#FECB52",
          "symbol": "circle"
         },
         "mode": "markers",
         "name": "small",
         "scene": "scene",
         "showlegend": true,
         "type": "scatter3d",
         "x": [
          0.16280551254749298
         ],
         "y": [
          0.32528313994407654
         ],
         "z": [
          -0.053023166954517365
         ]
        },
        {
         "hovertemplate": "color=right<br>0=%{x}<br>1=%{y}<br>2=%{z}<extra></extra>",
         "legendgroup": "right",
         "marker": {
          "color": "#636efa",
          "symbol": "circle"
         },
         "mode": "markers",
         "name": "right",
         "scene": "scene",
         "showlegend": true,
         "type": "scatter3d",
         "x": [
          0.1737523078918457
         ],
         "y": [
          0.46577906608581543
         ],
         "z": [
          0.3326941430568695
         ]
        },
        {
         "hovertemplate": "color=joffrey<br>0=%{x}<br>1=%{y}<br>2=%{z}<extra></extra>",
         "legendgroup": "joffrey",
         "marker": {
          "color": "#EF553B",
          "symbol": "circle"
         },
         "mode": "markers",
         "name": "joffrey",
         "scene": "scene",
         "showlegend": true,
         "type": "scatter3d",
         "x": [
          -0.3567223846912384
         ],
         "y": [
          0.42197561264038086
         ],
         "z": [
          0.22682498395442963
         ]
        },
        {
         "hovertemplate": "color=end<br>0=%{x}<br>1=%{y}<br>2=%{z}<extra></extra>",
         "legendgroup": "end",
         "marker": {
          "color": "#00cc96",
          "symbol": "circle"
         },
         "mode": "markers",
         "name": "end",
         "scene": "scene",
         "showlegend": true,
         "type": "scatter3d",
         "x": [
          0.028231317177414894
         ],
         "y": [
          0.6604989171028137
         ],
         "z": [
          0.14679230749607086
         ]
        },
        {
         "hovertemplate": "color=stood<br>0=%{x}<br>1=%{y}<br>2=%{z}<extra></extra>",
         "legendgroup": "stood",
         "marker": {
          "color": "#ab63fa",
          "symbol": "circle"
         },
         "mode": "markers",
         "name": "stood",
         "scene": "scene",
         "showlegend": true,
         "type": "scatter3d",
         "x": [
          0.21808688342571259
         ],
         "y": [
          0.27410849928855896
         ],
         "z": [
          0.3031705319881439
         ]
        },
        {
         "hovertemplate": "color=hundred<br>0=%{x}<br>1=%{y}<br>2=%{z}<extra></extra>",
         "legendgroup": "hundred",
         "marker": {
          "color": "#FFA15A",
          "symbol": "circle"
         },
         "mode": "markers",
         "name": "hundred",
         "scene": "scene",
         "showlegend": true,
         "type": "scatter3d",
         "x": [
          0.01684335432946682
         ],
         "y": [
          0.5196400880813599
         ],
         "z": [
          -0.19765645265579224
         ]
        },
        {
         "hovertemplate": "color=place<br>0=%{x}<br>1=%{y}<br>2=%{z}<extra></extra>",
         "legendgroup": "place",
         "marker": {
          "color": "#19d3f3",
          "symbol": "circle"
         },
         "mode": "markers",
         "name": "place",
         "scene": "scene",
         "showlegend": true,
         "type": "scatter3d",
         "x": [
          -0.07116781920194626
         ],
         "y": [
          0.7307493686676025
         ],
         "z": [
          0.006424148101359606
         ]
        },
        {
         "hovertemplate": "color=years<br>0=%{x}<br>1=%{y}<br>2=%{z}<extra></extra>",
         "legendgroup": "years",
         "marker": {
          "color": "#FF6692",
          "symbol": "circle"
         },
         "mode": "markers",
         "name": "years",
         "scene": "scene",
         "showlegend": true,
         "type": "scatter3d",
         "x": [
          -0.20002509653568268
         ],
         "y": [
          0.5883110165596008
         ],
         "z": [
          -0.026463571935892105
         ]
        },
        {
         "hovertemplate": "color=always<br>0=%{x}<br>1=%{y}<br>2=%{z}<extra></extra>",
         "legendgroup": "always",
         "marker": {
          "color": "#B6E880",
          "symbol": "circle"
         },
         "mode": "markers",
         "name": "always",
         "scene": "scene",
         "showlegend": true,
         "type": "scatter3d",
         "x": [
          -0.32373541593551636
         ],
         "y": [
          0.4255739152431488
         ],
         "z": [
          0.1192014217376709
         ]
        },
        {
         "hovertemplate": "color=theon<br>0=%{x}<br>1=%{y}<br>2=%{z}<extra></extra>",
         "legendgroup": "theon",
         "marker": {
          "color": "#FF97FF",
          "symbol": "circle"
         },
         "mode": "markers",
         "name": "theon",
         "scene": "scene",
         "showlegend": true,
         "type": "scatter3d",
         "x": [
          -0.09527769684791565
         ],
         "y": [
          0.3172168433666229
         ],
         "z": [
          0.21480830013751984
         ]
        },
        {
         "hovertemplate": "color=watch<br>0=%{x}<br>1=%{y}<br>2=%{z}<extra></extra>",
         "legendgroup": "watch",
         "marker": {
          "color": "#FECB52",
          "symbol": "circle"
         },
         "mode": "markers",
         "name": "watch",
         "scene": "scene",
         "showlegend": true,
         "type": "scatter3d",
         "x": [
          -0.206876739859581
         ],
         "y": [
          0.5613448023796082
         ],
         "z": [
          0.06898761540651321
         ]
        },
        {
         "hovertemplate": "color=under<br>0=%{x}<br>1=%{y}<br>2=%{z}<extra></extra>",
         "legendgroup": "under",
         "marker": {
          "color": "#636efa",
          "symbol": "circle"
         },
         "mode": "markers",
         "name": "under",
         "scene": "scene",
         "showlegend": true,
         "type": "scatter3d",
         "x": [
          0.35846787691116333
         ],
         "y": [
          0.15504679083824158
         ],
         "z": [
          0.28227683901786804
         ]
        },
        {
         "hovertemplate": "color=fingers<br>0=%{x}<br>1=%{y}<br>2=%{z}<extra></extra>",
         "legendgroup": "fingers",
         "marker": {
          "color": "#EF553B",
          "symbol": "circle"
         },
         "mode": "markers",
         "name": "fingers",
         "scene": "scene",
         "showlegend": true,
         "type": "scatter3d",
         "x": [
          0.4225095212459564
         ],
         "y": [
          0.31515395641326904
         ],
         "z": [
          0.3613784909248352
         ]
        },
        {
         "hovertemplate": "color=while<br>0=%{x}<br>1=%{y}<br>2=%{z}<extra></extra>",
         "legendgroup": "while",
         "marker": {
          "color": "#00cc96",
          "symbol": "circle"
         },
         "mode": "markers",
         "name": "while",
         "scene": "scene",
         "showlegend": true,
         "type": "scatter3d",
         "x": [
          0.2633410096168518
         ],
         "y": [
          0.29542529582977295
         ],
         "z": [
          0.24425731599330902
         ]
        },
        {
         "hovertemplate": "color=walls<br>0=%{x}<br>1=%{y}<br>2=%{z}<extra></extra>",
         "legendgroup": "walls",
         "marker": {
          "color": "#ab63fa",
          "symbol": "circle"
         },
         "mode": "markers",
         "name": "walls",
         "scene": "scene",
         "showlegend": true,
         "type": "scatter3d",
         "x": [
          0.40612033009529114
         ],
         "y": [
          0.6099310517311096
         ],
         "z": [
          -0.26195529103279114
         ]
        },
        {
         "hovertemplate": "color=sister<br>0=%{x}<br>1=%{y}<br>2=%{z}<extra></extra>",
         "legendgroup": "sister",
         "marker": {
          "color": "#FFA15A",
          "symbol": "circle"
         },
         "mode": "markers",
         "name": "sister",
         "scene": "scene",
         "showlegend": true,
         "type": "scatter3d",
         "x": [
          -0.4500487446784973
         ],
         "y": [
          0.5249947905540466
         ],
         "z": [
          0.21731270849704742
         ]
        },
        {
         "hovertemplate": "color=get<br>0=%{x}<br>1=%{y}<br>2=%{z}<extra></extra>",
         "legendgroup": "get",
         "marker": {
          "color": "#19d3f3",
          "symbol": "circle"
         },
         "mode": "markers",
         "name": "get",
         "scene": "scene",
         "showlegend": true,
         "type": "scatter3d",
         "x": [
          -0.0737743079662323
         ],
         "y": [
          0.5564015507698059
         ],
         "z": [
          0.43177706003189087
         ]
        },
        {
         "hovertemplate": "color=beside<br>0=%{x}<br>1=%{y}<br>2=%{z}<extra></extra>",
         "legendgroup": "beside",
         "marker": {
          "color": "#FF6692",
          "symbol": "circle"
         },
         "mode": "markers",
         "name": "beside",
         "scene": "scene",
         "showlegend": true,
         "type": "scatter3d",
         "x": [
          0.19019269943237305
         ],
         "y": [
          0.20399019122123718
         ],
         "z": [
          0.3964805006980896
         ]
        },
        {
         "hovertemplate": "color=shall<br>0=%{x}<br>1=%{y}<br>2=%{z}<extra></extra>",
         "legendgroup": "shall",
         "marker": {
          "color": "#B6E880",
          "symbol": "circle"
         },
         "mode": "markers",
         "name": "shall",
         "scene": "scene",
         "showlegend": true,
         "type": "scatter3d",
         "x": [
          -0.4023139178752899
         ],
         "y": [
          0.47403573989868164
         ],
         "z": [
          0.11557984352111816
         ]
        },
        {
         "hovertemplate": "color=words<br>0=%{x}<br>1=%{y}<br>2=%{z}<extra></extra>",
         "legendgroup": "words",
         "marker": {
          "color": "#FF97FF",
          "symbol": "circle"
         },
         "mode": "markers",
         "name": "words",
         "scene": "scene",
         "showlegend": true,
         "type": "scatter3d",
         "x": [
          -0.1866971105337143
         ],
         "y": [
          0.453132688999176
         ],
         "z": [
          0.19870531558990479
         ]
        },
        {
         "hovertemplate": "color=most<br>0=%{x}<br>1=%{y}<br>2=%{z}<extra></extra>",
         "legendgroup": "most",
         "marker": {
          "color": "#FECB52",
          "symbol": "circle"
         },
         "mode": "markers",
         "name": "most",
         "scene": "scene",
         "showlegend": true,
         "type": "scatter3d",
         "x": [
          -0.3238793611526489
         ],
         "y": [
          0.5616066455841064
         ],
         "z": [
          -0.20688430964946747
         ]
        },
        {
         "hovertemplate": "color=cloak<br>0=%{x}<br>1=%{y}<br>2=%{z}<extra></extra>",
         "legendgroup": "cloak",
         "marker": {
          "color": "#636efa",
          "symbol": "circle"
         },
         "mode": "markers",
         "name": "cloak",
         "scene": "scene",
         "showlegend": true,
         "type": "scatter3d",
         "x": [
          0.3029842674732208
         ],
         "y": [
          0.3308952748775482
         ],
         "z": [
          0.3250104486942291
         ]
        },
        {
         "hovertemplate": "color=mouth<br>0=%{x}<br>1=%{y}<br>2=%{z}<extra></extra>",
         "legendgroup": "mouth",
         "marker": {
          "color": "#EF553B",
          "symbol": "circle"
         },
         "mode": "markers",
         "name": "mouth",
         "scene": "scene",
         "showlegend": true,
         "type": "scatter3d",
         "x": [
          0.29630452394485474
         ],
         "y": [
          0.2765602171421051
         ],
         "z": [
          0.39508160948753357
         ]
        },
        {
         "hovertemplate": "color=same<br>0=%{x}<br>1=%{y}<br>2=%{z}<extra></extra>",
         "legendgroup": "same",
         "marker": {
          "color": "#00cc96",
          "symbol": "circle"
         },
         "mode": "markers",
         "name": "same",
         "scene": "scene",
         "showlegend": true,
         "type": "scatter3d",
         "x": [
          -0.1597108244895935
         ],
         "y": [
          0.42278051376342773
         ],
         "z": [
          0.15667882561683655
         ]
        },
        {
         "hovertemplate": "color=cersei<br>0=%{x}<br>1=%{y}<br>2=%{z}<extra></extra>",
         "legendgroup": "cersei",
         "marker": {
          "color": "#ab63fa",
          "symbol": "circle"
         },
         "mode": "markers",
         "name": "cersei",
         "scene": "scene",
         "showlegend": true,
         "type": "scatter3d",
         "x": [
          -0.32986685633659363
         ],
         "y": [
          0.3646177351474762
         ],
         "z": [
          0.23744244873523712
         ]
        },
        {
         "hovertemplate": "color=door<br>0=%{x}<br>1=%{y}<br>2=%{z}<extra></extra>",
         "legendgroup": "door",
         "marker": {
          "color": "#FFA15A",
          "symbol": "circle"
         },
         "mode": "markers",
         "name": "door",
         "scene": "scene",
         "showlegend": true,
         "type": "scatter3d",
         "x": [
          0.37387916445732117
         ],
         "y": [
          0.408257395029068
         ],
         "z": [
          0.3234279453754425
         ]
        },
        {
         "hovertemplate": "color=upon<br>0=%{x}<br>1=%{y}<br>2=%{z}<extra></extra>",
         "legendgroup": "upon",
         "marker": {
          "color": "#19d3f3",
          "symbol": "circle"
         },
         "mode": "markers",
         "name": "upon",
         "scene": "scene",
         "showlegend": true,
         "type": "scatter3d",
         "x": [
          0.05829558148980141
         ],
         "y": [
          0.31540167331695557
         ],
         "z": [
          0.09750120341777802
         ]
        },
        {
         "hovertemplate": "color=green<br>0=%{x}<br>1=%{y}<br>2=%{z}<extra></extra>",
         "legendgroup": "green",
         "marker": {
          "color": "#FF6692",
          "symbol": "circle"
         },
         "mode": "markers",
         "name": "green",
         "scene": "scene",
         "showlegend": true,
         "type": "scatter3d",
         "x": [
          0.29755616188049316
         ],
         "y": [
          0.23167145252227783
         ],
         "z": [
          -0.07690207660198212
         ]
        },
        {
         "hovertemplate": "color=few<br>0=%{x}<br>1=%{y}<br>2=%{z}<extra></extra>",
         "legendgroup": "few",
         "marker": {
          "color": "#B6E880",
          "symbol": "circle"
         },
         "mode": "markers",
         "name": "few",
         "scene": "scene",
         "showlegend": true,
         "type": "scatter3d",
         "x": [
          0.07153353095054626
         ],
         "y": [
          0.4718562066555023
         ],
         "z": [
          -0.09729990363121033
         ]
        },
        {
         "hovertemplate": "color=almost<br>0=%{x}<br>1=%{y}<br>2=%{z}<extra></extra>",
         "legendgroup": "almost",
         "marker": {
          "color": "#FF97FF",
          "symbol": "circle"
         },
         "mode": "markers",
         "name": "almost",
         "scene": "scene",
         "showlegend": true,
         "type": "scatter3d",
         "x": [
          0.24563075602054596
         ],
         "y": [
          0.2507358193397522
         ],
         "z": [
          0.32775434851646423
         ]
        },
        {
         "hovertemplate": "color=perhaps<br>0=%{x}<br>1=%{y}<br>2=%{z}<extra></extra>",
         "legendgroup": "perhaps",
         "marker": {
          "color": "#FECB52",
          "symbol": "circle"
         },
         "mode": "markers",
         "name": "perhaps",
         "scene": "scene",
         "showlegend": true,
         "type": "scatter3d",
         "x": [
          -0.47553694248199463
         ],
         "y": [
          0.5964148044586182
         ],
         "z": [
          0.14351053535938263
         ]
        },
        {
         "hovertemplate": "color=does<br>0=%{x}<br>1=%{y}<br>2=%{z}<extra></extra>",
         "legendgroup": "does",
         "marker": {
          "color": "#636efa",
          "symbol": "circle"
         },
         "mode": "markers",
         "name": "does",
         "scene": "scene",
         "showlegend": true,
         "type": "scatter3d",
         "x": [
          -0.45134031772613525
         ],
         "y": [
          0.38947468996047974
         ],
         "z": [
          0.26108309626579285
         ]
        },
        {
         "hovertemplate": "color=sent<br>0=%{x}<br>1=%{y}<br>2=%{z}<extra></extra>",
         "legendgroup": "sent",
         "marker": {
          "color": "#EF553B",
          "symbol": "circle"
         },
         "mode": "markers",
         "name": "sent",
         "scene": "scene",
         "showlegend": true,
         "type": "scatter3d",
         "x": [
          -0.1620100885629654
         ],
         "y": [
          0.4568890333175659
         ],
         "z": [
          0.5168585777282715
         ]
        },
        {
         "hovertemplate": "color=davos<br>0=%{x}<br>1=%{y}<br>2=%{z}<extra></extra>",
         "legendgroup": "davos",
         "marker": {
          "color": "#00cc96",
          "symbol": "circle"
         },
         "mode": "markers",
         "name": "davos",
         "scene": "scene",
         "showlegend": true,
         "type": "scatter3d",
         "x": [
          -0.07138297706842422
         ],
         "y": [
          0.3539179265499115
         ],
         "z": [
          -0.055935438722372055
         ]
        },
        {
         "hovertemplate": "color=city<br>0=%{x}<br>1=%{y}<br>2=%{z}<extra></extra>",
         "legendgroup": "city",
         "marker": {
          "color": "#ab63fa",
          "symbol": "circle"
         },
         "mode": "markers",
         "name": "city",
         "scene": "scene",
         "showlegend": true,
         "type": "scatter3d",
         "x": [
          -0.06932075321674347
         ],
         "y": [
          0.7481191754341125
         ],
         "z": [
          -0.2442658394575119
         ]
        },
        {
         "hovertemplate": "color=big<br>0=%{x}<br>1=%{y}<br>2=%{z}<extra></extra>",
         "legendgroup": "big",
         "marker": {
          "color": "#FFA15A",
          "symbol": "circle"
         },
         "mode": "markers",
         "name": "big",
         "scene": "scene",
         "showlegend": true,
         "type": "scatter3d",
         "x": [
          0.20131100714206696
         ],
         "y": [
          0.12010404467582703
         ],
         "z": [
          0.20071539282798767
         ]
        },
        {
         "hovertemplate": "color=light<br>0=%{x}<br>1=%{y}<br>2=%{z}<extra></extra>",
         "legendgroup": "light",
         "marker": {
          "color": "#19d3f3",
          "symbol": "circle"
         },
         "mode": "markers",
         "name": "light",
         "scene": "scene",
         "showlegend": true,
         "type": "scatter3d",
         "x": [
          0.3278161287307739
         ],
         "y": [
          0.47374334931373596
         ],
         "z": [
          0.03522243723273277
         ]
        },
        {
         "hovertemplate": "color=young<br>0=%{x}<br>1=%{y}<br>2=%{z}<extra></extra>",
         "legendgroup": "young",
         "marker": {
          "color": "#FF6692",
          "symbol": "circle"
         },
         "mode": "markers",
         "name": "young",
         "scene": "scene",
         "showlegend": true,
         "type": "scatter3d",
         "x": [
          -0.3610273599624634
         ],
         "y": [
          0.33973428606987
         ],
         "z": [
          0.18548715114593506
         ]
        },
        {
         "hovertemplate": "color=true<br>0=%{x}<br>1=%{y}<br>2=%{z}<extra></extra>",
         "legendgroup": "true",
         "marker": {
          "color": "#B6E880",
          "symbol": "circle"
         },
         "mode": "markers",
         "name": "true",
         "scene": "scene",
         "showlegend": true,
         "type": "scatter3d",
         "x": [
          -0.5609955787658691
         ],
         "y": [
          0.530522346496582
         ],
         "z": [
          -0.008129664696753025
         ]
        },
        {
         "hovertemplate": "color=lost<br>0=%{x}<br>1=%{y}<br>2=%{z}<extra></extra>",
         "legendgroup": "lost",
         "marker": {
          "color": "#FF97FF",
          "symbol": "circle"
         },
         "mode": "markers",
         "name": "lost",
         "scene": "scene",
         "showlegend": true,
         "type": "scatter3d",
         "x": [
          -0.1504935324192047
         ],
         "y": [
          0.47761520743370056
         ],
         "z": [
          0.3180041015148163
         ]
        },
        {
         "hovertemplate": "color=house<br>0=%{x}<br>1=%{y}<br>2=%{z}<extra></extra>",
         "legendgroup": "house",
         "marker": {
          "color": "#FECB52",
          "symbol": "circle"
         },
         "mode": "markers",
         "name": "house",
         "scene": "scene",
         "showlegend": true,
         "type": "scatter3d",
         "x": [
          -0.22598186135292053
         ],
         "y": [
          0.4746835231781006
         ],
         "z": [
          -0.07045347988605499
         ]
        },
        {
         "hovertemplate": "color=felt<br>0=%{x}<br>1=%{y}<br>2=%{z}<extra></extra>",
         "legendgroup": "felt",
         "marker": {
          "color": "#636efa",
          "symbol": "circle"
         },
         "mode": "markers",
         "name": "felt",
         "scene": "scene",
         "showlegend": true,
         "type": "scatter3d",
         "x": [
          0.1557358056306839
         ],
         "y": [
          0.2339814454317093
         ],
         "z": [
          0.4808347225189209
         ]
        },
        {
         "hovertemplate": "color=wind<br>0=%{x}<br>1=%{y}<br>2=%{z}<extra></extra>",
         "legendgroup": "wind",
         "marker": {
          "color": "#EF553B",
          "symbol": "circle"
         },
         "mode": "markers",
         "name": "wind",
         "scene": "scene",
         "showlegend": true,
         "type": "scatter3d",
         "x": [
          0.514095664024353
         ],
         "y": [
          0.4024876654148102
         ],
         "z": [
          0.037660639733076096
         ]
        },
        {
         "hovertemplate": "color=north<br>0=%{x}<br>1=%{y}<br>2=%{z}<extra></extra>",
         "legendgroup": "north",
         "marker": {
          "color": "#00cc96",
          "symbol": "circle"
         },
         "mode": "markers",
         "name": "north",
         "scene": "scene",
         "showlegend": true,
         "type": "scatter3d",
         "x": [
          -0.04844503104686737
         ],
         "y": [
          0.7020110487937927
         ],
         "z": [
          -0.12389572709798813
         ]
        },
        {
         "hovertemplate": "color=each<br>0=%{x}<br>1=%{y}<br>2=%{z}<extra></extra>",
         "legendgroup": "each",
         "marker": {
          "color": "#ab63fa",
          "symbol": "circle"
         },
         "mode": "markers",
         "name": "each",
         "scene": "scene",
         "showlegend": true,
         "type": "scatter3d",
         "x": [
          0.21504448354244232
         ],
         "y": [
          0.4115428626537323
         ],
         "z": [
          0.022241603583097458
         ]
        },
        {
         "hovertemplate": "color=such<br>0=%{x}<br>1=%{y}<br>2=%{z}<extra></extra>",
         "legendgroup": "such",
         "marker": {
          "color": "#FFA15A",
          "symbol": "circle"
         },
         "mode": "markers",
         "name": "such",
         "scene": "scene",
         "showlegend": true,
         "type": "scatter3d",
         "x": [
          -0.4522431790828705
         ],
         "y": [
          0.46133172512054443
         ],
         "z": [
          -0.04847441986203194
         ]
        },
        {
         "hovertemplate": "color=children<br>0=%{x}<br>1=%{y}<br>2=%{z}<extra></extra>",
         "legendgroup": "children",
         "marker": {
          "color": "#19d3f3",
          "symbol": "circle"
         },
         "mode": "markers",
         "name": "children",
         "scene": "scene",
         "showlegend": true,
         "type": "scatter3d",
         "x": [
          -0.24398307502269745
         ],
         "y": [
          0.6453580856323242
         ],
         "z": [
          -0.194969043135643
         ]
        },
        {
         "hovertemplate": "color=leave<br>0=%{x}<br>1=%{y}<br>2=%{z}<extra></extra>",
         "legendgroup": "leave",
         "marker": {
          "color": "#FF6692",
          "symbol": "circle"
         },
         "mode": "markers",
         "name": "leave",
         "scene": "scene",
         "showlegend": true,
         "type": "scatter3d",
         "x": [
          -0.28912606835365295
         ],
         "y": [
          0.5853257179260254
         ],
         "z": [
          0.3306010365486145
         ]
        },
        {
         "hovertemplate": "color=side<br>0=%{x}<br>1=%{y}<br>2=%{z}<extra></extra>",
         "legendgroup": "side",
         "marker": {
          "color": "#B6E880",
          "symbol": "circle"
         },
         "mode": "markers",
         "name": "side",
         "scene": "scene",
         "showlegend": true,
         "type": "scatter3d",
         "x": [
          0.2997003495693207
         ],
         "y": [
          0.48954975605010986
         ],
         "z": [
          0.2193823605775833
         ]
        },
        {
         "hovertemplate": "color=yes<br>0=%{x}<br>1=%{y}<br>2=%{z}<extra></extra>",
         "legendgroup": "yes",
         "marker": {
          "color": "#FF97FF",
          "symbol": "circle"
         },
         "mode": "markers",
         "name": "yes",
         "scene": "scene",
         "showlegend": true,
         "type": "scatter3d",
         "x": [
          -0.5472655296325684
         ],
         "y": [
          0.3857324421405792
         ],
         "z": [
          0.19982750713825226
         ]
        },
        {
         "hovertemplate": "color=wanted<br>0=%{x}<br>1=%{y}<br>2=%{z}<extra></extra>",
         "legendgroup": "wanted",
         "marker": {
          "color": "#FECB52",
          "symbol": "circle"
         },
         "mode": "markers",
         "name": "wanted",
         "scene": "scene",
         "showlegend": true,
         "type": "scatter3d",
         "x": [
          -0.32019442319869995
         ],
         "y": [
          0.4142415225505829
         ],
         "z": [
          0.4789575934410095
         ]
        },
        {
         "hovertemplate": "color=others<br>0=%{x}<br>1=%{y}<br>2=%{z}<extra></extra>",
         "legendgroup": "others",
         "marker": {
          "color": "#636efa",
          "symbol": "circle"
         },
         "mode": "markers",
         "name": "others",
         "scene": "scene",
         "showlegend": true,
         "type": "scatter3d",
         "x": [
          0.014176205731928349
         ],
         "y": [
          0.5582455396652222
         ],
         "z": [
          -0.09803927689790726
         ]
        },
        {
         "hovertemplate": "color=die<br>0=%{x}<br>1=%{y}<br>2=%{z}<extra></extra>",
         "legendgroup": "die",
         "marker": {
          "color": "#EF553B",
          "symbol": "circle"
         },
         "mode": "markers",
         "name": "die",
         "scene": "scene",
         "showlegend": true,
         "type": "scatter3d",
         "x": [
          -0.28545016050338745
         ],
         "y": [
          0.6653355360031128
         ],
         "z": [
          0.25766462087631226
         ]
        },
        {
         "hovertemplate": "color=sea<br>0=%{x}<br>1=%{y}<br>2=%{z}<extra></extra>",
         "legendgroup": "sea",
         "marker": {
          "color": "#00cc96",
          "symbol": "circle"
         },
         "mode": "markers",
         "name": "sea",
         "scene": "scene",
         "showlegend": true,
         "type": "scatter3d",
         "x": [
          0.11912764608860016
         ],
         "y": [
          0.6384788155555725
         ],
         "z": [
          -0.18155893683433533
         ]
        },
        {
         "hovertemplate": "color=brothers<br>0=%{x}<br>1=%{y}<br>2=%{z}<extra></extra>",
         "legendgroup": "brothers",
         "marker": {
          "color": "#ab63fa",
          "symbol": "circle"
         },
         "mode": "markers",
         "name": "brothers",
         "scene": "scene",
         "showlegend": true,
         "type": "scatter3d",
         "x": [
          -0.18740125000476837
         ],
         "y": [
          0.6264092922210693
         ],
         "z": [
          -0.016607480123639107
         ]
        },
        {
         "hovertemplate": "color=sweet<br>0=%{x}<br>1=%{y}<br>2=%{z}<extra></extra>",
         "legendgroup": "sweet",
         "marker": {
          "color": "#FFA15A",
          "symbol": "circle"
         },
         "mode": "markers",
         "name": "sweet",
         "scene": "scene",
         "showlegend": true,
         "type": "scatter3d",
         "x": [
          -0.329265832901001
         ],
         "y": [
          0.24564489722251892
         ],
         "z": [
          0.20574070513248444
         ]
        },
        {
         "hovertemplate": "color=brought<br>0=%{x}<br>1=%{y}<br>2=%{z}<extra></extra>",
         "legendgroup": "brought",
         "marker": {
          "color": "#19d3f3",
          "symbol": "circle"
         },
         "mode": "markers",
         "name": "brought",
         "scene": "scene",
         "showlegend": true,
         "type": "scatter3d",
         "x": [
          -0.14998067915439606
         ],
         "y": [
          0.2965545654296875
         ],
         "z": [
          0.4714471101760864
         ]
        },
        {
         "hovertemplate": "color=far<br>0=%{x}<br>1=%{y}<br>2=%{z}<extra></extra>",
         "legendgroup": "far",
         "marker": {
          "color": "#FF6692",
          "symbol": "circle"
         },
         "mode": "markers",
         "name": "far",
         "scene": "scene",
         "showlegend": true,
         "type": "scatter3d",
         "x": [
          0.002070988994091749
         ],
         "y": [
          0.5192733407020569
         ],
         "z": [
          0.06533787399530411
         ]
        },
        {
         "hovertemplate": "color=battle<br>0=%{x}<br>1=%{y}<br>2=%{z}<extra></extra>",
         "legendgroup": "battle",
         "marker": {
          "color": "#B6E880",
          "symbol": "circle"
         },
         "mode": "markers",
         "name": "battle",
         "scene": "scene",
         "showlegend": true,
         "type": "scatter3d",
         "x": [
          -0.15956544876098633
         ],
         "y": [
          0.7265933752059937
         ],
         "z": [
          -0.053644370287656784
         ]
        },
        {
         "hovertemplate": "color=arms<br>0=%{x}<br>1=%{y}<br>2=%{z}<extra></extra>",
         "legendgroup": "arms",
         "marker": {
          "color": "#FF97FF",
          "symbol": "circle"
         },
         "mode": "markers",
         "name": "arms",
         "scene": "scene",
         "showlegend": true,
         "type": "scatter3d",
         "x": [
          0.19280707836151123
         ],
         "y": [
          0.3349466025829315
         ],
         "z": [
          0.3320884704589844
         ]
        },
        {
         "hovertemplate": "color=seven<br>0=%{x}<br>1=%{y}<br>2=%{z}<extra></extra>",
         "legendgroup": "seven",
         "marker": {
          "color": "#FECB52",
          "symbol": "circle"
         },
         "mode": "markers",
         "name": "seven",
         "scene": "scene",
         "showlegend": true,
         "type": "scatter3d",
         "x": [
          -0.2366761565208435
         ],
         "y": [
          0.6552395820617676
         ],
         "z": [
          -0.22122591733932495
         ]
        },
        {
         "hovertemplate": "color=sam<br>0=%{x}<br>1=%{y}<br>2=%{z}<extra></extra>",
         "legendgroup": "sam",
         "marker": {
          "color": "#636efa",
          "symbol": "circle"
         },
         "mode": "markers",
         "name": "sam",
         "scene": "scene",
         "showlegend": true,
         "type": "scatter3d",
         "x": [
          0.039593011140823364
         ],
         "y": [
          0.22489795088768005
         ],
         "z": [
          0.2188623547554016
         ]
        },
        {
         "hovertemplate": "color=soon<br>0=%{x}<br>1=%{y}<br>2=%{z}<extra></extra>",
         "legendgroup": "soon",
         "marker": {
          "color": "#EF553B",
          "symbol": "circle"
         },
         "mode": "markers",
         "name": "soon",
         "scene": "scene",
         "showlegend": true,
         "type": "scatter3d",
         "x": [
          -0.06798741966485977
         ],
         "y": [
          0.5113509893417358
         ],
         "z": [
          0.12953723967075348
         ]
        },
        {
         "hovertemplate": "color=best<br>0=%{x}<br>1=%{y}<br>2=%{z}<extra></extra>",
         "legendgroup": "best",
         "marker": {
          "color": "#00cc96",
          "symbol": "circle"
         },
         "mode": "markers",
         "name": "best",
         "scene": "scene",
         "showlegend": true,
         "type": "scatter3d",
         "x": [
          -0.3570459485054016
         ],
         "y": [
          0.6127367615699768
         ],
         "z": [
          0.17985397577285767
         ]
        },
        {
         "hovertemplate": "color=very<br>0=%{x}<br>1=%{y}<br>2=%{z}<extra></extra>",
         "legendgroup": "very",
         "marker": {
          "color": "#ab63fa",
          "symbol": "circle"
         },
         "mode": "markers",
         "name": "very",
         "scene": "scene",
         "showlegend": true,
         "type": "scatter3d",
         "x": [
          -0.27965936064720154
         ],
         "y": [
          0.3457738161087036
         ],
         "z": [
          0.05974021553993225
         ]
        },
        {
         "hovertemplate": "color=both<br>0=%{x}<br>1=%{y}<br>2=%{z}<extra></extra>",
         "legendgroup": "both",
         "marker": {
          "color": "#FFA15A",
          "symbol": "circle"
         },
         "mode": "markers",
         "name": "both",
         "scene": "scene",
         "showlegend": true,
         "type": "scatter3d",
         "x": [
          0.03567970171570778
         ],
         "y": [
          0.376803994178772
         ],
         "z": [
          0.12088644504547119
         ]
        },
        {
         "hovertemplate": "color=something<br>0=%{x}<br>1=%{y}<br>2=%{z}<extra></extra>",
         "legendgroup": "something",
         "marker": {
          "color": "#19d3f3",
          "symbol": "circle"
         },
         "mode": "markers",
         "name": "something",
         "scene": "scene",
         "showlegend": true,
         "type": "scatter3d",
         "x": [
          0.004960197955369949
         ],
         "y": [
          0.36873069405555725
         ],
         "z": [
          0.20759813487529755
         ]
        },
        {
         "hovertemplate": "color=fear<br>0=%{x}<br>1=%{y}<br>2=%{z}<extra></extra>",
         "legendgroup": "fear",
         "marker": {
          "color": "#FF6692",
          "symbol": "circle"
         },
         "mode": "markers",
         "name": "fear",
         "scene": "scene",
         "showlegend": true,
         "type": "scatter3d",
         "x": [
          -0.2193080633878708
         ],
         "y": [
          0.5184622406959534
         ],
         "z": [
          0.16164809465408325
         ]
        },
        {
         "hovertemplate": "color=child<br>0=%{x}<br>1=%{y}<br>2=%{z}<extra></extra>",
         "legendgroup": "child",
         "marker": {
          "color": "#B6E880",
          "symbol": "circle"
         },
         "mode": "markers",
         "name": "child",
         "scene": "scene",
         "showlegend": true,
         "type": "scatter3d",
         "x": [
          -0.32174941897392273
         ],
         "y": [
          0.4927352964878082
         ],
         "z": [
          0.13876841962337494
         ]
        },
        {
         "hovertemplate": "color=taken<br>0=%{x}<br>1=%{y}<br>2=%{z}<extra></extra>",
         "legendgroup": "taken",
         "marker": {
          "color": "#FF97FF",
          "symbol": "circle"
         },
         "mode": "markers",
         "name": "taken",
         "scene": "scene",
         "showlegend": true,
         "type": "scatter3d",
         "x": [
          -0.21870668232440948
         ],
         "y": [
          0.573900043964386
         ],
         "z": [
          0.3449663817882538
         ]
        },
        {
         "hovertemplate": "color=word<br>0=%{x}<br>1=%{y}<br>2=%{z}<extra></extra>",
         "legendgroup": "word",
         "marker": {
          "color": "#FECB52",
          "symbol": "circle"
         },
         "mode": "markers",
         "name": "word",
         "scene": "scene",
         "showlegend": true,
         "type": "scatter3d",
         "x": [
          -0.22726096212863922
         ],
         "y": [
          0.6546471118927002
         ],
         "z": [
          0.17897218465805054
         ]
        },
        {
         "hovertemplate": "color=ve<br>0=%{x}<br>1=%{y}<br>2=%{z}<extra></extra>",
         "legendgroup": "ve",
         "marker": {
          "color": "#636efa",
          "symbol": "circle"
         },
         "mode": "markers",
         "name": "ve",
         "scene": "scene",
         "showlegend": true,
         "type": "scatter3d",
         "x": [
          -0.2861059010028839
         ],
         "y": [
          0.4689196050167084
         ],
         "z": [
          0.00459640845656395
         ]
        },
        {
         "hovertemplate": "color=along<br>0=%{x}<br>1=%{y}<br>2=%{z}<extra></extra>",
         "legendgroup": "along",
         "marker": {
          "color": "#EF553B",
          "symbol": "circle"
         },
         "mode": "markers",
         "name": "along",
         "scene": "scene",
         "showlegend": true,
         "type": "scatter3d",
         "x": [
          0.3898013234138489
         ],
         "y": [
          0.34473252296447754
         ],
         "z": [
          -0.060261838138103485
         ]
        },
        {
         "hovertemplate": "color=bear<br>0=%{x}<br>1=%{y}<br>2=%{z}<extra></extra>",
         "legendgroup": "bear",
         "marker": {
          "color": "#00cc96",
          "symbol": "circle"
         },
         "mode": "markers",
         "name": "bear",
         "scene": "scene",
         "showlegend": true,
         "type": "scatter3d",
         "x": [
          -0.06570354849100113
         ],
         "y": [
          0.4135676920413971
         ],
         "z": [
          0.11363372206687927
         ]
        },
        {
         "hovertemplate": "color=kill<br>0=%{x}<br>1=%{y}<br>2=%{z}<extra></extra>",
         "legendgroup": "kill",
         "marker": {
          "color": "#ab63fa",
          "symbol": "circle"
         },
         "mode": "markers",
         "name": "kill",
         "scene": "scene",
         "showlegend": true,
         "type": "scatter3d",
         "x": [
          -0.39894580841064453
         ],
         "y": [
          0.4925267696380615
         ],
         "z": [
          0.41585665941238403
         ]
        },
        {
         "hovertemplate": "color=died<br>0=%{x}<br>1=%{y}<br>2=%{z}<extra></extra>",
         "legendgroup": "died",
         "marker": {
          "color": "#FFA15A",
          "symbol": "circle"
         },
         "mode": "markers",
         "name": "died",
         "scene": "scene",
         "showlegend": true,
         "type": "scatter3d",
         "x": [
          -0.18418796360492706
         ],
         "y": [
          0.46097344160079956
         ],
         "z": [
          0.3143220841884613
         ]
        },
        {
         "hovertemplate": "color=won<br>0=%{x}<br>1=%{y}<br>2=%{z}<extra></extra>",
         "legendgroup": "won",
         "marker": {
          "color": "#19d3f3",
          "symbol": "circle"
         },
         "mode": "markers",
         "name": "won",
         "scene": "scene",
         "showlegend": true,
         "type": "scatter3d",
         "x": [
          -0.4396018981933594
         ],
         "y": [
          0.4621054232120514
         ],
         "z": [
          0.2521470785140991
         ]
        },
        {
         "hovertemplate": "color=herself<br>0=%{x}<br>1=%{y}<br>2=%{z}<extra></extra>",
         "legendgroup": "herself",
         "marker": {
          "color": "#FF6692",
          "symbol": "circle"
         },
         "mode": "markers",
         "name": "herself",
         "scene": "scene",
         "showlegend": true,
         "type": "scatter3d",
         "x": [
          0.01776088774204254
         ],
         "y": [
          0.3457726538181305
         ],
         "z": [
          0.2026064246892929
         ]
        },
        {
         "hovertemplate": "color=free<br>0=%{x}<br>1=%{y}<br>2=%{z}<extra></extra>",
         "legendgroup": "free",
         "marker": {
          "color": "#B6E880",
          "symbol": "circle"
         },
         "mode": "markers",
         "name": "free",
         "scene": "scene",
         "showlegend": true,
         "type": "scatter3d",
         "x": [
          -0.1641625612974167
         ],
         "y": [
          0.498590886592865
         ],
         "z": [
          -0.00032461434602737427
         ]
        },
        {
         "hovertemplate": "color=hall<br>0=%{x}<br>1=%{y}<br>2=%{z}<extra></extra>",
         "legendgroup": "hall",
         "marker": {
          "color": "#FF97FF",
          "symbol": "circle"
         },
         "mode": "markers",
         "name": "hall",
         "scene": "scene",
         "showlegend": true,
         "type": "scatter3d",
         "x": [
          0.23691493272781372
         ],
         "y": [
          0.5381120443344116
         ],
         "z": [
          0.003981297370046377
         ]
        },
        {
         "hovertemplate": "color=steel<br>0=%{x}<br>1=%{y}<br>2=%{z}<extra></extra>",
         "legendgroup": "steel",
         "marker": {
          "color": "#FECB52",
          "symbol": "circle"
         },
         "mode": "markers",
         "name": "steel",
         "scene": "scene",
         "showlegend": true,
         "type": "scatter3d",
         "x": [
          0.4163326025009155
         ],
         "y": [
          0.31144145131111145
         ],
         "z": [
          0.03404159098863602
         ]
        },
        {
         "hovertemplate": "color=help<br>0=%{x}<br>1=%{y}<br>2=%{z}<extra></extra>",
         "legendgroup": "help",
         "marker": {
          "color": "#636efa",
          "symbol": "circle"
         },
         "mode": "markers",
         "name": "help",
         "scene": "scene",
         "showlegend": true,
         "type": "scatter3d",
         "x": [
          -0.32479405403137207
         ],
         "y": [
          0.4796893894672394
         ],
         "z": [
          0.3926655054092407
         ]
        },
        {
         "hovertemplate": "color=past<br>0=%{x}<br>1=%{y}<br>2=%{z}<extra></extra>",
         "legendgroup": "past",
         "marker": {
          "color": "#EF553B",
          "symbol": "circle"
         },
         "mode": "markers",
         "name": "past",
         "scene": "scene",
         "showlegend": true,
         "type": "scatter3d",
         "x": [
          0.2506504952907562
         ],
         "y": [
          0.334498792886734
         ],
         "z": [
          0.11473777145147324
         ]
        },
        {
         "hovertemplate": "color=mean<br>0=%{x}<br>1=%{y}<br>2=%{z}<extra></extra>",
         "legendgroup": "mean",
         "marker": {
          "color": "#00cc96",
          "symbol": "circle"
         },
         "mode": "markers",
         "name": "mean",
         "scene": "scene",
         "showlegend": true,
         "type": "scatter3d",
         "x": [
          -0.48461610078811646
         ],
         "y": [
          0.5203761458396912
         ],
         "z": [
          0.22079288959503174
         ]
        },
        {
         "hovertemplate": "color=new<br>0=%{x}<br>1=%{y}<br>2=%{z}<extra></extra>",
         "legendgroup": "new",
         "marker": {
          "color": "#ab63fa",
          "symbol": "circle"
         },
         "mode": "markers",
         "name": "new",
         "scene": "scene",
         "showlegend": true,
         "type": "scatter3d",
         "x": [
          -0.26732131838798523
         ],
         "y": [
          0.5315925478935242
         ],
         "z": [
          -0.11811159551143646
         ]
        },
        {
         "hovertemplate": "color=wolf<br>0=%{x}<br>1=%{y}<br>2=%{z}<extra></extra>",
         "legendgroup": "wolf",
         "marker": {
          "color": "#FFA15A",
          "symbol": "circle"
         },
         "mode": "markers",
         "name": "wolf",
         "scene": "scene",
         "showlegend": true,
         "type": "scatter3d",
         "x": [
          0.10143594443798065
         ],
         "y": [
          0.4664640724658966
         ],
         "z": [
          0.1549733430147171
         ]
        },
        {
         "hovertemplate": "color=rest<br>0=%{x}<br>1=%{y}<br>2=%{z}<extra></extra>",
         "legendgroup": "rest",
         "marker": {
          "color": "#19d3f3",
          "symbol": "circle"
         },
         "mode": "markers",
         "name": "rest",
         "scene": "scene",
         "showlegend": true,
         "type": "scatter3d",
         "x": [
          -0.034372493624687195
         ],
         "y": [
          0.6520002484321594
         ],
         "z": [
          -0.0012361861299723387
         ]
        },
        {
         "hovertemplate": "color=dragon<br>0=%{x}<br>1=%{y}<br>2=%{z}<extra></extra>",
         "legendgroup": "dragon",
         "marker": {
          "color": "#FF6692",
          "symbol": "circle"
         },
         "mode": "markers",
         "name": "dragon",
         "scene": "scene",
         "showlegend": true,
         "type": "scatter3d",
         "x": [
          0.07842472195625305
         ],
         "y": [
          0.51113361120224
         ],
         "z": [
          -0.053412940353155136
         ]
        },
        {
         "hovertemplate": "color=sound<br>0=%{x}<br>1=%{y}<br>2=%{z}<extra></extra>",
         "legendgroup": "sound",
         "marker": {
          "color": "#B6E880",
          "symbol": "circle"
         },
         "mode": "markers",
         "name": "sound",
         "scene": "scene",
         "showlegend": true,
         "type": "scatter3d",
         "x": [
          0.3326837122440338
         ],
         "y": [
          0.2992715835571289
         ],
         "z": [
          0.16001006960868835
         ]
        },
        {
         "hovertemplate": "color=strong<br>0=%{x}<br>1=%{y}<br>2=%{z}<extra></extra>",
         "legendgroup": "strong",
         "marker": {
          "color": "#FF97FF",
          "symbol": "circle"
         },
         "mode": "markers",
         "name": "strong",
         "scene": "scene",
         "showlegend": true,
         "type": "scatter3d",
         "x": [
          -0.17804212868213654
         ],
         "y": [
          0.27792271971702576
         ],
         "z": [
          0.1038815975189209
         ]
        },
        {
         "hovertemplate": "color=moment<br>0=%{x}<br>1=%{y}<br>2=%{z}<extra></extra>",
         "legendgroup": "moment",
         "marker": {
          "color": "#FECB52",
          "symbol": "circle"
         },
         "mode": "markers",
         "name": "moment",
         "scene": "scene",
         "showlegend": true,
         "type": "scatter3d",
         "x": [
          0.07378127425909042
         ],
         "y": [
          0.4070182740688324
         ],
         "z": [
          0.3620764911174774
         ]
        },
        {
         "hovertemplate": "color=horses<br>0=%{x}<br>1=%{y}<br>2=%{z}<extra></extra>",
         "legendgroup": "horses",
         "marker": {
          "color": "#636efa",
          "symbol": "circle"
         },
         "mode": "markers",
         "name": "horses",
         "scene": "scene",
         "showlegend": true,
         "type": "scatter3d",
         "x": [
          0.35137495398521423
         ],
         "y": [
          0.47042274475097656
         ],
         "z": [
          -0.11186489462852478
         ]
        },
        {
         "hovertemplate": "color=lords<br>0=%{x}<br>1=%{y}<br>2=%{z}<extra></extra>",
         "legendgroup": "lords",
         "marker": {
          "color": "#EF553B",
          "symbol": "circle"
         },
         "mode": "markers",
         "name": "lords",
         "scene": "scene",
         "showlegend": true,
         "type": "scatter3d",
         "x": [
          -0.3441266417503357
         ],
         "y": [
          0.6063600778579712
         ],
         "z": [
          -0.20527726411819458
         ]
        },
        {
         "hovertemplate": "color=tower<br>0=%{x}<br>1=%{y}<br>2=%{z}<extra></extra>",
         "legendgroup": "tower",
         "marker": {
          "color": "#00cc96",
          "symbol": "circle"
         },
         "mode": "markers",
         "name": "tower",
         "scene": "scene",
         "showlegend": true,
         "type": "scatter3d",
         "x": [
          0.2628905177116394
         ],
         "y": [
          0.48792126774787903
         ],
         "z": [
          0.06629971414804459
         ]
        },
        {
         "hovertemplate": "color=arm<br>0=%{x}<br>1=%{y}<br>2=%{z}<extra></extra>",
         "legendgroup": "arm",
         "marker": {
          "color": "#ab63fa",
          "symbol": "circle"
         },
         "mode": "markers",
         "name": "arm",
         "scene": "scene",
         "showlegend": true,
         "type": "scatter3d",
         "x": [
          0.3525771498680115
         ],
         "y": [
          0.30439507961273193
         ],
         "z": [
          0.5116249918937683
         ]
        },
        {
         "hovertemplate": "color=tywin<br>0=%{x}<br>1=%{y}<br>2=%{z}<extra></extra>",
         "legendgroup": "tywin",
         "marker": {
          "color": "#FFA15A",
          "symbol": "circle"
         },
         "mode": "markers",
         "name": "tywin",
         "scene": "scene",
         "showlegend": true,
         "type": "scatter3d",
         "x": [
          -0.2141811102628708
         ],
         "y": [
          0.3877875506877899
         ],
         "z": [
          0.06410231441259384
         ]
        },
        {
         "hovertemplate": "color=pale<br>0=%{x}<br>1=%{y}<br>2=%{z}<extra></extra>",
         "legendgroup": "pale",
         "marker": {
          "color": "#19d3f3",
          "symbol": "circle"
         },
         "mode": "markers",
         "name": "pale",
         "scene": "scene",
         "showlegend": true,
         "type": "scatter3d",
         "x": [
          0.5022237300872803
         ],
         "y": [
          0.09723774343729019
         ],
         "z": [
          0.13903845846652985
         ]
        },
        {
         "hovertemplate": "color=heart<br>0=%{x}<br>1=%{y}<br>2=%{z}<extra></extra>",
         "legendgroup": "heart",
         "marker": {
          "color": "#FF6692",
          "symbol": "circle"
         },
         "mode": "markers",
         "name": "heart",
         "scene": "scene",
         "showlegend": true,
         "type": "scatter3d",
         "x": [
          0.12998302280902863
         ],
         "y": [
          0.5262151956558228
         ],
         "z": [
          0.13951724767684937
         ]
        },
        {
         "hovertemplate": "color=hot<br>0=%{x}<br>1=%{y}<br>2=%{z}<extra></extra>",
         "legendgroup": "hot",
         "marker": {
          "color": "#B6E880",
          "symbol": "circle"
         },
         "mode": "markers",
         "name": "hot",
         "scene": "scene",
         "showlegend": true,
         "type": "scatter3d",
         "x": [
          0.3170055150985718
         ],
         "y": [
          0.22510084509849548
         ],
         "z": [
          0.15715308487415314
         ]
        },
        {
         "hovertemplate": "color=thing<br>0=%{x}<br>1=%{y}<br>2=%{z}<extra></extra>",
         "legendgroup": "thing",
         "marker": {
          "color": "#FF97FF",
          "symbol": "circle"
         },
         "mode": "markers",
         "name": "thing",
         "scene": "scene",
         "showlegend": true,
         "type": "scatter3d",
         "x": [
          -0.07209953665733337
         ],
         "y": [
          0.520186722278595
         ],
         "z": [
          0.09660391509532928
         ]
        },
        {
         "hovertemplate": "color=daughter<br>0=%{x}<br>1=%{y}<br>2=%{z}<extra></extra>",
         "legendgroup": "daughter",
         "marker": {
          "color": "#FECB52",
          "symbol": "circle"
         },
         "mode": "markers",
         "name": "daughter",
         "scene": "scene",
         "showlegend": true,
         "type": "scatter3d",
         "x": [
          -0.476163387298584
         ],
         "y": [
          0.37604567408561707
         ],
         "z": [
          0.19265402853488922
         ]
        },
        {
         "hovertemplate": "color=life<br>0=%{x}<br>1=%{y}<br>2=%{z}<extra></extra>",
         "legendgroup": "life",
         "marker": {
          "color": "#636efa",
          "symbol": "circle"
         },
         "mode": "markers",
         "name": "life",
         "scene": "scene",
         "showlegend": true,
         "type": "scatter3d",
         "x": [
          -0.23910921812057495
         ],
         "y": [
          0.7477155923843384
         ],
         "z": [
          0.04682121425867081
         ]
        },
        {
         "hovertemplate": "color=close<br>0=%{x}<br>1=%{y}<br>2=%{z}<extra></extra>",
         "legendgroup": "close",
         "marker": {
          "color": "#EF553B",
          "symbol": "circle"
         },
         "mode": "markers",
         "name": "close",
         "scene": "scene",
         "showlegend": true,
         "type": "scatter3d",
         "x": [
          0.15544117987155914
         ],
         "y": [
          0.3234363794326782
         ],
         "z": [
          0.22613562643527985
         ]
        },
        {
         "hovertemplate": "color=killed<br>0=%{x}<br>1=%{y}<br>2=%{z}<extra></extra>",
         "legendgroup": "killed",
         "marker": {
          "color": "#00cc96",
          "symbol": "circle"
         },
         "mode": "markers",
         "name": "killed",
         "scene": "scene",
         "showlegend": true,
         "type": "scatter3d",
         "x": [
          -0.3972395360469818
         ],
         "y": [
          0.4075038433074951
         ],
         "z": [
          0.5016522407531738
         ]
        },
        {
         "hovertemplate": "color=sat<br>0=%{x}<br>1=%{y}<br>2=%{z}<extra></extra>",
         "legendgroup": "sat",
         "marker": {
          "color": "#ab63fa",
          "symbol": "circle"
         },
         "mode": "markers",
         "name": "sat",
         "scene": "scene",
         "showlegend": true,
         "type": "scatter3d",
         "x": [
          0.2572779059410095
         ],
         "y": [
          0.1650688350200653
         ],
         "z": [
          0.49551916122436523
         ]
        },
        {
         "hovertemplate": "color=began<br>0=%{x}<br>1=%{y}<br>2=%{z}<extra></extra>",
         "legendgroup": "began",
         "marker": {
          "color": "#FFA15A",
          "symbol": "circle"
         },
         "mode": "markers",
         "name": "began",
         "scene": "scene",
         "showlegend": true,
         "type": "scatter3d",
         "x": [
          0.2297031730413437
         ],
         "y": [
          0.17452968657016754
         ],
         "z": [
          0.46191757917404175
         ]
        },
        {
         "hovertemplate": "color=tried<br>0=%{x}<br>1=%{y}<br>2=%{z}<extra></extra>",
         "legendgroup": "tried",
         "marker": {
          "color": "#19d3f3",
          "symbol": "circle"
         },
         "mode": "markers",
         "name": "tried",
         "scene": "scene",
         "showlegend": true,
         "type": "scatter3d",
         "x": [
          -0.01955978199839592
         ],
         "y": [
          0.284029483795166
         ],
         "z": [
          0.5503833889961243
         ]
        },
        {
         "hovertemplate": "color=cut<br>0=%{x}<br>1=%{y}<br>2=%{z}<extra></extra>",
         "legendgroup": "cut",
         "marker": {
          "color": "#FF6692",
          "symbol": "circle"
         },
         "mode": "markers",
         "name": "cut",
         "scene": "scene",
         "showlegend": true,
         "type": "scatter3d",
         "x": [
          0.06620600074529648
         ],
         "y": [
          0.37941402196884155
         ],
         "z": [
          0.46680039167404175
         ]
        },
        {
         "hovertemplate": "color=bloody<br>0=%{x}<br>1=%{y}<br>2=%{z}<extra></extra>",
         "legendgroup": "bloody",
         "marker": {
          "color": "#B6E880",
          "symbol": "circle"
         },
         "mode": "markers",
         "name": "bloody",
         "scene": "scene",
         "showlegend": true,
         "type": "scatter3d",
         "x": [
          0.019212808459997177
         ],
         "y": [
          0.37161222100257874
         ],
         "z": [
          0.15902812778949738
         ]
        },
        {
         "hovertemplate": "color=inside<br>0=%{x}<br>1=%{y}<br>2=%{z}<extra></extra>",
         "legendgroup": "inside",
         "marker": {
          "color": "#FF97FF",
          "symbol": "circle"
         },
         "mode": "markers",
         "name": "inside",
         "scene": "scene",
         "showlegend": true,
         "type": "scatter3d",
         "x": [
          0.4296022951602936
         ],
         "y": [
          0.281063437461853
         ],
         "z": [
          0.2079203873872757
         ]
        },
        {
         "hovertemplate": "color=thousand<br>0=%{x}<br>1=%{y}<br>2=%{z}<extra></extra>",
         "legendgroup": "thousand",
         "marker": {
          "color": "#FECB52",
          "symbol": "circle"
         },
         "mode": "markers",
         "name": "thousand",
         "scene": "scene",
         "showlegend": true,
         "type": "scatter3d",
         "x": [
          -0.04681180417537689
         ],
         "y": [
          0.5867635011672974
         ],
         "z": [
          -0.23332606256008148
         ]
        },
        {
         "hovertemplate": "color=days<br>0=%{x}<br>1=%{y}<br>2=%{z}<extra></extra>",
         "legendgroup": "days",
         "marker": {
          "color": "#636efa",
          "symbol": "circle"
         },
         "mode": "markers",
         "name": "days",
         "scene": "scene",
         "showlegend": true,
         "type": "scatter3d",
         "x": [
          -0.027292944490909576
         ],
         "y": [
          0.6803395748138428
         ],
         "z": [
          -0.06821797043085098
         ]
        },
        {
         "hovertemplate": "color=dragons<br>0=%{x}<br>1=%{y}<br>2=%{z}<extra></extra>",
         "legendgroup": "dragons",
         "marker": {
          "color": "#EF553B",
          "symbol": "circle"
         },
         "mode": "markers",
         "name": "dragons",
         "scene": "scene",
         "showlegend": true,
         "type": "scatter3d",
         "x": [
          -0.10133843868970871
         ],
         "y": [
          0.6473833322525024
         ],
         "z": [
          -0.22957921028137207
         ]
        },
        {
         "hovertemplate": "color=mormont<br>0=%{x}<br>1=%{y}<br>2=%{z}<extra></extra>",
         "legendgroup": "mormont",
         "marker": {
          "color": "#00cc96",
          "symbol": "circle"
         },
         "mode": "markers",
         "name": "mormont",
         "scene": "scene",
         "showlegend": true,
         "type": "scatter3d",
         "x": [
          -0.05262836813926697
         ],
         "y": [
          0.22263570129871368
         ],
         "z": [
          0.16943490505218506
         ]
        },
        {
         "hovertemplate": "color=wife<br>0=%{x}<br>1=%{y}<br>2=%{z}<extra></extra>",
         "legendgroup": "wife",
         "marker": {
          "color": "#ab63fa",
          "symbol": "circle"
         },
         "mode": "markers",
         "name": "wife",
         "scene": "scene",
         "showlegend": true,
         "type": "scatter3d",
         "x": [
          -0.47002679109573364
         ],
         "y": [
          0.4735516309738159
         ],
         "z": [
          0.11163036525249481
         ]
        },
        {
         "hovertemplate": "color=part<br>0=%{x}<br>1=%{y}<br>2=%{z}<extra></extra>",
         "legendgroup": "part",
         "marker": {
          "color": "#FFA15A",
          "symbol": "circle"
         },
         "mode": "markers",
         "name": "part",
         "scene": "scene",
         "showlegend": true,
         "type": "scatter3d",
         "x": [
          -0.32886192202568054
         ],
         "y": [
          0.6591066718101501
         ],
         "z": [
          -0.060621120035648346
         ]
        },
        {
         "hovertemplate": "color=hodor<br>0=%{x}<br>1=%{y}<br>2=%{z}<extra></extra>",
         "legendgroup": "hodor",
         "marker": {
          "color": "#19d3f3",
          "symbol": "circle"
         },
         "mode": "markers",
         "name": "hodor",
         "scene": "scene",
         "showlegend": true,
         "type": "scatter3d",
         "x": [
          0.3573150932788849
         ],
         "y": [
          0.1939498484134674
         ],
         "z": [
          0.335972398519516
         ]
        },
        {
         "hovertemplate": "color=air<br>0=%{x}<br>1=%{y}<br>2=%{z}<extra></extra>",
         "legendgroup": "air",
         "marker": {
          "color": "#FF6692",
          "symbol": "circle"
         },
         "mode": "markers",
         "name": "air",
         "scene": "scene",
         "showlegend": true,
         "type": "scatter3d",
         "x": [
          0.6301001906394958
         ],
         "y": [
          0.2943597435951233
         ],
         "z": [
          0.07454043626785278
         ]
        },
        {
         "hovertemplate": "color=open<br>0=%{x}<br>1=%{y}<br>2=%{z}<extra></extra>",
         "legendgroup": "open",
         "marker": {
          "color": "#B6E880",
          "symbol": "circle"
         },
         "mode": "markers",
         "name": "open",
         "scene": "scene",
         "showlegend": true,
         "type": "scatter3d",
         "x": [
          0.24976369738578796
         ],
         "y": [
          0.29257890582084656
         ],
         "z": [
          0.2683544456958771
         ]
        },
        {
         "hovertemplate": "color=bring<br>0=%{x}<br>1=%{y}<br>2=%{z}<extra></extra>",
         "legendgroup": "bring",
         "marker": {
          "color": "#FF97FF",
          "symbol": "circle"
         },
         "mode": "markers",
         "name": "bring",
         "scene": "scene",
         "showlegend": true,
         "type": "scatter3d",
         "x": [
          -0.325605183839798
         ],
         "y": [
          0.494956374168396
         ],
         "z": [
          0.4177442193031311
         ]
        },
        {
         "hovertemplate": "color=bastard<br>0=%{x}<br>1=%{y}<br>2=%{z}<extra></extra>",
         "legendgroup": "bastard",
         "marker": {
          "color": "#FECB52",
          "symbol": "circle"
         },
         "mode": "markers",
         "name": "bastard",
         "scene": "scene",
         "showlegend": true,
         "type": "scatter3d",
         "x": [
          -0.4854884743690491
         ],
         "y": [
          0.4468573033809662
         ],
         "z": [
          0.18617863953113556
         ]
        },
        {
         "hovertemplate": "color=smile<br>0=%{x}<br>1=%{y}<br>2=%{z}<extra></extra>",
         "legendgroup": "smile",
         "marker": {
          "color": "#636efa",
          "symbol": "circle"
         },
         "mode": "markers",
         "name": "smile",
         "scene": "scene",
         "showlegend": true,
         "type": "scatter3d",
         "x": [
          -0.060079045593738556
         ],
         "y": [
          0.13301223516464233
         ],
         "z": [
          0.3904803395271301
         ]
        },
        {
         "hovertemplate": "color=silver<br>0=%{x}<br>1=%{y}<br>2=%{z}<extra></extra>",
         "legendgroup": "silver",
         "marker": {
          "color": "#EF553B",
          "symbol": "circle"
         },
         "mode": "markers",
         "name": "silver",
         "scene": "scene",
         "showlegend": true,
         "type": "scatter3d",
         "x": [
          0.24546106159687042
         ],
         "y": [
          0.2793406844139099
         ],
         "z": [
          0.003149541560560465
         ]
        },
        {
         "hovertemplate": "color=sons<br>0=%{x}<br>1=%{y}<br>2=%{z}<extra></extra>",
         "legendgroup": "sons",
         "marker": {
          "color": "#00cc96",
          "symbol": "circle"
         },
         "mode": "markers",
         "name": "sons",
         "scene": "scene",
         "showlegend": true,
         "type": "scatter3d",
         "x": [
          -0.3888934552669525
         ],
         "y": [
          0.6084660291671753
         ],
         "z": [
          -0.0560133196413517
         ]
        },
        {
         "hovertemplate": "color=going<br>0=%{x}<br>1=%{y}<br>2=%{z}<extra></extra>",
         "legendgroup": "going",
         "marker": {
          "color": "#ab63fa",
          "symbol": "circle"
         },
         "mode": "markers",
         "name": "going",
         "scene": "scene",
         "showlegend": true,
         "type": "scatter3d",
         "x": [
          -0.07085306197404861
         ],
         "y": [
          0.4915027618408203
         ],
         "z": [
          0.24539121985435486
         ]
        },
        {
         "hovertemplate": "color=love<br>0=%{x}<br>1=%{y}<br>2=%{z}<extra></extra>",
         "legendgroup": "love",
         "marker": {
          "color": "#FFA15A",
          "symbol": "circle"
         },
         "mode": "markers",
         "name": "love",
         "scene": "scene",
         "showlegend": true,
         "type": "scatter3d",
         "x": [
          -0.591493546962738
         ],
         "y": [
          0.5292302966117859
         ],
         "z": [
          0.2051575630903244
         ]
        },
        {
         "hovertemplate": "color=fell<br>0=%{x}<br>1=%{y}<br>2=%{z}<extra></extra>",
         "legendgroup": "fell",
         "marker": {
          "color": "#19d3f3",
          "symbol": "circle"
         },
         "mode": "markers",
         "name": "fell",
         "scene": "scene",
         "showlegend": true,
         "type": "scatter3d",
         "x": [
          0.3762674033641815
         ],
         "y": [
          0.19194483757019043
         ],
         "z": [
          0.5678095817565918
         ]
        },
        {
         "hovertemplate": "color=nor<br>0=%{x}<br>1=%{y}<br>2=%{z}<extra></extra>",
         "legendgroup": "nor",
         "marker": {
          "color": "#FF6692",
          "symbol": "circle"
         },
         "mode": "markers",
         "name": "nor",
         "scene": "scene",
         "showlegend": true,
         "type": "scatter3d",
         "x": [
          -0.32332685589790344
         ],
         "y": [
          0.38874638080596924
         ],
         "z": [
          0.03865339607000351
         ]
        },
        {
         "hovertemplate": "color=brown<br>0=%{x}<br>1=%{y}<br>2=%{z}<extra></extra>",
         "legendgroup": "brown",
         "marker": {
          "color": "#B6E880",
          "symbol": "circle"
         },
         "mode": "markers",
         "name": "brown",
         "scene": "scene",
         "showlegend": true,
         "type": "scatter3d",
         "x": [
          0.34822168946266174
         ],
         "y": [
          0.004944647662341595
         ],
         "z": [
          0.06148984655737877
         ]
        },
        {
         "hovertemplate": "color=four<br>0=%{x}<br>1=%{y}<br>2=%{z}<extra></extra>",
         "legendgroup": "four",
         "marker": {
          "color": "#FF97FF",
          "symbol": "circle"
         },
         "mode": "markers",
         "name": "four",
         "scene": "scene",
         "showlegend": true,
         "type": "scatter3d",
         "x": [
          0.07656978070735931
         ],
         "y": [
          0.43727442622184753
         ],
         "z": [
          -0.08692019432783127
         ]
        },
        {
         "hovertemplate": "color=river<br>0=%{x}<br>1=%{y}<br>2=%{z}<extra></extra>",
         "legendgroup": "river",
         "marker": {
          "color": "#FECB52",
          "symbol": "circle"
         },
         "mode": "markers",
         "name": "river",
         "scene": "scene",
         "showlegend": true,
         "type": "scatter3d",
         "x": [
          0.4206103980541229
         ],
         "y": [
          0.6120855212211609
         ],
         "z": [
          -0.207672581076622
         ]
        },
        {
         "hovertemplate": "color=swords<br>0=%{x}<br>1=%{y}<br>2=%{z}<extra></extra>",
         "legendgroup": "swords",
         "marker": {
          "color": "#636efa",
          "symbol": "circle"
         },
         "mode": "markers",
         "name": "swords",
         "scene": "scene",
         "showlegend": true,
         "type": "scatter3d",
         "x": [
          0.016790321096777916
         ],
         "y": [
          0.5926775336265564
         ],
         "z": [
          -0.12148276716470718
         ]
        },
        {
         "hovertemplate": "color=death<br>0=%{x}<br>1=%{y}<br>2=%{z}<extra></extra>",
         "legendgroup": "death",
         "marker": {
          "color": "#EF553B",
          "symbol": "circle"
         },
         "mode": "markers",
         "name": "death",
         "scene": "scene",
         "showlegend": true,
         "type": "scatter3d",
         "x": [
          -0.20654386281967163
         ],
         "y": [
          0.6578317284584045
         ],
         "z": [
          0.016395509243011475
         ]
        },
        {
         "hovertemplate": "color=renly<br>0=%{x}<br>1=%{y}<br>2=%{z}<extra></extra>",
         "legendgroup": "renly",
         "marker": {
          "color": "#00cc96",
          "symbol": "circle"
         },
         "mode": "markers",
         "name": "renly",
         "scene": "scene",
         "showlegend": true,
         "type": "scatter3d",
         "x": [
          -0.35179001092910767
         ],
         "y": [
          0.4518789052963257
         ],
         "z": [
          0.06941727548837662
         ]
        },
        {
         "hovertemplate": "color=without<br>0=%{x}<br>1=%{y}<br>2=%{z}<extra></extra>",
         "legendgroup": "without",
         "marker": {
          "color": "#ab63fa",
          "symbol": "circle"
         },
         "mode": "markers",
         "name": "without",
         "scene": "scene",
         "showlegend": true,
         "type": "scatter3d",
         "x": [
          -0.4142542779445648
         ],
         "y": [
          0.4423966705799103
         ],
         "z": [
          0.12102866172790527
         ]
        },
        {
         "hovertemplate": "color=laughed<br>0=%{x}<br>1=%{y}<br>2=%{z}<extra></extra>",
         "legendgroup": "laughed",
         "marker": {
          "color": "#FFA15A",
          "symbol": "circle"
         },
         "mode": "markers",
         "name": "laughed",
         "scene": "scene",
         "showlegend": true,
         "type": "scatter3d",
         "x": [
          -0.21756640076637268
         ],
         "y": [
          0.09879739582538605
         ],
         "z": [
          0.5708314180374146
         ]
        },
        {
         "hovertemplate": "color=above<br>0=%{x}<br>1=%{y}<br>2=%{z}<extra></extra>",
         "legendgroup": "above",
         "marker": {
          "color": "#19d3f3",
          "symbol": "circle"
         },
         "mode": "markers",
         "name": "above",
         "scene": "scene",
         "showlegend": true,
         "type": "scatter3d",
         "x": [
          0.43443045020103455
         ],
         "y": [
          0.26051217317581177
         ],
         "z": [
          0.07926854491233826
         ]
        },
        {
         "hovertemplate": "color=bed<br>0=%{x}<br>1=%{y}<br>2=%{z}<extra></extra>",
         "legendgroup": "bed",
         "marker": {
          "color": "#FF6692",
          "symbol": "circle"
         },
         "mode": "markers",
         "name": "bed",
         "scene": "scene",
         "showlegend": true,
         "type": "scatter3d",
         "x": [
          0.12944430112838745
         ],
         "y": [
          0.5340785384178162
         ],
         "z": [
          0.30420517921447754
         ]
        },
        {
         "hovertemplate": "color=please<br>0=%{x}<br>1=%{y}<br>2=%{z}<extra></extra>",
         "legendgroup": "please",
         "marker": {
          "color": "#B6E880",
          "symbol": "circle"
         },
         "mode": "markers",
         "name": "please",
         "scene": "scene",
         "showlegend": true,
         "type": "scatter3d",
         "x": [
          -0.4910340905189514
         ],
         "y": [
          0.2927066385746002
         ],
         "z": [
          0.4183107912540436
         ]
        },
        {
         "hovertemplate": "color=knights<br>0=%{x}<br>1=%{y}<br>2=%{z}<extra></extra>",
         "legendgroup": "knights",
         "marker": {
          "color": "#FF97FF",
          "symbol": "circle"
         },
         "mode": "markers",
         "name": "knights",
         "scene": "scene",
         "showlegend": true,
         "type": "scatter3d",
         "x": [
          -0.15240974724292755
         ],
         "y": [
          0.5622936487197876
         ],
         "z": [
          -0.18768319487571716
         ]
        },
        {
         "hovertemplate": "color=rode<br>0=%{x}<br>1=%{y}<br>2=%{z}<extra></extra>",
         "legendgroup": "rode",
         "marker": {
          "color": "#FECB52",
          "symbol": "circle"
         },
         "mode": "markers",
         "name": "rode",
         "scene": "scene",
         "showlegend": true,
         "type": "scatter3d",
         "x": [
          0.18172189593315125
         ],
         "y": [
          0.35137939453125
         ],
         "z": [
          0.4257076382637024
         ]
        },
        {
         "hovertemplate": "color=sun<br>0=%{x}<br>1=%{y}<br>2=%{z}<extra></extra>",
         "legendgroup": "sun",
         "marker": {
          "color": "#636efa",
          "symbol": "circle"
         },
         "mode": "markers",
         "name": "sun",
         "scene": "scene",
         "showlegend": true,
         "type": "scatter3d",
         "x": [
          0.39490827918052673
         ],
         "y": [
          0.5497573018074036
         ],
         "z": [
          -0.06560849398374557
         ]
        },
        {
         "hovertemplate": "color=thick<br>0=%{x}<br>1=%{y}<br>2=%{z}<extra></extra>",
         "legendgroup": "thick",
         "marker": {
          "color": "#EF553B",
          "symbol": "circle"
         },
         "mode": "markers",
         "name": "thick",
         "scene": "scene",
         "showlegend": true,
         "type": "scatter3d",
         "x": [
          0.5627867579460144
         ],
         "y": [
          0.05990274250507355
         ],
         "z": [
          0.0959448516368866
         ]
        },
        {
         "hovertemplate": "color=landing<br>0=%{x}<br>1=%{y}<br>2=%{z}<extra></extra>",
         "legendgroup": "landing",
         "marker": {
          "color": "#00cc96",
          "symbol": "circle"
         },
         "mode": "markers",
         "name": "landing",
         "scene": "scene",
         "showlegend": true,
         "type": "scatter3d",
         "x": [
          -0.08190535753965378
         ],
         "y": [
          0.5973638892173767
         ],
         "z": [
          0.07346154749393463
         ]
        },
        {
         "hovertemplate": "color=trees<br>0=%{x}<br>1=%{y}<br>2=%{z}<extra></extra>",
         "legendgroup": "trees",
         "marker": {
          "color": "#ab63fa",
          "symbol": "circle"
         },
         "mode": "markers",
         "name": "trees",
         "scene": "scene",
         "showlegend": true,
         "type": "scatter3d",
         "x": [
          0.6114940643310547
         ],
         "y": [
          0.4810290038585663
         ],
         "z": [
          -0.20341409742832184
         ]
        },
        {
         "hovertemplate": "color=uncle<br>0=%{x}<br>1=%{y}<br>2=%{z}<extra></extra>",
         "legendgroup": "uncle",
         "marker": {
          "color": "#FFA15A",
          "symbol": "circle"
         },
         "mode": "markers",
         "name": "uncle",
         "scene": "scene",
         "showlegend": true,
         "type": "scatter3d",
         "x": [
          -0.46007677912712097
         ],
         "y": [
          0.5410728454589844
         ],
         "z": [
          0.22042293846607208
         ]
        },
        {
         "hovertemplate": "color=beyond<br>0=%{x}<br>1=%{y}<br>2=%{z}<extra></extra>",
         "legendgroup": "beyond",
         "marker": {
          "color": "#19d3f3",
          "symbol": "circle"
         },
         "mode": "markers",
         "name": "beyond",
         "scene": "scene",
         "showlegend": true,
         "type": "scatter3d",
         "x": [
          -0.01458793692290783
         ],
         "y": [
          0.4969857335090637
         ],
         "z": [
          -0.12480074167251587
         ]
        },
        {
         "hovertemplate": "color=feel<br>0=%{x}<br>1=%{y}<br>2=%{z}<extra></extra>",
         "legendgroup": "feel",
         "marker": {
          "color": "#FF6692",
          "symbol": "circle"
         },
         "mode": "markers",
         "name": "feel",
         "scene": "scene",
         "showlegend": true,
         "type": "scatter3d",
         "x": [
          0.15710511803627014
         ],
         "y": [
          0.3251606822013855
         ],
         "z": [
          0.3646286725997925
         ]
        },
        {
         "hovertemplate": "color=world<br>0=%{x}<br>1=%{y}<br>2=%{z}<extra></extra>",
         "legendgroup": "world",
         "marker": {
          "color": "#B6E880",
          "symbol": "circle"
         },
         "mode": "markers",
         "name": "world",
         "scene": "scene",
         "showlegend": true,
         "type": "scatter3d",
         "x": [
          0.10946506261825562
         ],
         "y": [
          0.6933342218399048
         ],
         "z": [
          -0.1343991458415985
         ]
        },
        {
         "hovertemplate": "color=deep<br>0=%{x}<br>1=%{y}<br>2=%{z}<extra></extra>",
         "legendgroup": "deep",
         "marker": {
          "color": "#FF97FF",
          "symbol": "circle"
         },
         "mode": "markers",
         "name": "deep",
         "scene": "scene",
         "showlegend": true,
         "type": "scatter3d",
         "x": [
          0.5923441052436829
         ],
         "y": [
          0.24472783505916595
         ],
         "z": [
          -0.040562499314546585
         ]
        },
        {
         "hovertemplate": "color=table<br>0=%{x}<br>1=%{y}<br>2=%{z}<extra></extra>",
         "legendgroup": "table",
         "marker": {
          "color": "#FECB52",
          "symbol": "circle"
         },
         "mode": "markers",
         "name": "table",
         "scene": "scene",
         "showlegend": true,
         "type": "scatter3d",
         "x": [
          0.3059292435646057
         ],
         "y": [
          0.33331143856048584
         ],
         "z": [
          0.2224160134792328
         ]
        },
        {
         "hovertemplate": "color=rose<br>0=%{x}<br>1=%{y}<br>2=%{z}<extra></extra>",
         "legendgroup": "rose",
         "marker": {
          "color": "#636efa",
          "symbol": "circle"
         },
         "mode": "markers",
         "name": "rose",
         "scene": "scene",
         "showlegend": true,
         "type": "scatter3d",
         "x": [
          0.4467531144618988
         ],
         "y": [
          0.18002335727214813
         ],
         "z": [
          0.35993561148643494
         ]
        },
        {
         "hovertemplate": "color=pulled<br>0=%{x}<br>1=%{y}<br>2=%{z}<extra></extra>",
         "legendgroup": "pulled",
         "marker": {
          "color": "#EF553B",
          "symbol": "circle"
         },
         "mode": "markers",
         "name": "pulled",
         "scene": "scene",
         "showlegend": true,
         "type": "scatter3d",
         "x": [
          0.42897170782089233
         ],
         "y": [
          0.10955550521612167
         ],
         "z": [
          0.7114952802658081
         ]
        },
        {
         "hovertemplate": "color=blue<br>0=%{x}<br>1=%{y}<br>2=%{z}<extra></extra>",
         "legendgroup": "blue",
         "marker": {
          "color": "#00cc96",
          "symbol": "circle"
         },
         "mode": "markers",
         "name": "blue",
         "scene": "scene",
         "showlegend": true,
         "type": "scatter3d",
         "x": [
          0.37780556082725525
         ],
         "y": [
          0.1637967824935913
         ],
         "z": [
          -0.07777972519397736
         ]
        },
        {
         "hovertemplate": "color=throat<br>0=%{x}<br>1=%{y}<br>2=%{z}<extra></extra>",
         "legendgroup": "throat",
         "marker": {
          "color": "#ab63fa",
          "symbol": "circle"
         },
         "mode": "markers",
         "name": "throat",
         "scene": "scene",
         "showlegend": true,
         "type": "scatter3d",
         "x": [
          0.3165090084075928
         ],
         "y": [
          0.2831687927246094
         ],
         "z": [
          0.48675206303596497
         ]
        },
        {
         "hovertemplate": "color=honor<br>0=%{x}<br>1=%{y}<br>2=%{z}<extra></extra>",
         "legendgroup": "honor",
         "marker": {
          "color": "#FFA15A",
          "symbol": "circle"
         },
         "mode": "markers",
         "name": "honor",
         "scene": "scene",
         "showlegend": true,
         "type": "scatter3d",
         "x": [
          -0.47417762875556946
         ],
         "y": [
          0.6644359230995178
         ],
         "z": [
          -0.04303629323840141
         ]
        },
        {
         "hovertemplate": "color=fight<br>0=%{x}<br>1=%{y}<br>2=%{z}<extra></extra>",
         "legendgroup": "fight",
         "marker": {
          "color": "#19d3f3",
          "symbol": "circle"
         },
         "mode": "markers",
         "name": "fight",
         "scene": "scene",
         "showlegend": true,
         "type": "scatter3d",
         "x": [
          -0.23947957158088684
         ],
         "y": [
          0.6731576919555664
         ],
         "z": [
          0.11731866747140884
         ]
        },
        {
         "hovertemplate": "color=got<br>0=%{x}<br>1=%{y}<br>2=%{z}<extra></extra>",
         "legendgroup": "got",
         "marker": {
          "color": "#FF6692",
          "symbol": "circle"
         },
         "mode": "markers",
         "name": "got",
         "scene": "scene",
         "showlegend": true,
         "type": "scatter3d",
         "x": [
          -0.08924033492803574
         ],
         "y": [
          0.25510650873184204
         ],
         "z": [
          0.5260239243507385
         ]
        },
        {
         "hovertemplate": "color=jorah<br>0=%{x}<br>1=%{y}<br>2=%{z}<extra></extra>",
         "legendgroup": "jorah",
         "marker": {
          "color": "#B6E880",
          "symbol": "circle"
         },
         "mode": "markers",
         "name": "jorah",
         "scene": "scene",
         "showlegend": true,
         "type": "scatter3d",
         "x": [
          -0.02935647964477539
         ],
         "y": [
          0.28103190660476685
         ],
         "z": [
          0.19520406424999237
         ]
        },
        {
         "hovertemplate": "color=sleep<br>0=%{x}<br>1=%{y}<br>2=%{z}<extra></extra>",
         "legendgroup": "sleep",
         "marker": {
          "color": "#FF97FF",
          "symbol": "circle"
         },
         "mode": "markers",
         "name": "sleep",
         "scene": "scene",
         "showlegend": true,
         "type": "scatter3d",
         "x": [
          0.09950552880764008
         ],
         "y": [
          0.5053638815879822
         ],
         "z": [
          0.3734757602214813
         ]
        },
        {
         "hovertemplate": "color=set<br>0=%{x}<br>1=%{y}<br>2=%{z}<extra></extra>",
         "legendgroup": "set",
         "marker": {
          "color": "#FECB52",
          "symbol": "circle"
         },
         "mode": "markers",
         "name": "set",
         "scene": "scene",
         "showlegend": true,
         "type": "scatter3d",
         "x": [
          0.17733612656593323
         ],
         "y": [
          0.4083062410354614
         ],
         "z": [
          0.39658939838409424
         ]
        },
        {
         "hovertemplate": "color=war<br>0=%{x}<br>1=%{y}<br>2=%{z}<extra></extra>",
         "legendgroup": "war",
         "marker": {
          "color": "#636efa",
          "symbol": "circle"
         },
         "mode": "markers",
         "name": "war",
         "scene": "scene",
         "showlegend": true,
         "type": "scatter3d",
         "x": [
          -0.30175158381462097
         ],
         "y": [
          0.7647921442985535
         ],
         "z": [
          -0.2277045100927353
         ]
        },
        {
         "hovertemplate": "color=send<br>0=%{x}<br>1=%{y}<br>2=%{z}<extra></extra>",
         "legendgroup": "send",
         "marker": {
          "color": "#EF553B",
          "symbol": "circle"
         },
         "mode": "markers",
         "name": "send",
         "scene": "scene",
         "showlegend": true,
         "type": "scatter3d",
         "x": [
          -0.3445316553115845
         ],
         "y": [
          0.5508936643600464
         ],
         "z": [
          0.45412442088127136
         ]
        },
        {
         "hovertemplate": "color=heavy<br>0=%{x}<br>1=%{y}<br>2=%{z}<extra></extra>",
         "legendgroup": "heavy",
         "marker": {
          "color": "#00cc96",
          "symbol": "circle"
         },
         "mode": "markers",
         "name": "heavy",
         "scene": "scene",
         "showlegend": true,
         "type": "scatter3d",
         "x": [
          0.5805151462554932
         ],
         "y": [
          0.0655776634812355
         ],
         "z": [
          0.13682527840137482
         ]
        },
        {
         "hovertemplate": "color=legs<br>0=%{x}<br>1=%{y}<br>2=%{z}<extra></extra>",
         "legendgroup": "legs",
         "marker": {
          "color": "#ab63fa",
          "symbol": "circle"
         },
         "mode": "markers",
         "name": "legs",
         "scene": "scene",
         "showlegend": true,
         "type": "scatter3d",
         "x": [
          0.47163885831832886
         ],
         "y": [
          0.31825363636016846
         ],
         "z": [
          0.33762064576148987
         ]
        },
        {
         "hovertemplate": "color=certain<br>0=%{x}<br>1=%{y}<br>2=%{z}<extra></extra>",
         "legendgroup": "certain",
         "marker": {
          "color": "#FFA15A",
          "symbol": "circle"
         },
         "mode": "markers",
         "name": "certain",
         "scene": "scene",
         "showlegend": true,
         "type": "scatter3d",
         "x": [
          -0.365547776222229
         ],
         "y": [
          0.5318146347999573
         ],
         "z": [
          0.0026146334130316973
         ]
        },
        {
         "hovertemplate": "color=full<br>0=%{x}<br>1=%{y}<br>2=%{z}<extra></extra>",
         "legendgroup": "full",
         "marker": {
          "color": "#19d3f3",
          "symbol": "circle"
         },
         "mode": "markers",
         "name": "full",
         "scene": "scene",
         "showlegend": true,
         "type": "scatter3d",
         "x": [
          0.1993977427482605
         ],
         "y": [
          0.2997834086418152
         ],
         "z": [
          -0.03331723064184189
         ]
        },
        {
         "hovertemplate": "color=burned<br>0=%{x}<br>1=%{y}<br>2=%{z}<extra></extra>",
         "legendgroup": "burned",
         "marker": {
          "color": "#FF6692",
          "symbol": "circle"
         },
         "mode": "markers",
         "name": "burned",
         "scene": "scene",
         "showlegend": true,
         "type": "scatter3d",
         "x": [
          0.2952883243560791
         ],
         "y": [
          0.4095074534416199
         ],
         "z": [
          0.11131612211465836
         ]
        },
        {
         "hovertemplate": "color=dwarf<br>0=%{x}<br>1=%{y}<br>2=%{z}<extra></extra>",
         "legendgroup": "dwarf",
         "marker": {
          "color": "#B6E880",
          "symbol": "circle"
         },
         "mode": "markers",
         "name": "dwarf",
         "scene": "scene",
         "showlegend": true,
         "type": "scatter3d",
         "x": [
          -0.2346142828464508
         ],
         "y": [
          0.3323945701122284
         ],
         "z": [
          0.2305142879486084
         ]
        },
        {
         "hovertemplate": "color=speak<br>0=%{x}<br>1=%{y}<br>2=%{z}<extra></extra>",
         "legendgroup": "speak",
         "marker": {
          "color": "#FF97FF",
          "symbol": "circle"
         },
         "mode": "markers",
         "name": "speak",
         "scene": "scene",
         "showlegend": true,
         "type": "scatter3d",
         "x": [
          -0.40702125430107117
         ],
         "y": [
          0.5074391961097717
         ],
         "z": [
          0.2966156601905823
         ]
        },
        {
         "hovertemplate": "color=skin<br>0=%{x}<br>1=%{y}<br>2=%{z}<extra></extra>",
         "legendgroup": "skin",
         "marker": {
          "color": "#FECB52",
          "symbol": "circle"
         },
         "mode": "markers",
         "name": "skin",
         "scene": "scene",
         "showlegend": true,
         "type": "scatter3d",
         "x": [
          0.462309330701828
         ],
         "y": [
          0.23114199936389923
         ],
         "z": [
          0.2766039967536926
         ]
        },
        {
         "hovertemplate": "color=things<br>0=%{x}<br>1=%{y}<br>2=%{z}<extra></extra>",
         "legendgroup": "things",
         "marker": {
          "color": "#636efa",
          "symbol": "circle"
         },
         "mode": "markers",
         "name": "things",
         "scene": "scene",
         "showlegend": true,
         "type": "scatter3d",
         "x": [
          -0.09982846677303314
         ],
         "y": [
          0.5587053894996643
         ],
         "z": [
          -0.22370977699756622
         ]
        },
        {
         "hovertemplate": "color=toward<br>0=%{x}<br>1=%{y}<br>2=%{z}<extra></extra>",
         "legendgroup": "toward",
         "marker": {
          "color": "#EF553B",
          "symbol": "circle"
         },
         "mode": "markers",
         "name": "toward",
         "scene": "scene",
         "showlegend": true,
         "type": "scatter3d",
         "x": [
          0.3723929524421692
         ],
         "y": [
          0.1705036610364914
         ],
         "z": [
          0.3448137938976288
         ]
        },
        {
         "hovertemplate": "color=broken<br>0=%{x}<br>1=%{y}<br>2=%{z}<extra></extra>",
         "legendgroup": "broken",
         "marker": {
          "color": "#00cc96",
          "symbol": "circle"
         },
         "mode": "markers",
         "name": "broken",
         "scene": "scene",
         "showlegend": true,
         "type": "scatter3d",
         "x": [
          0.5480858683586121
         ],
         "y": [
          0.2803497910499573
         ],
         "z": [
          0.0543646514415741
         ]
        },
        {
         "hovertemplate": "color=rock<br>0=%{x}<br>1=%{y}<br>2=%{z}<extra></extra>",
         "legendgroup": "rock",
         "marker": {
          "color": "#ab63fa",
          "symbol": "circle"
         },
         "mode": "markers",
         "name": "rock",
         "scene": "scene",
         "showlegend": true,
         "type": "scatter3d",
         "x": [
          0.19945180416107178
         ],
         "y": [
          0.5202915668487549
         ],
         "z": [
          -0.04337264969944954
         ]
        },
        {
         "hovertemplate": "color=tall<br>0=%{x}<br>1=%{y}<br>2=%{z}<extra></extra>",
         "legendgroup": "tall",
         "marker": {
          "color": "#FFA15A",
          "symbol": "circle"
         },
         "mode": "markers",
         "name": "tall",
         "scene": "scene",
         "showlegend": true,
         "type": "scatter3d",
         "x": [
          0.31556567549705505
         ],
         "y": [
          0.15689271688461304
         ],
         "z": [
          0.05110953748226166
         ]
        },
        {
         "hovertemplate": "color=oh<br>0=%{x}<br>1=%{y}<br>2=%{z}<extra></extra>",
         "legendgroup": "oh",
         "marker": {
          "color": "#19d3f3",
          "symbol": "circle"
         },
         "mode": "markers",
         "name": "oh",
         "scene": "scene",
         "showlegend": true,
         "type": "scatter3d",
         "x": [
          -0.546959400177002
         ],
         "y": [
          0.29054662585258484
         ],
         "z": [
          0.11447986215353012
         ]
        },
        {
         "hovertemplate": "color=moved<br>0=%{x}<br>1=%{y}<br>2=%{z}<extra></extra>",
         "legendgroup": "moved",
         "marker": {
          "color": "#FF6692",
          "symbol": "circle"
         },
         "mode": "markers",
         "name": "moved",
         "scene": "scene",
         "showlegend": true,
         "type": "scatter3d",
         "x": [
          0.3131726086139679
         ],
         "y": [
          0.19761043787002563
         ],
         "z": [
          0.6050875186920166
         ]
        },
        {
         "hovertemplate": "color=tongue<br>0=%{x}<br>1=%{y}<br>2=%{z}<extra></extra>",
         "legendgroup": "tongue",
         "marker": {
          "color": "#B6E880",
          "symbol": "circle"
         },
         "mode": "markers",
         "name": "tongue",
         "scene": "scene",
         "showlegend": true,
         "type": "scatter3d",
         "x": [
          -0.0206732377409935
         ],
         "y": [
          0.4039468765258789
         ],
         "z": [
          0.19155077636241913
         ]
        },
        {
         "hovertemplate": "color=women<br>0=%{x}<br>1=%{y}<br>2=%{z}<extra></extra>",
         "legendgroup": "women",
         "marker": {
          "color": "#FF97FF",
          "symbol": "circle"
         },
         "mode": "markers",
         "name": "women",
         "scene": "scene",
         "showlegend": true,
         "type": "scatter3d",
         "x": [
          -0.08226477354764938
         ],
         "y": [
          0.49445584416389465
         ],
         "z": [
          -0.21131248772144318
         ]
        },
        {
         "hovertemplate": "color=fool<br>0=%{x}<br>1=%{y}<br>2=%{z}<extra></extra>",
         "legendgroup": "fool",
         "marker": {
          "color": "#FECB52",
          "symbol": "circle"
         },
         "mode": "markers",
         "name": "fool",
         "scene": "scene",
         "showlegend": true,
         "type": "scatter3d",
         "x": [
          -0.3892645537853241
         ],
         "y": [
          0.3197050988674164
         ],
         "z": [
          0.174453467130661
         ]
        },
        {
         "hovertemplate": "color=golden<br>0=%{x}<br>1=%{y}<br>2=%{z}<extra></extra>",
         "legendgroup": "golden",
         "marker": {
          "color": "#636efa",
          "symbol": "circle"
         },
         "mode": "markers",
         "name": "golden",
         "scene": "scene",
         "showlegend": true,
         "type": "scatter3d",
         "x": [
          0.22262656688690186
         ],
         "y": [
          0.28223392367362976
         ],
         "z": [
          -0.05455659329891205
         ]
        },
        {
         "hovertemplate": "color=smiled<br>0=%{x}<br>1=%{y}<br>2=%{z}<extra></extra>",
         "legendgroup": "smiled",
         "marker": {
          "color": "#EF553B",
          "symbol": "circle"
         },
         "mode": "markers",
         "name": "smiled",
         "scene": "scene",
         "showlegend": true,
         "type": "scatter3d",
         "x": [
          -0.12420078366994858
         ],
         "y": [
          0.03927474096417427
         ],
         "z": [
          0.621099054813385
         ]
        },
        {
         "hovertemplate": "color=reached<br>0=%{x}<br>1=%{y}<br>2=%{z}<extra></extra>",
         "legendgroup": "reached",
         "marker": {
          "color": "#00cc96",
          "symbol": "circle"
         },
         "mode": "markers",
         "name": "reached",
         "scene": "scene",
         "showlegend": true,
         "type": "scatter3d",
         "x": [
          0.2579374611377716
         ],
         "y": [
          0.31163665652275085
         ],
         "z": [
          0.5901577472686768
         ]
        },
        {
         "hovertemplate": "color=ride<br>0=%{x}<br>1=%{y}<br>2=%{z}<extra></extra>",
         "legendgroup": "ride",
         "marker": {
          "color": "#ab63fa",
          "symbol": "circle"
         },
         "mode": "markers",
         "name": "ride",
         "scene": "scene",
         "showlegend": true,
         "type": "scatter3d",
         "x": [
          -0.0573139488697052
         ],
         "y": [
          0.6807580590248108
         ],
         "z": [
          0.2644751965999603
         ]
        },
        {
         "hovertemplate": "color=together<br>0=%{x}<br>1=%{y}<br>2=%{z}<extra></extra>",
         "legendgroup": "together",
         "marker": {
          "color": "#FFA15A",
          "symbol": "circle"
         },
         "mode": "markers",
         "name": "together",
         "scene": "scene",
         "showlegend": true,
         "type": "scatter3d",
         "x": [
          0.2602059543132782
         ],
         "y": [
          0.22737891972064972
         ],
         "z": [
          0.1362570822238922
         ]
        },
        {
         "hovertemplate": "color=remember<br>0=%{x}<br>1=%{y}<br>2=%{z}<extra></extra>",
         "legendgroup": "remember",
         "marker": {
          "color": "#19d3f3",
          "symbol": "circle"
         },
         "mode": "markers",
         "name": "remember",
         "scene": "scene",
         "showlegend": true,
         "type": "scatter3d",
         "x": [
          -0.34225019812583923
         ],
         "y": [
          0.447319358587265
         ],
         "z": [
          0.31591540575027466
         ]
        },
        {
         "hovertemplate": "color=alone<br>0=%{x}<br>1=%{y}<br>2=%{z}<extra></extra>",
         "legendgroup": "alone",
         "marker": {
          "color": "#FF6692",
          "symbol": "circle"
         },
         "mode": "markers",
         "name": "alone",
         "scene": "scene",
         "showlegend": true,
         "type": "scatter3d",
         "x": [
          -0.09229534864425659
         ],
         "y": [
          0.5582878589630127
         ],
         "z": [
          0.1782170981168747
         ]
        },
        {
         "hovertemplate": "color=call<br>0=%{x}<br>1=%{y}<br>2=%{z}<extra></extra>",
         "legendgroup": "call",
         "marker": {
          "color": "#B6E880",
          "symbol": "circle"
         },
         "mode": "markers",
         "name": "call",
         "scene": "scene",
         "showlegend": true,
         "type": "scatter3d",
         "x": [
          -0.40693098306655884
         ],
         "y": [
          0.3755478262901306
         ],
         "z": [
          0.43100205063819885
         ]
        },
        {
         "hovertemplate": "color=captain<br>0=%{x}<br>1=%{y}<br>2=%{z}<extra></extra>",
         "legendgroup": "captain",
         "marker": {
          "color": "#FF97FF",
          "symbol": "circle"
         },
         "mode": "markers",
         "name": "captain",
         "scene": "scene",
         "showlegend": true,
         "type": "scatter3d",
         "x": [
          -0.33629316091537476
         ],
         "y": [
          0.37807098031044006
         ],
         "z": [
          0.06983793526887894
         ]
        },
        {
         "hovertemplate": "color=coming<br>0=%{x}<br>1=%{y}<br>2=%{z}<extra></extra>",
         "legendgroup": "coming",
         "marker": {
          "color": "#FECB52",
          "symbol": "circle"
         },
         "mode": "markers",
         "name": "coming",
         "scene": "scene",
         "showlegend": true,
         "type": "scatter3d",
         "x": [
          0.09677567332983017
         ],
         "y": [
          0.5821690559387207
         ],
         "z": [
          0.1639961451292038
         ]
        },
        {
         "hovertemplate": "color=ground<br>0=%{x}<br>1=%{y}<br>2=%{z}<extra></extra>",
         "legendgroup": "ground",
         "marker": {
          "color": "#636efa",
          "symbol": "circle"
         },
         "mode": "markers",
         "name": "ground",
         "scene": "scene",
         "showlegend": true,
         "type": "scatter3d",
         "x": [
          0.6812857389450073
         ],
         "y": [
          0.3479665219783783
         ],
         "z": [
          0.2130873054265976
         ]
        },
        {
         "hovertemplate": "color=teeth<br>0=%{x}<br>1=%{y}<br>2=%{z}<extra></extra>",
         "legendgroup": "teeth",
         "marker": {
          "color": "#EF553B",
          "symbol": "circle"
         },
         "mode": "markers",
         "name": "teeth",
         "scene": "scene",
         "showlegend": true,
         "type": "scatter3d",
         "x": [
          0.4659481942653656
         ],
         "y": [
          0.2078379988670349
         ],
         "z": [
          0.27847298979759216
         ]
        },
        {
         "hovertemplate": "color=steps<br>0=%{x}<br>1=%{y}<br>2=%{z}<extra></extra>",
         "legendgroup": "steps",
         "marker": {
          "color": "#00cc96",
          "symbol": "circle"
         },
         "mode": "markers",
         "name": "steps",
         "scene": "scene",
         "showlegend": true,
         "type": "scatter3d",
         "x": [
          0.47565722465515137
         ],
         "y": [
          0.4312629997730255
         ],
         "z": [
          0.2218995988368988
         ]
        },
        {
         "hovertemplate": "color=hold<br>0=%{x}<br>1=%{y}<br>2=%{z}<extra></extra>",
         "legendgroup": "hold",
         "marker": {
          "color": "#ab63fa",
          "symbol": "circle"
         },
         "mode": "markers",
         "name": "hold",
         "scene": "scene",
         "showlegend": true,
         "type": "scatter3d",
         "x": [
          -0.24124929308891296
         ],
         "y": [
          0.5156455039978027
         ],
         "z": [
          0.3491426408290863
         ]
        },
        {
         "hovertemplate": "color=given<br>0=%{x}<br>1=%{y}<br>2=%{z}<extra></extra>",
         "legendgroup": "given",
         "marker": {
          "color": "#FFA15A",
          "symbol": "circle"
         },
         "mode": "markers",
         "name": "given",
         "scene": "scene",
         "showlegend": true,
         "type": "scatter3d",
         "x": [
          -0.30386340618133545
         ],
         "y": [
          0.41496574878692627
         ],
         "z": [
          0.3731916546821594
         ]
        },
        {
         "hovertemplate": "color=remembered<br>0=%{x}<br>1=%{y}<br>2=%{z}<extra></extra>",
         "legendgroup": "remembered",
         "marker": {
          "color": "#19d3f3",
          "symbol": "circle"
         },
         "mode": "markers",
         "name": "remembered",
         "scene": "scene",
         "showlegend": true,
         "type": "scatter3d",
         "x": [
          -0.09765421599149704
         ],
         "y": [
          0.22502927482128143
         ],
         "z": [
          0.4697536826133728
         ]
        },
        {
         "hovertemplate": "color=soft<br>0=%{x}<br>1=%{y}<br>2=%{z}<extra></extra>",
         "legendgroup": "soft",
         "marker": {
          "color": "#FF6692",
          "symbol": "circle"
         },
         "mode": "markers",
         "name": "soft",
         "scene": "scene",
         "showlegend": true,
         "type": "scatter3d",
         "x": [
          0.45958080887794495
         ],
         "y": [
          -0.06602979451417923
         ],
         "z": [
          0.2431730479001999
         ]
        },
        {
         "hovertemplate": "color=second<br>0=%{x}<br>1=%{y}<br>2=%{z}<extra></extra>",
         "legendgroup": "second",
         "marker": {
          "color": "#B6E880",
          "symbol": "circle"
         },
         "mode": "markers",
         "name": "second",
         "scene": "scene",
         "showlegend": true,
         "type": "scatter3d",
         "x": [
          -0.046651072800159454
         ],
         "y": [
          0.3497627079486847
         ],
         "z": [
          0.14943495392799377
         ]
        },
        {
         "hovertemplate": "color=south<br>0=%{x}<br>1=%{y}<br>2=%{z}<extra></extra>",
         "legendgroup": "south",
         "marker": {
          "color": "#FF97FF",
          "symbol": "circle"
         },
         "mode": "markers",
         "name": "south",
         "scene": "scene",
         "showlegend": true,
         "type": "scatter3d",
         "x": [
          0.06804870069026947
         ],
         "y": [
          0.6843077540397644
         ],
         "z": [
          -0.1471593827009201
         ]
        },
        {
         "hovertemplate": "color=commander<br>0=%{x}<br>1=%{y}<br>2=%{z}<extra></extra>",
         "legendgroup": "commander",
         "marker": {
          "color": "#FECB52",
          "symbol": "circle"
         },
         "mode": "markers",
         "name": "commander",
         "scene": "scene",
         "showlegend": true,
         "type": "scatter3d",
         "x": [
          -0.2428130805492401
         ],
         "y": [
          0.4539162814617157
         ],
         "z": [
          -0.04299047589302063
         ]
        },
        {
         "hovertemplate": "color=storm<br>0=%{x}<br>1=%{y}<br>2=%{z}<extra></extra>",
         "legendgroup": "storm",
         "marker": {
          "color": "#636efa",
          "symbol": "circle"
         },
         "mode": "markers",
         "name": "storm",
         "scene": "scene",
         "showlegend": true,
         "type": "scatter3d",
         "x": [
          0.004441177472472191
         ],
         "y": [
          0.5771090984344482
         ],
         "z": [
          -0.053662773221731186
         ]
        },
        {
         "hovertemplate": "color=morning<br>0=%{x}<br>1=%{y}<br>2=%{z}<extra></extra>",
         "legendgroup": "morning",
         "marker": {
          "color": "#EF553B",
          "symbol": "circle"
         },
         "mode": "markers",
         "name": "morning",
         "scene": "scene",
         "showlegend": true,
         "type": "scatter3d",
         "x": [
          0.16126883029937744
         ],
         "y": [
          0.43231168389320374
         ],
         "z": [
          0.07459715008735657
         ]
        },
        {
         "hovertemplate": "color=next<br>0=%{x}<br>1=%{y}<br>2=%{z}<extra></extra>",
         "legendgroup": "next",
         "marker": {
          "color": "#00cc96",
          "symbol": "circle"
         },
         "mode": "markers",
         "name": "next",
         "scene": "scene",
         "showlegend": true,
         "type": "scatter3d",
         "x": [
          -0.05059278756380081
         ],
         "y": [
          0.45771846175193787
         ],
         "z": [
          0.29476624727249146
         ]
        },
        {
         "hovertemplate": "color=hope<br>0=%{x}<br>1=%{y}<br>2=%{z}<extra></extra>",
         "legendgroup": "hope",
         "marker": {
          "color": "#ab63fa",
          "symbol": "circle"
         },
         "mode": "markers",
         "name": "hope",
         "scene": "scene",
         "showlegend": true,
         "type": "scatter3d",
         "x": [
          -0.4202968180179596
         ],
         "y": [
          0.6959436535835266
         ],
         "z": [
          0.21025685966014862
         ]
        },
        {
         "hovertemplate": "color=wood<br>0=%{x}<br>1=%{y}<br>2=%{z}<extra></extra>",
         "legendgroup": "wood",
         "marker": {
          "color": "#FFA15A",
          "symbol": "circle"
         },
         "mode": "markers",
         "name": "wood",
         "scene": "scene",
         "showlegend": true,
         "type": "scatter3d",
         "x": [
          0.6210740208625793
         ],
         "y": [
          0.43627575039863586
         ],
         "z": [
          -0.15167135000228882
         ]
        },
        {
         "hovertemplate": "color=throne<br>0=%{x}<br>1=%{y}<br>2=%{z}<extra></extra>",
         "legendgroup": "throne",
         "marker": {
          "color": "#19d3f3",
          "symbol": "circle"
         },
         "mode": "markers",
         "name": "throne",
         "scene": "scene",
         "showlegend": true,
         "type": "scatter3d",
         "x": [
          -0.14368222653865814
         ],
         "y": [
          0.562546968460083
         ],
         "z": [
          0.12227876484394073
         ]
        },
        {
         "hovertemplate": "color=fat<br>0=%{x}<br>1=%{y}<br>2=%{z}<extra></extra>",
         "legendgroup": "fat",
         "marker": {
          "color": "#FF6692",
          "symbol": "circle"
         },
         "mode": "markers",
         "name": "fat",
         "scene": "scene",
         "showlegend": true,
         "type": "scatter3d",
         "x": [
          -0.04977671056985855
         ],
         "y": [
          0.07617658376693726
         ],
         "z": [
          0.23346717655658722
         ]
        },
        {
         "hovertemplate": "color=gate<br>0=%{x}<br>1=%{y}<br>2=%{z}<extra></extra>",
         "legendgroup": "gate",
         "marker": {
          "color": "#B6E880",
          "symbol": "circle"
         },
         "mode": "markers",
         "name": "gate",
         "scene": "scene",
         "showlegend": true,
         "type": "scatter3d",
         "x": [
          0.33067822456359863
         ],
         "y": [
          0.597983717918396
         ],
         "z": [
          0.02040824107825756
         ]
        },
        {
         "hovertemplate": "color=bolton<br>0=%{x}<br>1=%{y}<br>2=%{z}<extra></extra>",
         "legendgroup": "bolton",
         "marker": {
          "color": "#FF97FF",
          "symbol": "circle"
         },
         "mode": "markers",
         "name": "bolton",
         "scene": "scene",
         "showlegend": true,
         "type": "scatter3d",
         "x": [
          -0.2536114752292633
         ],
         "y": [
          0.41664159297943115
         ],
         "z": [
          0.05758117139339447
         ]
        },
        {
         "hovertemplate": "color=raised<br>0=%{x}<br>1=%{y}<br>2=%{z}<extra></extra>",
         "legendgroup": "raised",
         "marker": {
          "color": "#FECB52",
          "symbol": "circle"
         },
         "mode": "markers",
         "name": "raised",
         "scene": "scene",
         "showlegend": true,
         "type": "scatter3d",
         "x": [
          0.11454224586486816
         ],
         "y": [
          0.17301318049430847
         ],
         "z": [
          0.4725966453552246
         ]
        },
        {
         "hovertemplate": "color=ran<br>0=%{x}<br>1=%{y}<br>2=%{z}<extra></extra>",
         "legendgroup": "ran",
         "marker": {
          "color": "#636efa",
          "symbol": "circle"
         },
         "mode": "markers",
         "name": "ran",
         "scene": "scene",
         "showlegend": true,
         "type": "scatter3d",
         "x": [
          0.5048112869262695
         ],
         "y": [
          0.12829259037971497
         ],
         "z": [
          0.5400266647338867
         ]
        },
        {
         "hovertemplate": "color=people<br>0=%{x}<br>1=%{y}<br>2=%{z}<extra></extra>",
         "legendgroup": "people",
         "marker": {
          "color": "#EF553B",
          "symbol": "circle"
         },
         "mode": "markers",
         "name": "people",
         "scene": "scene",
         "showlegend": true,
         "type": "scatter3d",
         "x": [
          -0.15053114295005798
         ],
         "y": [
          0.7405034899711609
         ],
         "z": [
          -0.30037227272987366
         ]
        },
        {
         "hovertemplate": "color=else<br>0=%{x}<br>1=%{y}<br>2=%{z}<extra></extra>",
         "legendgroup": "else",
         "marker": {
          "color": "#00cc96",
          "symbol": "circle"
         },
         "mode": "markers",
         "name": "else",
         "scene": "scene",
         "showlegend": true,
         "type": "scatter3d",
         "x": [
          -0.3438182771205902
         ],
         "y": [
          0.4349367022514343
         ],
         "z": [
          0.1168224960565567
         ]
        },
        {
         "hovertemplate": "color=truth<br>0=%{x}<br>1=%{y}<br>2=%{z}<extra></extra>",
         "legendgroup": "truth",
         "marker": {
          "color": "#ab63fa",
          "symbol": "circle"
         },
         "mode": "markers",
         "name": "truth",
         "scene": "scene",
         "showlegend": true,
         "type": "scatter3d",
         "x": [
          -0.36236658692359924
         ],
         "y": [
          0.5222502946853638
         ],
         "z": [
          -0.08772880584001541
         ]
        },
        {
         "hovertemplate": "color=outside<br>0=%{x}<br>1=%{y}<br>2=%{z}<extra></extra>",
         "legendgroup": "outside",
         "marker": {
          "color": "#FFA15A",
          "symbol": "circle"
         },
         "mode": "markers",
         "name": "outside",
         "scene": "scene",
         "showlegend": true,
         "type": "scatter3d",
         "x": [
          0.23685862123966217
         ],
         "y": [
          0.35257384181022644
         ],
         "z": [
          0.0020890268497169018
         ]
        },
        {
         "hovertemplate": "color=varys<br>0=%{x}<br>1=%{y}<br>2=%{z}<extra></extra>",
         "legendgroup": "varys",
         "marker": {
          "color": "#19d3f3",
          "symbol": "circle"
         },
         "mode": "markers",
         "name": "varys",
         "scene": "scene",
         "showlegend": true,
         "type": "scatter3d",
         "x": [
          -0.3683376610279083
         ],
         "y": [
          0.24969418346881866
         ],
         "z": [
          0.05114341154694557
         ]
        },
        {
         "hovertemplate": "color=command<br>0=%{x}<br>1=%{y}<br>2=%{z}<extra></extra>",
         "legendgroup": "command",
         "marker": {
          "color": "#FF6692",
          "symbol": "circle"
         },
         "mode": "markers",
         "name": "command",
         "scene": "scene",
         "showlegend": true,
         "type": "scatter3d",
         "x": [
          -0.3387320041656494
         ],
         "y": [
          0.601539134979248
         ],
         "z": [
          0.12335628271102905
         ]
        },
        {
         "hovertemplate": "color=since<br>0=%{x}<br>1=%{y}<br>2=%{z}<extra></extra>",
         "legendgroup": "since",
         "marker": {
          "color": "#B6E880",
          "symbol": "circle"
         },
         "mode": "markers",
         "name": "since",
         "scene": "scene",
         "showlegend": true,
         "type": "scatter3d",
         "x": [
          -0.2151888757944107
         ],
         "y": [
          0.4531788229942322
         ],
         "z": [
          0.06741392612457275
         ]
        },
        {
         "hovertemplate": "color=meant<br>0=%{x}<br>1=%{y}<br>2=%{z}<extra></extra>",
         "legendgroup": "meant",
         "marker": {
          "color": "#FF97FF",
          "symbol": "circle"
         },
         "mode": "markers",
         "name": "meant",
         "scene": "scene",
         "showlegend": true,
         "type": "scatter3d",
         "x": [
          -0.45095905661582947
         ],
         "y": [
          0.44584882259368896
         ],
         "z": [
          0.2889016568660736
         ]
        },
        {
         "hovertemplate": "color=frey<br>0=%{x}<br>1=%{y}<br>2=%{z}<extra></extra>",
         "legendgroup": "frey",
         "marker": {
          "color": "#FECB52",
          "symbol": "circle"
         },
         "mode": "markers",
         "name": "frey",
         "scene": "scene",
         "showlegend": true,
         "type": "scatter3d",
         "x": [
          -0.3905473053455353
         ],
         "y": [
          0.270756334066391
         ],
         "z": [
          0.1233893558382988
         ]
        },
        {
         "hovertemplate": "color=ask<br>0=%{x}<br>1=%{y}<br>2=%{z}<extra></extra>",
         "legendgroup": "ask",
         "marker": {
          "color": "#636efa",
          "symbol": "circle"
         },
         "mode": "markers",
         "name": "ask",
         "scene": "scene",
         "showlegend": true,
         "type": "scatter3d",
         "x": [
          -0.597570538520813
         ],
         "y": [
          0.4784015119075775
         ],
         "z": [
          0.358682245016098
         ]
        },
        {
         "hovertemplate": "color=room<br>0=%{x}<br>1=%{y}<br>2=%{z}<extra></extra>",
         "legendgroup": "room",
         "marker": {
          "color": "#EF553B",
          "symbol": "circle"
         },
         "mode": "markers",
         "name": "room",
         "scene": "scene",
         "showlegend": true,
         "type": "scatter3d",
         "x": [
          0.40452200174331665
         ],
         "y": [
          0.482363224029541
         ],
         "z": [
          0.1297539472579956
         ]
        },
        {
         "hovertemplate": "color=someone<br>0=%{x}<br>1=%{y}<br>2=%{z}<extra></extra>",
         "legendgroup": "someone",
         "marker": {
          "color": "#00cc96",
          "symbol": "circle"
         },
         "mode": "markers",
         "name": "someone",
         "scene": "scene",
         "showlegend": true,
         "type": "scatter3d",
         "x": [
          -0.16221101582050323
         ],
         "y": [
          0.4621293544769287
         ],
         "z": [
          0.1794055998325348
         ]
        },
        {
         "hovertemplate": "color=held<br>0=%{x}<br>1=%{y}<br>2=%{z}<extra></extra>",
         "legendgroup": "held",
         "marker": {
          "color": "#ab63fa",
          "symbol": "circle"
         },
         "mode": "markers",
         "name": "held",
         "scene": "scene",
         "showlegend": true,
         "type": "scatter3d",
         "x": [
          0.09935516119003296
         ],
         "y": [
          0.1616295874118805
         ],
         "z": [
          0.6009315848350525
         ]
        },
        {
         "hovertemplate": "color=barristan<br>0=%{x}<br>1=%{y}<br>2=%{z}<extra></extra>",
         "legendgroup": "barristan",
         "marker": {
          "color": "#FFA15A",
          "symbol": "circle"
         },
         "mode": "markers",
         "name": "barristan",
         "scene": "scene",
         "showlegend": true,
         "type": "scatter3d",
         "x": [
          -0.15675298869609833
         ],
         "y": [
          0.374854177236557
         ],
         "z": [
          0.0650142952799797
         ]
        },
        {
         "hovertemplate": "color=walder<br>0=%{x}<br>1=%{y}<br>2=%{z}<extra></extra>",
         "legendgroup": "walder",
         "marker": {
          "color": "#19d3f3",
          "symbol": "circle"
         },
         "mode": "markers",
         "name": "walder",
         "scene": "scene",
         "showlegend": true,
         "type": "scatter3d",
         "x": [
          -0.23663604259490967
         ],
         "y": [
          0.26554495096206665
         ],
         "z": [
          0.026274176314473152
         ]
        },
        {
         "hovertemplate": "color=summer<br>0=%{x}<br>1=%{y}<br>2=%{z}<extra></extra>",
         "legendgroup": "summer",
         "marker": {
          "color": "#FF6692",
          "symbol": "circle"
         },
         "mode": "markers",
         "name": "summer",
         "scene": "scene",
         "showlegend": true,
         "type": "scatter3d",
         "x": [
          0.20951500535011292
         ],
         "y": [
          0.44308146834373474
         ],
         "z": [
          -0.09895394742488861
         ]
        },
        {
         "hovertemplate": "color=cannot<br>0=%{x}<br>1=%{y}<br>2=%{z}<extra></extra>",
         "legendgroup": "cannot",
         "marker": {
          "color": "#B6E880",
          "symbol": "circle"
         },
         "mode": "markers",
         "name": "cannot",
         "scene": "scene",
         "showlegend": true,
         "type": "scatter3d",
         "x": [
          -0.4525289237499237
         ],
         "y": [
          0.4467692971229553
         ],
         "z": [
          0.11500448733568192
         ]
        },
        {
         "hovertemplate": "color=closed<br>0=%{x}<br>1=%{y}<br>2=%{z}<extra></extra>",
         "legendgroup": "closed",
         "marker": {
          "color": "#FF97FF",
          "symbol": "circle"
         },
         "mode": "markers",
         "name": "closed",
         "scene": "scene",
         "showlegend": true,
         "type": "scatter3d",
         "x": [
          0.27110427618026733
         ],
         "y": [
          0.2026343047618866
         ],
         "z": [
          0.3702220618724823
         ]
        },
        {
         "hovertemplate": "color=turn<br>0=%{x}<br>1=%{y}<br>2=%{z}<extra></extra>",
         "legendgroup": "turn",
         "marker": {
          "color": "#FECB52",
          "symbol": "circle"
         },
         "mode": "markers",
         "name": "turn",
         "scene": "scene",
         "showlegend": true,
         "type": "scatter3d",
         "x": [
          0.0024522605817764997
         ],
         "y": [
          0.6196016073226929
         ],
         "z": [
          0.36716198921203613
         ]
        },
        {
         "hovertemplate": "color=ice<br>0=%{x}<br>1=%{y}<br>2=%{z}<extra></extra>",
         "legendgroup": "ice",
         "marker": {
          "color": "#636efa",
          "symbol": "circle"
         },
         "mode": "markers",
         "name": "ice",
         "scene": "scene",
         "showlegend": true,
         "type": "scatter3d",
         "x": [
          0.5919203758239746
         ],
         "y": [
          0.4332791268825531
         ],
         "z": [
          -0.0882575735449791
         ]
        },
        {
         "hovertemplate": "color=home<br>0=%{x}<br>1=%{y}<br>2=%{z}<extra></extra>",
         "legendgroup": "home",
         "marker": {
          "color": "#EF553B",
          "symbol": "circle"
         },
         "mode": "markers",
         "name": "home",
         "scene": "scene",
         "showlegend": true,
         "type": "scatter3d",
         "x": [
          -0.2131848782300949
         ],
         "y": [
          0.668302595615387
         ],
         "z": [
          0.0686502754688263
         ]
        },
        {
         "hovertemplate": "color=known<br>0=%{x}<br>1=%{y}<br>2=%{z}<extra></extra>",
         "legendgroup": "known",
         "marker": {
          "color": "#00cc96",
          "symbol": "circle"
         },
         "mode": "markers",
         "name": "known",
         "scene": "scene",
         "showlegend": true,
         "type": "scatter3d",
         "x": [
          -0.3966308832168579
         ],
         "y": [
          0.4356149137020111
         ],
         "z": [
          0.22707311809062958
         ]
        },
        {
         "hovertemplate": "color=shadow<br>0=%{x}<br>1=%{y}<br>2=%{z}<extra></extra>",
         "legendgroup": "shadow",
         "marker": {
          "color": "#ab63fa",
          "symbol": "circle"
         },
         "mode": "markers",
         "name": "shadow",
         "scene": "scene",
         "showlegend": true,
         "type": "scatter3d",
         "x": [
          0.3969044089317322
         ],
         "y": [
          0.4708723723888397
         ],
         "z": [
          -0.0286626648157835
         ]
        },
        {
         "hovertemplate": "color=matter<br>0=%{x}<br>1=%{y}<br>2=%{z}<extra></extra>",
         "legendgroup": "matter",
         "marker": {
          "color": "#FFA15A",
          "symbol": "circle"
         },
         "mode": "markers",
         "name": "matter",
         "scene": "scene",
         "showlegend": true,
         "type": "scatter3d",
         "x": [
          -0.24647492170333862
         ],
         "y": [
          0.43787816166877747
         ],
         "z": [
          0.08657735586166382
         ]
        },
        {
         "hovertemplate": "color=which<br>0=%{x}<br>1=%{y}<br>2=%{z}<extra></extra>",
         "legendgroup": "which",
         "marker": {
          "color": "#19d3f3",
          "symbol": "circle"
         },
         "mode": "markers",
         "name": "which",
         "scene": "scene",
         "showlegend": true,
         "type": "scatter3d",
         "x": [
          -0.21072512865066528
         ],
         "y": [
          0.5379933714866638
         ],
         "z": [
          -0.07526958733797073
         ]
        },
        {
         "hovertemplate": "color=talk<br>0=%{x}<br>1=%{y}<br>2=%{z}<extra></extra>",
         "legendgroup": "talk",
         "marker": {
          "color": "#FF6692",
          "symbol": "circle"
         },
         "mode": "markers",
         "name": "talk",
         "scene": "scene",
         "showlegend": true,
         "type": "scatter3d",
         "x": [
          -0.29788175225257874
         ],
         "y": [
          0.6048826575279236
         ],
         "z": [
          0.14562927186489105
         ]
        },
        {
         "hovertemplate": "color=wore<br>0=%{x}<br>1=%{y}<br>2=%{z}<extra></extra>",
         "legendgroup": "wore",
         "marker": {
          "color": "#B6E880",
          "symbol": "circle"
         },
         "mode": "markers",
         "name": "wore",
         "scene": "scene",
         "showlegend": true,
         "type": "scatter3d",
         "x": [
          0.1253625601530075
         ],
         "y": [
          0.10407356172800064
         ],
         "z": [
          0.2264087051153183
         ]
        },
        {
         "hovertemplate": "color=food<br>0=%{x}<br>1=%{y}<br>2=%{z}<extra></extra>",
         "legendgroup": "food",
         "marker": {
          "color": "#FF97FF",
          "symbol": "circle"
         },
         "mode": "markers",
         "name": "food",
         "scene": "scene",
         "showlegend": true,
         "type": "scatter3d",
         "x": [
          0.045983802527189255
         ],
         "y": [
          0.5628795623779297
         ],
         "z": [
          -0.09999848902225494
         ]
        },
        {
         "hovertemplate": "color=watched<br>0=%{x}<br>1=%{y}<br>2=%{z}<extra></extra>",
         "legendgroup": "watched",
         "marker": {
          "color": "#FECB52",
          "symbol": "circle"
         },
         "mode": "markers",
         "name": "watched",
         "scene": "scene",
         "showlegend": true,
         "type": "scatter3d",
         "x": [
          0.1534939706325531
         ],
         "y": [
          0.20357286930084229
         ],
         "z": [
          0.5408556461334229
         ]
        },
        {
         "hovertemplate": "color=doubt<br>0=%{x}<br>1=%{y}<br>2=%{z}<extra></extra>",
         "legendgroup": "doubt",
         "marker": {
          "color": "#636efa",
          "symbol": "circle"
         },
         "mode": "markers",
         "name": "doubt",
         "scene": "scene",
         "showlegend": true,
         "type": "scatter3d",
         "x": [
          -0.43378183245658875
         ],
         "y": [
          0.500328004360199
         ],
         "z": [
          0.11928703635931015
         ]
        },
        {
         "hovertemplate": "color=near<br>0=%{x}<br>1=%{y}<br>2=%{z}<extra></extra>",
         "legendgroup": "near",
         "marker": {
          "color": "#EF553B",
          "symbol": "circle"
         },
         "mode": "markers",
         "name": "near",
         "scene": "scene",
         "showlegend": true,
         "type": "scatter3d",
         "x": [
          0.08435104042291641
         ],
         "y": [
          0.3547983169555664
         ],
         "z": [
          0.0516950897872448
         ]
        },
        {
         "hovertemplate": "color=neck<br>0=%{x}<br>1=%{y}<br>2=%{z}<extra></extra>",
         "legendgroup": "neck",
         "marker": {
          "color": "#00cc96",
          "symbol": "circle"
         },
         "mode": "markers",
         "name": "neck",
         "scene": "scene",
         "showlegend": true,
         "type": "scatter3d",
         "x": [
          0.4951780140399933
         ],
         "y": [
          0.3049798607826233
         ],
         "z": [
          0.3556593358516693
         ]
        },
        {
         "hovertemplate": "color=leather<br>0=%{x}<br>1=%{y}<br>2=%{z}<extra></extra>",
         "legendgroup": "leather",
         "marker": {
          "color": "#ab63fa",
          "symbol": "circle"
         },
         "mode": "markers",
         "name": "leather",
         "scene": "scene",
         "showlegend": true,
         "type": "scatter3d",
         "x": [
          0.5003473162651062
         ],
         "y": [
          0.10537289083003998
         ],
         "z": [
          0.07720627635717392
         ]
        },
        {
         "hovertemplate": "color=eddard<br>0=%{x}<br>1=%{y}<br>2=%{z}<extra></extra>",
         "legendgroup": "eddard",
         "marker": {
          "color": "#FFA15A",
          "symbol": "circle"
         },
         "mode": "markers",
         "name": "eddard",
         "scene": "scene",
         "showlegend": true,
         "type": "scatter3d",
         "x": [
          -0.2735077440738678
         ],
         "y": [
          0.385568767786026
         ],
         "z": [
          0.11800692975521088
         ]
        },
        {
         "hovertemplate": "color=sky<br>0=%{x}<br>1=%{y}<br>2=%{z}<extra></extra>",
         "legendgroup": "sky",
         "marker": {
          "color": "#19d3f3",
          "symbol": "circle"
         },
         "mode": "markers",
         "name": "sky",
         "scene": "scene",
         "showlegend": true,
         "type": "scatter3d",
         "x": [
          0.5730871558189392
         ],
         "y": [
          0.4493955969810486
         ],
         "z": [
          -0.05008445307612419
         ]
        },
        {
         "hovertemplate": "color=cup<br>0=%{x}<br>1=%{y}<br>2=%{z}<extra></extra>",
         "legendgroup": "cup",
         "marker": {
          "color": "#FF6692",
          "symbol": "circle"
         },
         "mode": "markers",
         "name": "cup",
         "scene": "scene",
         "showlegend": true,
         "type": "scatter3d",
         "x": [
          0.09608104825019836
         ],
         "y": [
          0.29110991954803467
         ],
         "z": [
          0.3668435513973236
         ]
        },
        {
         "hovertemplate": "color=shoulder<br>0=%{x}<br>1=%{y}<br>2=%{z}<extra></extra>",
         "legendgroup": "shoulder",
         "marker": {
          "color": "#B6E880",
          "symbol": "circle"
         },
         "mode": "markers",
         "name": "shoulder",
         "scene": "scene",
         "showlegend": true,
         "type": "scatter3d",
         "x": [
          0.46783459186553955
         ],
         "y": [
          0.22195932269096375
         ],
         "z": [
          0.4810028374195099
         ]
        },
        {
         "hovertemplate": "color=ghost<br>0=%{x}<br>1=%{y}<br>2=%{z}<extra></extra>",
         "legendgroup": "ghost",
         "marker": {
          "color": "#FF97FF",
          "symbol": "circle"
         },
         "mode": "markers",
         "name": "ghost",
         "scene": "scene",
         "showlegend": true,
         "type": "scatter3d",
         "x": [
          0.28748491406440735
         ],
         "y": [
          0.24612197279930115
         ],
         "z": [
          0.2934756278991699
         ]
        },
        {
         "hovertemplate": "color=dozen<br>0=%{x}<br>1=%{y}<br>2=%{z}<extra></extra>",
         "legendgroup": "dozen",
         "marker": {
          "color": "#FECB52",
          "symbol": "circle"
         },
         "mode": "markers",
         "name": "dozen",
         "scene": "scene",
         "showlegend": true,
         "type": "scatter3d",
         "x": [
          0.2932543456554413
         ],
         "y": [
          0.3674148619174957
         ],
         "z": [
          -0.18237486481666565
         ]
        },
        {
         "hovertemplate": "color=times<br>0=%{x}<br>1=%{y}<br>2=%{z}<extra></extra>",
         "legendgroup": "times",
         "marker": {
          "color": "#636efa",
          "symbol": "circle"
         },
         "mode": "markers",
         "name": "times",
         "scene": "scene",
         "showlegend": true,
         "type": "scatter3d",
         "x": [
          -0.097154900431633
         ],
         "y": [
          0.6054447889328003
         ],
         "z": [
          -0.007116757333278656
         ]
        },
        {
         "hovertemplate": "color=daenerys<br>0=%{x}<br>1=%{y}<br>2=%{z}<extra></extra>",
         "legendgroup": "daenerys",
         "marker": {
          "color": "#EF553B",
          "symbol": "circle"
         },
         "mode": "markers",
         "name": "daenerys",
         "scene": "scene",
         "showlegend": true,
         "type": "scatter3d",
         "x": [
          -0.31244856119155884
         ],
         "y": [
          0.46505028009414673
         ],
         "z": [
          0.07317262887954712
         ]
        },
        {
         "hovertemplate": "color=caught<br>0=%{x}<br>1=%{y}<br>2=%{z}<extra></extra>",
         "legendgroup": "caught",
         "marker": {
          "color": "#00cc96",
          "symbol": "circle"
         },
         "mode": "markers",
         "name": "caught",
         "scene": "scene",
         "showlegend": true,
         "type": "scatter3d",
         "x": [
          0.29156455397605896
         ],
         "y": [
          0.19412721693515778
         ],
         "z": [
          0.6061751842498779
         ]
        },
        {
         "hovertemplate": "color=armor<br>0=%{x}<br>1=%{y}<br>2=%{z}<extra></extra>",
         "legendgroup": "armor",
         "marker": {
          "color": "#ab63fa",
          "symbol": "circle"
         },
         "mode": "markers",
         "name": "armor",
         "scene": "scene",
         "showlegend": true,
         "type": "scatter3d",
         "x": [
          0.2763010561466217
         ],
         "y": [
          0.36232686042785645
         ],
         "z": [
          0.018992232158780098
         ]
        },
        {
         "hovertemplate": "color=warm<br>0=%{x}<br>1=%{y}<br>2=%{z}<extra></extra>",
         "legendgroup": "warm",
         "marker": {
          "color": "#FFA15A",
          "symbol": "circle"
         },
         "mode": "markers",
         "name": "warm",
         "scene": "scene",
         "showlegend": true,
         "type": "scatter3d",
         "x": [
          0.33896303176879883
         ],
         "y": [
          0.3040318191051483
         ],
         "z": [
          0.1468127965927124
         ]
        },
        {
         "hovertemplate": "color=below<br>0=%{x}<br>1=%{y}<br>2=%{z}<extra></extra>",
         "legendgroup": "below",
         "marker": {
          "color": "#19d3f3",
          "symbol": "circle"
         },
         "mode": "markers",
         "name": "below",
         "scene": "scene",
         "showlegend": true,
         "type": "scatter3d",
         "x": [
          0.5040987730026245
         ],
         "y": [
          0.3346293866634369
         ],
         "z": [
          0.04180339723825455
         ]
        },
        {
         "hovertemplate": "color=none<br>0=%{x}<br>1=%{y}<br>2=%{z}<extra></extra>",
         "legendgroup": "none",
         "marker": {
          "color": "#FF6692",
          "symbol": "circle"
         },
         "mode": "markers",
         "name": "none",
         "scene": "scene",
         "showlegend": true,
         "type": "scatter3d",
         "x": [
          -0.34955060482025146
         ],
         "y": [
          0.561711847782135
         ],
         "z": [
          -0.11088249832391739
         ]
        },
        {
         "hovertemplate": "color=eye<br>0=%{x}<br>1=%{y}<br>2=%{z}<extra></extra>",
         "legendgroup": "eye",
         "marker": {
          "color": "#B6E880",
          "symbol": "circle"
         },
         "mode": "markers",
         "name": "eye",
         "scene": "scene",
         "showlegend": true,
         "type": "scatter3d",
         "x": [
          0.2645595967769623
         ],
         "y": [
          0.45966699719429016
         ],
         "z": [
          0.16633473336696625
         ]
        },
        {
         "hovertemplate": "color=blade<br>0=%{x}<br>1=%{y}<br>2=%{z}<extra></extra>",
         "legendgroup": "blade",
         "marker": {
          "color": "#FF97FF",
          "symbol": "circle"
         },
         "mode": "markers",
         "name": "blade",
         "scene": "scene",
         "showlegend": true,
         "type": "scatter3d",
         "x": [
          0.36876174807548523
         ],
         "y": [
          0.30346763134002686
         ],
         "z": [
          0.31838560104370117
         ]
        },
        {
         "hovertemplate": "color=ships<br>0=%{x}<br>1=%{y}<br>2=%{z}<extra></extra>",
         "legendgroup": "ships",
         "marker": {
          "color": "#FECB52",
          "symbol": "circle"
         },
         "mode": "markers",
         "name": "ships",
         "scene": "scene",
         "showlegend": true,
         "type": "scatter3d",
         "x": [
          0.026985209435224533
         ],
         "y": [
          0.7557039260864258
         ],
         "z": [
          -0.3883804678916931
         ]
        }
       ],
       "layout": {
        "legend": {
         "title": {
          "text": "color"
         },
         "tracegroupgap": 0
        },
        "margin": {
         "t": 60
        },
        "scene": {
         "domain": {
          "x": [
           0,
           1
          ],
          "y": [
           0,
           1
          ]
         },
         "xaxis": {
          "title": {
           "text": "0"
          }
         },
         "yaxis": {
          "title": {
           "text": "1"
          }
         },
         "zaxis": {
          "title": {
           "text": "2"
          }
         }
        },
        "template": {
         "data": {
          "bar": [
           {
            "error_x": {
             "color": "#2a3f5f"
            },
            "error_y": {
             "color": "#2a3f5f"
            },
            "marker": {
             "line": {
              "color": "#E5ECF6",
              "width": 0.5
             },
             "pattern": {
              "fillmode": "overlay",
              "size": 10,
              "solidity": 0.2
             }
            },
            "type": "bar"
           }
          ],
          "barpolar": [
           {
            "marker": {
             "line": {
              "color": "#E5ECF6",
              "width": 0.5
             },
             "pattern": {
              "fillmode": "overlay",
              "size": 10,
              "solidity": 0.2
             }
            },
            "type": "barpolar"
           }
          ],
          "carpet": [
           {
            "aaxis": {
             "endlinecolor": "#2a3f5f",
             "gridcolor": "white",
             "linecolor": "white",
             "minorgridcolor": "white",
             "startlinecolor": "#2a3f5f"
            },
            "baxis": {
             "endlinecolor": "#2a3f5f",
             "gridcolor": "white",
             "linecolor": "white",
             "minorgridcolor": "white",
             "startlinecolor": "#2a3f5f"
            },
            "type": "carpet"
           }
          ],
          "choropleth": [
           {
            "colorbar": {
             "outlinewidth": 0,
             "ticks": ""
            },
            "type": "choropleth"
           }
          ],
          "contour": [
           {
            "colorbar": {
             "outlinewidth": 0,
             "ticks": ""
            },
            "colorscale": [
             [
              0,
              "#0d0887"
             ],
             [
              0.1111111111111111,
              "#46039f"
             ],
             [
              0.2222222222222222,
              "#7201a8"
             ],
             [
              0.3333333333333333,
              "#9c179e"
             ],
             [
              0.4444444444444444,
              "#bd3786"
             ],
             [
              0.5555555555555556,
              "#d8576b"
             ],
             [
              0.6666666666666666,
              "#ed7953"
             ],
             [
              0.7777777777777778,
              "#fb9f3a"
             ],
             [
              0.8888888888888888,
              "#fdca26"
             ],
             [
              1,
              "#f0f921"
             ]
            ],
            "type": "contour"
           }
          ],
          "contourcarpet": [
           {
            "colorbar": {
             "outlinewidth": 0,
             "ticks": ""
            },
            "type": "contourcarpet"
           }
          ],
          "heatmap": [
           {
            "colorbar": {
             "outlinewidth": 0,
             "ticks": ""
            },
            "colorscale": [
             [
              0,
              "#0d0887"
             ],
             [
              0.1111111111111111,
              "#46039f"
             ],
             [
              0.2222222222222222,
              "#7201a8"
             ],
             [
              0.3333333333333333,
              "#9c179e"
             ],
             [
              0.4444444444444444,
              "#bd3786"
             ],
             [
              0.5555555555555556,
              "#d8576b"
             ],
             [
              0.6666666666666666,
              "#ed7953"
             ],
             [
              0.7777777777777778,
              "#fb9f3a"
             ],
             [
              0.8888888888888888,
              "#fdca26"
             ],
             [
              1,
              "#f0f921"
             ]
            ],
            "type": "heatmap"
           }
          ],
          "heatmapgl": [
           {
            "colorbar": {
             "outlinewidth": 0,
             "ticks": ""
            },
            "colorscale": [
             [
              0,
              "#0d0887"
             ],
             [
              0.1111111111111111,
              "#46039f"
             ],
             [
              0.2222222222222222,
              "#7201a8"
             ],
             [
              0.3333333333333333,
              "#9c179e"
             ],
             [
              0.4444444444444444,
              "#bd3786"
             ],
             [
              0.5555555555555556,
              "#d8576b"
             ],
             [
              0.6666666666666666,
              "#ed7953"
             ],
             [
              0.7777777777777778,
              "#fb9f3a"
             ],
             [
              0.8888888888888888,
              "#fdca26"
             ],
             [
              1,
              "#f0f921"
             ]
            ],
            "type": "heatmapgl"
           }
          ],
          "histogram": [
           {
            "marker": {
             "pattern": {
              "fillmode": "overlay",
              "size": 10,
              "solidity": 0.2
             }
            },
            "type": "histogram"
           }
          ],
          "histogram2d": [
           {
            "colorbar": {
             "outlinewidth": 0,
             "ticks": ""
            },
            "colorscale": [
             [
              0,
              "#0d0887"
             ],
             [
              0.1111111111111111,
              "#46039f"
             ],
             [
              0.2222222222222222,
              "#7201a8"
             ],
             [
              0.3333333333333333,
              "#9c179e"
             ],
             [
              0.4444444444444444,
              "#bd3786"
             ],
             [
              0.5555555555555556,
              "#d8576b"
             ],
             [
              0.6666666666666666,
              "#ed7953"
             ],
             [
              0.7777777777777778,
              "#fb9f3a"
             ],
             [
              0.8888888888888888,
              "#fdca26"
             ],
             [
              1,
              "#f0f921"
             ]
            ],
            "type": "histogram2d"
           }
          ],
          "histogram2dcontour": [
           {
            "colorbar": {
             "outlinewidth": 0,
             "ticks": ""
            },
            "colorscale": [
             [
              0,
              "#0d0887"
             ],
             [
              0.1111111111111111,
              "#46039f"
             ],
             [
              0.2222222222222222,
              "#7201a8"
             ],
             [
              0.3333333333333333,
              "#9c179e"
             ],
             [
              0.4444444444444444,
              "#bd3786"
             ],
             [
              0.5555555555555556,
              "#d8576b"
             ],
             [
              0.6666666666666666,
              "#ed7953"
             ],
             [
              0.7777777777777778,
              "#fb9f3a"
             ],
             [
              0.8888888888888888,
              "#fdca26"
             ],
             [
              1,
              "#f0f921"
             ]
            ],
            "type": "histogram2dcontour"
           }
          ],
          "mesh3d": [
           {
            "colorbar": {
             "outlinewidth": 0,
             "ticks": ""
            },
            "type": "mesh3d"
           }
          ],
          "parcoords": [
           {
            "line": {
             "colorbar": {
              "outlinewidth": 0,
              "ticks": ""
             }
            },
            "type": "parcoords"
           }
          ],
          "pie": [
           {
            "automargin": true,
            "type": "pie"
           }
          ],
          "scatter": [
           {
            "fillpattern": {
             "fillmode": "overlay",
             "size": 10,
             "solidity": 0.2
            },
            "type": "scatter"
           }
          ],
          "scatter3d": [
           {
            "line": {
             "colorbar": {
              "outlinewidth": 0,
              "ticks": ""
             }
            },
            "marker": {
             "colorbar": {
              "outlinewidth": 0,
              "ticks": ""
             }
            },
            "type": "scatter3d"
           }
          ],
          "scattercarpet": [
           {
            "marker": {
             "colorbar": {
              "outlinewidth": 0,
              "ticks": ""
             }
            },
            "type": "scattercarpet"
           }
          ],
          "scattergeo": [
           {
            "marker": {
             "colorbar": {
              "outlinewidth": 0,
              "ticks": ""
             }
            },
            "type": "scattergeo"
           }
          ],
          "scattergl": [
           {
            "marker": {
             "colorbar": {
              "outlinewidth": 0,
              "ticks": ""
             }
            },
            "type": "scattergl"
           }
          ],
          "scattermapbox": [
           {
            "marker": {
             "colorbar": {
              "outlinewidth": 0,
              "ticks": ""
             }
            },
            "type": "scattermapbox"
           }
          ],
          "scatterpolar": [
           {
            "marker": {
             "colorbar": {
              "outlinewidth": 0,
              "ticks": ""
             }
            },
            "type": "scatterpolar"
           }
          ],
          "scatterpolargl": [
           {
            "marker": {
             "colorbar": {
              "outlinewidth": 0,
              "ticks": ""
             }
            },
            "type": "scatterpolargl"
           }
          ],
          "scatterternary": [
           {
            "marker": {
             "colorbar": {
              "outlinewidth": 0,
              "ticks": ""
             }
            },
            "type": "scatterternary"
           }
          ],
          "surface": [
           {
            "colorbar": {
             "outlinewidth": 0,
             "ticks": ""
            },
            "colorscale": [
             [
              0,
              "#0d0887"
             ],
             [
              0.1111111111111111,
              "#46039f"
             ],
             [
              0.2222222222222222,
              "#7201a8"
             ],
             [
              0.3333333333333333,
              "#9c179e"
             ],
             [
              0.4444444444444444,
              "#bd3786"
             ],
             [
              0.5555555555555556,
              "#d8576b"
             ],
             [
              0.6666666666666666,
              "#ed7953"
             ],
             [
              0.7777777777777778,
              "#fb9f3a"
             ],
             [
              0.8888888888888888,
              "#fdca26"
             ],
             [
              1,
              "#f0f921"
             ]
            ],
            "type": "surface"
           }
          ],
          "table": [
           {
            "cells": {
             "fill": {
              "color": "#EBF0F8"
             },
             "line": {
              "color": "white"
             }
            },
            "header": {
             "fill": {
              "color": "#C8D4E3"
             },
             "line": {
              "color": "white"
             }
            },
            "type": "table"
           }
          ]
         },
         "layout": {
          "annotationdefaults": {
           "arrowcolor": "#2a3f5f",
           "arrowhead": 0,
           "arrowwidth": 1
          },
          "autotypenumbers": "strict",
          "coloraxis": {
           "colorbar": {
            "outlinewidth": 0,
            "ticks": ""
           }
          },
          "colorscale": {
           "diverging": [
            [
             0,
             "#8e0152"
            ],
            [
             0.1,
             "#c51b7d"
            ],
            [
             0.2,
             "#de77ae"
            ],
            [
             0.3,
             "#f1b6da"
            ],
            [
             0.4,
             "#fde0ef"
            ],
            [
             0.5,
             "#f7f7f7"
            ],
            [
             0.6,
             "#e6f5d0"
            ],
            [
             0.7,
             "#b8e186"
            ],
            [
             0.8,
             "#7fbc41"
            ],
            [
             0.9,
             "#4d9221"
            ],
            [
             1,
             "#276419"
            ]
           ],
           "sequential": [
            [
             0,
             "#0d0887"
            ],
            [
             0.1111111111111111,
             "#46039f"
            ],
            [
             0.2222222222222222,
             "#7201a8"
            ],
            [
             0.3333333333333333,
             "#9c179e"
            ],
            [
             0.4444444444444444,
             "#bd3786"
            ],
            [
             0.5555555555555556,
             "#d8576b"
            ],
            [
             0.6666666666666666,
             "#ed7953"
            ],
            [
             0.7777777777777778,
             "#fb9f3a"
            ],
            [
             0.8888888888888888,
             "#fdca26"
            ],
            [
             1,
             "#f0f921"
            ]
           ],
           "sequentialminus": [
            [
             0,
             "#0d0887"
            ],
            [
             0.1111111111111111,
             "#46039f"
            ],
            [
             0.2222222222222222,
             "#7201a8"
            ],
            [
             0.3333333333333333,
             "#9c179e"
            ],
            [
             0.4444444444444444,
             "#bd3786"
            ],
            [
             0.5555555555555556,
             "#d8576b"
            ],
            [
             0.6666666666666666,
             "#ed7953"
            ],
            [
             0.7777777777777778,
             "#fb9f3a"
            ],
            [
             0.8888888888888888,
             "#fdca26"
            ],
            [
             1,
             "#f0f921"
            ]
           ]
          },
          "colorway": [
           "#636efa",
           "#EF553B",
           "#00cc96",
           "#ab63fa",
           "#FFA15A",
           "#19d3f3",
           "#FF6692",
           "#B6E880",
           "#FF97FF",
           "#FECB52"
          ],
          "font": {
           "color": "#2a3f5f"
          },
          "geo": {
           "bgcolor": "white",
           "lakecolor": "white",
           "landcolor": "#E5ECF6",
           "showlakes": true,
           "showland": true,
           "subunitcolor": "white"
          },
          "hoverlabel": {
           "align": "left"
          },
          "hovermode": "closest",
          "mapbox": {
           "style": "light"
          },
          "paper_bgcolor": "white",
          "plot_bgcolor": "#E5ECF6",
          "polar": {
           "angularaxis": {
            "gridcolor": "white",
            "linecolor": "white",
            "ticks": ""
           },
           "bgcolor": "#E5ECF6",
           "radialaxis": {
            "gridcolor": "white",
            "linecolor": "white",
            "ticks": ""
           }
          },
          "scene": {
           "xaxis": {
            "backgroundcolor": "#E5ECF6",
            "gridcolor": "white",
            "gridwidth": 2,
            "linecolor": "white",
            "showbackground": true,
            "ticks": "",
            "zerolinecolor": "white"
           },
           "yaxis": {
            "backgroundcolor": "#E5ECF6",
            "gridcolor": "white",
            "gridwidth": 2,
            "linecolor": "white",
            "showbackground": true,
            "ticks": "",
            "zerolinecolor": "white"
           },
           "zaxis": {
            "backgroundcolor": "#E5ECF6",
            "gridcolor": "white",
            "gridwidth": 2,
            "linecolor": "white",
            "showbackground": true,
            "ticks": "",
            "zerolinecolor": "white"
           }
          },
          "shapedefaults": {
           "line": {
            "color": "#2a3f5f"
           }
          },
          "ternary": {
           "aaxis": {
            "gridcolor": "white",
            "linecolor": "white",
            "ticks": ""
           },
           "baxis": {
            "gridcolor": "white",
            "linecolor": "white",
            "ticks": ""
           },
           "bgcolor": "#E5ECF6",
           "caxis": {
            "gridcolor": "white",
            "linecolor": "white",
            "ticks": ""
           }
          },
          "title": {
           "x": 0.05
          },
          "xaxis": {
           "automargin": true,
           "gridcolor": "white",
           "linecolor": "white",
           "ticks": "",
           "title": {
            "standoff": 15
           },
           "zerolinecolor": "white",
           "zerolinewidth": 2
          },
          "yaxis": {
           "automargin": true,
           "gridcolor": "white",
           "linecolor": "white",
           "ticks": "",
           "title": {
            "standoff": 15
           },
           "zerolinecolor": "white",
           "zerolinewidth": 2
          }
         }
        }
       }
      },
      "text/html": [
       "<div>                            <div id=\"83e9a0c1-2214-4acd-93ce-679f3836c569\" class=\"plotly-graph-div\" style=\"height:525px; width:100%;\"></div>            <script type=\"text/javascript\">                require([\"plotly\"], function(Plotly) {                    window.PLOTLYENV=window.PLOTLYENV || {};                                    if (document.getElementById(\"83e9a0c1-2214-4acd-93ce-679f3836c569\")) {                    Plotly.newPlot(                        \"83e9a0c1-2214-4acd-93ce-679f3836c569\",                        [{\"hovertemplate\":\"color=the<br>0=%{x}<br>1=%{y}<br>2=%{z}<extra></extra>\",\"legendgroup\":\"the\",\"marker\":{\"color\":\"#636efa\",\"symbol\":\"circle\"},\"mode\":\"markers\",\"name\":\"the\",\"scene\":\"scene\",\"showlegend\":true,\"x\":[0.2152019888162613],\"y\":[0.4027549922466278],\"z\":[-0.007413191720843315],\"type\":\"scatter3d\"},{\"hovertemplate\":\"color=and<br>0=%{x}<br>1=%{y}<br>2=%{z}<extra></extra>\",\"legendgroup\":\"and\",\"marker\":{\"color\":\"#EF553B\",\"symbol\":\"circle\"},\"mode\":\"markers\",\"name\":\"and\",\"scene\":\"scene\",\"showlegend\":true,\"x\":[0.17283104360103607],\"y\":[0.22372247278690338],\"z\":[0.05059326812624931],\"type\":\"scatter3d\"},{\"hovertemplate\":\"color=to<br>0=%{x}<br>1=%{y}<br>2=%{z}<extra></extra>\",\"legendgroup\":\"to\",\"marker\":{\"color\":\"#00cc96\",\"symbol\":\"circle\"},\"mode\":\"markers\",\"name\":\"to\",\"scene\":\"scene\",\"showlegend\":true,\"x\":[-0.18475495278835297],\"y\":[0.48917967081069946],\"z\":[0.19904088973999023],\"type\":\"scatter3d\"},{\"hovertemplate\":\"color=of<br>0=%{x}<br>1=%{y}<br>2=%{z}<extra></extra>\",\"legendgroup\":\"of\",\"marker\":{\"color\":\"#ab63fa\",\"symbol\":\"circle\"},\"mode\":\"markers\",\"name\":\"of\",\"scene\":\"scene\",\"showlegend\":true,\"x\":[0.021464237943291664],\"y\":[0.25721460580825806],\"z\":[-0.019397635012865067],\"type\":\"scatter3d\"},{\"hovertemplate\":\"color=he<br>0=%{x}<br>1=%{y}<br>2=%{z}<extra></extra>\",\"legendgroup\":\"he\",\"marker\":{\"color\":\"#FFA15A\",\"symbol\":\"circle\"},\"mode\":\"markers\",\"name\":\"he\",\"scene\":\"scene\",\"showlegend\":true,\"x\":[-0.007256016135215759],\"y\":[0.4516761600971222],\"z\":[0.1828751266002655],\"type\":\"scatter3d\"},{\"hovertemplate\":\"color=his<br>0=%{x}<br>1=%{y}<br>2=%{z}<extra></extra>\",\"legendgroup\":\"his\",\"marker\":{\"color\":\"#19d3f3\",\"symbol\":\"circle\"},\"mode\":\"markers\",\"name\":\"his\",\"scene\":\"scene\",\"showlegend\":true,\"x\":[0.06842602789402008],\"y\":[0.1879769265651703],\"z\":[0.3137114346027374],\"type\":\"scatter3d\"},{\"hovertemplate\":\"color=was<br>0=%{x}<br>1=%{y}<br>2=%{z}<extra></extra>\",\"legendgroup\":\"was\",\"marker\":{\"color\":\"#FF6692\",\"symbol\":\"circle\"},\"mode\":\"markers\",\"name\":\"was\",\"scene\":\"scene\",\"showlegend\":true,\"x\":[-0.015028323978185654],\"y\":[0.28404131531715393],\"z\":[0.2885087728500366],\"type\":\"scatter3d\"},{\"hovertemplate\":\"color=you<br>0=%{x}<br>1=%{y}<br>2=%{z}<extra></extra>\",\"legendgroup\":\"you\",\"marker\":{\"color\":\"#B6E880\",\"symbol\":\"circle\"},\"mode\":\"markers\",\"name\":\"you\",\"scene\":\"scene\",\"showlegend\":true,\"x\":[-0.4142322838306427],\"y\":[0.611903965473175],\"z\":[0.08542740345001221],\"type\":\"scatter3d\"},{\"hovertemplate\":\"color=in<br>0=%{x}<br>1=%{y}<br>2=%{z}<extra></extra>\",\"legendgroup\":\"in\",\"marker\":{\"color\":\"#FF97FF\",\"symbol\":\"circle\"},\"mode\":\"markers\",\"name\":\"in\",\"scene\":\"scene\",\"showlegend\":true,\"x\":[0.05742872506380081],\"y\":[0.2775973081588745],\"z\":[0.10274489223957062],\"type\":\"scatter3d\"},{\"hovertemplate\":\"color=her<br>0=%{x}<br>1=%{y}<br>2=%{z}<extra></extra>\",\"legendgroup\":\"her\",\"marker\":{\"color\":\"#FECB52\",\"symbol\":\"circle\"},\"mode\":\"markers\",\"name\":\"her\",\"scene\":\"scene\",\"showlegend\":true,\"x\":[0.07252393662929535],\"y\":[0.30863139033317566],\"z\":[0.2573006749153137],\"type\":\"scatter3d\"},{\"hovertemplate\":\"color=it<br>0=%{x}<br>1=%{y}<br>2=%{z}<extra></extra>\",\"legendgroup\":\"it\",\"marker\":{\"color\":\"#636efa\",\"symbol\":\"circle\"},\"mode\":\"markers\",\"name\":\"it\",\"scene\":\"scene\",\"showlegend\":true,\"x\":[0.020679736509919167],\"y\":[0.5614680647850037],\"z\":[0.11864019185304642],\"type\":\"scatter3d\"},{\"hovertemplate\":\"color=had<br>0=%{x}<br>1=%{y}<br>2=%{z}<extra></extra>\",\"legendgroup\":\"had\",\"marker\":{\"color\":\"#EF553B\",\"symbol\":\"circle\"},\"mode\":\"markers\",\"name\":\"had\",\"scene\":\"scene\",\"showlegend\":true,\"x\":[-0.07005424797534943],\"y\":[0.38546022772789],\"z\":[0.14492280781269073],\"type\":\"scatter3d\"},{\"hovertemplate\":\"color=that<br>0=%{x}<br>1=%{y}<br>2=%{z}<extra></extra>\",\"legendgroup\":\"that\",\"marker\":{\"color\":\"#00cc96\",\"symbol\":\"circle\"},\"mode\":\"markers\",\"name\":\"that\",\"scene\":\"scene\",\"showlegend\":true,\"x\":[-0.20944151282310486],\"y\":[0.5440168380737305],\"z\":[0.010862735100090504],\"type\":\"scatter3d\"},{\"hovertemplate\":\"color=as<br>0=%{x}<br>1=%{y}<br>2=%{z}<extra></extra>\",\"legendgroup\":\"as\",\"marker\":{\"color\":\"#ab63fa\",\"symbol\":\"circle\"},\"mode\":\"markers\",\"name\":\"as\",\"scene\":\"scene\",\"showlegend\":true,\"x\":[0.035522520542144775],\"y\":[0.3522595465183258],\"z\":[0.19660787284374237],\"type\":\"scatter3d\"},{\"hovertemplate\":\"color=she<br>0=%{x}<br>1=%{y}<br>2=%{z}<extra></extra>\",\"legendgroup\":\"she\",\"marker\":{\"color\":\"#FFA15A\",\"symbol\":\"circle\"},\"mode\":\"markers\",\"name\":\"she\",\"scene\":\"scene\",\"showlegend\":true,\"x\":[0.027732400223612785],\"y\":[0.42643189430236816],\"z\":[0.17895637452602386],\"type\":\"scatter3d\"},{\"hovertemplate\":\"color=with<br>0=%{x}<br>1=%{y}<br>2=%{z}<extra></extra>\",\"legendgroup\":\"with\",\"marker\":{\"color\":\"#19d3f3\",\"symbol\":\"circle\"},\"mode\":\"markers\",\"name\":\"with\",\"scene\":\"scene\",\"showlegend\":true,\"x\":[0.06334017217159271],\"y\":[0.15805204212665558],\"z\":[0.22122564911842346],\"type\":\"scatter3d\"},{\"hovertemplate\":\"color=him<br>0=%{x}<br>1=%{y}<br>2=%{z}<extra></extra>\",\"legendgroup\":\"him\",\"marker\":{\"color\":\"#FF6692\",\"symbol\":\"circle\"},\"mode\":\"markers\",\"name\":\"him\",\"scene\":\"scene\",\"showlegend\":true,\"x\":[0.001692320336587727],\"y\":[0.4333200752735138],\"z\":[0.23338201642036438],\"type\":\"scatter3d\"},{\"hovertemplate\":\"color=not<br>0=%{x}<br>1=%{y}<br>2=%{z}<extra></extra>\",\"legendgroup\":\"not\",\"marker\":{\"color\":\"#B6E880\",\"symbol\":\"circle\"},\"mode\":\"markers\",\"name\":\"not\",\"scene\":\"scene\",\"showlegend\":true,\"x\":[-0.36200639605522156],\"y\":[0.5368468761444092],\"z\":[0.16467586159706116],\"type\":\"scatter3d\"},{\"hovertemplate\":\"color=but<br>0=%{x}<br>1=%{y}<br>2=%{z}<extra></extra>\",\"legendgroup\":\"but\",\"marker\":{\"color\":\"#FF97FF\",\"symbol\":\"circle\"},\"mode\":\"markers\",\"name\":\"but\",\"scene\":\"scene\",\"showlegend\":true,\"x\":[-0.14986929297447205],\"y\":[0.49145203828811646],\"z\":[0.16383086144924164],\"type\":\"scatter3d\"},{\"hovertemplate\":\"color=for<br>0=%{x}<br>1=%{y}<br>2=%{z}<extra></extra>\",\"legendgroup\":\"for\",\"marker\":{\"color\":\"#FECB52\",\"symbol\":\"circle\"},\"mode\":\"markers\",\"name\":\"for\",\"scene\":\"scene\",\"showlegend\":true,\"x\":[-0.31415218114852905],\"y\":[0.41887912154197693],\"z\":[0.19696366786956787],\"type\":\"scatter3d\"},{\"hovertemplate\":\"color=they<br>0=%{x}<br>1=%{y}<br>2=%{z}<extra></extra>\",\"legendgroup\":\"they\",\"marker\":{\"color\":\"#636efa\",\"symbol\":\"circle\"},\"mode\":\"markers\",\"name\":\"they\",\"scene\":\"scene\",\"showlegend\":true,\"x\":[0.0951445922255516],\"y\":[0.6061046123504639],\"z\":[-0.09333591163158417],\"type\":\"scatter3d\"},{\"hovertemplate\":\"color=at<br>0=%{x}<br>1=%{y}<br>2=%{z}<extra></extra>\",\"legendgroup\":\"at\",\"marker\":{\"color\":\"#EF553B\",\"symbol\":\"circle\"},\"mode\":\"markers\",\"name\":\"at\",\"scene\":\"scene\",\"showlegend\":true,\"x\":[-0.034589044749736786],\"y\":[0.2792581021785736],\"z\":[0.2830868363380432],\"type\":\"scatter3d\"},{\"hovertemplate\":\"color=on<br>0=%{x}<br>1=%{y}<br>2=%{z}<extra></extra>\",\"legendgroup\":\"on\",\"marker\":{\"color\":\"#00cc96\",\"symbol\":\"circle\"},\"mode\":\"markers\",\"name\":\"on\",\"scene\":\"scene\",\"showlegend\":true,\"x\":[0.1133112758398056],\"y\":[0.2841711640357971],\"z\":[0.23814848065376282],\"type\":\"scatter3d\"},{\"hovertemplate\":\"color=said<br>0=%{x}<br>1=%{y}<br>2=%{z}<extra></extra>\",\"legendgroup\":\"said\",\"marker\":{\"color\":\"#ab63fa\",\"symbol\":\"circle\"},\"mode\":\"markers\",\"name\":\"said\",\"scene\":\"scene\",\"showlegend\":true,\"x\":[-0.43218299746513367],\"y\":[0.403439998626709],\"z\":[0.4825651943683624],\"type\":\"scatter3d\"},{\"hovertemplate\":\"color=is<br>0=%{x}<br>1=%{y}<br>2=%{z}<extra></extra>\",\"legendgroup\":\"is\",\"marker\":{\"color\":\"#FFA15A\",\"symbol\":\"circle\"},\"mode\":\"markers\",\"name\":\"is\",\"scene\":\"scene\",\"showlegend\":true,\"x\":[-0.4834744334220886],\"y\":[0.4618605673313141],\"z\":[0.18177205324172974],\"type\":\"scatter3d\"},{\"hovertemplate\":\"color=my<br>0=%{x}<br>1=%{y}<br>2=%{z}<extra></extra>\",\"legendgroup\":\"my\",\"marker\":{\"color\":\"#19d3f3\",\"symbol\":\"circle\"},\"mode\":\"markers\",\"name\":\"my\",\"scene\":\"scene\",\"showlegend\":true,\"x\":[-0.3989983797073364],\"y\":[0.4729430377483368],\"z\":[0.15459688007831573],\"type\":\"scatter3d\"},{\"hovertemplate\":\"color=have<br>0=%{x}<br>1=%{y}<br>2=%{z}<extra></extra>\",\"legendgroup\":\"have\",\"marker\":{\"color\":\"#FF6692\",\"symbol\":\"circle\"},\"mode\":\"markers\",\"name\":\"have\",\"scene\":\"scene\",\"showlegend\":true,\"x\":[-0.3037899136543274],\"y\":[0.5620170831680298],\"z\":[0.09036710858345032],\"type\":\"scatter3d\"},{\"hovertemplate\":\"color=be<br>0=%{x}<br>1=%{y}<br>2=%{z}<extra></extra>\",\"legendgroup\":\"be\",\"marker\":{\"color\":\"#B6E880\",\"symbol\":\"circle\"},\"mode\":\"markers\",\"name\":\"be\",\"scene\":\"scene\",\"showlegend\":true,\"x\":[-0.2685805559158325],\"y\":[0.5939663648605347],\"z\":[0.1174175813794136],\"type\":\"scatter3d\"},{\"hovertemplate\":\"color=them<br>0=%{x}<br>1=%{y}<br>2=%{z}<extra></extra>\",\"legendgroup\":\"them\",\"marker\":{\"color\":\"#FF97FF\",\"symbol\":\"circle\"},\"mode\":\"markers\",\"name\":\"them\",\"scene\":\"scene\",\"showlegend\":true,\"x\":[0.09223424643278122],\"y\":[0.5860376954078674],\"z\":[-0.03680926188826561],\"type\":\"scatter3d\"},{\"hovertemplate\":\"color=lord<br>0=%{x}<br>1=%{y}<br>2=%{z}<extra></extra>\",\"legendgroup\":\"lord\",\"marker\":{\"color\":\"#FECB52\",\"symbol\":\"circle\"},\"mode\":\"markers\",\"name\":\"lord\",\"scene\":\"scene\",\"showlegend\":true,\"x\":[-0.3841736316680908],\"y\":[0.44748732447624207],\"z\":[0.16124212741851807],\"type\":\"scatter3d\"},{\"hovertemplate\":\"color=no<br>0=%{x}<br>1=%{y}<br>2=%{z}<extra></extra>\",\"legendgroup\":\"no\",\"marker\":{\"color\":\"#636efa\",\"symbol\":\"circle\"},\"mode\":\"markers\",\"name\":\"no\",\"scene\":\"scene\",\"showlegend\":true,\"x\":[-0.27432456612586975],\"y\":[0.48703619837760925],\"z\":[0.08512193709611893],\"type\":\"scatter3d\"},{\"hovertemplate\":\"color=from<br>0=%{x}<br>1=%{y}<br>2=%{z}<extra></extra>\",\"legendgroup\":\"from\",\"marker\":{\"color\":\"#EF553B\",\"symbol\":\"circle\"},\"mode\":\"markers\",\"name\":\"from\",\"scene\":\"scene\",\"showlegend\":true,\"x\":[0.15255489945411682],\"y\":[0.24896718561649323],\"z\":[0.15820370614528656],\"type\":\"scatter3d\"},{\"hovertemplate\":\"color=were<br>0=%{x}<br>1=%{y}<br>2=%{z}<extra></extra>\",\"legendgroup\":\"were\",\"marker\":{\"color\":\"#00cc96\",\"symbol\":\"circle\"},\"mode\":\"markers\",\"name\":\"were\",\"scene\":\"scene\",\"showlegend\":true,\"x\":[0.07126163691282272],\"y\":[0.357066810131073],\"z\":[0.0666971355676651],\"type\":\"scatter3d\"},{\"hovertemplate\":\"color=would<br>0=%{x}<br>1=%{y}<br>2=%{z}<extra></extra>\",\"legendgroup\":\"would\",\"marker\":{\"color\":\"#ab63fa\",\"symbol\":\"circle\"},\"mode\":\"markers\",\"name\":\"would\",\"scene\":\"scene\",\"showlegend\":true,\"x\":[-0.3002280294895172],\"y\":[0.4749722480773926],\"z\":[0.2365548461675644],\"type\":\"scatter3d\"},{\"hovertemplate\":\"color=me<br>0=%{x}<br>1=%{y}<br>2=%{z}<extra></extra>\",\"legendgroup\":\"me\",\"marker\":{\"color\":\"#FFA15A\",\"symbol\":\"circle\"},\"mode\":\"markers\",\"name\":\"me\",\"scene\":\"scene\",\"showlegend\":true,\"x\":[-0.36316484212875366],\"y\":[0.5723638534545898],\"z\":[0.1404094099998474],\"type\":\"scatter3d\"},{\"hovertemplate\":\"color=your<br>0=%{x}<br>1=%{y}<br>2=%{z}<extra></extra>\",\"legendgroup\":\"your\",\"marker\":{\"color\":\"#19d3f3\",\"symbol\":\"circle\"},\"mode\":\"markers\",\"name\":\"your\",\"scene\":\"scene\",\"showlegend\":true,\"x\":[-0.3814394474029541],\"y\":[0.46176835894584656],\"z\":[0.16122227907180786],\"type\":\"scatter3d\"},{\"hovertemplate\":\"color=all<br>0=%{x}<br>1=%{y}<br>2=%{z}<extra></extra>\",\"legendgroup\":\"all\",\"marker\":{\"color\":\"#FF6692\",\"symbol\":\"circle\"},\"mode\":\"markers\",\"name\":\"all\",\"scene\":\"scene\",\"showlegend\":true,\"x\":[-0.10149344056844711],\"y\":[0.5650496482849121],\"z\":[0.010846728459000587],\"type\":\"scatter3d\"},{\"hovertemplate\":\"color=one<br>0=%{x}<br>1=%{y}<br>2=%{z}<extra></extra>\",\"legendgroup\":\"one\",\"marker\":{\"color\":\"#B6E880\",\"symbol\":\"circle\"},\"mode\":\"markers\",\"name\":\"one\",\"scene\":\"scene\",\"showlegend\":true,\"x\":[0.02758224494755268],\"y\":[0.4921172559261322],\"z\":[0.11644530296325684],\"type\":\"scatter3d\"},{\"hovertemplate\":\"color=when<br>0=%{x}<br>1=%{y}<br>2=%{z}<extra></extra>\",\"legendgroup\":\"when\",\"marker\":{\"color\":\"#FF97FF\",\"symbol\":\"circle\"},\"mode\":\"markers\",\"name\":\"when\",\"scene\":\"scene\",\"showlegend\":true,\"x\":[-0.031197771430015564],\"y\":[0.45771852135658264],\"z\":[0.23261518776416779],\"type\":\"scatter3d\"},{\"hovertemplate\":\"color=will<br>0=%{x}<br>1=%{y}<br>2=%{z}<extra></extra>\",\"legendgroup\":\"will\",\"marker\":{\"color\":\"#FECB52\",\"symbol\":\"circle\"},\"mode\":\"markers\",\"name\":\"will\",\"scene\":\"scene\",\"showlegend\":true,\"x\":[-0.38651028275489807],\"y\":[0.4889528751373291],\"z\":[0.20671066641807556],\"type\":\"scatter3d\"},{\"hovertemplate\":\"color=if<br>0=%{x}<br>1=%{y}<br>2=%{z}<extra></extra>\",\"legendgroup\":\"if\",\"marker\":{\"color\":\"#636efa\",\"symbol\":\"circle\"},\"mode\":\"markers\",\"name\":\"if\",\"scene\":\"scene\",\"showlegend\":true,\"x\":[-0.2577388286590576],\"y\":[0.5798013210296631],\"z\":[0.2290484458208084],\"type\":\"scatter3d\"},{\"hovertemplate\":\"color=so<br>0=%{x}<br>1=%{y}<br>2=%{z}<extra></extra>\",\"legendgroup\":\"so\",\"marker\":{\"color\":\"#EF553B\",\"symbol\":\"circle\"},\"mode\":\"markers\",\"name\":\"so\",\"scene\":\"scene\",\"showlegend\":true,\"x\":[-0.09426651149988174],\"y\":[0.48329079151153564],\"z\":[0.1737731248140335],\"type\":\"scatter3d\"},{\"hovertemplate\":\"color=ser<br>0=%{x}<br>1=%{y}<br>2=%{z}<extra></extra>\",\"legendgroup\":\"ser\",\"marker\":{\"color\":\"#00cc96\",\"symbol\":\"circle\"},\"mode\":\"markers\",\"name\":\"ser\",\"scene\":\"scene\",\"showlegend\":true,\"x\":[-0.31376367807388306],\"y\":[0.32495835423469543],\"z\":[0.20948411524295807],\"type\":\"scatter3d\"},{\"hovertemplate\":\"color=their<br>0=%{x}<br>1=%{y}<br>2=%{z}<extra></extra>\",\"legendgroup\":\"their\",\"marker\":{\"color\":\"#ab63fa\",\"symbol\":\"circle\"},\"mode\":\"markers\",\"name\":\"their\",\"scene\":\"scene\",\"showlegend\":true,\"x\":[0.09544520825147629],\"y\":[0.41549038887023926],\"z\":[-0.11128770560026169],\"type\":\"scatter3d\"},{\"hovertemplate\":\"color=we<br>0=%{x}<br>1=%{y}<br>2=%{z}<extra></extra>\",\"legendgroup\":\"we\",\"marker\":{\"color\":\"#FFA15A\",\"symbol\":\"circle\"},\"mode\":\"markers\",\"name\":\"we\",\"scene\":\"scene\",\"showlegend\":true,\"x\":[-0.2077535092830658],\"y\":[0.6715853214263916],\"z\":[-0.03440387174487114],\"type\":\"scatter3d\"},{\"hovertemplate\":\"color=could<br>0=%{x}<br>1=%{y}<br>2=%{z}<extra></extra>\",\"legendgroup\":\"could\",\"marker\":{\"color\":\"#19d3f3\",\"symbol\":\"circle\"},\"mode\":\"markers\",\"name\":\"could\",\"scene\":\"scene\",\"showlegend\":true,\"x\":[-0.004728191532194614],\"y\":[0.3871269226074219],\"z\":[0.23290656507015228],\"type\":\"scatter3d\"},{\"hovertemplate\":\"color=are<br>0=%{x}<br>1=%{y}<br>2=%{z}<extra></extra>\",\"legendgroup\":\"are\",\"marker\":{\"color\":\"#FF6692\",\"symbol\":\"circle\"},\"mode\":\"markers\",\"name\":\"are\",\"scene\":\"scene\",\"showlegend\":true,\"x\":[-0.3391287624835968],\"y\":[0.4461784064769745],\"z\":[0.04797764867544174],\"type\":\"scatter3d\"},{\"hovertemplate\":\"color=man<br>0=%{x}<br>1=%{y}<br>2=%{z}<extra></extra>\",\"legendgroup\":\"man\",\"marker\":{\"color\":\"#B6E880\",\"symbol\":\"circle\"},\"mode\":\"markers\",\"name\":\"man\",\"scene\":\"scene\",\"showlegend\":true,\"x\":[-0.03561714291572571],\"y\":[0.43537890911102295],\"z\":[0.11701744049787521],\"type\":\"scatter3d\"},{\"hovertemplate\":\"color=there<br>0=%{x}<br>1=%{y}<br>2=%{z}<extra></extra>\",\"legendgroup\":\"there\",\"marker\":{\"color\":\"#FF97FF\",\"symbol\":\"circle\"},\"mode\":\"markers\",\"name\":\"there\",\"scene\":\"scene\",\"showlegend\":true,\"x\":[0.004478974733501673],\"y\":[0.5081396698951721],\"z\":[0.0265301875770092],\"type\":\"scatter3d\"},{\"hovertemplate\":\"color=this<br>0=%{x}<br>1=%{y}<br>2=%{z}<extra></extra>\",\"legendgroup\":\"this\",\"marker\":{\"color\":\"#FECB52\",\"symbol\":\"circle\"},\"mode\":\"markers\",\"name\":\"this\",\"scene\":\"scene\",\"showlegend\":true,\"x\":[-0.3140319287776947],\"y\":[0.5509675741195679],\"z\":[0.093150794506073],\"type\":\"scatter3d\"},{\"hovertemplate\":\"color=up<br>0=%{x}<br>1=%{y}<br>2=%{z}<extra></extra>\",\"legendgroup\":\"up\",\"marker\":{\"color\":\"#636efa\",\"symbol\":\"circle\"},\"mode\":\"markers\",\"name\":\"up\",\"scene\":\"scene\",\"showlegend\":true,\"x\":[0.33538779616355896],\"y\":[0.3564983904361725],\"z\":[0.2097429484128952],\"type\":\"scatter3d\"},{\"hovertemplate\":\"color=what<br>0=%{x}<br>1=%{y}<br>2=%{z}<extra></extra>\",\"legendgroup\":\"what\",\"marker\":{\"color\":\"#EF553B\",\"symbol\":\"circle\"},\"mode\":\"markers\",\"name\":\"what\",\"scene\":\"scene\",\"showlegend\":true,\"x\":[-0.2416505366563797],\"y\":[0.5394948124885559],\"z\":[0.0663454607129097],\"type\":\"scatter3d\"},{\"hovertemplate\":\"color=king<br>0=%{x}<br>1=%{y}<br>2=%{z}<extra></extra>\",\"legendgroup\":\"king\",\"marker\":{\"color\":\"#00cc96\",\"symbol\":\"circle\"},\"mode\":\"markers\",\"name\":\"king\",\"scene\":\"scene\",\"showlegend\":true,\"x\":[-0.25126591324806213],\"y\":[0.594871997833252],\"z\":[0.08696768432855606],\"type\":\"scatter3d\"},{\"hovertemplate\":\"color=by<br>0=%{x}<br>1=%{y}<br>2=%{z}<extra></extra>\",\"legendgroup\":\"by\",\"marker\":{\"color\":\"#ab63fa\",\"symbol\":\"circle\"},\"mode\":\"markers\",\"name\":\"by\",\"scene\":\"scene\",\"showlegend\":true,\"x\":[0.00063893391052261],\"y\":[0.33910229802131653],\"z\":[0.08970990031957626],\"type\":\"scatter3d\"},{\"hovertemplate\":\"color=been<br>0=%{x}<br>1=%{y}<br>2=%{z}<extra></extra>\",\"legendgroup\":\"been\",\"marker\":{\"color\":\"#FFA15A\",\"symbol\":\"circle\"},\"mode\":\"markers\",\"name\":\"been\",\"scene\":\"scene\",\"showlegend\":true,\"x\":[-0.10058969259262085],\"y\":[0.45622026920318604],\"z\":[0.18299244344234467],\"type\":\"scatter3d\"},{\"hovertemplate\":\"color=did<br>0=%{x}<br>1=%{y}<br>2=%{z}<extra></extra>\",\"legendgroup\":\"did\",\"marker\":{\"color\":\"#19d3f3\",\"symbol\":\"circle\"},\"mode\":\"markers\",\"name\":\"did\",\"scene\":\"scene\",\"showlegend\":true,\"x\":[-0.2678852379322052],\"y\":[0.37131616473197937],\"z\":[0.3247542679309845],\"type\":\"scatter3d\"},{\"hovertemplate\":\"color=men<br>0=%{x}<br>1=%{y}<br>2=%{z}<extra></extra>\",\"legendgroup\":\"men\",\"marker\":{\"color\":\"#FF6692\",\"symbol\":\"circle\"},\"mode\":\"markers\",\"name\":\"men\",\"scene\":\"scene\",\"showlegend\":true,\"x\":[-0.006549878045916557],\"y\":[0.6019056439399719],\"z\":[-0.16609174013137817],\"type\":\"scatter3d\"},{\"hovertemplate\":\"color=back<br>0=%{x}<br>1=%{y}<br>2=%{z}<extra></extra>\",\"legendgroup\":\"back\",\"marker\":{\"color\":\"#B6E880\",\"symbol\":\"circle\"},\"mode\":\"markers\",\"name\":\"back\",\"scene\":\"scene\",\"showlegend\":true,\"x\":[0.1895189732313156],\"y\":[0.43538281321525574],\"z\":[0.34071969985961914],\"type\":\"scatter3d\"},{\"hovertemplate\":\"color=do<br>0=%{x}<br>1=%{y}<br>2=%{z}<extra></extra>\",\"legendgroup\":\"do\",\"marker\":{\"color\":\"#FF97FF\",\"symbol\":\"circle\"},\"mode\":\"markers\",\"name\":\"do\",\"scene\":\"scene\",\"showlegend\":true,\"x\":[-0.40451690554618835],\"y\":[0.487875372171402],\"z\":[0.24741262197494507],\"type\":\"scatter3d\"},{\"hovertemplate\":\"color=out<br>0=%{x}<br>1=%{y}<br>2=%{z}<extra></extra>\",\"legendgroup\":\"out\",\"marker\":{\"color\":\"#FECB52\",\"symbol\":\"circle\"},\"mode\":\"markers\",\"name\":\"out\",\"scene\":\"scene\",\"showlegend\":true,\"x\":[0.21681015193462372],\"y\":[0.3827294707298279],\"z\":[0.18706952035427094],\"type\":\"scatter3d\"},{\"hovertemplate\":\"color=jon<br>0=%{x}<br>1=%{y}<br>2=%{z}<extra></extra>\",\"legendgroup\":\"jon\",\"marker\":{\"color\":\"#636efa\",\"symbol\":\"circle\"},\"mode\":\"markers\",\"name\":\"jon\",\"scene\":\"scene\",\"showlegend\":true,\"x\":[-0.010013643652200699],\"y\":[0.3610553443431854],\"z\":[0.1648336946964264],\"type\":\"scatter3d\"},{\"hovertemplate\":\"color=or<br>0=%{x}<br>1=%{y}<br>2=%{z}<extra></extra>\",\"legendgroup\":\"or\",\"marker\":{\"color\":\"#EF553B\",\"symbol\":\"circle\"},\"mode\":\"markers\",\"name\":\"or\",\"scene\":\"scene\",\"showlegend\":true,\"x\":[-0.20820604264736176],\"y\":[0.5120013952255249],\"z\":[0.11048254370689392],\"type\":\"scatter3d\"},{\"hovertemplate\":\"color=more<br>0=%{x}<br>1=%{y}<br>2=%{z}<extra></extra>\",\"legendgroup\":\"more\",\"marker\":{\"color\":\"#00cc96\",\"symbol\":\"circle\"},\"mode\":\"markers\",\"name\":\"more\",\"scene\":\"scene\",\"showlegend\":true,\"x\":[-0.14560769498348236],\"y\":[0.4969422519207001],\"z\":[0.026558557525277138],\"type\":\"scatter3d\"},{\"hovertemplate\":\"color=who<br>0=%{x}<br>1=%{y}<br>2=%{z}<extra></extra>\",\"legendgroup\":\"who\",\"marker\":{\"color\":\"#ab63fa\",\"symbol\":\"circle\"},\"mode\":\"markers\",\"name\":\"who\",\"scene\":\"scene\",\"showlegend\":true,\"x\":[-0.2909465432167053],\"y\":[0.5296475291252136],\"z\":[-0.02070871740579605],\"type\":\"scatter3d\"},{\"hovertemplate\":\"color=down<br>0=%{x}<br>1=%{y}<br>2=%{z}<extra></extra>\",\"legendgroup\":\"down\",\"marker\":{\"color\":\"#FFA15A\",\"symbol\":\"circle\"},\"mode\":\"markers\",\"name\":\"down\",\"scene\":\"scene\",\"showlegend\":true,\"x\":[0.36965763568878174],\"y\":[0.37719815969467163],\"z\":[0.23235861957073212],\"type\":\"scatter3d\"},{\"hovertemplate\":\"color=well<br>0=%{x}<br>1=%{y}<br>2=%{z}<extra></extra>\",\"legendgroup\":\"well\",\"marker\":{\"color\":\"#19d3f3\",\"symbol\":\"circle\"},\"mode\":\"markers\",\"name\":\"well\",\"scene\":\"scene\",\"showlegend\":true,\"x\":[-0.1955922394990921],\"y\":[0.5143985748291016],\"z\":[0.09713941812515259],\"type\":\"scatter3d\"},{\"hovertemplate\":\"color=than<br>0=%{x}<br>1=%{y}<br>2=%{z}<extra></extra>\",\"legendgroup\":\"than\",\"marker\":{\"color\":\"#FF6692\",\"symbol\":\"circle\"},\"mode\":\"markers\",\"name\":\"than\",\"scene\":\"scene\",\"showlegend\":true,\"x\":[-0.1232563853263855],\"y\":[0.39690884947776794],\"z\":[0.15312230587005615],\"type\":\"scatter3d\"},{\"hovertemplate\":\"color=like<br>0=%{x}<br>1=%{y}<br>2=%{z}<extra></extra>\",\"legendgroup\":\"like\",\"marker\":{\"color\":\"#B6E880\",\"symbol\":\"circle\"},\"mode\":\"markers\",\"name\":\"like\",\"scene\":\"scene\",\"showlegend\":true,\"x\":[0.0663464292883873],\"y\":[0.26834356784820557],\"z\":[0.1887916773557663],\"type\":\"scatter3d\"},{\"hovertemplate\":\"color=only<br>0=%{x}<br>1=%{y}<br>2=%{z}<extra></extra>\",\"legendgroup\":\"only\",\"marker\":{\"color\":\"#FF97FF\",\"symbol\":\"circle\"},\"mode\":\"markers\",\"name\":\"only\",\"scene\":\"scene\",\"showlegend\":true,\"x\":[-0.1784849911928177],\"y\":[0.5072157979011536],\"z\":[0.09875895828008652],\"type\":\"scatter3d\"},{\"hovertemplate\":\"color=tyrion<br>0=%{x}<br>1=%{y}<br>2=%{z}<extra></extra>\",\"legendgroup\":\"tyrion\",\"marker\":{\"color\":\"#FECB52\",\"symbol\":\"circle\"},\"mode\":\"markers\",\"name\":\"tyrion\",\"scene\":\"scene\",\"showlegend\":true,\"x\":[-0.07714375108480453],\"y\":[0.2955781817436218],\"z\":[0.18656569719314575],\"type\":\"scatter3d\"},{\"hovertemplate\":\"color=even<br>0=%{x}<br>1=%{y}<br>2=%{z}<extra></extra>\",\"legendgroup\":\"even\",\"marker\":{\"color\":\"#636efa\",\"symbol\":\"circle\"},\"mode\":\"markers\",\"name\":\"even\",\"scene\":\"scene\",\"showlegend\":true,\"x\":[-0.11415067315101624],\"y\":[0.4328392446041107],\"z\":[0.0521637387573719],\"type\":\"scatter3d\"},{\"hovertemplate\":\"color=hand<br>0=%{x}<br>1=%{y}<br>2=%{z}<extra></extra>\",\"legendgroup\":\"hand\",\"marker\":{\"color\":\"#EF553B\",\"symbol\":\"circle\"},\"mode\":\"markers\",\"name\":\"hand\",\"scene\":\"scene\",\"showlegend\":true,\"x\":[0.09922390431165695],\"y\":[0.4352388381958008],\"z\":[0.37534719705581665],\"type\":\"scatter3d\"},{\"hovertemplate\":\"color=before<br>0=%{x}<br>1=%{y}<br>2=%{z}<extra></extra>\",\"legendgroup\":\"before\",\"marker\":{\"color\":\"#00cc96\",\"symbol\":\"circle\"},\"mode\":\"markers\",\"name\":\"before\",\"scene\":\"scene\",\"showlegend\":true,\"x\":[-0.07191943377256393],\"y\":[0.4734066128730774],\"z\":[0.23468735814094543],\"type\":\"scatter3d\"},{\"hovertemplate\":\"color=off<br>0=%{x}<br>1=%{y}<br>2=%{z}<extra></extra>\",\"legendgroup\":\"off\",\"marker\":{\"color\":\"#ab63fa\",\"symbol\":\"circle\"},\"mode\":\"markers\",\"name\":\"off\",\"scene\":\"scene\",\"showlegend\":true,\"x\":[0.2075413167476654],\"y\":[0.30835485458374023],\"z\":[0.2964034080505371],\"type\":\"scatter3d\"},{\"hovertemplate\":\"color=old<br>0=%{x}<br>1=%{y}<br>2=%{z}<extra></extra>\",\"legendgroup\":\"old\",\"marker\":{\"color\":\"#FFA15A\",\"symbol\":\"circle\"},\"mode\":\"markers\",\"name\":\"old\",\"scene\":\"scene\",\"showlegend\":true,\"x\":[-0.08254186064004898],\"y\":[0.3758063316345215],\"z\":[0.05247991904616356],\"type\":\"scatter3d\"},{\"hovertemplate\":\"color=see<br>0=%{x}<br>1=%{y}<br>2=%{z}<extra></extra>\",\"legendgroup\":\"see\",\"marker\":{\"color\":\"#19d3f3\",\"symbol\":\"circle\"},\"mode\":\"markers\",\"name\":\"see\",\"scene\":\"scene\",\"showlegend\":true,\"x\":[-0.09732528030872345],\"y\":[0.530609130859375],\"z\":[0.32248640060424805],\"type\":\"scatter3d\"},{\"hovertemplate\":\"color=father<br>0=%{x}<br>1=%{y}<br>2=%{z}<extra></extra>\",\"legendgroup\":\"father\",\"marker\":{\"color\":\"#FF6692\",\"symbol\":\"circle\"},\"mode\":\"markers\",\"name\":\"father\",\"scene\":\"scene\",\"showlegend\":true,\"x\":[-0.35070911049842834],\"y\":[0.6106985807418823],\"z\":[0.1961207240819931],\"type\":\"scatter3d\"},{\"hovertemplate\":\"color=into<br>0=%{x}<br>1=%{y}<br>2=%{z}<extra></extra>\",\"legendgroup\":\"into\",\"marker\":{\"color\":\"#B6E880\",\"symbol\":\"circle\"},\"mode\":\"markers\",\"name\":\"into\",\"scene\":\"scene\",\"showlegend\":true,\"x\":[0.2578043043613434],\"y\":[0.24699212610721588],\"z\":[0.2820219099521637],\"type\":\"scatter3d\"},{\"hovertemplate\":\"color=now<br>0=%{x}<br>1=%{y}<br>2=%{z}<extra></extra>\",\"legendgroup\":\"now\",\"marker\":{\"color\":\"#FF97FF\",\"symbol\":\"circle\"},\"mode\":\"markers\",\"name\":\"now\",\"scene\":\"scene\",\"showlegend\":true,\"x\":[-0.20589832961559296],\"y\":[0.6028803586959839],\"z\":[0.17000287771224976],\"type\":\"scatter3d\"},{\"hovertemplate\":\"color=never<br>0=%{x}<br>1=%{y}<br>2=%{z}<extra></extra>\",\"legendgroup\":\"never\",\"marker\":{\"color\":\"#FECB52\",\"symbol\":\"circle\"},\"mode\":\"markers\",\"name\":\"never\",\"scene\":\"scene\",\"showlegend\":true,\"x\":[-0.3149186372756958],\"y\":[0.5026569962501526],\"z\":[0.15490326285362244],\"type\":\"scatter3d\"},{\"hovertemplate\":\"color=some<br>0=%{x}<br>1=%{y}<br>2=%{z}<extra></extra>\",\"legendgroup\":\"some\",\"marker\":{\"color\":\"#636efa\",\"symbol\":\"circle\"},\"mode\":\"markers\",\"name\":\"some\",\"scene\":\"scene\",\"showlegend\":true,\"x\":[-0.06472338736057281],\"y\":[0.4575341045856476],\"z\":[-0.06648650020360947],\"type\":\"scatter3d\"},{\"hovertemplate\":\"color=an<br>0=%{x}<br>1=%{y}<br>2=%{z}<extra></extra>\",\"legendgroup\":\"an\",\"marker\":{\"color\":\"#EF553B\",\"symbol\":\"circle\"},\"mode\":\"markers\",\"name\":\"an\",\"scene\":\"scene\",\"showlegend\":true,\"x\":[-0.04774434119462967],\"y\":[0.3158566951751709],\"z\":[0.1416563242673874],\"type\":\"scatter3d\"},{\"hovertemplate\":\"color=too<br>0=%{x}<br>1=%{y}<br>2=%{z}<extra></extra>\",\"legendgroup\":\"too\",\"marker\":{\"color\":\"#00cc96\",\"symbol\":\"circle\"},\"mode\":\"markers\",\"name\":\"too\",\"scene\":\"scene\",\"showlegend\":true,\"x\":[-0.16376742720603943],\"y\":[0.4120716154575348],\"z\":[0.15315128862857819],\"type\":\"scatter3d\"},{\"hovertemplate\":\"color=know<br>0=%{x}<br>1=%{y}<br>2=%{z}<extra></extra>\",\"legendgroup\":\"know\",\"marker\":{\"color\":\"#ab63fa\",\"symbol\":\"circle\"},\"mode\":\"markers\",\"name\":\"know\",\"scene\":\"scene\",\"showlegend\":true,\"x\":[-0.43071940541267395],\"y\":[0.5393630862236023],\"z\":[0.206280916929245],\"type\":\"scatter3d\"},{\"hovertemplate\":\"color=eyes<br>0=%{x}<br>1=%{y}<br>2=%{z}<extra></extra>\",\"legendgroup\":\"eyes\",\"marker\":{\"color\":\"#FFA15A\",\"symbol\":\"circle\"},\"mode\":\"markers\",\"name\":\"eyes\",\"scene\":\"scene\",\"showlegend\":true,\"x\":[0.17740656435489655],\"y\":[0.40064916014671326],\"z\":[0.2768954634666443],\"type\":\"scatter3d\"},{\"hovertemplate\":\"color=black<br>0=%{x}<br>1=%{y}<br>2=%{z}<extra></extra>\",\"legendgroup\":\"black\",\"marker\":{\"color\":\"#19d3f3\",\"symbol\":\"circle\"},\"mode\":\"markers\",\"name\":\"black\",\"scene\":\"scene\",\"showlegend\":true,\"x\":[0.3057413399219513],\"y\":[0.27958011627197266],\"z\":[0.04927336797118187],\"type\":\"scatter3d\"},{\"hovertemplate\":\"color=made<br>0=%{x}<br>1=%{y}<br>2=%{z}<extra></extra>\",\"legendgroup\":\"made\",\"marker\":{\"color\":\"#FF6692\",\"symbol\":\"circle\"},\"mode\":\"markers\",\"name\":\"made\",\"scene\":\"scene\",\"showlegend\":true,\"x\":[-0.013489906676113605],\"y\":[0.26941171288490295],\"z\":[0.3542115092277527],\"type\":\"scatter3d\"},{\"hovertemplate\":\"color=then<br>0=%{x}<br>1=%{y}<br>2=%{z}<extra></extra>\",\"legendgroup\":\"then\",\"marker\":{\"color\":\"#B6E880\",\"symbol\":\"circle\"},\"mode\":\"markers\",\"name\":\"then\",\"scene\":\"scene\",\"showlegend\":true,\"x\":[0.15707498788833618],\"y\":[0.39779147505760193],\"z\":[0.3568421006202698],\"type\":\"scatter3d\"},{\"hovertemplate\":\"color=told<br>0=%{x}<br>1=%{y}<br>2=%{z}<extra></extra>\",\"legendgroup\":\"told\",\"marker\":{\"color\":\"#FF97FF\",\"symbol\":\"circle\"},\"mode\":\"markers\",\"name\":\"told\",\"scene\":\"scene\",\"showlegend\":true,\"x\":[-0.3622908592224121],\"y\":[0.47476038336753845],\"z\":[0.4850575923919678],\"type\":\"scatter3d\"},{\"hovertemplate\":\"color=page<br>0=%{x}<br>1=%{y}<br>2=%{z}<extra></extra>\",\"legendgroup\":\"page\",\"marker\":{\"color\":\"#FECB52\",\"symbol\":\"circle\"},\"mode\":\"markers\",\"name\":\"page\",\"scene\":\"scene\",\"showlegend\":true,\"x\":[-0.21126464009284973],\"y\":[0.34499943256378174],\"z\":[0.26984599232673645],\"type\":\"scatter3d\"},{\"hovertemplate\":\"color=thought<br>0=%{x}<br>1=%{y}<br>2=%{z}<extra></extra>\",\"legendgroup\":\"thought\",\"marker\":{\"color\":\"#636efa\",\"symbol\":\"circle\"},\"mode\":\"markers\",\"name\":\"thought\",\"scene\":\"scene\",\"showlegend\":true,\"x\":[-0.24718551337718964],\"y\":[0.46399328112602234],\"z\":[0.456449031829834],\"type\":\"scatter3d\"},{\"hovertemplate\":\"color=long<br>0=%{x}<br>1=%{y}<br>2=%{z}<extra></extra>\",\"legendgroup\":\"long\",\"marker\":{\"color\":\"#EF553B\",\"symbol\":\"circle\"},\"mode\":\"markers\",\"name\":\"long\",\"scene\":\"scene\",\"showlegend\":true,\"x\":[0.18448883295059204],\"y\":[0.4089714288711548],\"z\":[0.09558361023664474],\"type\":\"scatter3d\"},{\"hovertemplate\":\"color=time<br>0=%{x}<br>1=%{y}<br>2=%{z}<extra></extra>\",\"legendgroup\":\"time\",\"marker\":{\"color\":\"#00cc96\",\"symbol\":\"circle\"},\"mode\":\"markers\",\"name\":\"time\",\"scene\":\"scene\",\"showlegend\":true,\"x\":[0.032279182225465775],\"y\":[0.5799298882484436],\"z\":[0.243626207113266],\"type\":\"scatter3d\"},{\"hovertemplate\":\"color=how<br>0=%{x}<br>1=%{y}<br>2=%{z}<extra></extra>\",\"legendgroup\":\"how\",\"marker\":{\"color\":\"#ab63fa\",\"symbol\":\"circle\"},\"mode\":\"markers\",\"name\":\"how\",\"scene\":\"scene\",\"showlegend\":true,\"x\":[-0.24289844930171967],\"y\":[0.4986327886581421],\"z\":[0.11847507953643799],\"type\":\"scatter3d\"},{\"hovertemplate\":\"color=through<br>0=%{x}<br>1=%{y}<br>2=%{z}<extra></extra>\",\"legendgroup\":\"through\",\"marker\":{\"color\":\"#FFA15A\",\"symbol\":\"circle\"},\"mode\":\"markers\",\"name\":\"through\",\"scene\":\"scene\",\"showlegend\":true,\"x\":[0.3793324828147888],\"y\":[0.2146475464105606],\"z\":[0.18066099286079407],\"type\":\"scatter3d\"},{\"hovertemplate\":\"color=come<br>0=%{x}<br>1=%{y}<br>2=%{z}<extra></extra>\",\"legendgroup\":\"come\",\"marker\":{\"color\":\"#19d3f3\",\"symbol\":\"circle\"},\"mode\":\"markers\",\"name\":\"come\",\"scene\":\"scene\",\"showlegend\":true,\"x\":[-0.18192176520824432],\"y\":[0.682094156742096],\"z\":[0.2676660418510437],\"type\":\"scatter3d\"},{\"hovertemplate\":\"color=might<br>0=%{x}<br>1=%{y}<br>2=%{z}<extra></extra>\",\"legendgroup\":\"might\",\"marker\":{\"color\":\"#FF6692\",\"symbol\":\"circle\"},\"mode\":\"markers\",\"name\":\"might\",\"scene\":\"scene\",\"showlegend\":true,\"x\":[-0.29236817359924316],\"y\":[0.41092023253440857],\"z\":[0.18231052160263062],\"type\":\"scatter3d\"},{\"hovertemplate\":\"color=can<br>0=%{x}<br>1=%{y}<br>2=%{z}<extra></extra>\",\"legendgroup\":\"can\",\"marker\":{\"color\":\"#B6E880\",\"symbol\":\"circle\"},\"mode\":\"markers\",\"name\":\"can\",\"scene\":\"scene\",\"showlegend\":true,\"x\":[-0.2935270369052887],\"y\":[0.4196928143501282],\"z\":[0.1646394580602646],\"type\":\"scatter3d\"},{\"hovertemplate\":\"color=us<br>0=%{x}<br>1=%{y}<br>2=%{z}<extra></extra>\",\"legendgroup\":\"us\",\"marker\":{\"color\":\"#FF97FF\",\"symbol\":\"circle\"},\"mode\":\"markers\",\"name\":\"us\",\"scene\":\"scene\",\"showlegend\":true,\"x\":[-0.28817909955978394],\"y\":[0.6752101182937622],\"z\":[-0.03184495121240616],\"type\":\"scatter3d\"},{\"hovertemplate\":\"color=here<br>0=%{x}<br>1=%{y}<br>2=%{z}<extra></extra>\",\"legendgroup\":\"here\",\"marker\":{\"color\":\"#FECB52\",\"symbol\":\"circle\"},\"mode\":\"markers\",\"name\":\"here\",\"scene\":\"scene\",\"showlegend\":true,\"x\":[-0.17313164472579956],\"y\":[0.6558432579040527],\"z\":[0.030888494104146957],\"type\":\"scatter3d\"},{\"hovertemplate\":\"color=where<br>0=%{x}<br>1=%{y}<br>2=%{z}<extra></extra>\",\"legendgroup\":\"where\",\"marker\":{\"color\":\"#636efa\",\"symbol\":\"circle\"},\"mode\":\"markers\",\"name\":\"where\",\"scene\":\"scene\",\"showlegend\":true,\"x\":[0.15167658030986786],\"y\":[0.45170658826828003],\"z\":[0.051329538226127625],\"type\":\"scatter3d\"},{\"hovertemplate\":\"color=ll<br>0=%{x}<br>1=%{y}<br>2=%{z}<extra></extra>\",\"legendgroup\":\"ll\",\"marker\":{\"color\":\"#EF553B\",\"symbol\":\"circle\"},\"mode\":\"markers\",\"name\":\"ll\",\"scene\":\"scene\",\"showlegend\":true,\"x\":[-0.22617961466312408],\"y\":[0.3984663784503937],\"z\":[0.28435707092285156],\"type\":\"scatter3d\"},{\"hovertemplate\":\"color=lady<br>0=%{x}<br>1=%{y}<br>2=%{z}<extra></extra>\",\"legendgroup\":\"lady\",\"marker\":{\"color\":\"#00cc96\",\"symbol\":\"circle\"},\"mode\":\"markers\",\"name\":\"lady\",\"scene\":\"scene\",\"showlegend\":true,\"x\":[-0.415244460105896],\"y\":[0.4166446924209595],\"z\":[0.20639853179454803],\"type\":\"scatter3d\"},{\"hovertemplate\":\"color=face<br>0=%{x}<br>1=%{y}<br>2=%{z}<extra></extra>\",\"legendgroup\":\"face\",\"marker\":{\"color\":\"#ab63fa\",\"symbol\":\"circle\"},\"mode\":\"markers\",\"name\":\"face\",\"scene\":\"scene\",\"showlegend\":true,\"x\":[0.20931805670261383],\"y\":[0.3169305920600891],\"z\":[0.367045521736145],\"type\":\"scatter3d\"},{\"hovertemplate\":\"color=head<br>0=%{x}<br>1=%{y}<br>2=%{z}<extra></extra>\",\"legendgroup\":\"head\",\"marker\":{\"color\":\"#FFA15A\",\"symbol\":\"circle\"},\"mode\":\"markers\",\"name\":\"head\",\"scene\":\"scene\",\"showlegend\":true,\"x\":[0.2109842598438263],\"y\":[0.34980764985084534],\"z\":[0.43298211693763733],\"type\":\"scatter3d\"},{\"hovertemplate\":\"color=still<br>0=%{x}<br>1=%{y}<br>2=%{z}<extra></extra>\",\"legendgroup\":\"still\",\"marker\":{\"color\":\"#19d3f3\",\"symbol\":\"circle\"},\"mode\":\"markers\",\"name\":\"still\",\"scene\":\"scene\",\"showlegend\":true,\"x\":[0.052527423948049545],\"y\":[0.4486537277698517],\"z\":[0.11029478162527084],\"type\":\"scatter3d\"},{\"hovertemplate\":\"color=has<br>0=%{x}<br>1=%{y}<br>2=%{z}<extra></extra>\",\"legendgroup\":\"has\",\"marker\":{\"color\":\"#FF6692\",\"symbol\":\"circle\"},\"mode\":\"markers\",\"name\":\"has\",\"scene\":\"scene\",\"showlegend\":true,\"x\":[-0.40063267946243286],\"y\":[0.43618345260620117],\"z\":[0.08737245202064514],\"type\":\"scatter3d\"},{\"hovertemplate\":\"color=way<br>0=%{x}<br>1=%{y}<br>2=%{z}<extra></extra>\",\"legendgroup\":\"way\",\"marker\":{\"color\":\"#B6E880\",\"symbol\":\"circle\"},\"mode\":\"markers\",\"name\":\"way\",\"scene\":\"scene\",\"showlegend\":true,\"x\":[0.11003558337688446],\"y\":[0.5811300873756409],\"z\":[0.1705656796693802],\"type\":\"scatter3d\"},{\"hovertemplate\":\"color=red<br>0=%{x}<br>1=%{y}<br>2=%{z}<extra></extra>\",\"legendgroup\":\"red\",\"marker\":{\"color\":\"#FF97FF\",\"symbol\":\"circle\"},\"mode\":\"markers\",\"name\":\"red\",\"scene\":\"scene\",\"showlegend\":true,\"x\":[0.20485344529151917],\"y\":[0.2833372950553894],\"z\":[0.05242301896214485],\"type\":\"scatter3d\"},{\"hovertemplate\":\"color=over<br>0=%{x}<br>1=%{y}<br>2=%{z}<extra></extra>\",\"legendgroup\":\"over\",\"marker\":{\"color\":\"#FECB52\",\"symbol\":\"circle\"},\"mode\":\"markers\",\"name\":\"over\",\"scene\":\"scene\",\"showlegend\":true,\"x\":[0.3451923727989197],\"y\":[0.15768751502037048],\"z\":[0.2872249484062195],\"type\":\"scatter3d\"},{\"hovertemplate\":\"color=boy<br>0=%{x}<br>1=%{y}<br>2=%{z}<extra></extra>\",\"legendgroup\":\"boy\",\"marker\":{\"color\":\"#636efa\",\"symbol\":\"circle\"},\"mode\":\"markers\",\"name\":\"boy\",\"scene\":\"scene\",\"showlegend\":true,\"x\":[-0.212502583861351],\"y\":[0.36829498410224915],\"z\":[0.1971890926361084],\"type\":\"scatter3d\"},{\"hovertemplate\":\"color=two<br>0=%{x}<br>1=%{y}<br>2=%{z}<extra></extra>\",\"legendgroup\":\"two\",\"marker\":{\"color\":\"#EF553B\",\"symbol\":\"circle\"},\"mode\":\"markers\",\"name\":\"two\",\"scene\":\"scene\",\"showlegend\":true,\"x\":[0.1749061942100525],\"y\":[0.46126294136047363],\"z\":[-0.03766390308737755],\"type\":\"scatter3d\"},{\"hovertemplate\":\"color=once<br>0=%{x}<br>1=%{y}<br>2=%{z}<extra></extra>\",\"legendgroup\":\"once\",\"marker\":{\"color\":\"#00cc96\",\"symbol\":\"circle\"},\"mode\":\"markers\",\"name\":\"once\",\"scene\":\"scene\",\"showlegend\":true,\"x\":[-0.08050061017274857],\"y\":[0.5102313160896301],\"z\":[0.16560783982276917],\"type\":\"scatter3d\"},{\"hovertemplate\":\"color=night<br>0=%{x}<br>1=%{y}<br>2=%{z}<extra></extra>\",\"legendgroup\":\"night\",\"marker\":{\"color\":\"#ab63fa\",\"symbol\":\"circle\"},\"mode\":\"markers\",\"name\":\"night\",\"scene\":\"scene\",\"showlegend\":true,\"x\":[0.06754012405872345],\"y\":[0.595749020576477],\"z\":[0.11928750574588776],\"type\":\"scatter3d\"},{\"hovertemplate\":\"color=must<br>0=%{x}<br>1=%{y}<br>2=%{z}<extra></extra>\",\"legendgroup\":\"must\",\"marker\":{\"color\":\"#FFA15A\",\"symbol\":\"circle\"},\"mode\":\"markers\",\"name\":\"must\",\"scene\":\"scene\",\"showlegend\":true,\"x\":[-0.3793940246105194],\"y\":[0.454471617937088],\"z\":[0.17849834263324738],\"type\":\"scatter3d\"},{\"hovertemplate\":\"color=good<br>0=%{x}<br>1=%{y}<br>2=%{z}<extra></extra>\",\"legendgroup\":\"good\",\"marker\":{\"color\":\"#19d3f3\",\"symbol\":\"circle\"},\"mode\":\"markers\",\"name\":\"good\",\"scene\":\"scene\",\"showlegend\":true,\"x\":[-0.40258315205574036],\"y\":[0.4916571080684662],\"z\":[0.1396588832139969],\"type\":\"scatter3d\"},{\"hovertemplate\":\"color=brother<br>0=%{x}<br>1=%{y}<br>2=%{z}<extra></extra>\",\"legendgroup\":\"brother\",\"marker\":{\"color\":\"#FF6692\",\"symbol\":\"circle\"},\"mode\":\"markers\",\"name\":\"brother\",\"scene\":\"scene\",\"showlegend\":true,\"x\":[-0.3761661648750305],\"y\":[0.5776817798614502],\"z\":[0.24122004210948944],\"type\":\"scatter3d\"},{\"hovertemplate\":\"color=other<br>0=%{x}<br>1=%{y}<br>2=%{z}<extra></extra>\",\"legendgroup\":\"other\",\"marker\":{\"color\":\"#B6E880\",\"symbol\":\"circle\"},\"mode\":\"markers\",\"name\":\"other\",\"scene\":\"scene\",\"showlegend\":true,\"x\":[0.04425082355737686],\"y\":[0.4581758379936218],\"z\":[-0.01269074808806181],\"type\":\"scatter3d\"},{\"hovertemplate\":\"color=took<br>0=%{x}<br>1=%{y}<br>2=%{z}<extra></extra>\",\"legendgroup\":\"took\",\"marker\":{\"color\":\"#FF97FF\",\"symbol\":\"circle\"},\"mode\":\"markers\",\"name\":\"took\",\"scene\":\"scene\",\"showlegend\":true,\"x\":[-0.04243408143520355],\"y\":[0.3088626563549042],\"z\":[0.539318323135376],\"type\":\"scatter3d\"},{\"hovertemplate\":\"color=came<br>0=%{x}<br>1=%{y}<br>2=%{z}<extra></extra>\",\"legendgroup\":\"came\",\"marker\":{\"color\":\"#FECB52\",\"symbol\":\"circle\"},\"mode\":\"markers\",\"name\":\"came\",\"scene\":\"scene\",\"showlegend\":true,\"x\":[0.13906769454479218],\"y\":[0.38331708312034607],\"z\":[0.388490229845047],\"type\":\"scatter3d\"},{\"hovertemplate\":\"color=again<br>0=%{x}<br>1=%{y}<br>2=%{z}<extra></extra>\",\"legendgroup\":\"again\",\"marker\":{\"color\":\"#636efa\",\"symbol\":\"circle\"},\"mode\":\"markers\",\"name\":\"again\",\"scene\":\"scene\",\"showlegend\":true,\"x\":[0.12164994329214096],\"y\":[0.4038406014442444],\"z\":[0.3912358582019806],\"type\":\"scatter3d\"},{\"hovertemplate\":\"color=arya<br>0=%{x}<br>1=%{y}<br>2=%{z}<extra></extra>\",\"legendgroup\":\"arya\",\"marker\":{\"color\":\"#EF553B\",\"symbol\":\"circle\"},\"mode\":\"markers\",\"name\":\"arya\",\"scene\":\"scene\",\"showlegend\":true,\"x\":[0.13546143472194672],\"y\":[0.31933698058128357],\"z\":[0.248197540640831],\"type\":\"scatter3d\"},{\"hovertemplate\":\"color=away<br>0=%{x}<br>1=%{y}<br>2=%{z}<extra></extra>\",\"legendgroup\":\"away\",\"marker\":{\"color\":\"#00cc96\",\"symbol\":\"circle\"},\"mode\":\"markers\",\"name\":\"away\",\"scene\":\"scene\",\"showlegend\":true,\"x\":[0.16418291628360748],\"y\":[0.4045918583869934],\"z\":[0.3049606382846832],\"type\":\"scatter3d\"},{\"hovertemplate\":\"color=about<br>0=%{x}<br>1=%{y}<br>2=%{z}<extra></extra>\",\"legendgroup\":\"about\",\"marker\":{\"color\":\"#ab63fa\",\"symbol\":\"circle\"},\"mode\":\"markers\",\"name\":\"about\",\"scene\":\"scene\",\"showlegend\":true,\"x\":[-0.19160327315330505],\"y\":[0.21638883650302887],\"z\":[0.2221500277519226],\"type\":\"scatter3d\"},{\"hovertemplate\":\"color=queen<br>0=%{x}<br>1=%{y}<br>2=%{z}<extra></extra>\",\"legendgroup\":\"queen\",\"marker\":{\"color\":\"#FFA15A\",\"symbol\":\"circle\"},\"mode\":\"markers\",\"name\":\"queen\",\"scene\":\"scene\",\"showlegend\":true,\"x\":[-0.34750884771347046],\"y\":[0.5374994874000549],\"z\":[0.08789891749620438],\"type\":\"scatter3d\"},{\"hovertemplate\":\"color=dead<br>0=%{x}<br>1=%{y}<br>2=%{z}<extra></extra>\",\"legendgroup\":\"dead\",\"marker\":{\"color\":\"#19d3f3\",\"symbol\":\"circle\"},\"mode\":\"markers\",\"name\":\"dead\",\"scene\":\"scene\",\"showlegend\":true,\"x\":[0.013138202019035816],\"y\":[0.5048733353614807],\"z\":[0.18021395802497864],\"type\":\"scatter3d\"},{\"hovertemplate\":\"color=blood<br>0=%{x}<br>1=%{y}<br>2=%{z}<extra></extra>\",\"legendgroup\":\"blood\",\"marker\":{\"color\":\"#FF6692\",\"symbol\":\"circle\"},\"mode\":\"markers\",\"name\":\"blood\",\"scene\":\"scene\",\"showlegend\":true,\"x\":[0.1450187861919403],\"y\":[0.4490162134170532],\"z\":[0.15602713823318481],\"type\":\"scatter3d\"},{\"hovertemplate\":\"color=say<br>0=%{x}<br>1=%{y}<br>2=%{z}<extra></extra>\",\"legendgroup\":\"say\",\"marker\":{\"color\":\"#B6E880\",\"symbol\":\"circle\"},\"mode\":\"markers\",\"name\":\"say\",\"scene\":\"scene\",\"showlegend\":true,\"x\":[-0.42518487572669983],\"y\":[0.5002243518829346],\"z\":[0.33331745862960815],\"type\":\"scatter3d\"},{\"hovertemplate\":\"color=bran<br>0=%{x}<br>1=%{y}<br>2=%{z}<extra></extra>\",\"legendgroup\":\"bran\",\"marker\":{\"color\":\"#FF97FF\",\"symbol\":\"circle\"},\"mode\":\"markers\",\"name\":\"bran\",\"scene\":\"scene\",\"showlegend\":true,\"x\":[0.0782371386885643],\"y\":[0.3627606928348541],\"z\":[0.22889886796474457],\"type\":\"scatter3d\"},{\"hovertemplate\":\"color=little<br>0=%{x}<br>1=%{y}<br>2=%{z}<extra></extra>\",\"legendgroup\":\"little\",\"marker\":{\"color\":\"#FECB52\",\"symbol\":\"circle\"},\"mode\":\"markers\",\"name\":\"little\",\"scene\":\"scene\",\"showlegend\":true,\"x\":[-0.10234338045120239],\"y\":[0.301225870847702],\"z\":[0.17135317623615265],\"type\":\"scatter3d\"},{\"hovertemplate\":\"color=three<br>0=%{x}<br>1=%{y}<br>2=%{z}<extra></extra>\",\"legendgroup\":\"three\",\"marker\":{\"color\":\"#636efa\",\"symbol\":\"circle\"},\"mode\":\"markers\",\"name\":\"three\",\"scene\":\"scene\",\"showlegend\":true,\"x\":[0.0670439749956131],\"y\":[0.46445104479789734],\"z\":[-0.10949668288230896],\"type\":\"scatter3d\"},{\"hovertemplate\":\"color=go<br>0=%{x}<br>1=%{y}<br>2=%{z}<extra></extra>\",\"legendgroup\":\"go\",\"marker\":{\"color\":\"#EF553B\",\"symbol\":\"circle\"},\"mode\":\"markers\",\"name\":\"go\",\"scene\":\"scene\",\"showlegend\":true,\"x\":[-0.10808201879262924],\"y\":[0.600930392742157],\"z\":[0.36877113580703735],\"type\":\"scatter3d\"},{\"hovertemplate\":\"color=should<br>0=%{x}<br>1=%{y}<br>2=%{z}<extra></extra>\",\"legendgroup\":\"should\",\"marker\":{\"color\":\"#00cc96\",\"symbol\":\"circle\"},\"mode\":\"markers\",\"name\":\"should\",\"scene\":\"scene\",\"showlegend\":true,\"x\":[-0.42188990116119385],\"y\":[0.4557229280471802],\"z\":[0.21706867218017578],\"type\":\"scatter3d\"},{\"hovertemplate\":\"color=take<br>0=%{x}<br>1=%{y}<br>2=%{z}<extra></extra>\",\"legendgroup\":\"take\",\"marker\":{\"color\":\"#ab63fa\",\"symbol\":\"circle\"},\"mode\":\"markers\",\"name\":\"take\",\"scene\":\"scene\",\"showlegend\":true,\"x\":[-0.3316881060600281],\"y\":[0.578380286693573],\"z\":[0.3949695825576782],\"type\":\"scatter3d\"},{\"hovertemplate\":\"color=own<br>0=%{x}<br>1=%{y}<br>2=%{z}<extra></extra>\",\"legendgroup\":\"own\",\"marker\":{\"color\":\"#FFA15A\",\"symbol\":\"circle\"},\"mode\":\"markers\",\"name\":\"own\",\"scene\":\"scene\",\"showlegend\":true,\"x\":[-0.18982695043087006],\"y\":[0.5539442300796509],\"z\":[0.1585978865623474],\"type\":\"scatter3d\"},{\"hovertemplate\":\"color=though<br>0=%{x}<br>1=%{y}<br>2=%{z}<extra></extra>\",\"legendgroup\":\"though\",\"marker\":{\"color\":\"#19d3f3\",\"symbol\":\"circle\"},\"mode\":\"markers\",\"name\":\"though\",\"scene\":\"scene\",\"showlegend\":true,\"x\":[-0.13160452246665955],\"y\":[0.44330766797065735],\"z\":[0.08755408227443695],\"type\":\"scatter3d\"},{\"hovertemplate\":\"color=saw<br>0=%{x}<br>1=%{y}<br>2=%{z}<extra></extra>\",\"legendgroup\":\"saw\",\"marker\":{\"color\":\"#FF6692\",\"symbol\":\"circle\"},\"mode\":\"markers\",\"name\":\"saw\",\"scene\":\"scene\",\"showlegend\":true,\"x\":[0.12126610428094864],\"y\":[0.28942903876304626],\"z\":[0.45176008343696594],\"type\":\"scatter3d\"},{\"hovertemplate\":\"color=make<br>0=%{x}<br>1=%{y}<br>2=%{z}<extra></extra>\",\"legendgroup\":\"make\",\"marker\":{\"color\":\"#B6E880\",\"symbol\":\"circle\"},\"mode\":\"markers\",\"name\":\"make\",\"scene\":\"scene\",\"showlegend\":true,\"x\":[-0.3168773651123047],\"y\":[0.4750196635723114],\"z\":[0.3331184685230255],\"type\":\"scatter3d\"},{\"hovertemplate\":\"color=am<br>0=%{x}<br>1=%{y}<br>2=%{z}<extra></extra>\",\"legendgroup\":\"am\",\"marker\":{\"color\":\"#FF97FF\",\"symbol\":\"circle\"},\"mode\":\"markers\",\"name\":\"am\",\"scene\":\"scene\",\"showlegend\":true,\"x\":[-0.486408531665802],\"y\":[0.4278711974620819],\"z\":[0.1517712026834488],\"type\":\"scatter3d\"},{\"hovertemplate\":\"color=half<br>0=%{x}<br>1=%{y}<br>2=%{z}<extra></extra>\",\"legendgroup\":\"half\",\"marker\":{\"color\":\"#FECB52\",\"symbol\":\"circle\"},\"mode\":\"markers\",\"name\":\"half\",\"scene\":\"scene\",\"showlegend\":true,\"x\":[0.16932474076747894],\"y\":[0.39480260014533997],\"z\":[0.08970554918050766],\"type\":\"scatter3d\"},{\"hovertemplate\":\"color=himself<br>0=%{x}<br>1=%{y}<br>2=%{z}<extra></extra>\",\"legendgroup\":\"himself\",\"marker\":{\"color\":\"#636efa\",\"symbol\":\"circle\"},\"mode\":\"markers\",\"name\":\"himself\",\"scene\":\"scene\",\"showlegend\":true,\"x\":[-0.04934349283576012],\"y\":[0.3759429454803467],\"z\":[0.23014388978481293],\"type\":\"scatter3d\"},{\"hovertemplate\":\"color=son<br>0=%{x}<br>1=%{y}<br>2=%{z}<extra></extra>\",\"legendgroup\":\"son\",\"marker\":{\"color\":\"#EF553B\",\"symbol\":\"circle\"},\"mode\":\"markers\",\"name\":\"son\",\"scene\":\"scene\",\"showlegend\":true,\"x\":[-0.44993770122528076],\"y\":[0.47162172198295593],\"z\":[0.21042226254940033],\"type\":\"scatter3d\"},{\"hovertemplate\":\"color=dany<br>0=%{x}<br>1=%{y}<br>2=%{z}<extra></extra>\",\"legendgroup\":\"dany\",\"marker\":{\"color\":\"#00cc96\",\"symbol\":\"circle\"},\"mode\":\"markers\",\"name\":\"dany\",\"scene\":\"scene\",\"showlegend\":true,\"x\":[0.06927406787872314],\"y\":[0.35352271795272827],\"z\":[-0.013978390954434872],\"type\":\"scatter3d\"},{\"hovertemplate\":\"color=white<br>0=%{x}<br>1=%{y}<br>2=%{z}<extra></extra>\",\"legendgroup\":\"white\",\"marker\":{\"color\":\"#ab63fa\",\"symbol\":\"circle\"},\"mode\":\"markers\",\"name\":\"white\",\"scene\":\"scene\",\"showlegend\":true,\"x\":[0.27601358294487],\"y\":[0.24227796494960785],\"z\":[0.04596986994147301],\"type\":\"scatter3d\"},{\"hovertemplate\":\"color=look<br>0=%{x}<br>1=%{y}<br>2=%{z}<extra></extra>\",\"legendgroup\":\"look\",\"marker\":{\"color\":\"#FFA15A\",\"symbol\":\"circle\"},\"mode\":\"markers\",\"name\":\"look\",\"scene\":\"scene\",\"showlegend\":true,\"x\":[-0.026677586138248444],\"y\":[0.46829360723495483],\"z\":[0.34132832288742065],\"type\":\"scatter3d\"},{\"hovertemplate\":\"color=wall<br>0=%{x}<br>1=%{y}<br>2=%{z}<extra></extra>\",\"legendgroup\":\"wall\",\"marker\":{\"color\":\"#19d3f3\",\"symbol\":\"circle\"},\"mode\":\"markers\",\"name\":\"wall\",\"scene\":\"scene\",\"showlegend\":true,\"x\":[0.2691914737224579],\"y\":[0.7041884660720825],\"z\":[0.0015580434119328856],\"type\":\"scatter3d\"},{\"hovertemplate\":\"color=day<br>0=%{x}<br>1=%{y}<br>2=%{z}<extra></extra>\",\"legendgroup\":\"day\",\"marker\":{\"color\":\"#FF6692\",\"symbol\":\"circle\"},\"mode\":\"markers\",\"name\":\"day\",\"scene\":\"scene\",\"showlegend\":true,\"x\":[-0.030963925644755363],\"y\":[0.631505012512207],\"z\":[0.05520423501729965],\"type\":\"scatter3d\"},{\"hovertemplate\":\"color=first<br>0=%{x}<br>1=%{y}<br>2=%{z}<extra></extra>\",\"legendgroup\":\"first\",\"marker\":{\"color\":\"#B6E880\",\"symbol\":\"circle\"},\"mode\":\"markers\",\"name\":\"first\",\"scene\":\"scene\",\"showlegend\":true,\"x\":[-0.1065388172864914],\"y\":[0.5505059361457825],\"z\":[0.1735469102859497],\"type\":\"scatter3d\"},{\"hovertemplate\":\"color=looked<br>0=%{x}<br>1=%{y}<br>2=%{z}<extra></extra>\",\"legendgroup\":\"looked\",\"marker\":{\"color\":\"#FF97FF\",\"symbol\":\"circle\"},\"mode\":\"markers\",\"name\":\"looked\",\"scene\":\"scene\",\"showlegend\":true,\"x\":[0.06818024069070816],\"y\":[0.23410697281360626],\"z\":[0.44865521788597107],\"type\":\"scatter3d\"},{\"hovertemplate\":\"color=great<br>0=%{x}<br>1=%{y}<br>2=%{z}<extra></extra>\",\"legendgroup\":\"great\",\"marker\":{\"color\":\"#FECB52\",\"symbol\":\"circle\"},\"mode\":\"markers\",\"name\":\"great\",\"scene\":\"scene\",\"showlegend\":true,\"x\":[0.09080539643764496],\"y\":[0.3970969617366791],\"z\":[-0.2145775556564331],\"type\":\"scatter3d\"},{\"hovertemplate\":\"color=enough<br>0=%{x}<br>1=%{y}<br>2=%{z}<extra></extra>\",\"legendgroup\":\"enough\",\"marker\":{\"color\":\"#636efa\",\"symbol\":\"circle\"},\"mode\":\"markers\",\"name\":\"enough\",\"scene\":\"scene\",\"showlegend\":true,\"x\":[-0.11261015385389328],\"y\":[0.48300233483314514],\"z\":[0.13312266767024994],\"type\":\"scatter3d\"},{\"hovertemplate\":\"color=sword<br>0=%{x}<br>1=%{y}<br>2=%{z}<extra></extra>\",\"legendgroup\":\"sword\",\"marker\":{\"color\":\"#EF553B\",\"symbol\":\"circle\"},\"mode\":\"markers\",\"name\":\"sword\",\"scene\":\"scene\",\"showlegend\":true,\"x\":[0.1195301041007042],\"y\":[0.48123443126678467],\"z\":[0.2958790063858032],\"type\":\"scatter3d\"},{\"hovertemplate\":\"color=sansa<br>0=%{x}<br>1=%{y}<br>2=%{z}<extra></extra>\",\"legendgroup\":\"sansa\",\"marker\":{\"color\":\"#00cc96\",\"symbol\":\"circle\"},\"mode\":\"markers\",\"name\":\"sansa\",\"scene\":\"scene\",\"showlegend\":true,\"x\":[-0.12673310935497284],\"y\":[0.31129613518714905],\"z\":[0.2585650682449341],\"type\":\"scatter3d\"},{\"hovertemplate\":\"color=want<br>0=%{x}<br>1=%{y}<br>2=%{z}<extra></extra>\",\"legendgroup\":\"want\",\"marker\":{\"color\":\"#ab63fa\",\"symbol\":\"circle\"},\"mode\":\"markers\",\"name\":\"want\",\"scene\":\"scene\",\"showlegend\":true,\"x\":[-0.3239804804325104],\"y\":[0.48718905448913574],\"z\":[0.3190397024154663],\"type\":\"scatter3d\"},{\"hovertemplate\":\"color=much<br>0=%{x}<br>1=%{y}<br>2=%{z}<extra></extra>\",\"legendgroup\":\"much\",\"marker\":{\"color\":\"#FFA15A\",\"symbol\":\"circle\"},\"mode\":\"markers\",\"name\":\"much\",\"scene\":\"scene\",\"showlegend\":true,\"x\":[-0.2173032909631729],\"y\":[0.4877575635910034],\"z\":[0.13561570644378662],\"type\":\"scatter3d\"},{\"hovertemplate\":\"color=after<br>0=%{x}<br>1=%{y}<br>2=%{z}<extra></extra>\",\"legendgroup\":\"after\",\"marker\":{\"color\":\"#19d3f3\",\"symbol\":\"circle\"},\"mode\":\"markers\",\"name\":\"after\",\"scene\":\"scene\",\"showlegend\":true,\"x\":[-0.12994083762168884],\"y\":[0.4132530987262726],\"z\":[0.27271074056625366],\"type\":\"scatter3d\"},{\"hovertemplate\":\"color=tell<br>0=%{x}<br>1=%{y}<br>2=%{z}<extra></extra>\",\"legendgroup\":\"tell\",\"marker\":{\"color\":\"#FF6692\",\"symbol\":\"circle\"},\"mode\":\"markers\",\"name\":\"tell\",\"scene\":\"scene\",\"showlegend\":true,\"x\":[-0.4212966561317444],\"y\":[0.5357798337936401],\"z\":[0.3875470757484436],\"type\":\"scatter3d\"},{\"hovertemplate\":\"color=knew<br>0=%{x}<br>1=%{y}<br>2=%{z}<extra></extra>\",\"legendgroup\":\"knew\",\"marker\":{\"color\":\"#B6E880\",\"symbol\":\"circle\"},\"mode\":\"markers\",\"name\":\"knew\",\"scene\":\"scene\",\"showlegend\":true,\"x\":[-0.21270541846752167],\"y\":[0.4754568934440613],\"z\":[0.29343321919441223],\"type\":\"scatter3d\"},{\"hovertemplate\":\"color=its<br>0=%{x}<br>1=%{y}<br>2=%{z}<extra></extra>\",\"legendgroup\":\"its\",\"marker\":{\"color\":\"#FF97FF\",\"symbol\":\"circle\"},\"mode\":\"markers\",\"name\":\"its\",\"scene\":\"scene\",\"showlegend\":true,\"x\":[0.4389350712299347],\"y\":[0.26301702857017517],\"z\":[-0.05574529990553856],\"type\":\"scatter3d\"},{\"hovertemplate\":\"color=our<br>0=%{x}<br>1=%{y}<br>2=%{z}<extra></extra>\",\"legendgroup\":\"our\",\"marker\":{\"color\":\"#FECB52\",\"symbol\":\"circle\"},\"mode\":\"markers\",\"name\":\"our\",\"scene\":\"scene\",\"showlegend\":true,\"x\":[-0.3472912311553955],\"y\":[0.5212330222129822],\"z\":[-0.04208979383111],\"type\":\"scatter3d\"},{\"hovertemplate\":\"color=left<br>0=%{x}<br>1=%{y}<br>2=%{z}<extra></extra>\",\"legendgroup\":\"left\",\"marker\":{\"color\":\"#636efa\",\"symbol\":\"circle\"},\"mode\":\"markers\",\"name\":\"left\",\"scene\":\"scene\",\"showlegend\":true,\"x\":[0.15290458500385284],\"y\":[0.3771086037158966],\"z\":[0.3660562336444855],\"type\":\"scatter3d\"},{\"hovertemplate\":\"color=yet<br>0=%{x}<br>1=%{y}<br>2=%{z}<extra></extra>\",\"legendgroup\":\"yet\",\"marker\":{\"color\":\"#EF553B\",\"symbol\":\"circle\"},\"mode\":\"markers\",\"name\":\"yet\",\"scene\":\"scene\",\"showlegend\":true,\"x\":[-0.17892959713935852],\"y\":[0.492249459028244],\"z\":[0.044306572526693344],\"type\":\"scatter3d\"},{\"hovertemplate\":\"color=snow<br>0=%{x}<br>1=%{y}<br>2=%{z}<extra></extra>\",\"legendgroup\":\"snow\",\"marker\":{\"color\":\"#00cc96\",\"symbol\":\"circle\"},\"mode\":\"markers\",\"name\":\"snow\",\"scene\":\"scene\",\"showlegend\":true,\"x\":[0.2389368861913681],\"y\":[0.4235895574092865],\"z\":[0.13887201249599457],\"type\":\"scatter3d\"},{\"hovertemplate\":\"color=gave<br>0=%{x}<br>1=%{y}<br>2=%{z}<extra></extra>\",\"legendgroup\":\"gave\",\"marker\":{\"color\":\"#ab63fa\",\"symbol\":\"circle\"},\"mode\":\"markers\",\"name\":\"gave\",\"scene\":\"scene\",\"showlegend\":true,\"x\":[-0.19121132791042328],\"y\":[0.07578808814287186],\"z\":[0.6117910742759705],\"type\":\"scatter3d\"},{\"hovertemplate\":\"color=around<br>0=%{x}<br>1=%{y}<br>2=%{z}<extra></extra>\",\"legendgroup\":\"around\",\"marker\":{\"color\":\"#FFA15A\",\"symbol\":\"circle\"},\"mode\":\"markers\",\"name\":\"around\",\"scene\":\"scene\",\"showlegend\":true,\"x\":[0.43846648931503296],\"y\":[0.19353188574314117],\"z\":[0.26513949036598206],\"type\":\"scatter3d\"},{\"hovertemplate\":\"color=every<br>0=%{x}<br>1=%{y}<br>2=%{z}<extra></extra>\",\"legendgroup\":\"every\",\"marker\":{\"color\":\"#19d3f3\",\"symbol\":\"circle\"},\"mode\":\"markers\",\"name\":\"every\",\"scene\":\"scene\",\"showlegend\":true,\"x\":[0.0498439185321331],\"y\":[0.41877317428588867],\"z\":[0.09134387969970703],\"type\":\"scatter3d\"},{\"hovertemplate\":\"color=asked<br>0=%{x}<br>1=%{y}<br>2=%{z}<extra></extra>\",\"legendgroup\":\"asked\",\"marker\":{\"color\":\"#FF6692\",\"symbol\":\"circle\"},\"mode\":\"markers\",\"name\":\"asked\",\"scene\":\"scene\",\"showlegend\":true,\"x\":[-0.3896292746067047],\"y\":[0.2778984010219574],\"z\":[0.589834988117218],\"type\":\"scatter3d\"},{\"hovertemplate\":\"color=heard<br>0=%{x}<br>1=%{y}<br>2=%{z}<extra></extra>\",\"legendgroup\":\"heard\",\"marker\":{\"color\":\"#B6E880\",\"symbol\":\"circle\"},\"mode\":\"markers\",\"name\":\"heard\",\"scene\":\"scene\",\"showlegend\":true,\"x\":[-0.0768565982580185],\"y\":[0.3535121977329254],\"z\":[0.37582507729530334],\"type\":\"scatter3d\"},{\"hovertemplate\":\"color=turned<br>0=%{x}<br>1=%{y}<br>2=%{z}<extra></extra>\",\"legendgroup\":\"turned\",\"marker\":{\"color\":\"#FF97FF\",\"symbol\":\"circle\"},\"mode\":\"markers\",\"name\":\"turned\",\"scene\":\"scene\",\"showlegend\":true,\"x\":[0.17405425012111664],\"y\":[0.24858911335468292],\"z\":[0.5506436824798584],\"type\":\"scatter3d\"},{\"hovertemplate\":\"color=behind<br>0=%{x}<br>1=%{y}<br>2=%{z}<extra></extra>\",\"legendgroup\":\"behind\",\"marker\":{\"color\":\"#FECB52\",\"symbol\":\"circle\"},\"mode\":\"markers\",\"name\":\"behind\",\"scene\":\"scene\",\"showlegend\":true,\"x\":[0.29369422793388367],\"y\":[0.26973411440849304],\"z\":[0.21095719933509827],\"type\":\"scatter3d\"},{\"hovertemplate\":\"color=girl<br>0=%{x}<br>1=%{y}<br>2=%{z}<extra></extra>\",\"legendgroup\":\"girl\",\"marker\":{\"color\":\"#636efa\",\"symbol\":\"circle\"},\"mode\":\"markers\",\"name\":\"girl\",\"scene\":\"scene\",\"showlegend\":true,\"x\":[-0.1869068294763565],\"y\":[0.3683510720729828],\"z\":[0.17740359902381897],\"type\":\"scatter3d\"},{\"hovertemplate\":\"color=let<br>0=%{x}<br>1=%{y}<br>2=%{z}<extra></extra>\",\"legendgroup\":\"let\",\"marker\":{\"color\":\"#EF553B\",\"symbol\":\"circle\"},\"mode\":\"markers\",\"name\":\"let\",\"scene\":\"scene\",\"showlegend\":true,\"x\":[-0.1947309374809265],\"y\":[0.36661794781684875],\"z\":[0.439203679561615],\"type\":\"scatter3d\"},{\"hovertemplate\":\"color=why<br>0=%{x}<br>1=%{y}<br>2=%{z}<extra></extra>\",\"legendgroup\":\"why\",\"marker\":{\"color\":\"#00cc96\",\"symbol\":\"circle\"},\"mode\":\"markers\",\"name\":\"why\",\"scene\":\"scene\",\"showlegend\":true,\"x\":[-0.4577523469924927],\"y\":[0.5275688767433167],\"z\":[0.16251865029335022],\"type\":\"scatter3d\"},{\"hovertemplate\":\"color=went<br>0=%{x}<br>1=%{y}<br>2=%{z}<extra></extra>\",\"legendgroup\":\"went\",\"marker\":{\"color\":\"#ab63fa\",\"symbol\":\"circle\"},\"mode\":\"markers\",\"name\":\"went\",\"scene\":\"scene\",\"showlegend\":true,\"x\":[0.24382448196411133],\"y\":[0.32245969772338867],\"z\":[0.5319965481758118],\"type\":\"scatter3d\"},{\"hovertemplate\":\"color=maester<br>0=%{x}<br>1=%{y}<br>2=%{z}<extra></extra>\",\"legendgroup\":\"maester\",\"marker\":{\"color\":\"#FFA15A\",\"symbol\":\"circle\"},\"mode\":\"markers\",\"name\":\"maester\",\"scene\":\"scene\",\"showlegend\":true,\"x\":[-0.19999870657920837],\"y\":[0.3339836001396179],\"z\":[0.21641115844249725],\"type\":\"scatter3d\"},{\"hovertemplate\":\"color=called<br>0=%{x}<br>1=%{y}<br>2=%{z}<extra></extra>\",\"legendgroup\":\"called\",\"marker\":{\"color\":\"#19d3f3\",\"symbol\":\"circle\"},\"mode\":\"markers\",\"name\":\"called\",\"scene\":\"scene\",\"showlegend\":true,\"x\":[-0.3316785991191864],\"y\":[0.2407071590423584],\"z\":[0.3641144931316376],\"type\":\"scatter3d\"},{\"hovertemplate\":\"color=catelyn<br>0=%{x}<br>1=%{y}<br>2=%{z}<extra></extra>\",\"legendgroup\":\"catelyn\",\"marker\":{\"color\":\"#FF6692\",\"symbol\":\"circle\"},\"mode\":\"markers\",\"name\":\"catelyn\",\"scene\":\"scene\",\"showlegend\":true,\"x\":[-0.13610215485095978],\"y\":[0.3469638228416443],\"z\":[0.10845053941011429],\"type\":\"scatter3d\"},{\"hovertemplate\":\"color=stark<br>0=%{x}<br>1=%{y}<br>2=%{z}<extra></extra>\",\"legendgroup\":\"stark\",\"marker\":{\"color\":\"#B6E880\",\"symbol\":\"circle\"},\"mode\":\"markers\",\"name\":\"stark\",\"scene\":\"scene\",\"showlegend\":true,\"x\":[-0.2820555567741394],\"y\":[0.5023375749588013],\"z\":[0.2672417163848877],\"type\":\"scatter3d\"},{\"hovertemplate\":\"color=just<br>0=%{x}<br>1=%{y}<br>2=%{z}<extra></extra>\",\"legendgroup\":\"just\",\"marker\":{\"color\":\"#FF97FF\",\"symbol\":\"circle\"},\"mode\":\"markers\",\"name\":\"just\",\"scene\":\"scene\",\"showlegend\":true,\"x\":[-0.09461767971515656],\"y\":[0.4929523169994354],\"z\":[0.26595258712768555],\"type\":\"scatter3d\"},{\"hovertemplate\":\"color=need<br>0=%{x}<br>1=%{y}<br>2=%{z}<extra></extra>\",\"legendgroup\":\"need\",\"marker\":{\"color\":\"#FECB52\",\"symbol\":\"circle\"},\"mode\":\"markers\",\"name\":\"need\",\"scene\":\"scene\",\"showlegend\":true,\"x\":[-0.2983545660972595],\"y\":[0.5333628058433533],\"z\":[0.20888817310333252],\"type\":\"scatter3d\"},{\"hovertemplate\":\"color=robb<br>0=%{x}<br>1=%{y}<br>2=%{z}<extra></extra>\",\"legendgroup\":\"robb\",\"marker\":{\"color\":\"#636efa\",\"symbol\":\"circle\"},\"mode\":\"markers\",\"name\":\"robb\",\"scene\":\"scene\",\"showlegend\":true,\"x\":[-0.24102722108364105],\"y\":[0.4672585129737854],\"z\":[0.19208045303821564],\"type\":\"scatter3d\"},{\"hovertemplate\":\"color=stannis<br>0=%{x}<br>1=%{y}<br>2=%{z}<extra></extra>\",\"legendgroup\":\"stannis\",\"marker\":{\"color\":\"#EF553B\",\"symbol\":\"circle\"},\"mode\":\"markers\",\"name\":\"stannis\",\"scene\":\"scene\",\"showlegend\":true,\"x\":[-0.23951482772827148],\"y\":[0.625543475151062],\"z\":[0.00041251452057622373],\"type\":\"scatter3d\"},{\"hovertemplate\":\"color=gods<br>0=%{x}<br>1=%{y}<br>2=%{z}<extra></extra>\",\"legendgroup\":\"gods\",\"marker\":{\"color\":\"#00cc96\",\"symbol\":\"circle\"},\"mode\":\"markers\",\"name\":\"gods\",\"scene\":\"scene\",\"showlegend\":true,\"x\":[-0.2751762866973877],\"y\":[0.6181480288505554],\"z\":[-0.04433504864573479],\"type\":\"scatter3d\"},{\"hovertemplate\":\"color=across<br>0=%{x}<br>1=%{y}<br>2=%{z}<extra></extra>\",\"legendgroup\":\"across\",\"marker\":{\"color\":\"#ab63fa\",\"symbol\":\"circle\"},\"mode\":\"markers\",\"name\":\"across\",\"scene\":\"scene\",\"showlegend\":true,\"x\":[0.38007912039756775],\"y\":[0.17782355844974518],\"z\":[0.209080308675766],\"type\":\"scatter3d\"},{\"hovertemplate\":\"color=keep<br>0=%{x}<br>1=%{y}<br>2=%{z}<extra></extra>\",\"legendgroup\":\"keep\",\"marker\":{\"color\":\"#FFA15A\",\"symbol\":\"circle\"},\"mode\":\"markers\",\"name\":\"keep\",\"scene\":\"scene\",\"showlegend\":true,\"x\":[-0.05293714627623558],\"y\":[0.58011794090271],\"z\":[0.27051031589508057],\"type\":\"scatter3d\"},{\"hovertemplate\":\"color=woman<br>0=%{x}<br>1=%{y}<br>2=%{z}<extra></extra>\",\"legendgroup\":\"woman\",\"marker\":{\"color\":\"#19d3f3\",\"symbol\":\"circle\"},\"mode\":\"markers\",\"name\":\"woman\",\"scene\":\"scene\",\"showlegend\":true,\"x\":[-0.05799076706171036],\"y\":[0.37971290946006775],\"z\":[0.15201394259929657],\"type\":\"scatter3d\"},{\"hovertemplate\":\"color=those<br>0=%{x}<br>1=%{y}<br>2=%{z}<extra></extra>\",\"legendgroup\":\"those\",\"marker\":{\"color\":\"#FF6692\",\"symbol\":\"circle\"},\"mode\":\"markers\",\"name\":\"those\",\"scene\":\"scene\",\"showlegend\":true,\"x\":[-0.047174081206321716],\"y\":[0.5269904136657715],\"z\":[-0.20886851847171783],\"type\":\"scatter3d\"},{\"hovertemplate\":\"color=last<br>0=%{x}<br>1=%{y}<br>2=%{z}<extra></extra>\",\"legendgroup\":\"last\",\"marker\":{\"color\":\"#B6E880\",\"symbol\":\"circle\"},\"mode\":\"markers\",\"name\":\"last\",\"scene\":\"scene\",\"showlegend\":true,\"x\":[-0.05405215919017792],\"y\":[0.49467235803604126],\"z\":[0.1889781504869461],\"type\":\"scatter3d\"},{\"hovertemplate\":\"color=another<br>0=%{x}<br>1=%{y}<br>2=%{z}<extra></extra>\",\"legendgroup\":\"another\",\"marker\":{\"color\":\"#FF97FF\",\"symbol\":\"circle\"},\"mode\":\"markers\",\"name\":\"another\",\"scene\":\"scene\",\"showlegend\":true,\"x\":[0.03637167066335678],\"y\":[0.4120210111141205],\"z\":[0.19070689380168915],\"type\":\"scatter3d\"},{\"hovertemplate\":\"color=any<br>0=%{x}<br>1=%{y}<br>2=%{z}<extra></extra>\",\"legendgroup\":\"any\",\"marker\":{\"color\":\"#FECB52\",\"symbol\":\"circle\"},\"mode\":\"markers\",\"name\":\"any\",\"scene\":\"scene\",\"showlegend\":true,\"x\":[-0.29173389077186584],\"y\":[0.5243397355079651],\"z\":[0.020253311842679977],\"type\":\"scatter3d\"},{\"hovertemplate\":\"color=think<br>0=%{x}<br>1=%{y}<br>2=%{z}<extra></extra>\",\"legendgroup\":\"think\",\"marker\":{\"color\":\"#636efa\",\"symbol\":\"circle\"},\"mode\":\"markers\",\"name\":\"think\",\"scene\":\"scene\",\"showlegend\":true,\"x\":[-0.3412567675113678],\"y\":[0.5817443132400513],\"z\":[0.27117809653282166],\"type\":\"scatter3d\"},{\"hovertemplate\":\"color=feet<br>0=%{x}<br>1=%{y}<br>2=%{z}<extra></extra>\",\"legendgroup\":\"feet\",\"marker\":{\"color\":\"#EF553B\",\"symbol\":\"circle\"},\"mode\":\"markers\",\"name\":\"feet\",\"scene\":\"scene\",\"showlegend\":true,\"x\":[0.4149181842803955],\"y\":[0.3870549499988556],\"z\":[0.3182530403137207],\"type\":\"scatter3d\"},{\"hovertemplate\":\"color=found<br>0=%{x}<br>1=%{y}<br>2=%{z}<extra></extra>\",\"legendgroup\":\"found\",\"marker\":{\"color\":\"#00cc96\",\"symbol\":\"circle\"},\"mode\":\"markers\",\"name\":\"found\",\"scene\":\"scene\",\"showlegend\":true,\"x\":[0.08475512266159058],\"y\":[0.3200826942920685],\"z\":[0.4339310824871063],\"type\":\"scatter3d\"},{\"hovertemplate\":\"color=beneath<br>0=%{x}<br>1=%{y}<br>2=%{z}<extra></extra>\",\"legendgroup\":\"beneath\",\"marker\":{\"color\":\"#ab63fa\",\"symbol\":\"circle\"},\"mode\":\"markers\",\"name\":\"beneath\",\"scene\":\"scene\",\"showlegend\":true,\"x\":[0.43747463822364807],\"y\":[0.20162877440452576],\"z\":[0.18750905990600586],\"type\":\"scatter3d\"},{\"hovertemplate\":\"color=against<br>0=%{x}<br>1=%{y}<br>2=%{z}<extra></extra>\",\"legendgroup\":\"against\",\"marker\":{\"color\":\"#FFA15A\",\"symbol\":\"circle\"},\"mode\":\"markers\",\"name\":\"against\",\"scene\":\"scene\",\"showlegend\":true,\"x\":[0.131898894906044],\"y\":[0.2661605179309845],\"z\":[0.2822208106517792],\"type\":\"scatter3d\"},{\"hovertemplate\":\"color=hands<br>0=%{x}<br>1=%{y}<br>2=%{z}<extra></extra>\",\"legendgroup\":\"hands\",\"marker\":{\"color\":\"#19d3f3\",\"symbol\":\"circle\"},\"mode\":\"markers\",\"name\":\"hands\",\"scene\":\"scene\",\"showlegend\":true,\"x\":[0.29683104157447815],\"y\":[0.40782761573791504],\"z\":[0.3343004286289215],\"type\":\"scatter3d\"},{\"hovertemplate\":\"color=castle<br>0=%{x}<br>1=%{y}<br>2=%{z}<extra></extra>\",\"legendgroup\":\"castle\",\"marker\":{\"color\":\"#FF6692\",\"symbol\":\"circle\"},\"mode\":\"markers\",\"name\":\"castle\",\"scene\":\"scene\",\"showlegend\":true,\"x\":[0.005189151037484407],\"y\":[0.7320679426193237],\"z\":[-0.11637328565120697],\"type\":\"scatter3d\"},{\"hovertemplate\":\"color=knight<br>0=%{x}<br>1=%{y}<br>2=%{z}<extra></extra>\",\"legendgroup\":\"knight\",\"marker\":{\"color\":\"#B6E880\",\"symbol\":\"circle\"},\"mode\":\"markers\",\"name\":\"knight\",\"scene\":\"scene\",\"showlegend\":true,\"x\":[-0.19931767880916595],\"y\":[0.38841530680656433],\"z\":[0.1406475305557251],\"type\":\"scatter3d\"},{\"hovertemplate\":\"color=gold<br>0=%{x}<br>1=%{y}<br>2=%{z}<extra></extra>\",\"legendgroup\":\"gold\",\"marker\":{\"color\":\"#FF97FF\",\"symbol\":\"circle\"},\"mode\":\"markers\",\"name\":\"gold\",\"scene\":\"scene\",\"showlegend\":true,\"x\":[0.034408293664455414],\"y\":[0.4524691104888916],\"z\":[-0.11224977672100067],\"type\":\"scatter3d\"},{\"hovertemplate\":\"color=ned<br>0=%{x}<br>1=%{y}<br>2=%{z}<extra></extra>\",\"legendgroup\":\"ned\",\"marker\":{\"color\":\"#FECB52\",\"symbol\":\"circle\"},\"mode\":\"markers\",\"name\":\"ned\",\"scene\":\"scene\",\"showlegend\":true,\"x\":[-0.15090270340442657],\"y\":[0.37443238496780396],\"z\":[0.18145933747291565],\"type\":\"scatter3d\"},{\"hovertemplate\":\"color=many<br>0=%{x}<br>1=%{y}<br>2=%{z}<extra></extra>\",\"legendgroup\":\"many\",\"marker\":{\"color\":\"#636efa\",\"symbol\":\"circle\"},\"mode\":\"markers\",\"name\":\"many\",\"scene\":\"scene\",\"showlegend\":true,\"x\":[-0.14200051128864288],\"y\":[0.5135923624038696],\"z\":[-0.15603022277355194],\"type\":\"scatter3d\"},{\"hovertemplate\":\"color=re<br>0=%{x}<br>1=%{y}<br>2=%{z}<extra></extra>\",\"legendgroup\":\"re\",\"marker\":{\"color\":\"#EF553B\",\"symbol\":\"circle\"},\"mode\":\"markers\",\"name\":\"re\",\"scene\":\"scene\",\"showlegend\":true,\"x\":[-0.22580218315124512],\"y\":[0.36860203742980957],\"z\":[0.2674197852611542],\"type\":\"scatter3d\"},{\"hovertemplate\":\"color=jaime<br>0=%{x}<br>1=%{y}<br>2=%{z}<extra></extra>\",\"legendgroup\":\"jaime\",\"marker\":{\"color\":\"#00cc96\",\"symbol\":\"circle\"},\"mode\":\"markers\",\"name\":\"jaime\",\"scene\":\"scene\",\"showlegend\":true,\"x\":[-0.1460382044315338],\"y\":[0.37443965673446655],\"z\":[0.20379315316677094],\"type\":\"scatter3d\"},{\"hovertemplate\":\"color=seemed<br>0=%{x}<br>1=%{y}<br>2=%{z}<extra></extra>\",\"legendgroup\":\"seemed\",\"marker\":{\"color\":\"#ab63fa\",\"symbol\":\"circle\"},\"mode\":\"markers\",\"name\":\"seemed\",\"scene\":\"scene\",\"showlegend\":true,\"x\":[0.004644365981221199],\"y\":[0.31188398599624634],\"z\":[0.2597186863422394],\"type\":\"scatter3d\"},{\"hovertemplate\":\"color=horse<br>0=%{x}<br>1=%{y}<br>2=%{z}<extra></extra>\",\"legendgroup\":\"horse\",\"marker\":{\"color\":\"#FFA15A\",\"symbol\":\"circle\"},\"mode\":\"markers\",\"name\":\"horse\",\"scene\":\"scene\",\"showlegend\":true,\"x\":[0.28147315979003906],\"y\":[0.3932228684425354],\"z\":[0.3030454218387604],\"type\":\"scatter3d\"},{\"hovertemplate\":\"color=lannister<br>0=%{x}<br>1=%{y}<br>2=%{z}<extra></extra>\",\"legendgroup\":\"lannister\",\"marker\":{\"color\":\"#19d3f3\",\"symbol\":\"circle\"},\"mode\":\"markers\",\"name\":\"lannister\",\"scene\":\"scene\",\"showlegend\":true,\"x\":[-0.27228111028671265],\"y\":[0.47238996624946594],\"z\":[0.18583735823631287],\"type\":\"scatter3d\"},{\"hovertemplate\":\"color=fire<br>0=%{x}<br>1=%{y}<br>2=%{z}<extra></extra>\",\"legendgroup\":\"fire\",\"marker\":{\"color\":\"#FF6692\",\"symbol\":\"circle\"},\"mode\":\"markers\",\"name\":\"fire\",\"scene\":\"scene\",\"showlegend\":true,\"x\":[0.4247300922870636],\"y\":[0.5352500677108765],\"z\":[-0.008587020449340343],\"type\":\"scatter3d\"},{\"hovertemplate\":\"color=grace<br>0=%{x}<br>1=%{y}<br>2=%{z}<extra></extra>\",\"legendgroup\":\"grace\",\"marker\":{\"color\":\"#B6E880\",\"symbol\":\"circle\"},\"mode\":\"markers\",\"name\":\"grace\",\"scene\":\"scene\",\"showlegend\":true,\"x\":[-0.4079187214374542],\"y\":[0.5792402625083923],\"z\":[0.0752602070569992],\"type\":\"scatter3d\"},{\"hovertemplate\":\"color=don<br>0=%{x}<br>1=%{y}<br>2=%{z}<extra></extra>\",\"legendgroup\":\"don\",\"marker\":{\"color\":\"#FF97FF\",\"symbol\":\"circle\"},\"mode\":\"markers\",\"name\":\"don\",\"scene\":\"scene\",\"showlegend\":true,\"x\":[-0.3394516408443451],\"y\":[0.3095555305480957],\"z\":[0.2525496482849121],\"type\":\"scatter3d\"},{\"hovertemplate\":\"color=hair<br>0=%{x}<br>1=%{y}<br>2=%{z}<extra></extra>\",\"legendgroup\":\"hair\",\"marker\":{\"color\":\"#FECB52\",\"symbol\":\"circle\"},\"mode\":\"markers\",\"name\":\"hair\",\"scene\":\"scene\",\"showlegend\":true,\"x\":[0.26390695571899414],\"y\":[0.22026744484901428],\"z\":[0.25977709889411926],\"type\":\"scatter3d\"},{\"hovertemplate\":\"color=done<br>0=%{x}<br>1=%{y}<br>2=%{z}<extra></extra>\",\"legendgroup\":\"done\",\"marker\":{\"color\":\"#636efa\",\"symbol\":\"circle\"},\"mode\":\"markers\",\"name\":\"done\",\"scene\":\"scene\",\"showlegend\":true,\"x\":[-0.31552940607070923],\"y\":[0.5474700331687927],\"z\":[0.29457545280456543],\"type\":\"scatter3d\"},{\"hovertemplate\":\"color=ever<br>0=%{x}<br>1=%{y}<br>2=%{z}<extra></extra>\",\"legendgroup\":\"ever\",\"marker\":{\"color\":\"#EF553B\",\"symbol\":\"circle\"},\"mode\":\"markers\",\"name\":\"ever\",\"scene\":\"scene\",\"showlegend\":true,\"x\":[-0.2827089726924896],\"y\":[0.4527041018009186],\"z\":[0.061046112328767776],\"type\":\"scatter3d\"},{\"hovertemplate\":\"color=robert<br>0=%{x}<br>1=%{y}<br>2=%{z}<extra></extra>\",\"legendgroup\":\"robert\",\"marker\":{\"color\":\"#00cc96\",\"symbol\":\"circle\"},\"mode\":\"markers\",\"name\":\"robert\",\"scene\":\"scene\",\"showlegend\":true,\"x\":[-0.38758283853530884],\"y\":[0.507034420967102],\"z\":[0.08915381878614426],\"type\":\"scatter3d\"},{\"hovertemplate\":\"color=mother<br>0=%{x}<br>1=%{y}<br>2=%{z}<extra></extra>\",\"legendgroup\":\"mother\",\"marker\":{\"color\":\"#ab63fa\",\"symbol\":\"circle\"},\"mode\":\"markers\",\"name\":\"mother\",\"scene\":\"scene\",\"showlegend\":true,\"x\":[-0.323012113571167],\"y\":[0.5125593543052673],\"z\":[0.12515611946582794],\"type\":\"scatter3d\"},{\"hovertemplate\":\"color=prince<br>0=%{x}<br>1=%{y}<br>2=%{z}<extra></extra>\",\"legendgroup\":\"prince\",\"marker\":{\"color\":\"#FFA15A\",\"symbol\":\"circle\"},\"mode\":\"markers\",\"name\":\"prince\",\"scene\":\"scene\",\"showlegend\":true,\"x\":[-0.40474992990493774],\"y\":[0.444865345954895],\"z\":[0.17069081962108612],\"type\":\"scatter3d\"},{\"hovertemplate\":\"color=hear<br>0=%{x}<br>1=%{y}<br>2=%{z}<extra></extra>\",\"legendgroup\":\"hear\",\"marker\":{\"color\":\"#19d3f3\",\"symbol\":\"circle\"},\"mode\":\"markers\",\"name\":\"hear\",\"scene\":\"scene\",\"showlegend\":true,\"x\":[-0.11165425181388855],\"y\":[0.4377562999725342],\"z\":[0.3404163718223572],\"type\":\"scatter3d\"},{\"hovertemplate\":\"color=hard<br>0=%{x}<br>1=%{y}<br>2=%{z}<extra></extra>\",\"legendgroup\":\"hard\",\"marker\":{\"color\":\"#FF6692\",\"symbol\":\"circle\"},\"mode\":\"markers\",\"name\":\"hard\",\"scene\":\"scene\",\"showlegend\":true,\"x\":[0.27894845604896545],\"y\":[0.30304065346717834],\"z\":[0.22537901997566223],\"type\":\"scatter3d\"},{\"hovertemplate\":\"color=winterfell<br>0=%{x}<br>1=%{y}<br>2=%{z}<extra></extra>\",\"legendgroup\":\"winterfell\",\"marker\":{\"color\":\"#B6E880\",\"symbol\":\"circle\"},\"mode\":\"markers\",\"name\":\"winterfell\",\"scene\":\"scene\",\"showlegend\":true,\"x\":[-0.14956213533878326],\"y\":[0.6834938526153564],\"z\":[0.050786953419446945],\"type\":\"scatter3d\"},{\"hovertemplate\":\"color=stone<br>0=%{x}<br>1=%{y}<br>2=%{z}<extra></extra>\",\"legendgroup\":\"stone\",\"marker\":{\"color\":\"#FF97FF\",\"symbol\":\"circle\"},\"mode\":\"markers\",\"name\":\"stone\",\"scene\":\"scene\",\"showlegend\":true,\"x\":[0.5583940148353577],\"y\":[0.35358479619026184],\"z\":[-0.09459162503480911],\"type\":\"scatter3d\"},{\"hovertemplate\":\"color=grey<br>0=%{x}<br>1=%{y}<br>2=%{z}<extra></extra>\",\"legendgroup\":\"grey\",\"marker\":{\"color\":\"#FECB52\",\"symbol\":\"circle\"},\"mode\":\"markers\",\"name\":\"grey\",\"scene\":\"scene\",\"showlegend\":true,\"x\":[0.3344528377056122],\"y\":[0.19186580181121826],\"z\":[0.06165765970945358],\"type\":\"scatter3d\"},{\"hovertemplate\":\"color=may<br>0=%{x}<br>1=%{y}<br>2=%{z}<extra></extra>\",\"legendgroup\":\"may\",\"marker\":{\"color\":\"#636efa\",\"symbol\":\"circle\"},\"mode\":\"markers\",\"name\":\"may\",\"scene\":\"scene\",\"showlegend\":true,\"x\":[-0.4089012145996094],\"y\":[0.43205559253692627],\"z\":[0.1537688970565796],\"type\":\"scatter3d\"},{\"hovertemplate\":\"color=water<br>0=%{x}<br>1=%{y}<br>2=%{z}<extra></extra>\",\"legendgroup\":\"water\",\"marker\":{\"color\":\"#EF553B\",\"symbol\":\"circle\"},\"mode\":\"markers\",\"name\":\"water\",\"scene\":\"scene\",\"showlegend\":true,\"x\":[0.5245571136474609],\"y\":[0.4013723134994507],\"z\":[0.06011584401130676],\"type\":\"scatter3d\"},{\"hovertemplate\":\"color=find<br>0=%{x}<br>1=%{y}<br>2=%{z}<extra></extra>\",\"legendgroup\":\"find\",\"marker\":{\"color\":\"#00cc96\",\"symbol\":\"circle\"},\"mode\":\"markers\",\"name\":\"find\",\"scene\":\"scene\",\"showlegend\":true,\"x\":[-0.23823517560958862],\"y\":[0.5497706532478333],\"z\":[0.3518100082874298],\"type\":\"scatter3d\"},{\"hovertemplate\":\"color=wine<br>0=%{x}<br>1=%{y}<br>2=%{z}<extra></extra>\",\"legendgroup\":\"wine\",\"marker\":{\"color\":\"#ab63fa\",\"symbol\":\"circle\"},\"mode\":\"markers\",\"name\":\"wine\",\"scene\":\"scene\",\"showlegend\":true,\"x\":[0.07221910357475281],\"y\":[0.3192363381385803],\"z\":[0.2037159651517868],\"type\":\"scatter3d\"},{\"hovertemplate\":\"color=until<br>0=%{x}<br>1=%{y}<br>2=%{z}<extra></extra>\",\"legendgroup\":\"until\",\"marker\":{\"color\":\"#FFA15A\",\"symbol\":\"circle\"},\"mode\":\"markers\",\"name\":\"until\",\"scene\":\"scene\",\"showlegend\":true,\"x\":[0.16419745981693268],\"y\":[0.4211636781692505],\"z\":[0.2676440179347992],\"type\":\"scatter3d\"},{\"hovertemplate\":\"color=high<br>0=%{x}<br>1=%{y}<br>2=%{z}<extra></extra>\",\"legendgroup\":\"high\",\"marker\":{\"color\":\"#19d3f3\",\"symbol\":\"circle\"},\"mode\":\"markers\",\"name\":\"high\",\"scene\":\"scene\",\"showlegend\":true,\"x\":[0.11527371406555176],\"y\":[0.36352649331092834],\"z\":[-0.058684464544057846],\"type\":\"scatter3d\"},{\"hovertemplate\":\"color=name<br>0=%{x}<br>1=%{y}<br>2=%{z}<extra></extra>\",\"legendgroup\":\"name\",\"marker\":{\"color\":\"#FF6692\",\"symbol\":\"circle\"},\"mode\":\"markers\",\"name\":\"name\",\"scene\":\"scene\",\"showlegend\":true,\"x\":[-0.3782230019569397],\"y\":[0.5519433617591858],\"z\":[0.24321551620960236],\"type\":\"scatter3d\"},{\"hovertemplate\":\"color=gone<br>0=%{x}<br>1=%{y}<br>2=%{z}<extra></extra>\",\"legendgroup\":\"gone\",\"marker\":{\"color\":\"#B6E880\",\"symbol\":\"circle\"},\"mode\":\"markers\",\"name\":\"gone\",\"scene\":\"scene\",\"showlegend\":true,\"x\":[0.0476546473801136],\"y\":[0.46732378005981445],\"z\":[0.3000774383544922],\"type\":\"scatter3d\"},{\"hovertemplate\":\"color=voice<br>0=%{x}<br>1=%{y}<br>2=%{z}<extra></extra>\",\"legendgroup\":\"voice\",\"marker\":{\"color\":\"#FF97FF\",\"symbol\":\"circle\"},\"mode\":\"markers\",\"name\":\"voice\",\"scene\":\"scene\",\"showlegend\":true,\"x\":[0.01233647856861353],\"y\":[0.2708628475666046],\"z\":[0.27004092931747437],\"type\":\"scatter3d\"},{\"hovertemplate\":\"color=between<br>0=%{x}<br>1=%{y}<br>2=%{z}<extra></extra>\",\"legendgroup\":\"between\",\"marker\":{\"color\":\"#FECB52\",\"symbol\":\"circle\"},\"mode\":\"markers\",\"name\":\"between\",\"scene\":\"scene\",\"showlegend\":true,\"x\":[0.24874916672706604],\"y\":[0.18938355147838593],\"z\":[0.21500077843666077],\"type\":\"scatter3d\"},{\"hovertemplate\":\"color=dark<br>0=%{x}<br>1=%{y}<br>2=%{z}<extra></extra>\",\"legendgroup\":\"dark\",\"marker\":{\"color\":\"#636efa\",\"symbol\":\"circle\"},\"mode\":\"markers\",\"name\":\"dark\",\"scene\":\"scene\",\"showlegend\":true,\"x\":[0.45892855525016785],\"y\":[0.3055136501789093],\"z\":[0.002107498934492469],\"type\":\"scatter3d\"},{\"hovertemplate\":\"color=put<br>0=%{x}<br>1=%{y}<br>2=%{z}<extra></extra>\",\"legendgroup\":\"put\",\"marker\":{\"color\":\"#EF553B\",\"symbol\":\"circle\"},\"mode\":\"markers\",\"name\":\"put\",\"scene\":\"scene\",\"showlegend\":true,\"x\":[-0.212217777967453],\"y\":[0.4373326897621155],\"z\":[0.560769259929657],\"type\":\"scatter3d\"},{\"hovertemplate\":\"color=give<br>0=%{x}<br>1=%{y}<br>2=%{z}<extra></extra>\",\"legendgroup\":\"give\",\"marker\":{\"color\":\"#00cc96\",\"symbol\":\"circle\"},\"mode\":\"markers\",\"name\":\"give\",\"scene\":\"scene\",\"showlegend\":true,\"x\":[-0.4203242063522339],\"y\":[0.4173242449760437],\"z\":[0.44533592462539673],\"type\":\"scatter3d\"},{\"hovertemplate\":\"color=these<br>0=%{x}<br>1=%{y}<br>2=%{z}<extra></extra>\",\"legendgroup\":\"these\",\"marker\":{\"color\":\"#ab63fa\",\"symbol\":\"circle\"},\"mode\":\"markers\",\"name\":\"these\",\"scene\":\"scene\",\"showlegend\":true,\"x\":[-0.29751884937286377],\"y\":[0.5932430028915405],\"z\":[-0.2455797791481018],\"type\":\"scatter3d\"},{\"hovertemplate\":\"color=seen<br>0=%{x}<br>1=%{y}<br>2=%{z}<extra></extra>\",\"legendgroup\":\"seen\",\"marker\":{\"color\":\"#FFA15A\",\"symbol\":\"circle\"},\"mode\":\"markers\",\"name\":\"seen\",\"scene\":\"scene\",\"showlegend\":true,\"x\":[-0.05339639261364937],\"y\":[0.4637269973754883],\"z\":[0.23342396318912506],\"type\":\"scatter3d\"},{\"hovertemplate\":\"color=iron<br>0=%{x}<br>1=%{y}<br>2=%{z}<extra></extra>\",\"legendgroup\":\"iron\",\"marker\":{\"color\":\"#19d3f3\",\"symbol\":\"circle\"},\"mode\":\"markers\",\"name\":\"iron\",\"scene\":\"scene\",\"showlegend\":true,\"x\":[0.15522924065589905],\"y\":[0.4324842691421509],\"z\":[-0.012080051004886627],\"type\":\"scatter3d\"},{\"hovertemplate\":\"color=nothing<br>0=%{x}<br>1=%{y}<br>2=%{z}<extra></extra>\",\"legendgroup\":\"nothing\",\"marker\":{\"color\":\"#FF6692\",\"symbol\":\"circle\"},\"mode\":\"markers\",\"name\":\"nothing\",\"scene\":\"scene\",\"showlegend\":true,\"x\":[-0.11264409124851227],\"y\":[0.4844961166381836],\"z\":[0.0461634024977684],\"type\":\"scatter3d\"},{\"hovertemplate\":\"color=cold<br>0=%{x}<br>1=%{y}<br>2=%{z}<extra></extra>\",\"legendgroup\":\"cold\",\"marker\":{\"color\":\"#B6E880\",\"symbol\":\"circle\"},\"mode\":\"markers\",\"name\":\"cold\",\"scene\":\"scene\",\"showlegend\":true,\"x\":[0.3081064224243164],\"y\":[0.36909446120262146],\"z\":[0.133355975151062],\"type\":\"scatter3d\"},{\"hovertemplate\":\"color=better<br>0=%{x}<br>1=%{y}<br>2=%{z}<extra></extra>\",\"legendgroup\":\"better\",\"marker\":{\"color\":\"#FF97FF\",\"symbol\":\"circle\"},\"mode\":\"markers\",\"name\":\"better\",\"scene\":\"scene\",\"showlegend\":true,\"x\":[-0.3265598714351654],\"y\":[0.44789621233940125],\"z\":[0.10442376881837845],\"type\":\"scatter3d\"},{\"hovertemplate\":\"color=small<br>0=%{x}<br>1=%{y}<br>2=%{z}<extra></extra>\",\"legendgroup\":\"small\",\"marker\":{\"color\":\"#FECB52\",\"symbol\":\"circle\"},\"mode\":\"markers\",\"name\":\"small\",\"scene\":\"scene\",\"showlegend\":true,\"x\":[0.16280551254749298],\"y\":[0.32528313994407654],\"z\":[-0.053023166954517365],\"type\":\"scatter3d\"},{\"hovertemplate\":\"color=right<br>0=%{x}<br>1=%{y}<br>2=%{z}<extra></extra>\",\"legendgroup\":\"right\",\"marker\":{\"color\":\"#636efa\",\"symbol\":\"circle\"},\"mode\":\"markers\",\"name\":\"right\",\"scene\":\"scene\",\"showlegend\":true,\"x\":[0.1737523078918457],\"y\":[0.46577906608581543],\"z\":[0.3326941430568695],\"type\":\"scatter3d\"},{\"hovertemplate\":\"color=joffrey<br>0=%{x}<br>1=%{y}<br>2=%{z}<extra></extra>\",\"legendgroup\":\"joffrey\",\"marker\":{\"color\":\"#EF553B\",\"symbol\":\"circle\"},\"mode\":\"markers\",\"name\":\"joffrey\",\"scene\":\"scene\",\"showlegend\":true,\"x\":[-0.3567223846912384],\"y\":[0.42197561264038086],\"z\":[0.22682498395442963],\"type\":\"scatter3d\"},{\"hovertemplate\":\"color=end<br>0=%{x}<br>1=%{y}<br>2=%{z}<extra></extra>\",\"legendgroup\":\"end\",\"marker\":{\"color\":\"#00cc96\",\"symbol\":\"circle\"},\"mode\":\"markers\",\"name\":\"end\",\"scene\":\"scene\",\"showlegend\":true,\"x\":[0.028231317177414894],\"y\":[0.6604989171028137],\"z\":[0.14679230749607086],\"type\":\"scatter3d\"},{\"hovertemplate\":\"color=stood<br>0=%{x}<br>1=%{y}<br>2=%{z}<extra></extra>\",\"legendgroup\":\"stood\",\"marker\":{\"color\":\"#ab63fa\",\"symbol\":\"circle\"},\"mode\":\"markers\",\"name\":\"stood\",\"scene\":\"scene\",\"showlegend\":true,\"x\":[0.21808688342571259],\"y\":[0.27410849928855896],\"z\":[0.3031705319881439],\"type\":\"scatter3d\"},{\"hovertemplate\":\"color=hundred<br>0=%{x}<br>1=%{y}<br>2=%{z}<extra></extra>\",\"legendgroup\":\"hundred\",\"marker\":{\"color\":\"#FFA15A\",\"symbol\":\"circle\"},\"mode\":\"markers\",\"name\":\"hundred\",\"scene\":\"scene\",\"showlegend\":true,\"x\":[0.01684335432946682],\"y\":[0.5196400880813599],\"z\":[-0.19765645265579224],\"type\":\"scatter3d\"},{\"hovertemplate\":\"color=place<br>0=%{x}<br>1=%{y}<br>2=%{z}<extra></extra>\",\"legendgroup\":\"place\",\"marker\":{\"color\":\"#19d3f3\",\"symbol\":\"circle\"},\"mode\":\"markers\",\"name\":\"place\",\"scene\":\"scene\",\"showlegend\":true,\"x\":[-0.07116781920194626],\"y\":[0.7307493686676025],\"z\":[0.006424148101359606],\"type\":\"scatter3d\"},{\"hovertemplate\":\"color=years<br>0=%{x}<br>1=%{y}<br>2=%{z}<extra></extra>\",\"legendgroup\":\"years\",\"marker\":{\"color\":\"#FF6692\",\"symbol\":\"circle\"},\"mode\":\"markers\",\"name\":\"years\",\"scene\":\"scene\",\"showlegend\":true,\"x\":[-0.20002509653568268],\"y\":[0.5883110165596008],\"z\":[-0.026463571935892105],\"type\":\"scatter3d\"},{\"hovertemplate\":\"color=always<br>0=%{x}<br>1=%{y}<br>2=%{z}<extra></extra>\",\"legendgroup\":\"always\",\"marker\":{\"color\":\"#B6E880\",\"symbol\":\"circle\"},\"mode\":\"markers\",\"name\":\"always\",\"scene\":\"scene\",\"showlegend\":true,\"x\":[-0.32373541593551636],\"y\":[0.4255739152431488],\"z\":[0.1192014217376709],\"type\":\"scatter3d\"},{\"hovertemplate\":\"color=theon<br>0=%{x}<br>1=%{y}<br>2=%{z}<extra></extra>\",\"legendgroup\":\"theon\",\"marker\":{\"color\":\"#FF97FF\",\"symbol\":\"circle\"},\"mode\":\"markers\",\"name\":\"theon\",\"scene\":\"scene\",\"showlegend\":true,\"x\":[-0.09527769684791565],\"y\":[0.3172168433666229],\"z\":[0.21480830013751984],\"type\":\"scatter3d\"},{\"hovertemplate\":\"color=watch<br>0=%{x}<br>1=%{y}<br>2=%{z}<extra></extra>\",\"legendgroup\":\"watch\",\"marker\":{\"color\":\"#FECB52\",\"symbol\":\"circle\"},\"mode\":\"markers\",\"name\":\"watch\",\"scene\":\"scene\",\"showlegend\":true,\"x\":[-0.206876739859581],\"y\":[0.5613448023796082],\"z\":[0.06898761540651321],\"type\":\"scatter3d\"},{\"hovertemplate\":\"color=under<br>0=%{x}<br>1=%{y}<br>2=%{z}<extra></extra>\",\"legendgroup\":\"under\",\"marker\":{\"color\":\"#636efa\",\"symbol\":\"circle\"},\"mode\":\"markers\",\"name\":\"under\",\"scene\":\"scene\",\"showlegend\":true,\"x\":[0.35846787691116333],\"y\":[0.15504679083824158],\"z\":[0.28227683901786804],\"type\":\"scatter3d\"},{\"hovertemplate\":\"color=fingers<br>0=%{x}<br>1=%{y}<br>2=%{z}<extra></extra>\",\"legendgroup\":\"fingers\",\"marker\":{\"color\":\"#EF553B\",\"symbol\":\"circle\"},\"mode\":\"markers\",\"name\":\"fingers\",\"scene\":\"scene\",\"showlegend\":true,\"x\":[0.4225095212459564],\"y\":[0.31515395641326904],\"z\":[0.3613784909248352],\"type\":\"scatter3d\"},{\"hovertemplate\":\"color=while<br>0=%{x}<br>1=%{y}<br>2=%{z}<extra></extra>\",\"legendgroup\":\"while\",\"marker\":{\"color\":\"#00cc96\",\"symbol\":\"circle\"},\"mode\":\"markers\",\"name\":\"while\",\"scene\":\"scene\",\"showlegend\":true,\"x\":[0.2633410096168518],\"y\":[0.29542529582977295],\"z\":[0.24425731599330902],\"type\":\"scatter3d\"},{\"hovertemplate\":\"color=walls<br>0=%{x}<br>1=%{y}<br>2=%{z}<extra></extra>\",\"legendgroup\":\"walls\",\"marker\":{\"color\":\"#ab63fa\",\"symbol\":\"circle\"},\"mode\":\"markers\",\"name\":\"walls\",\"scene\":\"scene\",\"showlegend\":true,\"x\":[0.40612033009529114],\"y\":[0.6099310517311096],\"z\":[-0.26195529103279114],\"type\":\"scatter3d\"},{\"hovertemplate\":\"color=sister<br>0=%{x}<br>1=%{y}<br>2=%{z}<extra></extra>\",\"legendgroup\":\"sister\",\"marker\":{\"color\":\"#FFA15A\",\"symbol\":\"circle\"},\"mode\":\"markers\",\"name\":\"sister\",\"scene\":\"scene\",\"showlegend\":true,\"x\":[-0.4500487446784973],\"y\":[0.5249947905540466],\"z\":[0.21731270849704742],\"type\":\"scatter3d\"},{\"hovertemplate\":\"color=get<br>0=%{x}<br>1=%{y}<br>2=%{z}<extra></extra>\",\"legendgroup\":\"get\",\"marker\":{\"color\":\"#19d3f3\",\"symbol\":\"circle\"},\"mode\":\"markers\",\"name\":\"get\",\"scene\":\"scene\",\"showlegend\":true,\"x\":[-0.0737743079662323],\"y\":[0.5564015507698059],\"z\":[0.43177706003189087],\"type\":\"scatter3d\"},{\"hovertemplate\":\"color=beside<br>0=%{x}<br>1=%{y}<br>2=%{z}<extra></extra>\",\"legendgroup\":\"beside\",\"marker\":{\"color\":\"#FF6692\",\"symbol\":\"circle\"},\"mode\":\"markers\",\"name\":\"beside\",\"scene\":\"scene\",\"showlegend\":true,\"x\":[0.19019269943237305],\"y\":[0.20399019122123718],\"z\":[0.3964805006980896],\"type\":\"scatter3d\"},{\"hovertemplate\":\"color=shall<br>0=%{x}<br>1=%{y}<br>2=%{z}<extra></extra>\",\"legendgroup\":\"shall\",\"marker\":{\"color\":\"#B6E880\",\"symbol\":\"circle\"},\"mode\":\"markers\",\"name\":\"shall\",\"scene\":\"scene\",\"showlegend\":true,\"x\":[-0.4023139178752899],\"y\":[0.47403573989868164],\"z\":[0.11557984352111816],\"type\":\"scatter3d\"},{\"hovertemplate\":\"color=words<br>0=%{x}<br>1=%{y}<br>2=%{z}<extra></extra>\",\"legendgroup\":\"words\",\"marker\":{\"color\":\"#FF97FF\",\"symbol\":\"circle\"},\"mode\":\"markers\",\"name\":\"words\",\"scene\":\"scene\",\"showlegend\":true,\"x\":[-0.1866971105337143],\"y\":[0.453132688999176],\"z\":[0.19870531558990479],\"type\":\"scatter3d\"},{\"hovertemplate\":\"color=most<br>0=%{x}<br>1=%{y}<br>2=%{z}<extra></extra>\",\"legendgroup\":\"most\",\"marker\":{\"color\":\"#FECB52\",\"symbol\":\"circle\"},\"mode\":\"markers\",\"name\":\"most\",\"scene\":\"scene\",\"showlegend\":true,\"x\":[-0.3238793611526489],\"y\":[0.5616066455841064],\"z\":[-0.20688430964946747],\"type\":\"scatter3d\"},{\"hovertemplate\":\"color=cloak<br>0=%{x}<br>1=%{y}<br>2=%{z}<extra></extra>\",\"legendgroup\":\"cloak\",\"marker\":{\"color\":\"#636efa\",\"symbol\":\"circle\"},\"mode\":\"markers\",\"name\":\"cloak\",\"scene\":\"scene\",\"showlegend\":true,\"x\":[0.3029842674732208],\"y\":[0.3308952748775482],\"z\":[0.3250104486942291],\"type\":\"scatter3d\"},{\"hovertemplate\":\"color=mouth<br>0=%{x}<br>1=%{y}<br>2=%{z}<extra></extra>\",\"legendgroup\":\"mouth\",\"marker\":{\"color\":\"#EF553B\",\"symbol\":\"circle\"},\"mode\":\"markers\",\"name\":\"mouth\",\"scene\":\"scene\",\"showlegend\":true,\"x\":[0.29630452394485474],\"y\":[0.2765602171421051],\"z\":[0.39508160948753357],\"type\":\"scatter3d\"},{\"hovertemplate\":\"color=same<br>0=%{x}<br>1=%{y}<br>2=%{z}<extra></extra>\",\"legendgroup\":\"same\",\"marker\":{\"color\":\"#00cc96\",\"symbol\":\"circle\"},\"mode\":\"markers\",\"name\":\"same\",\"scene\":\"scene\",\"showlegend\":true,\"x\":[-0.1597108244895935],\"y\":[0.42278051376342773],\"z\":[0.15667882561683655],\"type\":\"scatter3d\"},{\"hovertemplate\":\"color=cersei<br>0=%{x}<br>1=%{y}<br>2=%{z}<extra></extra>\",\"legendgroup\":\"cersei\",\"marker\":{\"color\":\"#ab63fa\",\"symbol\":\"circle\"},\"mode\":\"markers\",\"name\":\"cersei\",\"scene\":\"scene\",\"showlegend\":true,\"x\":[-0.32986685633659363],\"y\":[0.3646177351474762],\"z\":[0.23744244873523712],\"type\":\"scatter3d\"},{\"hovertemplate\":\"color=door<br>0=%{x}<br>1=%{y}<br>2=%{z}<extra></extra>\",\"legendgroup\":\"door\",\"marker\":{\"color\":\"#FFA15A\",\"symbol\":\"circle\"},\"mode\":\"markers\",\"name\":\"door\",\"scene\":\"scene\",\"showlegend\":true,\"x\":[0.37387916445732117],\"y\":[0.408257395029068],\"z\":[0.3234279453754425],\"type\":\"scatter3d\"},{\"hovertemplate\":\"color=upon<br>0=%{x}<br>1=%{y}<br>2=%{z}<extra></extra>\",\"legendgroup\":\"upon\",\"marker\":{\"color\":\"#19d3f3\",\"symbol\":\"circle\"},\"mode\":\"markers\",\"name\":\"upon\",\"scene\":\"scene\",\"showlegend\":true,\"x\":[0.05829558148980141],\"y\":[0.31540167331695557],\"z\":[0.09750120341777802],\"type\":\"scatter3d\"},{\"hovertemplate\":\"color=green<br>0=%{x}<br>1=%{y}<br>2=%{z}<extra></extra>\",\"legendgroup\":\"green\",\"marker\":{\"color\":\"#FF6692\",\"symbol\":\"circle\"},\"mode\":\"markers\",\"name\":\"green\",\"scene\":\"scene\",\"showlegend\":true,\"x\":[0.29755616188049316],\"y\":[0.23167145252227783],\"z\":[-0.07690207660198212],\"type\":\"scatter3d\"},{\"hovertemplate\":\"color=few<br>0=%{x}<br>1=%{y}<br>2=%{z}<extra></extra>\",\"legendgroup\":\"few\",\"marker\":{\"color\":\"#B6E880\",\"symbol\":\"circle\"},\"mode\":\"markers\",\"name\":\"few\",\"scene\":\"scene\",\"showlegend\":true,\"x\":[0.07153353095054626],\"y\":[0.4718562066555023],\"z\":[-0.09729990363121033],\"type\":\"scatter3d\"},{\"hovertemplate\":\"color=almost<br>0=%{x}<br>1=%{y}<br>2=%{z}<extra></extra>\",\"legendgroup\":\"almost\",\"marker\":{\"color\":\"#FF97FF\",\"symbol\":\"circle\"},\"mode\":\"markers\",\"name\":\"almost\",\"scene\":\"scene\",\"showlegend\":true,\"x\":[0.24563075602054596],\"y\":[0.2507358193397522],\"z\":[0.32775434851646423],\"type\":\"scatter3d\"},{\"hovertemplate\":\"color=perhaps<br>0=%{x}<br>1=%{y}<br>2=%{z}<extra></extra>\",\"legendgroup\":\"perhaps\",\"marker\":{\"color\":\"#FECB52\",\"symbol\":\"circle\"},\"mode\":\"markers\",\"name\":\"perhaps\",\"scene\":\"scene\",\"showlegend\":true,\"x\":[-0.47553694248199463],\"y\":[0.5964148044586182],\"z\":[0.14351053535938263],\"type\":\"scatter3d\"},{\"hovertemplate\":\"color=does<br>0=%{x}<br>1=%{y}<br>2=%{z}<extra></extra>\",\"legendgroup\":\"does\",\"marker\":{\"color\":\"#636efa\",\"symbol\":\"circle\"},\"mode\":\"markers\",\"name\":\"does\",\"scene\":\"scene\",\"showlegend\":true,\"x\":[-0.45134031772613525],\"y\":[0.38947468996047974],\"z\":[0.26108309626579285],\"type\":\"scatter3d\"},{\"hovertemplate\":\"color=sent<br>0=%{x}<br>1=%{y}<br>2=%{z}<extra></extra>\",\"legendgroup\":\"sent\",\"marker\":{\"color\":\"#EF553B\",\"symbol\":\"circle\"},\"mode\":\"markers\",\"name\":\"sent\",\"scene\":\"scene\",\"showlegend\":true,\"x\":[-0.1620100885629654],\"y\":[0.4568890333175659],\"z\":[0.5168585777282715],\"type\":\"scatter3d\"},{\"hovertemplate\":\"color=davos<br>0=%{x}<br>1=%{y}<br>2=%{z}<extra></extra>\",\"legendgroup\":\"davos\",\"marker\":{\"color\":\"#00cc96\",\"symbol\":\"circle\"},\"mode\":\"markers\",\"name\":\"davos\",\"scene\":\"scene\",\"showlegend\":true,\"x\":[-0.07138297706842422],\"y\":[0.3539179265499115],\"z\":[-0.055935438722372055],\"type\":\"scatter3d\"},{\"hovertemplate\":\"color=city<br>0=%{x}<br>1=%{y}<br>2=%{z}<extra></extra>\",\"legendgroup\":\"city\",\"marker\":{\"color\":\"#ab63fa\",\"symbol\":\"circle\"},\"mode\":\"markers\",\"name\":\"city\",\"scene\":\"scene\",\"showlegend\":true,\"x\":[-0.06932075321674347],\"y\":[0.7481191754341125],\"z\":[-0.2442658394575119],\"type\":\"scatter3d\"},{\"hovertemplate\":\"color=big<br>0=%{x}<br>1=%{y}<br>2=%{z}<extra></extra>\",\"legendgroup\":\"big\",\"marker\":{\"color\":\"#FFA15A\",\"symbol\":\"circle\"},\"mode\":\"markers\",\"name\":\"big\",\"scene\":\"scene\",\"showlegend\":true,\"x\":[0.20131100714206696],\"y\":[0.12010404467582703],\"z\":[0.20071539282798767],\"type\":\"scatter3d\"},{\"hovertemplate\":\"color=light<br>0=%{x}<br>1=%{y}<br>2=%{z}<extra></extra>\",\"legendgroup\":\"light\",\"marker\":{\"color\":\"#19d3f3\",\"symbol\":\"circle\"},\"mode\":\"markers\",\"name\":\"light\",\"scene\":\"scene\",\"showlegend\":true,\"x\":[0.3278161287307739],\"y\":[0.47374334931373596],\"z\":[0.03522243723273277],\"type\":\"scatter3d\"},{\"hovertemplate\":\"color=young<br>0=%{x}<br>1=%{y}<br>2=%{z}<extra></extra>\",\"legendgroup\":\"young\",\"marker\":{\"color\":\"#FF6692\",\"symbol\":\"circle\"},\"mode\":\"markers\",\"name\":\"young\",\"scene\":\"scene\",\"showlegend\":true,\"x\":[-0.3610273599624634],\"y\":[0.33973428606987],\"z\":[0.18548715114593506],\"type\":\"scatter3d\"},{\"hovertemplate\":\"color=true<br>0=%{x}<br>1=%{y}<br>2=%{z}<extra></extra>\",\"legendgroup\":\"true\",\"marker\":{\"color\":\"#B6E880\",\"symbol\":\"circle\"},\"mode\":\"markers\",\"name\":\"true\",\"scene\":\"scene\",\"showlegend\":true,\"x\":[-0.5609955787658691],\"y\":[0.530522346496582],\"z\":[-0.008129664696753025],\"type\":\"scatter3d\"},{\"hovertemplate\":\"color=lost<br>0=%{x}<br>1=%{y}<br>2=%{z}<extra></extra>\",\"legendgroup\":\"lost\",\"marker\":{\"color\":\"#FF97FF\",\"symbol\":\"circle\"},\"mode\":\"markers\",\"name\":\"lost\",\"scene\":\"scene\",\"showlegend\":true,\"x\":[-0.1504935324192047],\"y\":[0.47761520743370056],\"z\":[0.3180041015148163],\"type\":\"scatter3d\"},{\"hovertemplate\":\"color=house<br>0=%{x}<br>1=%{y}<br>2=%{z}<extra></extra>\",\"legendgroup\":\"house\",\"marker\":{\"color\":\"#FECB52\",\"symbol\":\"circle\"},\"mode\":\"markers\",\"name\":\"house\",\"scene\":\"scene\",\"showlegend\":true,\"x\":[-0.22598186135292053],\"y\":[0.4746835231781006],\"z\":[-0.07045347988605499],\"type\":\"scatter3d\"},{\"hovertemplate\":\"color=felt<br>0=%{x}<br>1=%{y}<br>2=%{z}<extra></extra>\",\"legendgroup\":\"felt\",\"marker\":{\"color\":\"#636efa\",\"symbol\":\"circle\"},\"mode\":\"markers\",\"name\":\"felt\",\"scene\":\"scene\",\"showlegend\":true,\"x\":[0.1557358056306839],\"y\":[0.2339814454317093],\"z\":[0.4808347225189209],\"type\":\"scatter3d\"},{\"hovertemplate\":\"color=wind<br>0=%{x}<br>1=%{y}<br>2=%{z}<extra></extra>\",\"legendgroup\":\"wind\",\"marker\":{\"color\":\"#EF553B\",\"symbol\":\"circle\"},\"mode\":\"markers\",\"name\":\"wind\",\"scene\":\"scene\",\"showlegend\":true,\"x\":[0.514095664024353],\"y\":[0.4024876654148102],\"z\":[0.037660639733076096],\"type\":\"scatter3d\"},{\"hovertemplate\":\"color=north<br>0=%{x}<br>1=%{y}<br>2=%{z}<extra></extra>\",\"legendgroup\":\"north\",\"marker\":{\"color\":\"#00cc96\",\"symbol\":\"circle\"},\"mode\":\"markers\",\"name\":\"north\",\"scene\":\"scene\",\"showlegend\":true,\"x\":[-0.04844503104686737],\"y\":[0.7020110487937927],\"z\":[-0.12389572709798813],\"type\":\"scatter3d\"},{\"hovertemplate\":\"color=each<br>0=%{x}<br>1=%{y}<br>2=%{z}<extra></extra>\",\"legendgroup\":\"each\",\"marker\":{\"color\":\"#ab63fa\",\"symbol\":\"circle\"},\"mode\":\"markers\",\"name\":\"each\",\"scene\":\"scene\",\"showlegend\":true,\"x\":[0.21504448354244232],\"y\":[0.4115428626537323],\"z\":[0.022241603583097458],\"type\":\"scatter3d\"},{\"hovertemplate\":\"color=such<br>0=%{x}<br>1=%{y}<br>2=%{z}<extra></extra>\",\"legendgroup\":\"such\",\"marker\":{\"color\":\"#FFA15A\",\"symbol\":\"circle\"},\"mode\":\"markers\",\"name\":\"such\",\"scene\":\"scene\",\"showlegend\":true,\"x\":[-0.4522431790828705],\"y\":[0.46133172512054443],\"z\":[-0.04847441986203194],\"type\":\"scatter3d\"},{\"hovertemplate\":\"color=children<br>0=%{x}<br>1=%{y}<br>2=%{z}<extra></extra>\",\"legendgroup\":\"children\",\"marker\":{\"color\":\"#19d3f3\",\"symbol\":\"circle\"},\"mode\":\"markers\",\"name\":\"children\",\"scene\":\"scene\",\"showlegend\":true,\"x\":[-0.24398307502269745],\"y\":[0.6453580856323242],\"z\":[-0.194969043135643],\"type\":\"scatter3d\"},{\"hovertemplate\":\"color=leave<br>0=%{x}<br>1=%{y}<br>2=%{z}<extra></extra>\",\"legendgroup\":\"leave\",\"marker\":{\"color\":\"#FF6692\",\"symbol\":\"circle\"},\"mode\":\"markers\",\"name\":\"leave\",\"scene\":\"scene\",\"showlegend\":true,\"x\":[-0.28912606835365295],\"y\":[0.5853257179260254],\"z\":[0.3306010365486145],\"type\":\"scatter3d\"},{\"hovertemplate\":\"color=side<br>0=%{x}<br>1=%{y}<br>2=%{z}<extra></extra>\",\"legendgroup\":\"side\",\"marker\":{\"color\":\"#B6E880\",\"symbol\":\"circle\"},\"mode\":\"markers\",\"name\":\"side\",\"scene\":\"scene\",\"showlegend\":true,\"x\":[0.2997003495693207],\"y\":[0.48954975605010986],\"z\":[0.2193823605775833],\"type\":\"scatter3d\"},{\"hovertemplate\":\"color=yes<br>0=%{x}<br>1=%{y}<br>2=%{z}<extra></extra>\",\"legendgroup\":\"yes\",\"marker\":{\"color\":\"#FF97FF\",\"symbol\":\"circle\"},\"mode\":\"markers\",\"name\":\"yes\",\"scene\":\"scene\",\"showlegend\":true,\"x\":[-0.5472655296325684],\"y\":[0.3857324421405792],\"z\":[0.19982750713825226],\"type\":\"scatter3d\"},{\"hovertemplate\":\"color=wanted<br>0=%{x}<br>1=%{y}<br>2=%{z}<extra></extra>\",\"legendgroup\":\"wanted\",\"marker\":{\"color\":\"#FECB52\",\"symbol\":\"circle\"},\"mode\":\"markers\",\"name\":\"wanted\",\"scene\":\"scene\",\"showlegend\":true,\"x\":[-0.32019442319869995],\"y\":[0.4142415225505829],\"z\":[0.4789575934410095],\"type\":\"scatter3d\"},{\"hovertemplate\":\"color=others<br>0=%{x}<br>1=%{y}<br>2=%{z}<extra></extra>\",\"legendgroup\":\"others\",\"marker\":{\"color\":\"#636efa\",\"symbol\":\"circle\"},\"mode\":\"markers\",\"name\":\"others\",\"scene\":\"scene\",\"showlegend\":true,\"x\":[0.014176205731928349],\"y\":[0.5582455396652222],\"z\":[-0.09803927689790726],\"type\":\"scatter3d\"},{\"hovertemplate\":\"color=die<br>0=%{x}<br>1=%{y}<br>2=%{z}<extra></extra>\",\"legendgroup\":\"die\",\"marker\":{\"color\":\"#EF553B\",\"symbol\":\"circle\"},\"mode\":\"markers\",\"name\":\"die\",\"scene\":\"scene\",\"showlegend\":true,\"x\":[-0.28545016050338745],\"y\":[0.6653355360031128],\"z\":[0.25766462087631226],\"type\":\"scatter3d\"},{\"hovertemplate\":\"color=sea<br>0=%{x}<br>1=%{y}<br>2=%{z}<extra></extra>\",\"legendgroup\":\"sea\",\"marker\":{\"color\":\"#00cc96\",\"symbol\":\"circle\"},\"mode\":\"markers\",\"name\":\"sea\",\"scene\":\"scene\",\"showlegend\":true,\"x\":[0.11912764608860016],\"y\":[0.6384788155555725],\"z\":[-0.18155893683433533],\"type\":\"scatter3d\"},{\"hovertemplate\":\"color=brothers<br>0=%{x}<br>1=%{y}<br>2=%{z}<extra></extra>\",\"legendgroup\":\"brothers\",\"marker\":{\"color\":\"#ab63fa\",\"symbol\":\"circle\"},\"mode\":\"markers\",\"name\":\"brothers\",\"scene\":\"scene\",\"showlegend\":true,\"x\":[-0.18740125000476837],\"y\":[0.6264092922210693],\"z\":[-0.016607480123639107],\"type\":\"scatter3d\"},{\"hovertemplate\":\"color=sweet<br>0=%{x}<br>1=%{y}<br>2=%{z}<extra></extra>\",\"legendgroup\":\"sweet\",\"marker\":{\"color\":\"#FFA15A\",\"symbol\":\"circle\"},\"mode\":\"markers\",\"name\":\"sweet\",\"scene\":\"scene\",\"showlegend\":true,\"x\":[-0.329265832901001],\"y\":[0.24564489722251892],\"z\":[0.20574070513248444],\"type\":\"scatter3d\"},{\"hovertemplate\":\"color=brought<br>0=%{x}<br>1=%{y}<br>2=%{z}<extra></extra>\",\"legendgroup\":\"brought\",\"marker\":{\"color\":\"#19d3f3\",\"symbol\":\"circle\"},\"mode\":\"markers\",\"name\":\"brought\",\"scene\":\"scene\",\"showlegend\":true,\"x\":[-0.14998067915439606],\"y\":[0.2965545654296875],\"z\":[0.4714471101760864],\"type\":\"scatter3d\"},{\"hovertemplate\":\"color=far<br>0=%{x}<br>1=%{y}<br>2=%{z}<extra></extra>\",\"legendgroup\":\"far\",\"marker\":{\"color\":\"#FF6692\",\"symbol\":\"circle\"},\"mode\":\"markers\",\"name\":\"far\",\"scene\":\"scene\",\"showlegend\":true,\"x\":[0.002070988994091749],\"y\":[0.5192733407020569],\"z\":[0.06533787399530411],\"type\":\"scatter3d\"},{\"hovertemplate\":\"color=battle<br>0=%{x}<br>1=%{y}<br>2=%{z}<extra></extra>\",\"legendgroup\":\"battle\",\"marker\":{\"color\":\"#B6E880\",\"symbol\":\"circle\"},\"mode\":\"markers\",\"name\":\"battle\",\"scene\":\"scene\",\"showlegend\":true,\"x\":[-0.15956544876098633],\"y\":[0.7265933752059937],\"z\":[-0.053644370287656784],\"type\":\"scatter3d\"},{\"hovertemplate\":\"color=arms<br>0=%{x}<br>1=%{y}<br>2=%{z}<extra></extra>\",\"legendgroup\":\"arms\",\"marker\":{\"color\":\"#FF97FF\",\"symbol\":\"circle\"},\"mode\":\"markers\",\"name\":\"arms\",\"scene\":\"scene\",\"showlegend\":true,\"x\":[0.19280707836151123],\"y\":[0.3349466025829315],\"z\":[0.3320884704589844],\"type\":\"scatter3d\"},{\"hovertemplate\":\"color=seven<br>0=%{x}<br>1=%{y}<br>2=%{z}<extra></extra>\",\"legendgroup\":\"seven\",\"marker\":{\"color\":\"#FECB52\",\"symbol\":\"circle\"},\"mode\":\"markers\",\"name\":\"seven\",\"scene\":\"scene\",\"showlegend\":true,\"x\":[-0.2366761565208435],\"y\":[0.6552395820617676],\"z\":[-0.22122591733932495],\"type\":\"scatter3d\"},{\"hovertemplate\":\"color=sam<br>0=%{x}<br>1=%{y}<br>2=%{z}<extra></extra>\",\"legendgroup\":\"sam\",\"marker\":{\"color\":\"#636efa\",\"symbol\":\"circle\"},\"mode\":\"markers\",\"name\":\"sam\",\"scene\":\"scene\",\"showlegend\":true,\"x\":[0.039593011140823364],\"y\":[0.22489795088768005],\"z\":[0.2188623547554016],\"type\":\"scatter3d\"},{\"hovertemplate\":\"color=soon<br>0=%{x}<br>1=%{y}<br>2=%{z}<extra></extra>\",\"legendgroup\":\"soon\",\"marker\":{\"color\":\"#EF553B\",\"symbol\":\"circle\"},\"mode\":\"markers\",\"name\":\"soon\",\"scene\":\"scene\",\"showlegend\":true,\"x\":[-0.06798741966485977],\"y\":[0.5113509893417358],\"z\":[0.12953723967075348],\"type\":\"scatter3d\"},{\"hovertemplate\":\"color=best<br>0=%{x}<br>1=%{y}<br>2=%{z}<extra></extra>\",\"legendgroup\":\"best\",\"marker\":{\"color\":\"#00cc96\",\"symbol\":\"circle\"},\"mode\":\"markers\",\"name\":\"best\",\"scene\":\"scene\",\"showlegend\":true,\"x\":[-0.3570459485054016],\"y\":[0.6127367615699768],\"z\":[0.17985397577285767],\"type\":\"scatter3d\"},{\"hovertemplate\":\"color=very<br>0=%{x}<br>1=%{y}<br>2=%{z}<extra></extra>\",\"legendgroup\":\"very\",\"marker\":{\"color\":\"#ab63fa\",\"symbol\":\"circle\"},\"mode\":\"markers\",\"name\":\"very\",\"scene\":\"scene\",\"showlegend\":true,\"x\":[-0.27965936064720154],\"y\":[0.3457738161087036],\"z\":[0.05974021553993225],\"type\":\"scatter3d\"},{\"hovertemplate\":\"color=both<br>0=%{x}<br>1=%{y}<br>2=%{z}<extra></extra>\",\"legendgroup\":\"both\",\"marker\":{\"color\":\"#FFA15A\",\"symbol\":\"circle\"},\"mode\":\"markers\",\"name\":\"both\",\"scene\":\"scene\",\"showlegend\":true,\"x\":[0.03567970171570778],\"y\":[0.376803994178772],\"z\":[0.12088644504547119],\"type\":\"scatter3d\"},{\"hovertemplate\":\"color=something<br>0=%{x}<br>1=%{y}<br>2=%{z}<extra></extra>\",\"legendgroup\":\"something\",\"marker\":{\"color\":\"#19d3f3\",\"symbol\":\"circle\"},\"mode\":\"markers\",\"name\":\"something\",\"scene\":\"scene\",\"showlegend\":true,\"x\":[0.004960197955369949],\"y\":[0.36873069405555725],\"z\":[0.20759813487529755],\"type\":\"scatter3d\"},{\"hovertemplate\":\"color=fear<br>0=%{x}<br>1=%{y}<br>2=%{z}<extra></extra>\",\"legendgroup\":\"fear\",\"marker\":{\"color\":\"#FF6692\",\"symbol\":\"circle\"},\"mode\":\"markers\",\"name\":\"fear\",\"scene\":\"scene\",\"showlegend\":true,\"x\":[-0.2193080633878708],\"y\":[0.5184622406959534],\"z\":[0.16164809465408325],\"type\":\"scatter3d\"},{\"hovertemplate\":\"color=child<br>0=%{x}<br>1=%{y}<br>2=%{z}<extra></extra>\",\"legendgroup\":\"child\",\"marker\":{\"color\":\"#B6E880\",\"symbol\":\"circle\"},\"mode\":\"markers\",\"name\":\"child\",\"scene\":\"scene\",\"showlegend\":true,\"x\":[-0.32174941897392273],\"y\":[0.4927352964878082],\"z\":[0.13876841962337494],\"type\":\"scatter3d\"},{\"hovertemplate\":\"color=taken<br>0=%{x}<br>1=%{y}<br>2=%{z}<extra></extra>\",\"legendgroup\":\"taken\",\"marker\":{\"color\":\"#FF97FF\",\"symbol\":\"circle\"},\"mode\":\"markers\",\"name\":\"taken\",\"scene\":\"scene\",\"showlegend\":true,\"x\":[-0.21870668232440948],\"y\":[0.573900043964386],\"z\":[0.3449663817882538],\"type\":\"scatter3d\"},{\"hovertemplate\":\"color=word<br>0=%{x}<br>1=%{y}<br>2=%{z}<extra></extra>\",\"legendgroup\":\"word\",\"marker\":{\"color\":\"#FECB52\",\"symbol\":\"circle\"},\"mode\":\"markers\",\"name\":\"word\",\"scene\":\"scene\",\"showlegend\":true,\"x\":[-0.22726096212863922],\"y\":[0.6546471118927002],\"z\":[0.17897218465805054],\"type\":\"scatter3d\"},{\"hovertemplate\":\"color=ve<br>0=%{x}<br>1=%{y}<br>2=%{z}<extra></extra>\",\"legendgroup\":\"ve\",\"marker\":{\"color\":\"#636efa\",\"symbol\":\"circle\"},\"mode\":\"markers\",\"name\":\"ve\",\"scene\":\"scene\",\"showlegend\":true,\"x\":[-0.2861059010028839],\"y\":[0.4689196050167084],\"z\":[0.00459640845656395],\"type\":\"scatter3d\"},{\"hovertemplate\":\"color=along<br>0=%{x}<br>1=%{y}<br>2=%{z}<extra></extra>\",\"legendgroup\":\"along\",\"marker\":{\"color\":\"#EF553B\",\"symbol\":\"circle\"},\"mode\":\"markers\",\"name\":\"along\",\"scene\":\"scene\",\"showlegend\":true,\"x\":[0.3898013234138489],\"y\":[0.34473252296447754],\"z\":[-0.060261838138103485],\"type\":\"scatter3d\"},{\"hovertemplate\":\"color=bear<br>0=%{x}<br>1=%{y}<br>2=%{z}<extra></extra>\",\"legendgroup\":\"bear\",\"marker\":{\"color\":\"#00cc96\",\"symbol\":\"circle\"},\"mode\":\"markers\",\"name\":\"bear\",\"scene\":\"scene\",\"showlegend\":true,\"x\":[-0.06570354849100113],\"y\":[0.4135676920413971],\"z\":[0.11363372206687927],\"type\":\"scatter3d\"},{\"hovertemplate\":\"color=kill<br>0=%{x}<br>1=%{y}<br>2=%{z}<extra></extra>\",\"legendgroup\":\"kill\",\"marker\":{\"color\":\"#ab63fa\",\"symbol\":\"circle\"},\"mode\":\"markers\",\"name\":\"kill\",\"scene\":\"scene\",\"showlegend\":true,\"x\":[-0.39894580841064453],\"y\":[0.4925267696380615],\"z\":[0.41585665941238403],\"type\":\"scatter3d\"},{\"hovertemplate\":\"color=died<br>0=%{x}<br>1=%{y}<br>2=%{z}<extra></extra>\",\"legendgroup\":\"died\",\"marker\":{\"color\":\"#FFA15A\",\"symbol\":\"circle\"},\"mode\":\"markers\",\"name\":\"died\",\"scene\":\"scene\",\"showlegend\":true,\"x\":[-0.18418796360492706],\"y\":[0.46097344160079956],\"z\":[0.3143220841884613],\"type\":\"scatter3d\"},{\"hovertemplate\":\"color=won<br>0=%{x}<br>1=%{y}<br>2=%{z}<extra></extra>\",\"legendgroup\":\"won\",\"marker\":{\"color\":\"#19d3f3\",\"symbol\":\"circle\"},\"mode\":\"markers\",\"name\":\"won\",\"scene\":\"scene\",\"showlegend\":true,\"x\":[-0.4396018981933594],\"y\":[0.4621054232120514],\"z\":[0.2521470785140991],\"type\":\"scatter3d\"},{\"hovertemplate\":\"color=herself<br>0=%{x}<br>1=%{y}<br>2=%{z}<extra></extra>\",\"legendgroup\":\"herself\",\"marker\":{\"color\":\"#FF6692\",\"symbol\":\"circle\"},\"mode\":\"markers\",\"name\":\"herself\",\"scene\":\"scene\",\"showlegend\":true,\"x\":[0.01776088774204254],\"y\":[0.3457726538181305],\"z\":[0.2026064246892929],\"type\":\"scatter3d\"},{\"hovertemplate\":\"color=free<br>0=%{x}<br>1=%{y}<br>2=%{z}<extra></extra>\",\"legendgroup\":\"free\",\"marker\":{\"color\":\"#B6E880\",\"symbol\":\"circle\"},\"mode\":\"markers\",\"name\":\"free\",\"scene\":\"scene\",\"showlegend\":true,\"x\":[-0.1641625612974167],\"y\":[0.498590886592865],\"z\":[-0.00032461434602737427],\"type\":\"scatter3d\"},{\"hovertemplate\":\"color=hall<br>0=%{x}<br>1=%{y}<br>2=%{z}<extra></extra>\",\"legendgroup\":\"hall\",\"marker\":{\"color\":\"#FF97FF\",\"symbol\":\"circle\"},\"mode\":\"markers\",\"name\":\"hall\",\"scene\":\"scene\",\"showlegend\":true,\"x\":[0.23691493272781372],\"y\":[0.5381120443344116],\"z\":[0.003981297370046377],\"type\":\"scatter3d\"},{\"hovertemplate\":\"color=steel<br>0=%{x}<br>1=%{y}<br>2=%{z}<extra></extra>\",\"legendgroup\":\"steel\",\"marker\":{\"color\":\"#FECB52\",\"symbol\":\"circle\"},\"mode\":\"markers\",\"name\":\"steel\",\"scene\":\"scene\",\"showlegend\":true,\"x\":[0.4163326025009155],\"y\":[0.31144145131111145],\"z\":[0.03404159098863602],\"type\":\"scatter3d\"},{\"hovertemplate\":\"color=help<br>0=%{x}<br>1=%{y}<br>2=%{z}<extra></extra>\",\"legendgroup\":\"help\",\"marker\":{\"color\":\"#636efa\",\"symbol\":\"circle\"},\"mode\":\"markers\",\"name\":\"help\",\"scene\":\"scene\",\"showlegend\":true,\"x\":[-0.32479405403137207],\"y\":[0.4796893894672394],\"z\":[0.3926655054092407],\"type\":\"scatter3d\"},{\"hovertemplate\":\"color=past<br>0=%{x}<br>1=%{y}<br>2=%{z}<extra></extra>\",\"legendgroup\":\"past\",\"marker\":{\"color\":\"#EF553B\",\"symbol\":\"circle\"},\"mode\":\"markers\",\"name\":\"past\",\"scene\":\"scene\",\"showlegend\":true,\"x\":[0.2506504952907562],\"y\":[0.334498792886734],\"z\":[0.11473777145147324],\"type\":\"scatter3d\"},{\"hovertemplate\":\"color=mean<br>0=%{x}<br>1=%{y}<br>2=%{z}<extra></extra>\",\"legendgroup\":\"mean\",\"marker\":{\"color\":\"#00cc96\",\"symbol\":\"circle\"},\"mode\":\"markers\",\"name\":\"mean\",\"scene\":\"scene\",\"showlegend\":true,\"x\":[-0.48461610078811646],\"y\":[0.5203761458396912],\"z\":[0.22079288959503174],\"type\":\"scatter3d\"},{\"hovertemplate\":\"color=new<br>0=%{x}<br>1=%{y}<br>2=%{z}<extra></extra>\",\"legendgroup\":\"new\",\"marker\":{\"color\":\"#ab63fa\",\"symbol\":\"circle\"},\"mode\":\"markers\",\"name\":\"new\",\"scene\":\"scene\",\"showlegend\":true,\"x\":[-0.26732131838798523],\"y\":[0.5315925478935242],\"z\":[-0.11811159551143646],\"type\":\"scatter3d\"},{\"hovertemplate\":\"color=wolf<br>0=%{x}<br>1=%{y}<br>2=%{z}<extra></extra>\",\"legendgroup\":\"wolf\",\"marker\":{\"color\":\"#FFA15A\",\"symbol\":\"circle\"},\"mode\":\"markers\",\"name\":\"wolf\",\"scene\":\"scene\",\"showlegend\":true,\"x\":[0.10143594443798065],\"y\":[0.4664640724658966],\"z\":[0.1549733430147171],\"type\":\"scatter3d\"},{\"hovertemplate\":\"color=rest<br>0=%{x}<br>1=%{y}<br>2=%{z}<extra></extra>\",\"legendgroup\":\"rest\",\"marker\":{\"color\":\"#19d3f3\",\"symbol\":\"circle\"},\"mode\":\"markers\",\"name\":\"rest\",\"scene\":\"scene\",\"showlegend\":true,\"x\":[-0.034372493624687195],\"y\":[0.6520002484321594],\"z\":[-0.0012361861299723387],\"type\":\"scatter3d\"},{\"hovertemplate\":\"color=dragon<br>0=%{x}<br>1=%{y}<br>2=%{z}<extra></extra>\",\"legendgroup\":\"dragon\",\"marker\":{\"color\":\"#FF6692\",\"symbol\":\"circle\"},\"mode\":\"markers\",\"name\":\"dragon\",\"scene\":\"scene\",\"showlegend\":true,\"x\":[0.07842472195625305],\"y\":[0.51113361120224],\"z\":[-0.053412940353155136],\"type\":\"scatter3d\"},{\"hovertemplate\":\"color=sound<br>0=%{x}<br>1=%{y}<br>2=%{z}<extra></extra>\",\"legendgroup\":\"sound\",\"marker\":{\"color\":\"#B6E880\",\"symbol\":\"circle\"},\"mode\":\"markers\",\"name\":\"sound\",\"scene\":\"scene\",\"showlegend\":true,\"x\":[0.3326837122440338],\"y\":[0.2992715835571289],\"z\":[0.16001006960868835],\"type\":\"scatter3d\"},{\"hovertemplate\":\"color=strong<br>0=%{x}<br>1=%{y}<br>2=%{z}<extra></extra>\",\"legendgroup\":\"strong\",\"marker\":{\"color\":\"#FF97FF\",\"symbol\":\"circle\"},\"mode\":\"markers\",\"name\":\"strong\",\"scene\":\"scene\",\"showlegend\":true,\"x\":[-0.17804212868213654],\"y\":[0.27792271971702576],\"z\":[0.1038815975189209],\"type\":\"scatter3d\"},{\"hovertemplate\":\"color=moment<br>0=%{x}<br>1=%{y}<br>2=%{z}<extra></extra>\",\"legendgroup\":\"moment\",\"marker\":{\"color\":\"#FECB52\",\"symbol\":\"circle\"},\"mode\":\"markers\",\"name\":\"moment\",\"scene\":\"scene\",\"showlegend\":true,\"x\":[0.07378127425909042],\"y\":[0.4070182740688324],\"z\":[0.3620764911174774],\"type\":\"scatter3d\"},{\"hovertemplate\":\"color=horses<br>0=%{x}<br>1=%{y}<br>2=%{z}<extra></extra>\",\"legendgroup\":\"horses\",\"marker\":{\"color\":\"#636efa\",\"symbol\":\"circle\"},\"mode\":\"markers\",\"name\":\"horses\",\"scene\":\"scene\",\"showlegend\":true,\"x\":[0.35137495398521423],\"y\":[0.47042274475097656],\"z\":[-0.11186489462852478],\"type\":\"scatter3d\"},{\"hovertemplate\":\"color=lords<br>0=%{x}<br>1=%{y}<br>2=%{z}<extra></extra>\",\"legendgroup\":\"lords\",\"marker\":{\"color\":\"#EF553B\",\"symbol\":\"circle\"},\"mode\":\"markers\",\"name\":\"lords\",\"scene\":\"scene\",\"showlegend\":true,\"x\":[-0.3441266417503357],\"y\":[0.6063600778579712],\"z\":[-0.20527726411819458],\"type\":\"scatter3d\"},{\"hovertemplate\":\"color=tower<br>0=%{x}<br>1=%{y}<br>2=%{z}<extra></extra>\",\"legendgroup\":\"tower\",\"marker\":{\"color\":\"#00cc96\",\"symbol\":\"circle\"},\"mode\":\"markers\",\"name\":\"tower\",\"scene\":\"scene\",\"showlegend\":true,\"x\":[0.2628905177116394],\"y\":[0.48792126774787903],\"z\":[0.06629971414804459],\"type\":\"scatter3d\"},{\"hovertemplate\":\"color=arm<br>0=%{x}<br>1=%{y}<br>2=%{z}<extra></extra>\",\"legendgroup\":\"arm\",\"marker\":{\"color\":\"#ab63fa\",\"symbol\":\"circle\"},\"mode\":\"markers\",\"name\":\"arm\",\"scene\":\"scene\",\"showlegend\":true,\"x\":[0.3525771498680115],\"y\":[0.30439507961273193],\"z\":[0.5116249918937683],\"type\":\"scatter3d\"},{\"hovertemplate\":\"color=tywin<br>0=%{x}<br>1=%{y}<br>2=%{z}<extra></extra>\",\"legendgroup\":\"tywin\",\"marker\":{\"color\":\"#FFA15A\",\"symbol\":\"circle\"},\"mode\":\"markers\",\"name\":\"tywin\",\"scene\":\"scene\",\"showlegend\":true,\"x\":[-0.2141811102628708],\"y\":[0.3877875506877899],\"z\":[0.06410231441259384],\"type\":\"scatter3d\"},{\"hovertemplate\":\"color=pale<br>0=%{x}<br>1=%{y}<br>2=%{z}<extra></extra>\",\"legendgroup\":\"pale\",\"marker\":{\"color\":\"#19d3f3\",\"symbol\":\"circle\"},\"mode\":\"markers\",\"name\":\"pale\",\"scene\":\"scene\",\"showlegend\":true,\"x\":[0.5022237300872803],\"y\":[0.09723774343729019],\"z\":[0.13903845846652985],\"type\":\"scatter3d\"},{\"hovertemplate\":\"color=heart<br>0=%{x}<br>1=%{y}<br>2=%{z}<extra></extra>\",\"legendgroup\":\"heart\",\"marker\":{\"color\":\"#FF6692\",\"symbol\":\"circle\"},\"mode\":\"markers\",\"name\":\"heart\",\"scene\":\"scene\",\"showlegend\":true,\"x\":[0.12998302280902863],\"y\":[0.5262151956558228],\"z\":[0.13951724767684937],\"type\":\"scatter3d\"},{\"hovertemplate\":\"color=hot<br>0=%{x}<br>1=%{y}<br>2=%{z}<extra></extra>\",\"legendgroup\":\"hot\",\"marker\":{\"color\":\"#B6E880\",\"symbol\":\"circle\"},\"mode\":\"markers\",\"name\":\"hot\",\"scene\":\"scene\",\"showlegend\":true,\"x\":[0.3170055150985718],\"y\":[0.22510084509849548],\"z\":[0.15715308487415314],\"type\":\"scatter3d\"},{\"hovertemplate\":\"color=thing<br>0=%{x}<br>1=%{y}<br>2=%{z}<extra></extra>\",\"legendgroup\":\"thing\",\"marker\":{\"color\":\"#FF97FF\",\"symbol\":\"circle\"},\"mode\":\"markers\",\"name\":\"thing\",\"scene\":\"scene\",\"showlegend\":true,\"x\":[-0.07209953665733337],\"y\":[0.520186722278595],\"z\":[0.09660391509532928],\"type\":\"scatter3d\"},{\"hovertemplate\":\"color=daughter<br>0=%{x}<br>1=%{y}<br>2=%{z}<extra></extra>\",\"legendgroup\":\"daughter\",\"marker\":{\"color\":\"#FECB52\",\"symbol\":\"circle\"},\"mode\":\"markers\",\"name\":\"daughter\",\"scene\":\"scene\",\"showlegend\":true,\"x\":[-0.476163387298584],\"y\":[0.37604567408561707],\"z\":[0.19265402853488922],\"type\":\"scatter3d\"},{\"hovertemplate\":\"color=life<br>0=%{x}<br>1=%{y}<br>2=%{z}<extra></extra>\",\"legendgroup\":\"life\",\"marker\":{\"color\":\"#636efa\",\"symbol\":\"circle\"},\"mode\":\"markers\",\"name\":\"life\",\"scene\":\"scene\",\"showlegend\":true,\"x\":[-0.23910921812057495],\"y\":[0.7477155923843384],\"z\":[0.04682121425867081],\"type\":\"scatter3d\"},{\"hovertemplate\":\"color=close<br>0=%{x}<br>1=%{y}<br>2=%{z}<extra></extra>\",\"legendgroup\":\"close\",\"marker\":{\"color\":\"#EF553B\",\"symbol\":\"circle\"},\"mode\":\"markers\",\"name\":\"close\",\"scene\":\"scene\",\"showlegend\":true,\"x\":[0.15544117987155914],\"y\":[0.3234363794326782],\"z\":[0.22613562643527985],\"type\":\"scatter3d\"},{\"hovertemplate\":\"color=killed<br>0=%{x}<br>1=%{y}<br>2=%{z}<extra></extra>\",\"legendgroup\":\"killed\",\"marker\":{\"color\":\"#00cc96\",\"symbol\":\"circle\"},\"mode\":\"markers\",\"name\":\"killed\",\"scene\":\"scene\",\"showlegend\":true,\"x\":[-0.3972395360469818],\"y\":[0.4075038433074951],\"z\":[0.5016522407531738],\"type\":\"scatter3d\"},{\"hovertemplate\":\"color=sat<br>0=%{x}<br>1=%{y}<br>2=%{z}<extra></extra>\",\"legendgroup\":\"sat\",\"marker\":{\"color\":\"#ab63fa\",\"symbol\":\"circle\"},\"mode\":\"markers\",\"name\":\"sat\",\"scene\":\"scene\",\"showlegend\":true,\"x\":[0.2572779059410095],\"y\":[0.1650688350200653],\"z\":[0.49551916122436523],\"type\":\"scatter3d\"},{\"hovertemplate\":\"color=began<br>0=%{x}<br>1=%{y}<br>2=%{z}<extra></extra>\",\"legendgroup\":\"began\",\"marker\":{\"color\":\"#FFA15A\",\"symbol\":\"circle\"},\"mode\":\"markers\",\"name\":\"began\",\"scene\":\"scene\",\"showlegend\":true,\"x\":[0.2297031730413437],\"y\":[0.17452968657016754],\"z\":[0.46191757917404175],\"type\":\"scatter3d\"},{\"hovertemplate\":\"color=tried<br>0=%{x}<br>1=%{y}<br>2=%{z}<extra></extra>\",\"legendgroup\":\"tried\",\"marker\":{\"color\":\"#19d3f3\",\"symbol\":\"circle\"},\"mode\":\"markers\",\"name\":\"tried\",\"scene\":\"scene\",\"showlegend\":true,\"x\":[-0.01955978199839592],\"y\":[0.284029483795166],\"z\":[0.5503833889961243],\"type\":\"scatter3d\"},{\"hovertemplate\":\"color=cut<br>0=%{x}<br>1=%{y}<br>2=%{z}<extra></extra>\",\"legendgroup\":\"cut\",\"marker\":{\"color\":\"#FF6692\",\"symbol\":\"circle\"},\"mode\":\"markers\",\"name\":\"cut\",\"scene\":\"scene\",\"showlegend\":true,\"x\":[0.06620600074529648],\"y\":[0.37941402196884155],\"z\":[0.46680039167404175],\"type\":\"scatter3d\"},{\"hovertemplate\":\"color=bloody<br>0=%{x}<br>1=%{y}<br>2=%{z}<extra></extra>\",\"legendgroup\":\"bloody\",\"marker\":{\"color\":\"#B6E880\",\"symbol\":\"circle\"},\"mode\":\"markers\",\"name\":\"bloody\",\"scene\":\"scene\",\"showlegend\":true,\"x\":[0.019212808459997177],\"y\":[0.37161222100257874],\"z\":[0.15902812778949738],\"type\":\"scatter3d\"},{\"hovertemplate\":\"color=inside<br>0=%{x}<br>1=%{y}<br>2=%{z}<extra></extra>\",\"legendgroup\":\"inside\",\"marker\":{\"color\":\"#FF97FF\",\"symbol\":\"circle\"},\"mode\":\"markers\",\"name\":\"inside\",\"scene\":\"scene\",\"showlegend\":true,\"x\":[0.4296022951602936],\"y\":[0.281063437461853],\"z\":[0.2079203873872757],\"type\":\"scatter3d\"},{\"hovertemplate\":\"color=thousand<br>0=%{x}<br>1=%{y}<br>2=%{z}<extra></extra>\",\"legendgroup\":\"thousand\",\"marker\":{\"color\":\"#FECB52\",\"symbol\":\"circle\"},\"mode\":\"markers\",\"name\":\"thousand\",\"scene\":\"scene\",\"showlegend\":true,\"x\":[-0.04681180417537689],\"y\":[0.5867635011672974],\"z\":[-0.23332606256008148],\"type\":\"scatter3d\"},{\"hovertemplate\":\"color=days<br>0=%{x}<br>1=%{y}<br>2=%{z}<extra></extra>\",\"legendgroup\":\"days\",\"marker\":{\"color\":\"#636efa\",\"symbol\":\"circle\"},\"mode\":\"markers\",\"name\":\"days\",\"scene\":\"scene\",\"showlegend\":true,\"x\":[-0.027292944490909576],\"y\":[0.6803395748138428],\"z\":[-0.06821797043085098],\"type\":\"scatter3d\"},{\"hovertemplate\":\"color=dragons<br>0=%{x}<br>1=%{y}<br>2=%{z}<extra></extra>\",\"legendgroup\":\"dragons\",\"marker\":{\"color\":\"#EF553B\",\"symbol\":\"circle\"},\"mode\":\"markers\",\"name\":\"dragons\",\"scene\":\"scene\",\"showlegend\":true,\"x\":[-0.10133843868970871],\"y\":[0.6473833322525024],\"z\":[-0.22957921028137207],\"type\":\"scatter3d\"},{\"hovertemplate\":\"color=mormont<br>0=%{x}<br>1=%{y}<br>2=%{z}<extra></extra>\",\"legendgroup\":\"mormont\",\"marker\":{\"color\":\"#00cc96\",\"symbol\":\"circle\"},\"mode\":\"markers\",\"name\":\"mormont\",\"scene\":\"scene\",\"showlegend\":true,\"x\":[-0.05262836813926697],\"y\":[0.22263570129871368],\"z\":[0.16943490505218506],\"type\":\"scatter3d\"},{\"hovertemplate\":\"color=wife<br>0=%{x}<br>1=%{y}<br>2=%{z}<extra></extra>\",\"legendgroup\":\"wife\",\"marker\":{\"color\":\"#ab63fa\",\"symbol\":\"circle\"},\"mode\":\"markers\",\"name\":\"wife\",\"scene\":\"scene\",\"showlegend\":true,\"x\":[-0.47002679109573364],\"y\":[0.4735516309738159],\"z\":[0.11163036525249481],\"type\":\"scatter3d\"},{\"hovertemplate\":\"color=part<br>0=%{x}<br>1=%{y}<br>2=%{z}<extra></extra>\",\"legendgroup\":\"part\",\"marker\":{\"color\":\"#FFA15A\",\"symbol\":\"circle\"},\"mode\":\"markers\",\"name\":\"part\",\"scene\":\"scene\",\"showlegend\":true,\"x\":[-0.32886192202568054],\"y\":[0.6591066718101501],\"z\":[-0.060621120035648346],\"type\":\"scatter3d\"},{\"hovertemplate\":\"color=hodor<br>0=%{x}<br>1=%{y}<br>2=%{z}<extra></extra>\",\"legendgroup\":\"hodor\",\"marker\":{\"color\":\"#19d3f3\",\"symbol\":\"circle\"},\"mode\":\"markers\",\"name\":\"hodor\",\"scene\":\"scene\",\"showlegend\":true,\"x\":[0.3573150932788849],\"y\":[0.1939498484134674],\"z\":[0.335972398519516],\"type\":\"scatter3d\"},{\"hovertemplate\":\"color=air<br>0=%{x}<br>1=%{y}<br>2=%{z}<extra></extra>\",\"legendgroup\":\"air\",\"marker\":{\"color\":\"#FF6692\",\"symbol\":\"circle\"},\"mode\":\"markers\",\"name\":\"air\",\"scene\":\"scene\",\"showlegend\":true,\"x\":[0.6301001906394958],\"y\":[0.2943597435951233],\"z\":[0.07454043626785278],\"type\":\"scatter3d\"},{\"hovertemplate\":\"color=open<br>0=%{x}<br>1=%{y}<br>2=%{z}<extra></extra>\",\"legendgroup\":\"open\",\"marker\":{\"color\":\"#B6E880\",\"symbol\":\"circle\"},\"mode\":\"markers\",\"name\":\"open\",\"scene\":\"scene\",\"showlegend\":true,\"x\":[0.24976369738578796],\"y\":[0.29257890582084656],\"z\":[0.2683544456958771],\"type\":\"scatter3d\"},{\"hovertemplate\":\"color=bring<br>0=%{x}<br>1=%{y}<br>2=%{z}<extra></extra>\",\"legendgroup\":\"bring\",\"marker\":{\"color\":\"#FF97FF\",\"symbol\":\"circle\"},\"mode\":\"markers\",\"name\":\"bring\",\"scene\":\"scene\",\"showlegend\":true,\"x\":[-0.325605183839798],\"y\":[0.494956374168396],\"z\":[0.4177442193031311],\"type\":\"scatter3d\"},{\"hovertemplate\":\"color=bastard<br>0=%{x}<br>1=%{y}<br>2=%{z}<extra></extra>\",\"legendgroup\":\"bastard\",\"marker\":{\"color\":\"#FECB52\",\"symbol\":\"circle\"},\"mode\":\"markers\",\"name\":\"bastard\",\"scene\":\"scene\",\"showlegend\":true,\"x\":[-0.4854884743690491],\"y\":[0.4468573033809662],\"z\":[0.18617863953113556],\"type\":\"scatter3d\"},{\"hovertemplate\":\"color=smile<br>0=%{x}<br>1=%{y}<br>2=%{z}<extra></extra>\",\"legendgroup\":\"smile\",\"marker\":{\"color\":\"#636efa\",\"symbol\":\"circle\"},\"mode\":\"markers\",\"name\":\"smile\",\"scene\":\"scene\",\"showlegend\":true,\"x\":[-0.060079045593738556],\"y\":[0.13301223516464233],\"z\":[0.3904803395271301],\"type\":\"scatter3d\"},{\"hovertemplate\":\"color=silver<br>0=%{x}<br>1=%{y}<br>2=%{z}<extra></extra>\",\"legendgroup\":\"silver\",\"marker\":{\"color\":\"#EF553B\",\"symbol\":\"circle\"},\"mode\":\"markers\",\"name\":\"silver\",\"scene\":\"scene\",\"showlegend\":true,\"x\":[0.24546106159687042],\"y\":[0.2793406844139099],\"z\":[0.003149541560560465],\"type\":\"scatter3d\"},{\"hovertemplate\":\"color=sons<br>0=%{x}<br>1=%{y}<br>2=%{z}<extra></extra>\",\"legendgroup\":\"sons\",\"marker\":{\"color\":\"#00cc96\",\"symbol\":\"circle\"},\"mode\":\"markers\",\"name\":\"sons\",\"scene\":\"scene\",\"showlegend\":true,\"x\":[-0.3888934552669525],\"y\":[0.6084660291671753],\"z\":[-0.0560133196413517],\"type\":\"scatter3d\"},{\"hovertemplate\":\"color=going<br>0=%{x}<br>1=%{y}<br>2=%{z}<extra></extra>\",\"legendgroup\":\"going\",\"marker\":{\"color\":\"#ab63fa\",\"symbol\":\"circle\"},\"mode\":\"markers\",\"name\":\"going\",\"scene\":\"scene\",\"showlegend\":true,\"x\":[-0.07085306197404861],\"y\":[0.4915027618408203],\"z\":[0.24539121985435486],\"type\":\"scatter3d\"},{\"hovertemplate\":\"color=love<br>0=%{x}<br>1=%{y}<br>2=%{z}<extra></extra>\",\"legendgroup\":\"love\",\"marker\":{\"color\":\"#FFA15A\",\"symbol\":\"circle\"},\"mode\":\"markers\",\"name\":\"love\",\"scene\":\"scene\",\"showlegend\":true,\"x\":[-0.591493546962738],\"y\":[0.5292302966117859],\"z\":[0.2051575630903244],\"type\":\"scatter3d\"},{\"hovertemplate\":\"color=fell<br>0=%{x}<br>1=%{y}<br>2=%{z}<extra></extra>\",\"legendgroup\":\"fell\",\"marker\":{\"color\":\"#19d3f3\",\"symbol\":\"circle\"},\"mode\":\"markers\",\"name\":\"fell\",\"scene\":\"scene\",\"showlegend\":true,\"x\":[0.3762674033641815],\"y\":[0.19194483757019043],\"z\":[0.5678095817565918],\"type\":\"scatter3d\"},{\"hovertemplate\":\"color=nor<br>0=%{x}<br>1=%{y}<br>2=%{z}<extra></extra>\",\"legendgroup\":\"nor\",\"marker\":{\"color\":\"#FF6692\",\"symbol\":\"circle\"},\"mode\":\"markers\",\"name\":\"nor\",\"scene\":\"scene\",\"showlegend\":true,\"x\":[-0.32332685589790344],\"y\":[0.38874638080596924],\"z\":[0.03865339607000351],\"type\":\"scatter3d\"},{\"hovertemplate\":\"color=brown<br>0=%{x}<br>1=%{y}<br>2=%{z}<extra></extra>\",\"legendgroup\":\"brown\",\"marker\":{\"color\":\"#B6E880\",\"symbol\":\"circle\"},\"mode\":\"markers\",\"name\":\"brown\",\"scene\":\"scene\",\"showlegend\":true,\"x\":[0.34822168946266174],\"y\":[0.004944647662341595],\"z\":[0.06148984655737877],\"type\":\"scatter3d\"},{\"hovertemplate\":\"color=four<br>0=%{x}<br>1=%{y}<br>2=%{z}<extra></extra>\",\"legendgroup\":\"four\",\"marker\":{\"color\":\"#FF97FF\",\"symbol\":\"circle\"},\"mode\":\"markers\",\"name\":\"four\",\"scene\":\"scene\",\"showlegend\":true,\"x\":[0.07656978070735931],\"y\":[0.43727442622184753],\"z\":[-0.08692019432783127],\"type\":\"scatter3d\"},{\"hovertemplate\":\"color=river<br>0=%{x}<br>1=%{y}<br>2=%{z}<extra></extra>\",\"legendgroup\":\"river\",\"marker\":{\"color\":\"#FECB52\",\"symbol\":\"circle\"},\"mode\":\"markers\",\"name\":\"river\",\"scene\":\"scene\",\"showlegend\":true,\"x\":[0.4206103980541229],\"y\":[0.6120855212211609],\"z\":[-0.207672581076622],\"type\":\"scatter3d\"},{\"hovertemplate\":\"color=swords<br>0=%{x}<br>1=%{y}<br>2=%{z}<extra></extra>\",\"legendgroup\":\"swords\",\"marker\":{\"color\":\"#636efa\",\"symbol\":\"circle\"},\"mode\":\"markers\",\"name\":\"swords\",\"scene\":\"scene\",\"showlegend\":true,\"x\":[0.016790321096777916],\"y\":[0.5926775336265564],\"z\":[-0.12148276716470718],\"type\":\"scatter3d\"},{\"hovertemplate\":\"color=death<br>0=%{x}<br>1=%{y}<br>2=%{z}<extra></extra>\",\"legendgroup\":\"death\",\"marker\":{\"color\":\"#EF553B\",\"symbol\":\"circle\"},\"mode\":\"markers\",\"name\":\"death\",\"scene\":\"scene\",\"showlegend\":true,\"x\":[-0.20654386281967163],\"y\":[0.6578317284584045],\"z\":[0.016395509243011475],\"type\":\"scatter3d\"},{\"hovertemplate\":\"color=renly<br>0=%{x}<br>1=%{y}<br>2=%{z}<extra></extra>\",\"legendgroup\":\"renly\",\"marker\":{\"color\":\"#00cc96\",\"symbol\":\"circle\"},\"mode\":\"markers\",\"name\":\"renly\",\"scene\":\"scene\",\"showlegend\":true,\"x\":[-0.35179001092910767],\"y\":[0.4518789052963257],\"z\":[0.06941727548837662],\"type\":\"scatter3d\"},{\"hovertemplate\":\"color=without<br>0=%{x}<br>1=%{y}<br>2=%{z}<extra></extra>\",\"legendgroup\":\"without\",\"marker\":{\"color\":\"#ab63fa\",\"symbol\":\"circle\"},\"mode\":\"markers\",\"name\":\"without\",\"scene\":\"scene\",\"showlegend\":true,\"x\":[-0.4142542779445648],\"y\":[0.4423966705799103],\"z\":[0.12102866172790527],\"type\":\"scatter3d\"},{\"hovertemplate\":\"color=laughed<br>0=%{x}<br>1=%{y}<br>2=%{z}<extra></extra>\",\"legendgroup\":\"laughed\",\"marker\":{\"color\":\"#FFA15A\",\"symbol\":\"circle\"},\"mode\":\"markers\",\"name\":\"laughed\",\"scene\":\"scene\",\"showlegend\":true,\"x\":[-0.21756640076637268],\"y\":[0.09879739582538605],\"z\":[0.5708314180374146],\"type\":\"scatter3d\"},{\"hovertemplate\":\"color=above<br>0=%{x}<br>1=%{y}<br>2=%{z}<extra></extra>\",\"legendgroup\":\"above\",\"marker\":{\"color\":\"#19d3f3\",\"symbol\":\"circle\"},\"mode\":\"markers\",\"name\":\"above\",\"scene\":\"scene\",\"showlegend\":true,\"x\":[0.43443045020103455],\"y\":[0.26051217317581177],\"z\":[0.07926854491233826],\"type\":\"scatter3d\"},{\"hovertemplate\":\"color=bed<br>0=%{x}<br>1=%{y}<br>2=%{z}<extra></extra>\",\"legendgroup\":\"bed\",\"marker\":{\"color\":\"#FF6692\",\"symbol\":\"circle\"},\"mode\":\"markers\",\"name\":\"bed\",\"scene\":\"scene\",\"showlegend\":true,\"x\":[0.12944430112838745],\"y\":[0.5340785384178162],\"z\":[0.30420517921447754],\"type\":\"scatter3d\"},{\"hovertemplate\":\"color=please<br>0=%{x}<br>1=%{y}<br>2=%{z}<extra></extra>\",\"legendgroup\":\"please\",\"marker\":{\"color\":\"#B6E880\",\"symbol\":\"circle\"},\"mode\":\"markers\",\"name\":\"please\",\"scene\":\"scene\",\"showlegend\":true,\"x\":[-0.4910340905189514],\"y\":[0.2927066385746002],\"z\":[0.4183107912540436],\"type\":\"scatter3d\"},{\"hovertemplate\":\"color=knights<br>0=%{x}<br>1=%{y}<br>2=%{z}<extra></extra>\",\"legendgroup\":\"knights\",\"marker\":{\"color\":\"#FF97FF\",\"symbol\":\"circle\"},\"mode\":\"markers\",\"name\":\"knights\",\"scene\":\"scene\",\"showlegend\":true,\"x\":[-0.15240974724292755],\"y\":[0.5622936487197876],\"z\":[-0.18768319487571716],\"type\":\"scatter3d\"},{\"hovertemplate\":\"color=rode<br>0=%{x}<br>1=%{y}<br>2=%{z}<extra></extra>\",\"legendgroup\":\"rode\",\"marker\":{\"color\":\"#FECB52\",\"symbol\":\"circle\"},\"mode\":\"markers\",\"name\":\"rode\",\"scene\":\"scene\",\"showlegend\":true,\"x\":[0.18172189593315125],\"y\":[0.35137939453125],\"z\":[0.4257076382637024],\"type\":\"scatter3d\"},{\"hovertemplate\":\"color=sun<br>0=%{x}<br>1=%{y}<br>2=%{z}<extra></extra>\",\"legendgroup\":\"sun\",\"marker\":{\"color\":\"#636efa\",\"symbol\":\"circle\"},\"mode\":\"markers\",\"name\":\"sun\",\"scene\":\"scene\",\"showlegend\":true,\"x\":[0.39490827918052673],\"y\":[0.5497573018074036],\"z\":[-0.06560849398374557],\"type\":\"scatter3d\"},{\"hovertemplate\":\"color=thick<br>0=%{x}<br>1=%{y}<br>2=%{z}<extra></extra>\",\"legendgroup\":\"thick\",\"marker\":{\"color\":\"#EF553B\",\"symbol\":\"circle\"},\"mode\":\"markers\",\"name\":\"thick\",\"scene\":\"scene\",\"showlegend\":true,\"x\":[0.5627867579460144],\"y\":[0.05990274250507355],\"z\":[0.0959448516368866],\"type\":\"scatter3d\"},{\"hovertemplate\":\"color=landing<br>0=%{x}<br>1=%{y}<br>2=%{z}<extra></extra>\",\"legendgroup\":\"landing\",\"marker\":{\"color\":\"#00cc96\",\"symbol\":\"circle\"},\"mode\":\"markers\",\"name\":\"landing\",\"scene\":\"scene\",\"showlegend\":true,\"x\":[-0.08190535753965378],\"y\":[0.5973638892173767],\"z\":[0.07346154749393463],\"type\":\"scatter3d\"},{\"hovertemplate\":\"color=trees<br>0=%{x}<br>1=%{y}<br>2=%{z}<extra></extra>\",\"legendgroup\":\"trees\",\"marker\":{\"color\":\"#ab63fa\",\"symbol\":\"circle\"},\"mode\":\"markers\",\"name\":\"trees\",\"scene\":\"scene\",\"showlegend\":true,\"x\":[0.6114940643310547],\"y\":[0.4810290038585663],\"z\":[-0.20341409742832184],\"type\":\"scatter3d\"},{\"hovertemplate\":\"color=uncle<br>0=%{x}<br>1=%{y}<br>2=%{z}<extra></extra>\",\"legendgroup\":\"uncle\",\"marker\":{\"color\":\"#FFA15A\",\"symbol\":\"circle\"},\"mode\":\"markers\",\"name\":\"uncle\",\"scene\":\"scene\",\"showlegend\":true,\"x\":[-0.46007677912712097],\"y\":[0.5410728454589844],\"z\":[0.22042293846607208],\"type\":\"scatter3d\"},{\"hovertemplate\":\"color=beyond<br>0=%{x}<br>1=%{y}<br>2=%{z}<extra></extra>\",\"legendgroup\":\"beyond\",\"marker\":{\"color\":\"#19d3f3\",\"symbol\":\"circle\"},\"mode\":\"markers\",\"name\":\"beyond\",\"scene\":\"scene\",\"showlegend\":true,\"x\":[-0.01458793692290783],\"y\":[0.4969857335090637],\"z\":[-0.12480074167251587],\"type\":\"scatter3d\"},{\"hovertemplate\":\"color=feel<br>0=%{x}<br>1=%{y}<br>2=%{z}<extra></extra>\",\"legendgroup\":\"feel\",\"marker\":{\"color\":\"#FF6692\",\"symbol\":\"circle\"},\"mode\":\"markers\",\"name\":\"feel\",\"scene\":\"scene\",\"showlegend\":true,\"x\":[0.15710511803627014],\"y\":[0.3251606822013855],\"z\":[0.3646286725997925],\"type\":\"scatter3d\"},{\"hovertemplate\":\"color=world<br>0=%{x}<br>1=%{y}<br>2=%{z}<extra></extra>\",\"legendgroup\":\"world\",\"marker\":{\"color\":\"#B6E880\",\"symbol\":\"circle\"},\"mode\":\"markers\",\"name\":\"world\",\"scene\":\"scene\",\"showlegend\":true,\"x\":[0.10946506261825562],\"y\":[0.6933342218399048],\"z\":[-0.1343991458415985],\"type\":\"scatter3d\"},{\"hovertemplate\":\"color=deep<br>0=%{x}<br>1=%{y}<br>2=%{z}<extra></extra>\",\"legendgroup\":\"deep\",\"marker\":{\"color\":\"#FF97FF\",\"symbol\":\"circle\"},\"mode\":\"markers\",\"name\":\"deep\",\"scene\":\"scene\",\"showlegend\":true,\"x\":[0.5923441052436829],\"y\":[0.24472783505916595],\"z\":[-0.040562499314546585],\"type\":\"scatter3d\"},{\"hovertemplate\":\"color=table<br>0=%{x}<br>1=%{y}<br>2=%{z}<extra></extra>\",\"legendgroup\":\"table\",\"marker\":{\"color\":\"#FECB52\",\"symbol\":\"circle\"},\"mode\":\"markers\",\"name\":\"table\",\"scene\":\"scene\",\"showlegend\":true,\"x\":[0.3059292435646057],\"y\":[0.33331143856048584],\"z\":[0.2224160134792328],\"type\":\"scatter3d\"},{\"hovertemplate\":\"color=rose<br>0=%{x}<br>1=%{y}<br>2=%{z}<extra></extra>\",\"legendgroup\":\"rose\",\"marker\":{\"color\":\"#636efa\",\"symbol\":\"circle\"},\"mode\":\"markers\",\"name\":\"rose\",\"scene\":\"scene\",\"showlegend\":true,\"x\":[0.4467531144618988],\"y\":[0.18002335727214813],\"z\":[0.35993561148643494],\"type\":\"scatter3d\"},{\"hovertemplate\":\"color=pulled<br>0=%{x}<br>1=%{y}<br>2=%{z}<extra></extra>\",\"legendgroup\":\"pulled\",\"marker\":{\"color\":\"#EF553B\",\"symbol\":\"circle\"},\"mode\":\"markers\",\"name\":\"pulled\",\"scene\":\"scene\",\"showlegend\":true,\"x\":[0.42897170782089233],\"y\":[0.10955550521612167],\"z\":[0.7114952802658081],\"type\":\"scatter3d\"},{\"hovertemplate\":\"color=blue<br>0=%{x}<br>1=%{y}<br>2=%{z}<extra></extra>\",\"legendgroup\":\"blue\",\"marker\":{\"color\":\"#00cc96\",\"symbol\":\"circle\"},\"mode\":\"markers\",\"name\":\"blue\",\"scene\":\"scene\",\"showlegend\":true,\"x\":[0.37780556082725525],\"y\":[0.1637967824935913],\"z\":[-0.07777972519397736],\"type\":\"scatter3d\"},{\"hovertemplate\":\"color=throat<br>0=%{x}<br>1=%{y}<br>2=%{z}<extra></extra>\",\"legendgroup\":\"throat\",\"marker\":{\"color\":\"#ab63fa\",\"symbol\":\"circle\"},\"mode\":\"markers\",\"name\":\"throat\",\"scene\":\"scene\",\"showlegend\":true,\"x\":[0.3165090084075928],\"y\":[0.2831687927246094],\"z\":[0.48675206303596497],\"type\":\"scatter3d\"},{\"hovertemplate\":\"color=honor<br>0=%{x}<br>1=%{y}<br>2=%{z}<extra></extra>\",\"legendgroup\":\"honor\",\"marker\":{\"color\":\"#FFA15A\",\"symbol\":\"circle\"},\"mode\":\"markers\",\"name\":\"honor\",\"scene\":\"scene\",\"showlegend\":true,\"x\":[-0.47417762875556946],\"y\":[0.6644359230995178],\"z\":[-0.04303629323840141],\"type\":\"scatter3d\"},{\"hovertemplate\":\"color=fight<br>0=%{x}<br>1=%{y}<br>2=%{z}<extra></extra>\",\"legendgroup\":\"fight\",\"marker\":{\"color\":\"#19d3f3\",\"symbol\":\"circle\"},\"mode\":\"markers\",\"name\":\"fight\",\"scene\":\"scene\",\"showlegend\":true,\"x\":[-0.23947957158088684],\"y\":[0.6731576919555664],\"z\":[0.11731866747140884],\"type\":\"scatter3d\"},{\"hovertemplate\":\"color=got<br>0=%{x}<br>1=%{y}<br>2=%{z}<extra></extra>\",\"legendgroup\":\"got\",\"marker\":{\"color\":\"#FF6692\",\"symbol\":\"circle\"},\"mode\":\"markers\",\"name\":\"got\",\"scene\":\"scene\",\"showlegend\":true,\"x\":[-0.08924033492803574],\"y\":[0.25510650873184204],\"z\":[0.5260239243507385],\"type\":\"scatter3d\"},{\"hovertemplate\":\"color=jorah<br>0=%{x}<br>1=%{y}<br>2=%{z}<extra></extra>\",\"legendgroup\":\"jorah\",\"marker\":{\"color\":\"#B6E880\",\"symbol\":\"circle\"},\"mode\":\"markers\",\"name\":\"jorah\",\"scene\":\"scene\",\"showlegend\":true,\"x\":[-0.02935647964477539],\"y\":[0.28103190660476685],\"z\":[0.19520406424999237],\"type\":\"scatter3d\"},{\"hovertemplate\":\"color=sleep<br>0=%{x}<br>1=%{y}<br>2=%{z}<extra></extra>\",\"legendgroup\":\"sleep\",\"marker\":{\"color\":\"#FF97FF\",\"symbol\":\"circle\"},\"mode\":\"markers\",\"name\":\"sleep\",\"scene\":\"scene\",\"showlegend\":true,\"x\":[0.09950552880764008],\"y\":[0.5053638815879822],\"z\":[0.3734757602214813],\"type\":\"scatter3d\"},{\"hovertemplate\":\"color=set<br>0=%{x}<br>1=%{y}<br>2=%{z}<extra></extra>\",\"legendgroup\":\"set\",\"marker\":{\"color\":\"#FECB52\",\"symbol\":\"circle\"},\"mode\":\"markers\",\"name\":\"set\",\"scene\":\"scene\",\"showlegend\":true,\"x\":[0.17733612656593323],\"y\":[0.4083062410354614],\"z\":[0.39658939838409424],\"type\":\"scatter3d\"},{\"hovertemplate\":\"color=war<br>0=%{x}<br>1=%{y}<br>2=%{z}<extra></extra>\",\"legendgroup\":\"war\",\"marker\":{\"color\":\"#636efa\",\"symbol\":\"circle\"},\"mode\":\"markers\",\"name\":\"war\",\"scene\":\"scene\",\"showlegend\":true,\"x\":[-0.30175158381462097],\"y\":[0.7647921442985535],\"z\":[-0.2277045100927353],\"type\":\"scatter3d\"},{\"hovertemplate\":\"color=send<br>0=%{x}<br>1=%{y}<br>2=%{z}<extra></extra>\",\"legendgroup\":\"send\",\"marker\":{\"color\":\"#EF553B\",\"symbol\":\"circle\"},\"mode\":\"markers\",\"name\":\"send\",\"scene\":\"scene\",\"showlegend\":true,\"x\":[-0.3445316553115845],\"y\":[0.5508936643600464],\"z\":[0.45412442088127136],\"type\":\"scatter3d\"},{\"hovertemplate\":\"color=heavy<br>0=%{x}<br>1=%{y}<br>2=%{z}<extra></extra>\",\"legendgroup\":\"heavy\",\"marker\":{\"color\":\"#00cc96\",\"symbol\":\"circle\"},\"mode\":\"markers\",\"name\":\"heavy\",\"scene\":\"scene\",\"showlegend\":true,\"x\":[0.5805151462554932],\"y\":[0.0655776634812355],\"z\":[0.13682527840137482],\"type\":\"scatter3d\"},{\"hovertemplate\":\"color=legs<br>0=%{x}<br>1=%{y}<br>2=%{z}<extra></extra>\",\"legendgroup\":\"legs\",\"marker\":{\"color\":\"#ab63fa\",\"symbol\":\"circle\"},\"mode\":\"markers\",\"name\":\"legs\",\"scene\":\"scene\",\"showlegend\":true,\"x\":[0.47163885831832886],\"y\":[0.31825363636016846],\"z\":[0.33762064576148987],\"type\":\"scatter3d\"},{\"hovertemplate\":\"color=certain<br>0=%{x}<br>1=%{y}<br>2=%{z}<extra></extra>\",\"legendgroup\":\"certain\",\"marker\":{\"color\":\"#FFA15A\",\"symbol\":\"circle\"},\"mode\":\"markers\",\"name\":\"certain\",\"scene\":\"scene\",\"showlegend\":true,\"x\":[-0.365547776222229],\"y\":[0.5318146347999573],\"z\":[0.0026146334130316973],\"type\":\"scatter3d\"},{\"hovertemplate\":\"color=full<br>0=%{x}<br>1=%{y}<br>2=%{z}<extra></extra>\",\"legendgroup\":\"full\",\"marker\":{\"color\":\"#19d3f3\",\"symbol\":\"circle\"},\"mode\":\"markers\",\"name\":\"full\",\"scene\":\"scene\",\"showlegend\":true,\"x\":[0.1993977427482605],\"y\":[0.2997834086418152],\"z\":[-0.03331723064184189],\"type\":\"scatter3d\"},{\"hovertemplate\":\"color=burned<br>0=%{x}<br>1=%{y}<br>2=%{z}<extra></extra>\",\"legendgroup\":\"burned\",\"marker\":{\"color\":\"#FF6692\",\"symbol\":\"circle\"},\"mode\":\"markers\",\"name\":\"burned\",\"scene\":\"scene\",\"showlegend\":true,\"x\":[0.2952883243560791],\"y\":[0.4095074534416199],\"z\":[0.11131612211465836],\"type\":\"scatter3d\"},{\"hovertemplate\":\"color=dwarf<br>0=%{x}<br>1=%{y}<br>2=%{z}<extra></extra>\",\"legendgroup\":\"dwarf\",\"marker\":{\"color\":\"#B6E880\",\"symbol\":\"circle\"},\"mode\":\"markers\",\"name\":\"dwarf\",\"scene\":\"scene\",\"showlegend\":true,\"x\":[-0.2346142828464508],\"y\":[0.3323945701122284],\"z\":[0.2305142879486084],\"type\":\"scatter3d\"},{\"hovertemplate\":\"color=speak<br>0=%{x}<br>1=%{y}<br>2=%{z}<extra></extra>\",\"legendgroup\":\"speak\",\"marker\":{\"color\":\"#FF97FF\",\"symbol\":\"circle\"},\"mode\":\"markers\",\"name\":\"speak\",\"scene\":\"scene\",\"showlegend\":true,\"x\":[-0.40702125430107117],\"y\":[0.5074391961097717],\"z\":[0.2966156601905823],\"type\":\"scatter3d\"},{\"hovertemplate\":\"color=skin<br>0=%{x}<br>1=%{y}<br>2=%{z}<extra></extra>\",\"legendgroup\":\"skin\",\"marker\":{\"color\":\"#FECB52\",\"symbol\":\"circle\"},\"mode\":\"markers\",\"name\":\"skin\",\"scene\":\"scene\",\"showlegend\":true,\"x\":[0.462309330701828],\"y\":[0.23114199936389923],\"z\":[0.2766039967536926],\"type\":\"scatter3d\"},{\"hovertemplate\":\"color=things<br>0=%{x}<br>1=%{y}<br>2=%{z}<extra></extra>\",\"legendgroup\":\"things\",\"marker\":{\"color\":\"#636efa\",\"symbol\":\"circle\"},\"mode\":\"markers\",\"name\":\"things\",\"scene\":\"scene\",\"showlegend\":true,\"x\":[-0.09982846677303314],\"y\":[0.5587053894996643],\"z\":[-0.22370977699756622],\"type\":\"scatter3d\"},{\"hovertemplate\":\"color=toward<br>0=%{x}<br>1=%{y}<br>2=%{z}<extra></extra>\",\"legendgroup\":\"toward\",\"marker\":{\"color\":\"#EF553B\",\"symbol\":\"circle\"},\"mode\":\"markers\",\"name\":\"toward\",\"scene\":\"scene\",\"showlegend\":true,\"x\":[0.3723929524421692],\"y\":[0.1705036610364914],\"z\":[0.3448137938976288],\"type\":\"scatter3d\"},{\"hovertemplate\":\"color=broken<br>0=%{x}<br>1=%{y}<br>2=%{z}<extra></extra>\",\"legendgroup\":\"broken\",\"marker\":{\"color\":\"#00cc96\",\"symbol\":\"circle\"},\"mode\":\"markers\",\"name\":\"broken\",\"scene\":\"scene\",\"showlegend\":true,\"x\":[0.5480858683586121],\"y\":[0.2803497910499573],\"z\":[0.0543646514415741],\"type\":\"scatter3d\"},{\"hovertemplate\":\"color=rock<br>0=%{x}<br>1=%{y}<br>2=%{z}<extra></extra>\",\"legendgroup\":\"rock\",\"marker\":{\"color\":\"#ab63fa\",\"symbol\":\"circle\"},\"mode\":\"markers\",\"name\":\"rock\",\"scene\":\"scene\",\"showlegend\":true,\"x\":[0.19945180416107178],\"y\":[0.5202915668487549],\"z\":[-0.04337264969944954],\"type\":\"scatter3d\"},{\"hovertemplate\":\"color=tall<br>0=%{x}<br>1=%{y}<br>2=%{z}<extra></extra>\",\"legendgroup\":\"tall\",\"marker\":{\"color\":\"#FFA15A\",\"symbol\":\"circle\"},\"mode\":\"markers\",\"name\":\"tall\",\"scene\":\"scene\",\"showlegend\":true,\"x\":[0.31556567549705505],\"y\":[0.15689271688461304],\"z\":[0.05110953748226166],\"type\":\"scatter3d\"},{\"hovertemplate\":\"color=oh<br>0=%{x}<br>1=%{y}<br>2=%{z}<extra></extra>\",\"legendgroup\":\"oh\",\"marker\":{\"color\":\"#19d3f3\",\"symbol\":\"circle\"},\"mode\":\"markers\",\"name\":\"oh\",\"scene\":\"scene\",\"showlegend\":true,\"x\":[-0.546959400177002],\"y\":[0.29054662585258484],\"z\":[0.11447986215353012],\"type\":\"scatter3d\"},{\"hovertemplate\":\"color=moved<br>0=%{x}<br>1=%{y}<br>2=%{z}<extra></extra>\",\"legendgroup\":\"moved\",\"marker\":{\"color\":\"#FF6692\",\"symbol\":\"circle\"},\"mode\":\"markers\",\"name\":\"moved\",\"scene\":\"scene\",\"showlegend\":true,\"x\":[0.3131726086139679],\"y\":[0.19761043787002563],\"z\":[0.6050875186920166],\"type\":\"scatter3d\"},{\"hovertemplate\":\"color=tongue<br>0=%{x}<br>1=%{y}<br>2=%{z}<extra></extra>\",\"legendgroup\":\"tongue\",\"marker\":{\"color\":\"#B6E880\",\"symbol\":\"circle\"},\"mode\":\"markers\",\"name\":\"tongue\",\"scene\":\"scene\",\"showlegend\":true,\"x\":[-0.0206732377409935],\"y\":[0.4039468765258789],\"z\":[0.19155077636241913],\"type\":\"scatter3d\"},{\"hovertemplate\":\"color=women<br>0=%{x}<br>1=%{y}<br>2=%{z}<extra></extra>\",\"legendgroup\":\"women\",\"marker\":{\"color\":\"#FF97FF\",\"symbol\":\"circle\"},\"mode\":\"markers\",\"name\":\"women\",\"scene\":\"scene\",\"showlegend\":true,\"x\":[-0.08226477354764938],\"y\":[0.49445584416389465],\"z\":[-0.21131248772144318],\"type\":\"scatter3d\"},{\"hovertemplate\":\"color=fool<br>0=%{x}<br>1=%{y}<br>2=%{z}<extra></extra>\",\"legendgroup\":\"fool\",\"marker\":{\"color\":\"#FECB52\",\"symbol\":\"circle\"},\"mode\":\"markers\",\"name\":\"fool\",\"scene\":\"scene\",\"showlegend\":true,\"x\":[-0.3892645537853241],\"y\":[0.3197050988674164],\"z\":[0.174453467130661],\"type\":\"scatter3d\"},{\"hovertemplate\":\"color=golden<br>0=%{x}<br>1=%{y}<br>2=%{z}<extra></extra>\",\"legendgroup\":\"golden\",\"marker\":{\"color\":\"#636efa\",\"symbol\":\"circle\"},\"mode\":\"markers\",\"name\":\"golden\",\"scene\":\"scene\",\"showlegend\":true,\"x\":[0.22262656688690186],\"y\":[0.28223392367362976],\"z\":[-0.05455659329891205],\"type\":\"scatter3d\"},{\"hovertemplate\":\"color=smiled<br>0=%{x}<br>1=%{y}<br>2=%{z}<extra></extra>\",\"legendgroup\":\"smiled\",\"marker\":{\"color\":\"#EF553B\",\"symbol\":\"circle\"},\"mode\":\"markers\",\"name\":\"smiled\",\"scene\":\"scene\",\"showlegend\":true,\"x\":[-0.12420078366994858],\"y\":[0.03927474096417427],\"z\":[0.621099054813385],\"type\":\"scatter3d\"},{\"hovertemplate\":\"color=reached<br>0=%{x}<br>1=%{y}<br>2=%{z}<extra></extra>\",\"legendgroup\":\"reached\",\"marker\":{\"color\":\"#00cc96\",\"symbol\":\"circle\"},\"mode\":\"markers\",\"name\":\"reached\",\"scene\":\"scene\",\"showlegend\":true,\"x\":[0.2579374611377716],\"y\":[0.31163665652275085],\"z\":[0.5901577472686768],\"type\":\"scatter3d\"},{\"hovertemplate\":\"color=ride<br>0=%{x}<br>1=%{y}<br>2=%{z}<extra></extra>\",\"legendgroup\":\"ride\",\"marker\":{\"color\":\"#ab63fa\",\"symbol\":\"circle\"},\"mode\":\"markers\",\"name\":\"ride\",\"scene\":\"scene\",\"showlegend\":true,\"x\":[-0.0573139488697052],\"y\":[0.6807580590248108],\"z\":[0.2644751965999603],\"type\":\"scatter3d\"},{\"hovertemplate\":\"color=together<br>0=%{x}<br>1=%{y}<br>2=%{z}<extra></extra>\",\"legendgroup\":\"together\",\"marker\":{\"color\":\"#FFA15A\",\"symbol\":\"circle\"},\"mode\":\"markers\",\"name\":\"together\",\"scene\":\"scene\",\"showlegend\":true,\"x\":[0.2602059543132782],\"y\":[0.22737891972064972],\"z\":[0.1362570822238922],\"type\":\"scatter3d\"},{\"hovertemplate\":\"color=remember<br>0=%{x}<br>1=%{y}<br>2=%{z}<extra></extra>\",\"legendgroup\":\"remember\",\"marker\":{\"color\":\"#19d3f3\",\"symbol\":\"circle\"},\"mode\":\"markers\",\"name\":\"remember\",\"scene\":\"scene\",\"showlegend\":true,\"x\":[-0.34225019812583923],\"y\":[0.447319358587265],\"z\":[0.31591540575027466],\"type\":\"scatter3d\"},{\"hovertemplate\":\"color=alone<br>0=%{x}<br>1=%{y}<br>2=%{z}<extra></extra>\",\"legendgroup\":\"alone\",\"marker\":{\"color\":\"#FF6692\",\"symbol\":\"circle\"},\"mode\":\"markers\",\"name\":\"alone\",\"scene\":\"scene\",\"showlegend\":true,\"x\":[-0.09229534864425659],\"y\":[0.5582878589630127],\"z\":[0.1782170981168747],\"type\":\"scatter3d\"},{\"hovertemplate\":\"color=call<br>0=%{x}<br>1=%{y}<br>2=%{z}<extra></extra>\",\"legendgroup\":\"call\",\"marker\":{\"color\":\"#B6E880\",\"symbol\":\"circle\"},\"mode\":\"markers\",\"name\":\"call\",\"scene\":\"scene\",\"showlegend\":true,\"x\":[-0.40693098306655884],\"y\":[0.3755478262901306],\"z\":[0.43100205063819885],\"type\":\"scatter3d\"},{\"hovertemplate\":\"color=captain<br>0=%{x}<br>1=%{y}<br>2=%{z}<extra></extra>\",\"legendgroup\":\"captain\",\"marker\":{\"color\":\"#FF97FF\",\"symbol\":\"circle\"},\"mode\":\"markers\",\"name\":\"captain\",\"scene\":\"scene\",\"showlegend\":true,\"x\":[-0.33629316091537476],\"y\":[0.37807098031044006],\"z\":[0.06983793526887894],\"type\":\"scatter3d\"},{\"hovertemplate\":\"color=coming<br>0=%{x}<br>1=%{y}<br>2=%{z}<extra></extra>\",\"legendgroup\":\"coming\",\"marker\":{\"color\":\"#FECB52\",\"symbol\":\"circle\"},\"mode\":\"markers\",\"name\":\"coming\",\"scene\":\"scene\",\"showlegend\":true,\"x\":[0.09677567332983017],\"y\":[0.5821690559387207],\"z\":[0.1639961451292038],\"type\":\"scatter3d\"},{\"hovertemplate\":\"color=ground<br>0=%{x}<br>1=%{y}<br>2=%{z}<extra></extra>\",\"legendgroup\":\"ground\",\"marker\":{\"color\":\"#636efa\",\"symbol\":\"circle\"},\"mode\":\"markers\",\"name\":\"ground\",\"scene\":\"scene\",\"showlegend\":true,\"x\":[0.6812857389450073],\"y\":[0.3479665219783783],\"z\":[0.2130873054265976],\"type\":\"scatter3d\"},{\"hovertemplate\":\"color=teeth<br>0=%{x}<br>1=%{y}<br>2=%{z}<extra></extra>\",\"legendgroup\":\"teeth\",\"marker\":{\"color\":\"#EF553B\",\"symbol\":\"circle\"},\"mode\":\"markers\",\"name\":\"teeth\",\"scene\":\"scene\",\"showlegend\":true,\"x\":[0.4659481942653656],\"y\":[0.2078379988670349],\"z\":[0.27847298979759216],\"type\":\"scatter3d\"},{\"hovertemplate\":\"color=steps<br>0=%{x}<br>1=%{y}<br>2=%{z}<extra></extra>\",\"legendgroup\":\"steps\",\"marker\":{\"color\":\"#00cc96\",\"symbol\":\"circle\"},\"mode\":\"markers\",\"name\":\"steps\",\"scene\":\"scene\",\"showlegend\":true,\"x\":[0.47565722465515137],\"y\":[0.4312629997730255],\"z\":[0.2218995988368988],\"type\":\"scatter3d\"},{\"hovertemplate\":\"color=hold<br>0=%{x}<br>1=%{y}<br>2=%{z}<extra></extra>\",\"legendgroup\":\"hold\",\"marker\":{\"color\":\"#ab63fa\",\"symbol\":\"circle\"},\"mode\":\"markers\",\"name\":\"hold\",\"scene\":\"scene\",\"showlegend\":true,\"x\":[-0.24124929308891296],\"y\":[0.5156455039978027],\"z\":[0.3491426408290863],\"type\":\"scatter3d\"},{\"hovertemplate\":\"color=given<br>0=%{x}<br>1=%{y}<br>2=%{z}<extra></extra>\",\"legendgroup\":\"given\",\"marker\":{\"color\":\"#FFA15A\",\"symbol\":\"circle\"},\"mode\":\"markers\",\"name\":\"given\",\"scene\":\"scene\",\"showlegend\":true,\"x\":[-0.30386340618133545],\"y\":[0.41496574878692627],\"z\":[0.3731916546821594],\"type\":\"scatter3d\"},{\"hovertemplate\":\"color=remembered<br>0=%{x}<br>1=%{y}<br>2=%{z}<extra></extra>\",\"legendgroup\":\"remembered\",\"marker\":{\"color\":\"#19d3f3\",\"symbol\":\"circle\"},\"mode\":\"markers\",\"name\":\"remembered\",\"scene\":\"scene\",\"showlegend\":true,\"x\":[-0.09765421599149704],\"y\":[0.22502927482128143],\"z\":[0.4697536826133728],\"type\":\"scatter3d\"},{\"hovertemplate\":\"color=soft<br>0=%{x}<br>1=%{y}<br>2=%{z}<extra></extra>\",\"legendgroup\":\"soft\",\"marker\":{\"color\":\"#FF6692\",\"symbol\":\"circle\"},\"mode\":\"markers\",\"name\":\"soft\",\"scene\":\"scene\",\"showlegend\":true,\"x\":[0.45958080887794495],\"y\":[-0.06602979451417923],\"z\":[0.2431730479001999],\"type\":\"scatter3d\"},{\"hovertemplate\":\"color=second<br>0=%{x}<br>1=%{y}<br>2=%{z}<extra></extra>\",\"legendgroup\":\"second\",\"marker\":{\"color\":\"#B6E880\",\"symbol\":\"circle\"},\"mode\":\"markers\",\"name\":\"second\",\"scene\":\"scene\",\"showlegend\":true,\"x\":[-0.046651072800159454],\"y\":[0.3497627079486847],\"z\":[0.14943495392799377],\"type\":\"scatter3d\"},{\"hovertemplate\":\"color=south<br>0=%{x}<br>1=%{y}<br>2=%{z}<extra></extra>\",\"legendgroup\":\"south\",\"marker\":{\"color\":\"#FF97FF\",\"symbol\":\"circle\"},\"mode\":\"markers\",\"name\":\"south\",\"scene\":\"scene\",\"showlegend\":true,\"x\":[0.06804870069026947],\"y\":[0.6843077540397644],\"z\":[-0.1471593827009201],\"type\":\"scatter3d\"},{\"hovertemplate\":\"color=commander<br>0=%{x}<br>1=%{y}<br>2=%{z}<extra></extra>\",\"legendgroup\":\"commander\",\"marker\":{\"color\":\"#FECB52\",\"symbol\":\"circle\"},\"mode\":\"markers\",\"name\":\"commander\",\"scene\":\"scene\",\"showlegend\":true,\"x\":[-0.2428130805492401],\"y\":[0.4539162814617157],\"z\":[-0.04299047589302063],\"type\":\"scatter3d\"},{\"hovertemplate\":\"color=storm<br>0=%{x}<br>1=%{y}<br>2=%{z}<extra></extra>\",\"legendgroup\":\"storm\",\"marker\":{\"color\":\"#636efa\",\"symbol\":\"circle\"},\"mode\":\"markers\",\"name\":\"storm\",\"scene\":\"scene\",\"showlegend\":true,\"x\":[0.004441177472472191],\"y\":[0.5771090984344482],\"z\":[-0.053662773221731186],\"type\":\"scatter3d\"},{\"hovertemplate\":\"color=morning<br>0=%{x}<br>1=%{y}<br>2=%{z}<extra></extra>\",\"legendgroup\":\"morning\",\"marker\":{\"color\":\"#EF553B\",\"symbol\":\"circle\"},\"mode\":\"markers\",\"name\":\"morning\",\"scene\":\"scene\",\"showlegend\":true,\"x\":[0.16126883029937744],\"y\":[0.43231168389320374],\"z\":[0.07459715008735657],\"type\":\"scatter3d\"},{\"hovertemplate\":\"color=next<br>0=%{x}<br>1=%{y}<br>2=%{z}<extra></extra>\",\"legendgroup\":\"next\",\"marker\":{\"color\":\"#00cc96\",\"symbol\":\"circle\"},\"mode\":\"markers\",\"name\":\"next\",\"scene\":\"scene\",\"showlegend\":true,\"x\":[-0.05059278756380081],\"y\":[0.45771846175193787],\"z\":[0.29476624727249146],\"type\":\"scatter3d\"},{\"hovertemplate\":\"color=hope<br>0=%{x}<br>1=%{y}<br>2=%{z}<extra></extra>\",\"legendgroup\":\"hope\",\"marker\":{\"color\":\"#ab63fa\",\"symbol\":\"circle\"},\"mode\":\"markers\",\"name\":\"hope\",\"scene\":\"scene\",\"showlegend\":true,\"x\":[-0.4202968180179596],\"y\":[0.6959436535835266],\"z\":[0.21025685966014862],\"type\":\"scatter3d\"},{\"hovertemplate\":\"color=wood<br>0=%{x}<br>1=%{y}<br>2=%{z}<extra></extra>\",\"legendgroup\":\"wood\",\"marker\":{\"color\":\"#FFA15A\",\"symbol\":\"circle\"},\"mode\":\"markers\",\"name\":\"wood\",\"scene\":\"scene\",\"showlegend\":true,\"x\":[0.6210740208625793],\"y\":[0.43627575039863586],\"z\":[-0.15167135000228882],\"type\":\"scatter3d\"},{\"hovertemplate\":\"color=throne<br>0=%{x}<br>1=%{y}<br>2=%{z}<extra></extra>\",\"legendgroup\":\"throne\",\"marker\":{\"color\":\"#19d3f3\",\"symbol\":\"circle\"},\"mode\":\"markers\",\"name\":\"throne\",\"scene\":\"scene\",\"showlegend\":true,\"x\":[-0.14368222653865814],\"y\":[0.562546968460083],\"z\":[0.12227876484394073],\"type\":\"scatter3d\"},{\"hovertemplate\":\"color=fat<br>0=%{x}<br>1=%{y}<br>2=%{z}<extra></extra>\",\"legendgroup\":\"fat\",\"marker\":{\"color\":\"#FF6692\",\"symbol\":\"circle\"},\"mode\":\"markers\",\"name\":\"fat\",\"scene\":\"scene\",\"showlegend\":true,\"x\":[-0.04977671056985855],\"y\":[0.07617658376693726],\"z\":[0.23346717655658722],\"type\":\"scatter3d\"},{\"hovertemplate\":\"color=gate<br>0=%{x}<br>1=%{y}<br>2=%{z}<extra></extra>\",\"legendgroup\":\"gate\",\"marker\":{\"color\":\"#B6E880\",\"symbol\":\"circle\"},\"mode\":\"markers\",\"name\":\"gate\",\"scene\":\"scene\",\"showlegend\":true,\"x\":[0.33067822456359863],\"y\":[0.597983717918396],\"z\":[0.02040824107825756],\"type\":\"scatter3d\"},{\"hovertemplate\":\"color=bolton<br>0=%{x}<br>1=%{y}<br>2=%{z}<extra></extra>\",\"legendgroup\":\"bolton\",\"marker\":{\"color\":\"#FF97FF\",\"symbol\":\"circle\"},\"mode\":\"markers\",\"name\":\"bolton\",\"scene\":\"scene\",\"showlegend\":true,\"x\":[-0.2536114752292633],\"y\":[0.41664159297943115],\"z\":[0.05758117139339447],\"type\":\"scatter3d\"},{\"hovertemplate\":\"color=raised<br>0=%{x}<br>1=%{y}<br>2=%{z}<extra></extra>\",\"legendgroup\":\"raised\",\"marker\":{\"color\":\"#FECB52\",\"symbol\":\"circle\"},\"mode\":\"markers\",\"name\":\"raised\",\"scene\":\"scene\",\"showlegend\":true,\"x\":[0.11454224586486816],\"y\":[0.17301318049430847],\"z\":[0.4725966453552246],\"type\":\"scatter3d\"},{\"hovertemplate\":\"color=ran<br>0=%{x}<br>1=%{y}<br>2=%{z}<extra></extra>\",\"legendgroup\":\"ran\",\"marker\":{\"color\":\"#636efa\",\"symbol\":\"circle\"},\"mode\":\"markers\",\"name\":\"ran\",\"scene\":\"scene\",\"showlegend\":true,\"x\":[0.5048112869262695],\"y\":[0.12829259037971497],\"z\":[0.5400266647338867],\"type\":\"scatter3d\"},{\"hovertemplate\":\"color=people<br>0=%{x}<br>1=%{y}<br>2=%{z}<extra></extra>\",\"legendgroup\":\"people\",\"marker\":{\"color\":\"#EF553B\",\"symbol\":\"circle\"},\"mode\":\"markers\",\"name\":\"people\",\"scene\":\"scene\",\"showlegend\":true,\"x\":[-0.15053114295005798],\"y\":[0.7405034899711609],\"z\":[-0.30037227272987366],\"type\":\"scatter3d\"},{\"hovertemplate\":\"color=else<br>0=%{x}<br>1=%{y}<br>2=%{z}<extra></extra>\",\"legendgroup\":\"else\",\"marker\":{\"color\":\"#00cc96\",\"symbol\":\"circle\"},\"mode\":\"markers\",\"name\":\"else\",\"scene\":\"scene\",\"showlegend\":true,\"x\":[-0.3438182771205902],\"y\":[0.4349367022514343],\"z\":[0.1168224960565567],\"type\":\"scatter3d\"},{\"hovertemplate\":\"color=truth<br>0=%{x}<br>1=%{y}<br>2=%{z}<extra></extra>\",\"legendgroup\":\"truth\",\"marker\":{\"color\":\"#ab63fa\",\"symbol\":\"circle\"},\"mode\":\"markers\",\"name\":\"truth\",\"scene\":\"scene\",\"showlegend\":true,\"x\":[-0.36236658692359924],\"y\":[0.5222502946853638],\"z\":[-0.08772880584001541],\"type\":\"scatter3d\"},{\"hovertemplate\":\"color=outside<br>0=%{x}<br>1=%{y}<br>2=%{z}<extra></extra>\",\"legendgroup\":\"outside\",\"marker\":{\"color\":\"#FFA15A\",\"symbol\":\"circle\"},\"mode\":\"markers\",\"name\":\"outside\",\"scene\":\"scene\",\"showlegend\":true,\"x\":[0.23685862123966217],\"y\":[0.35257384181022644],\"z\":[0.0020890268497169018],\"type\":\"scatter3d\"},{\"hovertemplate\":\"color=varys<br>0=%{x}<br>1=%{y}<br>2=%{z}<extra></extra>\",\"legendgroup\":\"varys\",\"marker\":{\"color\":\"#19d3f3\",\"symbol\":\"circle\"},\"mode\":\"markers\",\"name\":\"varys\",\"scene\":\"scene\",\"showlegend\":true,\"x\":[-0.3683376610279083],\"y\":[0.24969418346881866],\"z\":[0.05114341154694557],\"type\":\"scatter3d\"},{\"hovertemplate\":\"color=command<br>0=%{x}<br>1=%{y}<br>2=%{z}<extra></extra>\",\"legendgroup\":\"command\",\"marker\":{\"color\":\"#FF6692\",\"symbol\":\"circle\"},\"mode\":\"markers\",\"name\":\"command\",\"scene\":\"scene\",\"showlegend\":true,\"x\":[-0.3387320041656494],\"y\":[0.601539134979248],\"z\":[0.12335628271102905],\"type\":\"scatter3d\"},{\"hovertemplate\":\"color=since<br>0=%{x}<br>1=%{y}<br>2=%{z}<extra></extra>\",\"legendgroup\":\"since\",\"marker\":{\"color\":\"#B6E880\",\"symbol\":\"circle\"},\"mode\":\"markers\",\"name\":\"since\",\"scene\":\"scene\",\"showlegend\":true,\"x\":[-0.2151888757944107],\"y\":[0.4531788229942322],\"z\":[0.06741392612457275],\"type\":\"scatter3d\"},{\"hovertemplate\":\"color=meant<br>0=%{x}<br>1=%{y}<br>2=%{z}<extra></extra>\",\"legendgroup\":\"meant\",\"marker\":{\"color\":\"#FF97FF\",\"symbol\":\"circle\"},\"mode\":\"markers\",\"name\":\"meant\",\"scene\":\"scene\",\"showlegend\":true,\"x\":[-0.45095905661582947],\"y\":[0.44584882259368896],\"z\":[0.2889016568660736],\"type\":\"scatter3d\"},{\"hovertemplate\":\"color=frey<br>0=%{x}<br>1=%{y}<br>2=%{z}<extra></extra>\",\"legendgroup\":\"frey\",\"marker\":{\"color\":\"#FECB52\",\"symbol\":\"circle\"},\"mode\":\"markers\",\"name\":\"frey\",\"scene\":\"scene\",\"showlegend\":true,\"x\":[-0.3905473053455353],\"y\":[0.270756334066391],\"z\":[0.1233893558382988],\"type\":\"scatter3d\"},{\"hovertemplate\":\"color=ask<br>0=%{x}<br>1=%{y}<br>2=%{z}<extra></extra>\",\"legendgroup\":\"ask\",\"marker\":{\"color\":\"#636efa\",\"symbol\":\"circle\"},\"mode\":\"markers\",\"name\":\"ask\",\"scene\":\"scene\",\"showlegend\":true,\"x\":[-0.597570538520813],\"y\":[0.4784015119075775],\"z\":[0.358682245016098],\"type\":\"scatter3d\"},{\"hovertemplate\":\"color=room<br>0=%{x}<br>1=%{y}<br>2=%{z}<extra></extra>\",\"legendgroup\":\"room\",\"marker\":{\"color\":\"#EF553B\",\"symbol\":\"circle\"},\"mode\":\"markers\",\"name\":\"room\",\"scene\":\"scene\",\"showlegend\":true,\"x\":[0.40452200174331665],\"y\":[0.482363224029541],\"z\":[0.1297539472579956],\"type\":\"scatter3d\"},{\"hovertemplate\":\"color=someone<br>0=%{x}<br>1=%{y}<br>2=%{z}<extra></extra>\",\"legendgroup\":\"someone\",\"marker\":{\"color\":\"#00cc96\",\"symbol\":\"circle\"},\"mode\":\"markers\",\"name\":\"someone\",\"scene\":\"scene\",\"showlegend\":true,\"x\":[-0.16221101582050323],\"y\":[0.4621293544769287],\"z\":[0.1794055998325348],\"type\":\"scatter3d\"},{\"hovertemplate\":\"color=held<br>0=%{x}<br>1=%{y}<br>2=%{z}<extra></extra>\",\"legendgroup\":\"held\",\"marker\":{\"color\":\"#ab63fa\",\"symbol\":\"circle\"},\"mode\":\"markers\",\"name\":\"held\",\"scene\":\"scene\",\"showlegend\":true,\"x\":[0.09935516119003296],\"y\":[0.1616295874118805],\"z\":[0.6009315848350525],\"type\":\"scatter3d\"},{\"hovertemplate\":\"color=barristan<br>0=%{x}<br>1=%{y}<br>2=%{z}<extra></extra>\",\"legendgroup\":\"barristan\",\"marker\":{\"color\":\"#FFA15A\",\"symbol\":\"circle\"},\"mode\":\"markers\",\"name\":\"barristan\",\"scene\":\"scene\",\"showlegend\":true,\"x\":[-0.15675298869609833],\"y\":[0.374854177236557],\"z\":[0.0650142952799797],\"type\":\"scatter3d\"},{\"hovertemplate\":\"color=walder<br>0=%{x}<br>1=%{y}<br>2=%{z}<extra></extra>\",\"legendgroup\":\"walder\",\"marker\":{\"color\":\"#19d3f3\",\"symbol\":\"circle\"},\"mode\":\"markers\",\"name\":\"walder\",\"scene\":\"scene\",\"showlegend\":true,\"x\":[-0.23663604259490967],\"y\":[0.26554495096206665],\"z\":[0.026274176314473152],\"type\":\"scatter3d\"},{\"hovertemplate\":\"color=summer<br>0=%{x}<br>1=%{y}<br>2=%{z}<extra></extra>\",\"legendgroup\":\"summer\",\"marker\":{\"color\":\"#FF6692\",\"symbol\":\"circle\"},\"mode\":\"markers\",\"name\":\"summer\",\"scene\":\"scene\",\"showlegend\":true,\"x\":[0.20951500535011292],\"y\":[0.44308146834373474],\"z\":[-0.09895394742488861],\"type\":\"scatter3d\"},{\"hovertemplate\":\"color=cannot<br>0=%{x}<br>1=%{y}<br>2=%{z}<extra></extra>\",\"legendgroup\":\"cannot\",\"marker\":{\"color\":\"#B6E880\",\"symbol\":\"circle\"},\"mode\":\"markers\",\"name\":\"cannot\",\"scene\":\"scene\",\"showlegend\":true,\"x\":[-0.4525289237499237],\"y\":[0.4467692971229553],\"z\":[0.11500448733568192],\"type\":\"scatter3d\"},{\"hovertemplate\":\"color=closed<br>0=%{x}<br>1=%{y}<br>2=%{z}<extra></extra>\",\"legendgroup\":\"closed\",\"marker\":{\"color\":\"#FF97FF\",\"symbol\":\"circle\"},\"mode\":\"markers\",\"name\":\"closed\",\"scene\":\"scene\",\"showlegend\":true,\"x\":[0.27110427618026733],\"y\":[0.2026343047618866],\"z\":[0.3702220618724823],\"type\":\"scatter3d\"},{\"hovertemplate\":\"color=turn<br>0=%{x}<br>1=%{y}<br>2=%{z}<extra></extra>\",\"legendgroup\":\"turn\",\"marker\":{\"color\":\"#FECB52\",\"symbol\":\"circle\"},\"mode\":\"markers\",\"name\":\"turn\",\"scene\":\"scene\",\"showlegend\":true,\"x\":[0.0024522605817764997],\"y\":[0.6196016073226929],\"z\":[0.36716198921203613],\"type\":\"scatter3d\"},{\"hovertemplate\":\"color=ice<br>0=%{x}<br>1=%{y}<br>2=%{z}<extra></extra>\",\"legendgroup\":\"ice\",\"marker\":{\"color\":\"#636efa\",\"symbol\":\"circle\"},\"mode\":\"markers\",\"name\":\"ice\",\"scene\":\"scene\",\"showlegend\":true,\"x\":[0.5919203758239746],\"y\":[0.4332791268825531],\"z\":[-0.0882575735449791],\"type\":\"scatter3d\"},{\"hovertemplate\":\"color=home<br>0=%{x}<br>1=%{y}<br>2=%{z}<extra></extra>\",\"legendgroup\":\"home\",\"marker\":{\"color\":\"#EF553B\",\"symbol\":\"circle\"},\"mode\":\"markers\",\"name\":\"home\",\"scene\":\"scene\",\"showlegend\":true,\"x\":[-0.2131848782300949],\"y\":[0.668302595615387],\"z\":[0.0686502754688263],\"type\":\"scatter3d\"},{\"hovertemplate\":\"color=known<br>0=%{x}<br>1=%{y}<br>2=%{z}<extra></extra>\",\"legendgroup\":\"known\",\"marker\":{\"color\":\"#00cc96\",\"symbol\":\"circle\"},\"mode\":\"markers\",\"name\":\"known\",\"scene\":\"scene\",\"showlegend\":true,\"x\":[-0.3966308832168579],\"y\":[0.4356149137020111],\"z\":[0.22707311809062958],\"type\":\"scatter3d\"},{\"hovertemplate\":\"color=shadow<br>0=%{x}<br>1=%{y}<br>2=%{z}<extra></extra>\",\"legendgroup\":\"shadow\",\"marker\":{\"color\":\"#ab63fa\",\"symbol\":\"circle\"},\"mode\":\"markers\",\"name\":\"shadow\",\"scene\":\"scene\",\"showlegend\":true,\"x\":[0.3969044089317322],\"y\":[0.4708723723888397],\"z\":[-0.0286626648157835],\"type\":\"scatter3d\"},{\"hovertemplate\":\"color=matter<br>0=%{x}<br>1=%{y}<br>2=%{z}<extra></extra>\",\"legendgroup\":\"matter\",\"marker\":{\"color\":\"#FFA15A\",\"symbol\":\"circle\"},\"mode\":\"markers\",\"name\":\"matter\",\"scene\":\"scene\",\"showlegend\":true,\"x\":[-0.24647492170333862],\"y\":[0.43787816166877747],\"z\":[0.08657735586166382],\"type\":\"scatter3d\"},{\"hovertemplate\":\"color=which<br>0=%{x}<br>1=%{y}<br>2=%{z}<extra></extra>\",\"legendgroup\":\"which\",\"marker\":{\"color\":\"#19d3f3\",\"symbol\":\"circle\"},\"mode\":\"markers\",\"name\":\"which\",\"scene\":\"scene\",\"showlegend\":true,\"x\":[-0.21072512865066528],\"y\":[0.5379933714866638],\"z\":[-0.07526958733797073],\"type\":\"scatter3d\"},{\"hovertemplate\":\"color=talk<br>0=%{x}<br>1=%{y}<br>2=%{z}<extra></extra>\",\"legendgroup\":\"talk\",\"marker\":{\"color\":\"#FF6692\",\"symbol\":\"circle\"},\"mode\":\"markers\",\"name\":\"talk\",\"scene\":\"scene\",\"showlegend\":true,\"x\":[-0.29788175225257874],\"y\":[0.6048826575279236],\"z\":[0.14562927186489105],\"type\":\"scatter3d\"},{\"hovertemplate\":\"color=wore<br>0=%{x}<br>1=%{y}<br>2=%{z}<extra></extra>\",\"legendgroup\":\"wore\",\"marker\":{\"color\":\"#B6E880\",\"symbol\":\"circle\"},\"mode\":\"markers\",\"name\":\"wore\",\"scene\":\"scene\",\"showlegend\":true,\"x\":[0.1253625601530075],\"y\":[0.10407356172800064],\"z\":[0.2264087051153183],\"type\":\"scatter3d\"},{\"hovertemplate\":\"color=food<br>0=%{x}<br>1=%{y}<br>2=%{z}<extra></extra>\",\"legendgroup\":\"food\",\"marker\":{\"color\":\"#FF97FF\",\"symbol\":\"circle\"},\"mode\":\"markers\",\"name\":\"food\",\"scene\":\"scene\",\"showlegend\":true,\"x\":[0.045983802527189255],\"y\":[0.5628795623779297],\"z\":[-0.09999848902225494],\"type\":\"scatter3d\"},{\"hovertemplate\":\"color=watched<br>0=%{x}<br>1=%{y}<br>2=%{z}<extra></extra>\",\"legendgroup\":\"watched\",\"marker\":{\"color\":\"#FECB52\",\"symbol\":\"circle\"},\"mode\":\"markers\",\"name\":\"watched\",\"scene\":\"scene\",\"showlegend\":true,\"x\":[0.1534939706325531],\"y\":[0.20357286930084229],\"z\":[0.5408556461334229],\"type\":\"scatter3d\"},{\"hovertemplate\":\"color=doubt<br>0=%{x}<br>1=%{y}<br>2=%{z}<extra></extra>\",\"legendgroup\":\"doubt\",\"marker\":{\"color\":\"#636efa\",\"symbol\":\"circle\"},\"mode\":\"markers\",\"name\":\"doubt\",\"scene\":\"scene\",\"showlegend\":true,\"x\":[-0.43378183245658875],\"y\":[0.500328004360199],\"z\":[0.11928703635931015],\"type\":\"scatter3d\"},{\"hovertemplate\":\"color=near<br>0=%{x}<br>1=%{y}<br>2=%{z}<extra></extra>\",\"legendgroup\":\"near\",\"marker\":{\"color\":\"#EF553B\",\"symbol\":\"circle\"},\"mode\":\"markers\",\"name\":\"near\",\"scene\":\"scene\",\"showlegend\":true,\"x\":[0.08435104042291641],\"y\":[0.3547983169555664],\"z\":[0.0516950897872448],\"type\":\"scatter3d\"},{\"hovertemplate\":\"color=neck<br>0=%{x}<br>1=%{y}<br>2=%{z}<extra></extra>\",\"legendgroup\":\"neck\",\"marker\":{\"color\":\"#00cc96\",\"symbol\":\"circle\"},\"mode\":\"markers\",\"name\":\"neck\",\"scene\":\"scene\",\"showlegend\":true,\"x\":[0.4951780140399933],\"y\":[0.3049798607826233],\"z\":[0.3556593358516693],\"type\":\"scatter3d\"},{\"hovertemplate\":\"color=leather<br>0=%{x}<br>1=%{y}<br>2=%{z}<extra></extra>\",\"legendgroup\":\"leather\",\"marker\":{\"color\":\"#ab63fa\",\"symbol\":\"circle\"},\"mode\":\"markers\",\"name\":\"leather\",\"scene\":\"scene\",\"showlegend\":true,\"x\":[0.5003473162651062],\"y\":[0.10537289083003998],\"z\":[0.07720627635717392],\"type\":\"scatter3d\"},{\"hovertemplate\":\"color=eddard<br>0=%{x}<br>1=%{y}<br>2=%{z}<extra></extra>\",\"legendgroup\":\"eddard\",\"marker\":{\"color\":\"#FFA15A\",\"symbol\":\"circle\"},\"mode\":\"markers\",\"name\":\"eddard\",\"scene\":\"scene\",\"showlegend\":true,\"x\":[-0.2735077440738678],\"y\":[0.385568767786026],\"z\":[0.11800692975521088],\"type\":\"scatter3d\"},{\"hovertemplate\":\"color=sky<br>0=%{x}<br>1=%{y}<br>2=%{z}<extra></extra>\",\"legendgroup\":\"sky\",\"marker\":{\"color\":\"#19d3f3\",\"symbol\":\"circle\"},\"mode\":\"markers\",\"name\":\"sky\",\"scene\":\"scene\",\"showlegend\":true,\"x\":[0.5730871558189392],\"y\":[0.4493955969810486],\"z\":[-0.05008445307612419],\"type\":\"scatter3d\"},{\"hovertemplate\":\"color=cup<br>0=%{x}<br>1=%{y}<br>2=%{z}<extra></extra>\",\"legendgroup\":\"cup\",\"marker\":{\"color\":\"#FF6692\",\"symbol\":\"circle\"},\"mode\":\"markers\",\"name\":\"cup\",\"scene\":\"scene\",\"showlegend\":true,\"x\":[0.09608104825019836],\"y\":[0.29110991954803467],\"z\":[0.3668435513973236],\"type\":\"scatter3d\"},{\"hovertemplate\":\"color=shoulder<br>0=%{x}<br>1=%{y}<br>2=%{z}<extra></extra>\",\"legendgroup\":\"shoulder\",\"marker\":{\"color\":\"#B6E880\",\"symbol\":\"circle\"},\"mode\":\"markers\",\"name\":\"shoulder\",\"scene\":\"scene\",\"showlegend\":true,\"x\":[0.46783459186553955],\"y\":[0.22195932269096375],\"z\":[0.4810028374195099],\"type\":\"scatter3d\"},{\"hovertemplate\":\"color=ghost<br>0=%{x}<br>1=%{y}<br>2=%{z}<extra></extra>\",\"legendgroup\":\"ghost\",\"marker\":{\"color\":\"#FF97FF\",\"symbol\":\"circle\"},\"mode\":\"markers\",\"name\":\"ghost\",\"scene\":\"scene\",\"showlegend\":true,\"x\":[0.28748491406440735],\"y\":[0.24612197279930115],\"z\":[0.2934756278991699],\"type\":\"scatter3d\"},{\"hovertemplate\":\"color=dozen<br>0=%{x}<br>1=%{y}<br>2=%{z}<extra></extra>\",\"legendgroup\":\"dozen\",\"marker\":{\"color\":\"#FECB52\",\"symbol\":\"circle\"},\"mode\":\"markers\",\"name\":\"dozen\",\"scene\":\"scene\",\"showlegend\":true,\"x\":[0.2932543456554413],\"y\":[0.3674148619174957],\"z\":[-0.18237486481666565],\"type\":\"scatter3d\"},{\"hovertemplate\":\"color=times<br>0=%{x}<br>1=%{y}<br>2=%{z}<extra></extra>\",\"legendgroup\":\"times\",\"marker\":{\"color\":\"#636efa\",\"symbol\":\"circle\"},\"mode\":\"markers\",\"name\":\"times\",\"scene\":\"scene\",\"showlegend\":true,\"x\":[-0.097154900431633],\"y\":[0.6054447889328003],\"z\":[-0.007116757333278656],\"type\":\"scatter3d\"},{\"hovertemplate\":\"color=daenerys<br>0=%{x}<br>1=%{y}<br>2=%{z}<extra></extra>\",\"legendgroup\":\"daenerys\",\"marker\":{\"color\":\"#EF553B\",\"symbol\":\"circle\"},\"mode\":\"markers\",\"name\":\"daenerys\",\"scene\":\"scene\",\"showlegend\":true,\"x\":[-0.31244856119155884],\"y\":[0.46505028009414673],\"z\":[0.07317262887954712],\"type\":\"scatter3d\"},{\"hovertemplate\":\"color=caught<br>0=%{x}<br>1=%{y}<br>2=%{z}<extra></extra>\",\"legendgroup\":\"caught\",\"marker\":{\"color\":\"#00cc96\",\"symbol\":\"circle\"},\"mode\":\"markers\",\"name\":\"caught\",\"scene\":\"scene\",\"showlegend\":true,\"x\":[0.29156455397605896],\"y\":[0.19412721693515778],\"z\":[0.6061751842498779],\"type\":\"scatter3d\"},{\"hovertemplate\":\"color=armor<br>0=%{x}<br>1=%{y}<br>2=%{z}<extra></extra>\",\"legendgroup\":\"armor\",\"marker\":{\"color\":\"#ab63fa\",\"symbol\":\"circle\"},\"mode\":\"markers\",\"name\":\"armor\",\"scene\":\"scene\",\"showlegend\":true,\"x\":[0.2763010561466217],\"y\":[0.36232686042785645],\"z\":[0.018992232158780098],\"type\":\"scatter3d\"},{\"hovertemplate\":\"color=warm<br>0=%{x}<br>1=%{y}<br>2=%{z}<extra></extra>\",\"legendgroup\":\"warm\",\"marker\":{\"color\":\"#FFA15A\",\"symbol\":\"circle\"},\"mode\":\"markers\",\"name\":\"warm\",\"scene\":\"scene\",\"showlegend\":true,\"x\":[0.33896303176879883],\"y\":[0.3040318191051483],\"z\":[0.1468127965927124],\"type\":\"scatter3d\"},{\"hovertemplate\":\"color=below<br>0=%{x}<br>1=%{y}<br>2=%{z}<extra></extra>\",\"legendgroup\":\"below\",\"marker\":{\"color\":\"#19d3f3\",\"symbol\":\"circle\"},\"mode\":\"markers\",\"name\":\"below\",\"scene\":\"scene\",\"showlegend\":true,\"x\":[0.5040987730026245],\"y\":[0.3346293866634369],\"z\":[0.04180339723825455],\"type\":\"scatter3d\"},{\"hovertemplate\":\"color=none<br>0=%{x}<br>1=%{y}<br>2=%{z}<extra></extra>\",\"legendgroup\":\"none\",\"marker\":{\"color\":\"#FF6692\",\"symbol\":\"circle\"},\"mode\":\"markers\",\"name\":\"none\",\"scene\":\"scene\",\"showlegend\":true,\"x\":[-0.34955060482025146],\"y\":[0.561711847782135],\"z\":[-0.11088249832391739],\"type\":\"scatter3d\"},{\"hovertemplate\":\"color=eye<br>0=%{x}<br>1=%{y}<br>2=%{z}<extra></extra>\",\"legendgroup\":\"eye\",\"marker\":{\"color\":\"#B6E880\",\"symbol\":\"circle\"},\"mode\":\"markers\",\"name\":\"eye\",\"scene\":\"scene\",\"showlegend\":true,\"x\":[0.2645595967769623],\"y\":[0.45966699719429016],\"z\":[0.16633473336696625],\"type\":\"scatter3d\"},{\"hovertemplate\":\"color=blade<br>0=%{x}<br>1=%{y}<br>2=%{z}<extra></extra>\",\"legendgroup\":\"blade\",\"marker\":{\"color\":\"#FF97FF\",\"symbol\":\"circle\"},\"mode\":\"markers\",\"name\":\"blade\",\"scene\":\"scene\",\"showlegend\":true,\"x\":[0.36876174807548523],\"y\":[0.30346763134002686],\"z\":[0.31838560104370117],\"type\":\"scatter3d\"},{\"hovertemplate\":\"color=ships<br>0=%{x}<br>1=%{y}<br>2=%{z}<extra></extra>\",\"legendgroup\":\"ships\",\"marker\":{\"color\":\"#FECB52\",\"symbol\":\"circle\"},\"mode\":\"markers\",\"name\":\"ships\",\"scene\":\"scene\",\"showlegend\":true,\"x\":[0.026985209435224533],\"y\":[0.7557039260864258],\"z\":[-0.3883804678916931],\"type\":\"scatter3d\"}],                        {\"template\":{\"data\":{\"histogram2dcontour\":[{\"type\":\"histogram2dcontour\",\"colorbar\":{\"outlinewidth\":0,\"ticks\":\"\"},\"colorscale\":[[0.0,\"#0d0887\"],[0.1111111111111111,\"#46039f\"],[0.2222222222222222,\"#7201a8\"],[0.3333333333333333,\"#9c179e\"],[0.4444444444444444,\"#bd3786\"],[0.5555555555555556,\"#d8576b\"],[0.6666666666666666,\"#ed7953\"],[0.7777777777777778,\"#fb9f3a\"],[0.8888888888888888,\"#fdca26\"],[1.0,\"#f0f921\"]]}],\"choropleth\":[{\"type\":\"choropleth\",\"colorbar\":{\"outlinewidth\":0,\"ticks\":\"\"}}],\"histogram2d\":[{\"type\":\"histogram2d\",\"colorbar\":{\"outlinewidth\":0,\"ticks\":\"\"},\"colorscale\":[[0.0,\"#0d0887\"],[0.1111111111111111,\"#46039f\"],[0.2222222222222222,\"#7201a8\"],[0.3333333333333333,\"#9c179e\"],[0.4444444444444444,\"#bd3786\"],[0.5555555555555556,\"#d8576b\"],[0.6666666666666666,\"#ed7953\"],[0.7777777777777778,\"#fb9f3a\"],[0.8888888888888888,\"#fdca26\"],[1.0,\"#f0f921\"]]}],\"heatmap\":[{\"type\":\"heatmap\",\"colorbar\":{\"outlinewidth\":0,\"ticks\":\"\"},\"colorscale\":[[0.0,\"#0d0887\"],[0.1111111111111111,\"#46039f\"],[0.2222222222222222,\"#7201a8\"],[0.3333333333333333,\"#9c179e\"],[0.4444444444444444,\"#bd3786\"],[0.5555555555555556,\"#d8576b\"],[0.6666666666666666,\"#ed7953\"],[0.7777777777777778,\"#fb9f3a\"],[0.8888888888888888,\"#fdca26\"],[1.0,\"#f0f921\"]]}],\"heatmapgl\":[{\"type\":\"heatmapgl\",\"colorbar\":{\"outlinewidth\":0,\"ticks\":\"\"},\"colorscale\":[[0.0,\"#0d0887\"],[0.1111111111111111,\"#46039f\"],[0.2222222222222222,\"#7201a8\"],[0.3333333333333333,\"#9c179e\"],[0.4444444444444444,\"#bd3786\"],[0.5555555555555556,\"#d8576b\"],[0.6666666666666666,\"#ed7953\"],[0.7777777777777778,\"#fb9f3a\"],[0.8888888888888888,\"#fdca26\"],[1.0,\"#f0f921\"]]}],\"contourcarpet\":[{\"type\":\"contourcarpet\",\"colorbar\":{\"outlinewidth\":0,\"ticks\":\"\"}}],\"contour\":[{\"type\":\"contour\",\"colorbar\":{\"outlinewidth\":0,\"ticks\":\"\"},\"colorscale\":[[0.0,\"#0d0887\"],[0.1111111111111111,\"#46039f\"],[0.2222222222222222,\"#7201a8\"],[0.3333333333333333,\"#9c179e\"],[0.4444444444444444,\"#bd3786\"],[0.5555555555555556,\"#d8576b\"],[0.6666666666666666,\"#ed7953\"],[0.7777777777777778,\"#fb9f3a\"],[0.8888888888888888,\"#fdca26\"],[1.0,\"#f0f921\"]]}],\"surface\":[{\"type\":\"surface\",\"colorbar\":{\"outlinewidth\":0,\"ticks\":\"\"},\"colorscale\":[[0.0,\"#0d0887\"],[0.1111111111111111,\"#46039f\"],[0.2222222222222222,\"#7201a8\"],[0.3333333333333333,\"#9c179e\"],[0.4444444444444444,\"#bd3786\"],[0.5555555555555556,\"#d8576b\"],[0.6666666666666666,\"#ed7953\"],[0.7777777777777778,\"#fb9f3a\"],[0.8888888888888888,\"#fdca26\"],[1.0,\"#f0f921\"]]}],\"mesh3d\":[{\"type\":\"mesh3d\",\"colorbar\":{\"outlinewidth\":0,\"ticks\":\"\"}}],\"scatter\":[{\"fillpattern\":{\"fillmode\":\"overlay\",\"size\":10,\"solidity\":0.2},\"type\":\"scatter\"}],\"parcoords\":[{\"type\":\"parcoords\",\"line\":{\"colorbar\":{\"outlinewidth\":0,\"ticks\":\"\"}}}],\"scatterpolargl\":[{\"type\":\"scatterpolargl\",\"marker\":{\"colorbar\":{\"outlinewidth\":0,\"ticks\":\"\"}}}],\"bar\":[{\"error_x\":{\"color\":\"#2a3f5f\"},\"error_y\":{\"color\":\"#2a3f5f\"},\"marker\":{\"line\":{\"color\":\"#E5ECF6\",\"width\":0.5},\"pattern\":{\"fillmode\":\"overlay\",\"size\":10,\"solidity\":0.2}},\"type\":\"bar\"}],\"scattergeo\":[{\"type\":\"scattergeo\",\"marker\":{\"colorbar\":{\"outlinewidth\":0,\"ticks\":\"\"}}}],\"scatterpolar\":[{\"type\":\"scatterpolar\",\"marker\":{\"colorbar\":{\"outlinewidth\":0,\"ticks\":\"\"}}}],\"histogram\":[{\"marker\":{\"pattern\":{\"fillmode\":\"overlay\",\"size\":10,\"solidity\":0.2}},\"type\":\"histogram\"}],\"scattergl\":[{\"type\":\"scattergl\",\"marker\":{\"colorbar\":{\"outlinewidth\":0,\"ticks\":\"\"}}}],\"scatter3d\":[{\"type\":\"scatter3d\",\"line\":{\"colorbar\":{\"outlinewidth\":0,\"ticks\":\"\"}},\"marker\":{\"colorbar\":{\"outlinewidth\":0,\"ticks\":\"\"}}}],\"scattermapbox\":[{\"type\":\"scattermapbox\",\"marker\":{\"colorbar\":{\"outlinewidth\":0,\"ticks\":\"\"}}}],\"scatterternary\":[{\"type\":\"scatterternary\",\"marker\":{\"colorbar\":{\"outlinewidth\":0,\"ticks\":\"\"}}}],\"scattercarpet\":[{\"type\":\"scattercarpet\",\"marker\":{\"colorbar\":{\"outlinewidth\":0,\"ticks\":\"\"}}}],\"carpet\":[{\"aaxis\":{\"endlinecolor\":\"#2a3f5f\",\"gridcolor\":\"white\",\"linecolor\":\"white\",\"minorgridcolor\":\"white\",\"startlinecolor\":\"#2a3f5f\"},\"baxis\":{\"endlinecolor\":\"#2a3f5f\",\"gridcolor\":\"white\",\"linecolor\":\"white\",\"minorgridcolor\":\"white\",\"startlinecolor\":\"#2a3f5f\"},\"type\":\"carpet\"}],\"table\":[{\"cells\":{\"fill\":{\"color\":\"#EBF0F8\"},\"line\":{\"color\":\"white\"}},\"header\":{\"fill\":{\"color\":\"#C8D4E3\"},\"line\":{\"color\":\"white\"}},\"type\":\"table\"}],\"barpolar\":[{\"marker\":{\"line\":{\"color\":\"#E5ECF6\",\"width\":0.5},\"pattern\":{\"fillmode\":\"overlay\",\"size\":10,\"solidity\":0.2}},\"type\":\"barpolar\"}],\"pie\":[{\"automargin\":true,\"type\":\"pie\"}]},\"layout\":{\"autotypenumbers\":\"strict\",\"colorway\":[\"#636efa\",\"#EF553B\",\"#00cc96\",\"#ab63fa\",\"#FFA15A\",\"#19d3f3\",\"#FF6692\",\"#B6E880\",\"#FF97FF\",\"#FECB52\"],\"font\":{\"color\":\"#2a3f5f\"},\"hovermode\":\"closest\",\"hoverlabel\":{\"align\":\"left\"},\"paper_bgcolor\":\"white\",\"plot_bgcolor\":\"#E5ECF6\",\"polar\":{\"bgcolor\":\"#E5ECF6\",\"angularaxis\":{\"gridcolor\":\"white\",\"linecolor\":\"white\",\"ticks\":\"\"},\"radialaxis\":{\"gridcolor\":\"white\",\"linecolor\":\"white\",\"ticks\":\"\"}},\"ternary\":{\"bgcolor\":\"#E5ECF6\",\"aaxis\":{\"gridcolor\":\"white\",\"linecolor\":\"white\",\"ticks\":\"\"},\"baxis\":{\"gridcolor\":\"white\",\"linecolor\":\"white\",\"ticks\":\"\"},\"caxis\":{\"gridcolor\":\"white\",\"linecolor\":\"white\",\"ticks\":\"\"}},\"coloraxis\":{\"colorbar\":{\"outlinewidth\":0,\"ticks\":\"\"}},\"colorscale\":{\"sequential\":[[0.0,\"#0d0887\"],[0.1111111111111111,\"#46039f\"],[0.2222222222222222,\"#7201a8\"],[0.3333333333333333,\"#9c179e\"],[0.4444444444444444,\"#bd3786\"],[0.5555555555555556,\"#d8576b\"],[0.6666666666666666,\"#ed7953\"],[0.7777777777777778,\"#fb9f3a\"],[0.8888888888888888,\"#fdca26\"],[1.0,\"#f0f921\"]],\"sequentialminus\":[[0.0,\"#0d0887\"],[0.1111111111111111,\"#46039f\"],[0.2222222222222222,\"#7201a8\"],[0.3333333333333333,\"#9c179e\"],[0.4444444444444444,\"#bd3786\"],[0.5555555555555556,\"#d8576b\"],[0.6666666666666666,\"#ed7953\"],[0.7777777777777778,\"#fb9f3a\"],[0.8888888888888888,\"#fdca26\"],[1.0,\"#f0f921\"]],\"diverging\":[[0,\"#8e0152\"],[0.1,\"#c51b7d\"],[0.2,\"#de77ae\"],[0.3,\"#f1b6da\"],[0.4,\"#fde0ef\"],[0.5,\"#f7f7f7\"],[0.6,\"#e6f5d0\"],[0.7,\"#b8e186\"],[0.8,\"#7fbc41\"],[0.9,\"#4d9221\"],[1,\"#276419\"]]},\"xaxis\":{\"gridcolor\":\"white\",\"linecolor\":\"white\",\"ticks\":\"\",\"title\":{\"standoff\":15},\"zerolinecolor\":\"white\",\"automargin\":true,\"zerolinewidth\":2},\"yaxis\":{\"gridcolor\":\"white\",\"linecolor\":\"white\",\"ticks\":\"\",\"title\":{\"standoff\":15},\"zerolinecolor\":\"white\",\"automargin\":true,\"zerolinewidth\":2},\"scene\":{\"xaxis\":{\"backgroundcolor\":\"#E5ECF6\",\"gridcolor\":\"white\",\"linecolor\":\"white\",\"showbackground\":true,\"ticks\":\"\",\"zerolinecolor\":\"white\",\"gridwidth\":2},\"yaxis\":{\"backgroundcolor\":\"#E5ECF6\",\"gridcolor\":\"white\",\"linecolor\":\"white\",\"showbackground\":true,\"ticks\":\"\",\"zerolinecolor\":\"white\",\"gridwidth\":2},\"zaxis\":{\"backgroundcolor\":\"#E5ECF6\",\"gridcolor\":\"white\",\"linecolor\":\"white\",\"showbackground\":true,\"ticks\":\"\",\"zerolinecolor\":\"white\",\"gridwidth\":2}},\"shapedefaults\":{\"line\":{\"color\":\"#2a3f5f\"}},\"annotationdefaults\":{\"arrowcolor\":\"#2a3f5f\",\"arrowhead\":0,\"arrowwidth\":1},\"geo\":{\"bgcolor\":\"white\",\"landcolor\":\"#E5ECF6\",\"subunitcolor\":\"white\",\"showland\":true,\"showlakes\":true,\"lakecolor\":\"white\"},\"title\":{\"x\":0.05},\"mapbox\":{\"style\":\"light\"}}},\"scene\":{\"domain\":{\"x\":[0.0,1.0],\"y\":[0.0,1.0]},\"xaxis\":{\"title\":{\"text\":\"0\"}},\"yaxis\":{\"title\":{\"text\":\"1\"}},\"zaxis\":{\"title\":{\"text\":\"2\"}}},\"legend\":{\"title\":{\"text\":\"color\"},\"tracegroupgap\":0},\"margin\":{\"t\":60}},                        {\"responsive\": true}                    ).then(function(){\n",
       "                            \n",
       "var gd = document.getElementById('83e9a0c1-2214-4acd-93ce-679f3836c569');\n",
       "var x = new MutationObserver(function (mutations, observer) {{\n",
       "        var display = window.getComputedStyle(gd).display;\n",
       "        if (!display || display === 'none') {{\n",
       "            console.log([gd, 'removed!']);\n",
       "            Plotly.purge(gd);\n",
       "            observer.disconnect();\n",
       "        }}\n",
       "}});\n",
       "\n",
       "// Listen for the removal of the full notebook cells\n",
       "var notebookContainer = gd.closest('#notebook-container');\n",
       "if (notebookContainer) {{\n",
       "    x.observe(notebookContainer, {childList: true});\n",
       "}}\n",
       "\n",
       "// Listen for the clearing of the current output cell\n",
       "var outputEl = gd.closest('.output');\n",
       "if (outputEl) {{\n",
       "    x.observe(outputEl, {childList: true});\n",
       "}}\n",
       "\n",
       "                        })                };                });            </script>        </div>"
      ]
     },
     "metadata": {},
     "output_type": "display_data"
    }
   ],
   "source": [
    "import plotly.express as px\n",
    "fig =px.scatter_3d(x[:500 ] , x=0 ,y=1 ,z=2 ,color=y[:500])\n",
    "fig.show()"
   ]
  },
  {
   "cell_type": "code",
   "execution_count": null,
   "id": "e04e3b12",
   "metadata": {},
   "outputs": [],
   "source": []
  },
  {
   "cell_type": "code",
   "execution_count": null,
   "id": "a3abb184",
   "metadata": {},
   "outputs": [],
   "source": []
  }
 ],
 "metadata": {
  "kernelspec": {
   "display_name": "Python 3 (ipykernel)",
   "language": "python",
   "name": "python3"
  },
  "language_info": {
   "codemirror_mode": {
    "name": "ipython",
    "version": 3
   },
   "file_extension": ".py",
   "mimetype": "text/x-python",
   "name": "python",
   "nbconvert_exporter": "python",
   "pygments_lexer": "ipython3",
   "version": "3.11.5"
  }
 },
 "nbformat": 4,
 "nbformat_minor": 5
}
