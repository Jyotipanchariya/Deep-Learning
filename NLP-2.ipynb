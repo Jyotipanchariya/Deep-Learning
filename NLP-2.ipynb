{
 "cells": [
  {
   "cell_type": "markdown",
   "id": "1e1236f8",
   "metadata": {},
   "source": [
    "# TEXT REPRESENTATION"
   ]
  },
  {
   "cell_type": "code",
   "execution_count": 1,
   "id": "9a0a0a41",
   "metadata": {},
   "outputs": [],
   "source": [
    "# 1 Bag of words\n",
    "# we use countvectrization\n"
   ]
  },
  {
   "cell_type": "code",
   "execution_count": 2,
   "id": "5573ccbf",
   "metadata": {},
   "outputs": [],
   "source": [
    "import numpy as np\n",
    "import pandas as pd"
   ]
  },
  {
   "cell_type": "code",
   "execution_count": 5,
   "id": "0003bb0a",
   "metadata": {},
   "outputs": [],
   "source": [
    "df=pd.DataFrame({'text':['people watch cricket', 'player was player' ,'people write comment','cricket play comment'],'output' :[1,1,0,0]})"
   ]
  },
  {
   "cell_type": "code",
   "execution_count": 6,
   "id": "1f8ee5aa",
   "metadata": {},
   "outputs": [
    {
     "data": {
      "text/html": [
       "<div>\n",
       "<style scoped>\n",
       "    .dataframe tbody tr th:only-of-type {\n",
       "        vertical-align: middle;\n",
       "    }\n",
       "\n",
       "    .dataframe tbody tr th {\n",
       "        vertical-align: top;\n",
       "    }\n",
       "\n",
       "    .dataframe thead th {\n",
       "        text-align: right;\n",
       "    }\n",
       "</style>\n",
       "<table border=\"1\" class=\"dataframe\">\n",
       "  <thead>\n",
       "    <tr style=\"text-align: right;\">\n",
       "      <th></th>\n",
       "      <th>text</th>\n",
       "      <th>output</th>\n",
       "    </tr>\n",
       "  </thead>\n",
       "  <tbody>\n",
       "    <tr>\n",
       "      <th>0</th>\n",
       "      <td>people watch cricket</td>\n",
       "      <td>1</td>\n",
       "    </tr>\n",
       "    <tr>\n",
       "      <th>1</th>\n",
       "      <td>player was player</td>\n",
       "      <td>1</td>\n",
       "    </tr>\n",
       "    <tr>\n",
       "      <th>2</th>\n",
       "      <td>people write comment</td>\n",
       "      <td>0</td>\n",
       "    </tr>\n",
       "    <tr>\n",
       "      <th>3</th>\n",
       "      <td>cricket play comment</td>\n",
       "      <td>0</td>\n",
       "    </tr>\n",
       "  </tbody>\n",
       "</table>\n",
       "</div>"
      ],
      "text/plain": [
       "                   text  output\n",
       "0  people watch cricket       1\n",
       "1     player was player       1\n",
       "2  people write comment       0\n",
       "3  cricket play comment       0"
      ]
     },
     "execution_count": 6,
     "metadata": {},
     "output_type": "execute_result"
    }
   ],
   "source": [
    "df"
   ]
  },
  {
   "cell_type": "code",
   "execution_count": 7,
   "id": "c5ed5cca",
   "metadata": {},
   "outputs": [],
   "source": [
    "from sklearn.feature_extraction.text import CountVectorizer"
   ]
  },
  {
   "cell_type": "code",
   "execution_count": 8,
   "id": "68679f31",
   "metadata": {},
   "outputs": [],
   "source": [
    "cv= CountVectorizer()"
   ]
  },
  {
   "cell_type": "code",
   "execution_count": 10,
   "id": "d0fab039",
   "metadata": {},
   "outputs": [],
   "source": [
    "bow=cv.fit_transform(df['text'])"
   ]
  },
  {
   "cell_type": "code",
   "execution_count": 11,
   "id": "c5b79233",
   "metadata": {},
   "outputs": [
    {
     "name": "stdout",
     "output_type": "stream",
     "text": [
      "{'people': 2, 'watch': 6, 'cricket': 1, 'player': 4, 'was': 5, 'write': 7, 'comment': 0, 'play': 3}\n"
     ]
    }
   ],
   "source": [
    "#vocab\n",
    "print(cv.vocabulary_)"
   ]
  },
  {
   "cell_type": "code",
   "execution_count": 12,
   "id": "8c64c831",
   "metadata": {},
   "outputs": [
    {
     "name": "stdout",
     "output_type": "stream",
     "text": [
      "[[0 1 1 0 0 0 1 0]]\n",
      "[[0 0 0 0 2 1 0 0]]\n"
     ]
    }
   ],
   "source": [
    "print(bow[0].toarray())\n",
    "print(bow[1].toarray())"
   ]
  },
  {
   "cell_type": "code",
   "execution_count": 13,
   "id": "29c44fb9",
   "metadata": {},
   "outputs": [
    {
     "data": {
      "text/plain": [
       "array([[2, 2, 0, 0, 0, 0, 1, 1]], dtype=int64)"
      ]
     },
     "execution_count": 13,
     "metadata": {},
     "output_type": "execute_result"
    }
   ],
   "source": [
    "cv.transform([\"cricket watch and write comment of cricket comment\"]).toarray()"
   ]
  },
  {
   "cell_type": "code",
   "execution_count": 14,
   "id": "176abb85",
   "metadata": {},
   "outputs": [],
   "source": [
    "#2. N-grams"
   ]
  },
  {
   "cell_type": "code",
   "execution_count": 15,
   "id": "a012e1d5",
   "metadata": {},
   "outputs": [],
   "source": [
    "# -rangecv = CountVectorizer(ngram(2,2))"
   ]
  },
  {
   "cell_type": "code",
   "execution_count": 16,
   "id": "600530a5",
   "metadata": {},
   "outputs": [],
   "source": [
    "v=CountVectorizer(ngram_range=(1,2))\n"
   ]
  },
  {
   "cell_type": "code",
   "execution_count": 17,
   "id": "29fc078b",
   "metadata": {},
   "outputs": [],
   "source": [
    "bow=v.fit_transform(df['text'])"
   ]
  },
  {
   "cell_type": "code",
   "execution_count": 18,
   "id": "b968284b",
   "metadata": {},
   "outputs": [
    {
     "data": {
      "text/plain": [
       "0    people watch cricket\n",
       "1       player was player\n",
       "2    people write comment\n",
       "3    cricket play comment\n",
       "Name: text, dtype: object"
      ]
     },
     "execution_count": 18,
     "metadata": {},
     "output_type": "execute_result"
    }
   ],
   "source": [
    "df['text']"
   ]
  },
  {
   "cell_type": "code",
   "execution_count": 20,
   "id": "ecf2a356",
   "metadata": {},
   "outputs": [
    {
     "name": "stdout",
     "output_type": "stream",
     "text": [
      "{'people': 3, 'watch': 12, 'cricket': 1, 'people watch': 4, 'watch cricket': 13, 'player': 8, 'was': 10, 'player was': 9, 'was player': 11, 'write': 14, 'comment': 0, 'people write': 5, 'write comment': 15, 'play': 6, 'cricket play': 2, 'play comment': 7}\n"
     ]
    }
   ],
   "source": [
    "# vocab\n",
    "print(v.vocabulary_)"
   ]
  },
  {
   "cell_type": "code",
   "execution_count": 21,
   "id": "87a3c4ab",
   "metadata": {},
   "outputs": [],
   "source": [
    "# TF(Term Frequency)\n",
    "# IDF(Inverse Document Frequency)\n"
   ]
  },
  {
   "cell_type": "code",
   "execution_count": 22,
   "id": "7fb448e0",
   "metadata": {},
   "outputs": [],
   "source": [
    "# TF (t,d)=(Number of occurences of term t in document d)/(total number of terms in the document d)\n",
    "\n",
    "# example==>\n",
    "# d1=people eatch cricket\n",
    "\n",
    "# tf(people,d1)=1/3\n",
    "\n",
    "# d2 = match was match\n",
    "# tf(match,d2)=2/3\n"
   ]
  },
  {
   "cell_type": "code",
   "execution_count": 24,
   "id": "7f632e34",
   "metadata": {},
   "outputs": [],
   "source": [
    "# IDF(t)= Large(total number of documents in the corpus)/(number of documents with term t in them)\n",
    "# here corpus means number of sentences\n",
    "\n",
    "# Example==>\n",
    "# d1 =people watch cricket\n",
    "# d2 = cricket was cricket\n",
    "# d3 =people write coment\n",
    "# d4= cricket write comment\n",
    "\n"
   ]
  },
  {
   "cell_type": "code",
   "execution_count": 25,
   "id": "69f83588",
   "metadata": {},
   "outputs": [],
   "source": [
    "# we can use this by apply feature_extraction method in sklean\n"
   ]
  },
  {
   "cell_type": "code",
   "execution_count": 26,
   "id": "1efd7aef",
   "metadata": {},
   "outputs": [
    {
     "data": {
      "text/html": [
       "<div>\n",
       "<style scoped>\n",
       "    .dataframe tbody tr th:only-of-type {\n",
       "        vertical-align: middle;\n",
       "    }\n",
       "\n",
       "    .dataframe tbody tr th {\n",
       "        vertical-align: top;\n",
       "    }\n",
       "\n",
       "    .dataframe thead th {\n",
       "        text-align: right;\n",
       "    }\n",
       "</style>\n",
       "<table border=\"1\" class=\"dataframe\">\n",
       "  <thead>\n",
       "    <tr style=\"text-align: right;\">\n",
       "      <th></th>\n",
       "      <th>text</th>\n",
       "      <th>output</th>\n",
       "    </tr>\n",
       "  </thead>\n",
       "  <tbody>\n",
       "    <tr>\n",
       "      <th>0</th>\n",
       "      <td>people watch cricket</td>\n",
       "      <td>1</td>\n",
       "    </tr>\n",
       "    <tr>\n",
       "      <th>1</th>\n",
       "      <td>player was player</td>\n",
       "      <td>1</td>\n",
       "    </tr>\n",
       "    <tr>\n",
       "      <th>2</th>\n",
       "      <td>people write comment</td>\n",
       "      <td>0</td>\n",
       "    </tr>\n",
       "    <tr>\n",
       "      <th>3</th>\n",
       "      <td>cricket play comment</td>\n",
       "      <td>0</td>\n",
       "    </tr>\n",
       "  </tbody>\n",
       "</table>\n",
       "</div>"
      ],
      "text/plain": [
       "                   text  output\n",
       "0  people watch cricket       1\n",
       "1     player was player       1\n",
       "2  people write comment       0\n",
       "3  cricket play comment       0"
      ]
     },
     "execution_count": 26,
     "metadata": {},
     "output_type": "execute_result"
    }
   ],
   "source": [
    "df"
   ]
  },
  {
   "cell_type": "code",
   "execution_count": 28,
   "id": "2cbe4544",
   "metadata": {},
   "outputs": [
    {
     "data": {
      "text/plain": [
       "array([[0.        , 0.52640543, 0.52640543, 0.        , 0.        ,\n",
       "        0.        , 0.66767854, 0.        ],\n",
       "       [0.        , 0.        , 0.        , 0.        , 0.89442719,\n",
       "        0.4472136 , 0.        , 0.        ],\n",
       "       [0.52640543, 0.        , 0.52640543, 0.        , 0.        ,\n",
       "        0.        , 0.        , 0.66767854],\n",
       "       [0.52640543, 0.52640543, 0.        , 0.66767854, 0.        ,\n",
       "        0.        , 0.        , 0.        ]])"
      ]
     },
     "execution_count": 28,
     "metadata": {},
     "output_type": "execute_result"
    }
   ],
   "source": [
    "from sklearn.feature_extraction.text import TfidfVectorizer\n",
    "\n",
    "tfidf = TfidfVectorizer()\n",
    "tfidf.fit_transform(df['text']).toarray()"
   ]
  },
  {
   "cell_type": "code",
   "execution_count": 29,
   "id": "d3aff2bc",
   "metadata": {},
   "outputs": [
    {
     "name": "stdout",
     "output_type": "stream",
     "text": [
      "[1.51082562 1.51082562 1.51082562 1.91629073 1.91629073 1.91629073\n",
      " 1.91629073 1.91629073]\n",
      "['comment' 'cricket' 'people' 'play' 'player' 'was' 'watch' 'write']\n"
     ]
    }
   ],
   "source": [
    "print(tfidf.idf_)\n",
    "print(tfidf.get_feature_names_out())"
   ]
  },
  {
   "cell_type": "code",
   "execution_count": null,
   "id": "94f9818a",
   "metadata": {},
   "outputs": [],
   "source": []
  }
 ],
 "metadata": {
  "kernelspec": {
   "display_name": "Python 3 (ipykernel)",
   "language": "python",
   "name": "python3"
  },
  "language_info": {
   "codemirror_mode": {
    "name": "ipython",
    "version": 3
   },
   "file_extension": ".py",
   "mimetype": "text/x-python",
   "name": "python",
   "nbconvert_exporter": "python",
   "pygments_lexer": "ipython3",
   "version": "3.11.5"
  }
 },
 "nbformat": 4,
 "nbformat_minor": 5
}
